{
 "cells": [
  {
   "cell_type": "code",
   "execution_count": 1,
   "id": "de7f6e57",
   "metadata": {
    "_cell_guid": "b1076dfc-b9ad-4769-8c92-a6c4dae69d19",
    "_uuid": "8f2839f25d086af736a60e9eeb907d3b93b6e0e5",
    "execution": {
     "iopub.execute_input": "2024-10-24T21:05:59.306074Z",
     "iopub.status.busy": "2024-10-24T21:05:59.305138Z",
     "iopub.status.idle": "2024-10-24T21:09:07.798985Z",
     "shell.execute_reply": "2024-10-24T21:09:07.798018Z"
    },
    "papermill": {
     "duration": 188.502823,
     "end_time": "2024-10-24T21:09:07.801399",
     "exception": false,
     "start_time": "2024-10-24T21:05:59.298576",
     "status": "completed"
    },
    "tags": []
   },
   "outputs": [
    {
     "name": "stdout",
     "output_type": "stream",
     "text": [
      "Looking in indexes: https://download.pytorch.org/whl/cu118\r\n",
      "Collecting torch==2.4.0+cu118\r\n",
      "  Downloading https://download.pytorch.org/whl/cu118/torch-2.4.0%2Bcu118-cp310-cp310-linux_x86_64.whl (857.7 MB)\r\n",
      "\u001b[2K     \u001b[90m━━━━━━━━━━━━━━━━━━━━━━━━━━━━━━━━━━━━━━━\u001b[0m \u001b[32m857.7/857.7 MB\u001b[0m \u001b[31m1.9 MB/s\u001b[0m eta \u001b[36m0:00:00\u001b[0m\r\n",
      "\u001b[?25hCollecting torchvision==0.19.0+cu118\r\n",
      "  Downloading https://download.pytorch.org/whl/cu118/torchvision-0.19.0%2Bcu118-cp310-cp310-linux_x86_64.whl (6.3 MB)\r\n",
      "\u001b[2K     \u001b[90m━━━━━━━━━━━━━━━━━━━━━━━━━━━━━━━━━━━━━━━━\u001b[0m \u001b[32m6.3/6.3 MB\u001b[0m \u001b[31m10.6 MB/s\u001b[0m eta \u001b[36m0:00:00\u001b[0m\r\n",
      "\u001b[?25hCollecting torchaudio==2.4.0+cu118\r\n",
      "  Downloading https://download.pytorch.org/whl/cu118/torchaudio-2.4.0%2Bcu118-cp310-cp310-linux_x86_64.whl (3.3 MB)\r\n",
      "\u001b[2K     \u001b[90m━━━━━━━━━━━━━━━━━━━━━━━━━━━━━━━━━━━━━━━━\u001b[0m \u001b[32m3.3/3.3 MB\u001b[0m \u001b[31m17.5 MB/s\u001b[0m eta \u001b[36m0:00:00\u001b[0m\r\n",
      "\u001b[?25hRequirement already satisfied: filelock in /opt/conda/lib/python3.10/site-packages (from torch==2.4.0+cu118) (3.15.1)\r\n",
      "Requirement already satisfied: typing-extensions>=4.8.0 in /opt/conda/lib/python3.10/site-packages (from torch==2.4.0+cu118) (4.12.2)\r\n",
      "Requirement already satisfied: sympy in /opt/conda/lib/python3.10/site-packages (from torch==2.4.0+cu118) (1.13.3)\r\n",
      "Requirement already satisfied: networkx in /opt/conda/lib/python3.10/site-packages (from torch==2.4.0+cu118) (3.3)\r\n",
      "Requirement already satisfied: jinja2 in /opt/conda/lib/python3.10/site-packages (from torch==2.4.0+cu118) (3.1.4)\r\n",
      "Requirement already satisfied: fsspec in /opt/conda/lib/python3.10/site-packages (from torch==2.4.0+cu118) (2024.6.1)\r\n",
      "Collecting nvidia-cuda-nvrtc-cu11==11.8.89 (from torch==2.4.0+cu118)\r\n",
      "  Downloading https://download.pytorch.org/whl/cu118/nvidia_cuda_nvrtc_cu11-11.8.89-py3-none-manylinux1_x86_64.whl (23.2 MB)\r\n",
      "\u001b[2K     \u001b[90m━━━━━━━━━━━━━━━━━━━━━━━━━━━━━━━━━━━━━━━━\u001b[0m \u001b[32m23.2/23.2 MB\u001b[0m \u001b[31m51.1 MB/s\u001b[0m eta \u001b[36m0:00:00\u001b[0m\r\n",
      "\u001b[?25hCollecting nvidia-cuda-runtime-cu11==11.8.89 (from torch==2.4.0+cu118)\r\n",
      "  Downloading https://download.pytorch.org/whl/cu118/nvidia_cuda_runtime_cu11-11.8.89-py3-none-manylinux1_x86_64.whl (875 kB)\r\n",
      "\u001b[2K     \u001b[90m━━━━━━━━━━━━━━━━━━━━━━━━━━━━━━━━━━━━━━\u001b[0m \u001b[32m875.6/875.6 kB\u001b[0m \u001b[31m41.2 MB/s\u001b[0m eta \u001b[36m0:00:00\u001b[0m\r\n",
      "\u001b[?25hCollecting nvidia-cuda-cupti-cu11==11.8.87 (from torch==2.4.0+cu118)\r\n",
      "  Downloading https://download.pytorch.org/whl/cu118/nvidia_cuda_cupti_cu11-11.8.87-py3-none-manylinux1_x86_64.whl (13.1 MB)\r\n",
      "\u001b[2K     \u001b[90m━━━━━━━━━━━━━━━━━━━━━━━━━━━━━━━━━━━━━━━━\u001b[0m \u001b[32m13.1/13.1 MB\u001b[0m \u001b[31m61.5 MB/s\u001b[0m eta \u001b[36m0:00:00\u001b[0m\r\n",
      "\u001b[?25hCollecting nvidia-cudnn-cu11==9.1.0.70 (from torch==2.4.0+cu118)\r\n",
      "  Downloading https://download.pytorch.org/whl/cu118/nvidia_cudnn_cu11-9.1.0.70-py3-none-manylinux2014_x86_64.whl (663.9 MB)\r\n",
      "\u001b[2K     \u001b[90m━━━━━━━━━━━━━━━━━━━━━━━━━━━━━━━━━━━━━━━\u001b[0m \u001b[32m663.9/663.9 MB\u001b[0m \u001b[31m2.5 MB/s\u001b[0m eta \u001b[36m0:00:00\u001b[0m\r\n",
      "\u001b[?25hCollecting nvidia-cublas-cu11==11.11.3.6 (from torch==2.4.0+cu118)\r\n",
      "  Downloading https://download.pytorch.org/whl/cu118/nvidia_cublas_cu11-11.11.3.6-py3-none-manylinux1_x86_64.whl (417.9 MB)\r\n",
      "\u001b[2K     \u001b[90m━━━━━━━━━━━━━━━━━━━━━━━━━━━━━━━━━━━━━━━\u001b[0m \u001b[32m417.9/417.9 MB\u001b[0m \u001b[31m3.9 MB/s\u001b[0m eta \u001b[36m0:00:00\u001b[0m\r\n",
      "\u001b[?25hCollecting nvidia-cufft-cu11==10.9.0.58 (from torch==2.4.0+cu118)\r\n",
      "  Downloading https://download.pytorch.org/whl/cu118/nvidia_cufft_cu11-10.9.0.58-py3-none-manylinux1_x86_64.whl (168.4 MB)\r\n",
      "\u001b[2K     \u001b[90m━━━━━━━━━━━━━━━━━━━━━━━━━━━━━━━━━━━━━━━\u001b[0m \u001b[32m168.4/168.4 MB\u001b[0m \u001b[31m9.6 MB/s\u001b[0m eta \u001b[36m0:00:00\u001b[0m\r\n",
      "\u001b[?25hCollecting nvidia-curand-cu11==10.3.0.86 (from torch==2.4.0+cu118)\r\n",
      "  Downloading https://download.pytorch.org/whl/cu118/nvidia_curand_cu11-10.3.0.86-py3-none-manylinux1_x86_64.whl (58.1 MB)\r\n",
      "\u001b[2K     \u001b[90m━━━━━━━━━━━━━━━━━━━━━━━━━━━━━━━━━━━━━━━━\u001b[0m \u001b[32m58.1/58.1 MB\u001b[0m \u001b[31m12.3 MB/s\u001b[0m eta \u001b[36m0:00:00\u001b[0m\r\n",
      "\u001b[?25hCollecting nvidia-cusolver-cu11==11.4.1.48 (from torch==2.4.0+cu118)\r\n",
      "  Downloading https://download.pytorch.org/whl/cu118/nvidia_cusolver_cu11-11.4.1.48-py3-none-manylinux1_x86_64.whl (128.2 MB)\r\n",
      "\u001b[2K     \u001b[90m━━━━━━━━━━━━━━━━━━━━━━━━━━━━━━━━━━━━━━\u001b[0m \u001b[32m128.2/128.2 MB\u001b[0m \u001b[31m12.5 MB/s\u001b[0m eta \u001b[36m0:00:00\u001b[0m\r\n",
      "\u001b[?25hCollecting nvidia-cusparse-cu11==11.7.5.86 (from torch==2.4.0+cu118)\r\n",
      "  Downloading https://download.pytorch.org/whl/cu118/nvidia_cusparse_cu11-11.7.5.86-py3-none-manylinux1_x86_64.whl (204.1 MB)\r\n",
      "\u001b[2K     \u001b[90m━━━━━━━━━━━━━━━━━━━━━━━━━━━━━━━━━━━━━━━\u001b[0m \u001b[32m204.1/204.1 MB\u001b[0m \u001b[31m1.8 MB/s\u001b[0m eta \u001b[36m0:00:00\u001b[0m\r\n",
      "\u001b[?25hCollecting nvidia-nccl-cu11==2.20.5 (from torch==2.4.0+cu118)\r\n",
      "  Downloading https://download.pytorch.org/whl/cu118/nvidia_nccl_cu11-2.20.5-py3-none-manylinux2014_x86_64.whl (142.9 MB)\r\n",
      "\u001b[2K     \u001b[90m━━━━━━━━━━━━━━━━━━━━━━━━━━━━━━━━━━━━━━\u001b[0m \u001b[32m142.9/142.9 MB\u001b[0m \u001b[31m10.8 MB/s\u001b[0m eta \u001b[36m0:00:00\u001b[0m\r\n",
      "\u001b[?25hCollecting nvidia-nvtx-cu11==11.8.86 (from torch==2.4.0+cu118)\r\n",
      "  Downloading https://download.pytorch.org/whl/cu118/nvidia_nvtx_cu11-11.8.86-py3-none-manylinux1_x86_64.whl (99 kB)\r\n",
      "\u001b[2K     \u001b[90m━━━━━━━━━━━━━━━━━━━━━━━━━━━━━━━━━━━━━━━━\u001b[0m \u001b[32m99.1/99.1 kB\u001b[0m \u001b[31m6.1 MB/s\u001b[0m eta \u001b[36m0:00:00\u001b[0m\r\n",
      "\u001b[?25hCollecting triton==3.0.0 (from torch==2.4.0+cu118)\r\n",
      "  Downloading https://download.pytorch.org/whl/triton-3.0.0-1-cp310-cp310-manylinux2014_x86_64.manylinux_2_17_x86_64.whl (209.4 MB)\r\n",
      "\u001b[2K     \u001b[90m━━━━━━━━━━━━━━━━━━━━━━━━━━━━━━━━━━━━━━━\u001b[0m \u001b[32m209.4/209.4 MB\u001b[0m \u001b[31m7.7 MB/s\u001b[0m eta \u001b[36m0:00:00\u001b[0m\r\n",
      "\u001b[?25hRequirement already satisfied: numpy in /opt/conda/lib/python3.10/site-packages (from torchvision==0.19.0+cu118) (1.26.4)\r\n",
      "Requirement already satisfied: pillow!=8.3.*,>=5.3.0 in /opt/conda/lib/python3.10/site-packages (from torchvision==0.19.0+cu118) (10.3.0)\r\n",
      "Requirement already satisfied: MarkupSafe>=2.0 in /opt/conda/lib/python3.10/site-packages (from jinja2->torch==2.4.0+cu118) (2.1.5)\r\n",
      "Requirement already satisfied: mpmath<1.4,>=1.1.0 in /opt/conda/lib/python3.10/site-packages (from sympy->torch==2.4.0+cu118) (1.3.0)\r\n",
      "Installing collected packages: triton, nvidia-nvtx-cu11, nvidia-nccl-cu11, nvidia-cusparse-cu11, nvidia-curand-cu11, nvidia-cufft-cu11, nvidia-cuda-runtime-cu11, nvidia-cuda-nvrtc-cu11, nvidia-cuda-cupti-cu11, nvidia-cublas-cu11, nvidia-cusolver-cu11, nvidia-cudnn-cu11, torch, torchvision, torchaudio\r\n",
      "  Attempting uninstall: torch\r\n",
      "    Found existing installation: torch 2.4.0\r\n",
      "    Uninstalling torch-2.4.0:\r\n",
      "      Successfully uninstalled torch-2.4.0\r\n",
      "  Attempting uninstall: torchvision\r\n",
      "    Found existing installation: torchvision 0.19.0\r\n",
      "    Uninstalling torchvision-0.19.0:\r\n",
      "      Successfully uninstalled torchvision-0.19.0\r\n",
      "  Attempting uninstall: torchaudio\r\n",
      "    Found existing installation: torchaudio 2.4.0\r\n",
      "    Uninstalling torchaudio-2.4.0:\r\n",
      "      Successfully uninstalled torchaudio-2.4.0\r\n",
      "Successfully installed nvidia-cublas-cu11-11.11.3.6 nvidia-cuda-cupti-cu11-11.8.87 nvidia-cuda-nvrtc-cu11-11.8.89 nvidia-cuda-runtime-cu11-11.8.89 nvidia-cudnn-cu11-9.1.0.70 nvidia-cufft-cu11-10.9.0.58 nvidia-curand-cu11-10.3.0.86 nvidia-cusolver-cu11-11.4.1.48 nvidia-cusparse-cu11-11.7.5.86 nvidia-nccl-cu11-2.20.5 nvidia-nvtx-cu11-11.8.86 torch-2.4.0+cu118 torchaudio-2.4.0+cu118 torchvision-0.19.0+cu118 triton-3.0.0\r\n",
      "Requirement already satisfied: tensorboardX in /opt/conda/lib/python3.10/site-packages (2.6.2.2)\r\n",
      "Requirement already satisfied: numpy in /opt/conda/lib/python3.10/site-packages (from tensorboardX) (1.26.4)\r\n",
      "Requirement already satisfied: packaging in /opt/conda/lib/python3.10/site-packages (from tensorboardX) (21.3)\r\n",
      "Requirement already satisfied: protobuf>=3.20 in /opt/conda/lib/python3.10/site-packages (from tensorboardX) (3.20.3)\r\n",
      "Requirement already satisfied: pyparsing!=3.0.5,>=2.0.2 in /opt/conda/lib/python3.10/site-packages (from packaging->tensorboardX) (3.1.2)\r\n",
      "Requirement already satisfied: tensorboard in /opt/conda/lib/python3.10/site-packages (2.16.2)\r\n",
      "Requirement already satisfied: absl-py>=0.4 in /opt/conda/lib/python3.10/site-packages (from tensorboard) (1.4.0)\r\n",
      "Requirement already satisfied: grpcio>=1.48.2 in /opt/conda/lib/python3.10/site-packages (from tensorboard) (1.62.2)\r\n",
      "Requirement already satisfied: markdown>=2.6.8 in /opt/conda/lib/python3.10/site-packages (from tensorboard) (3.6)\r\n",
      "Requirement already satisfied: numpy>=1.12.0 in /opt/conda/lib/python3.10/site-packages (from tensorboard) (1.26.4)\r\n",
      "Requirement already satisfied: protobuf!=4.24.0,>=3.19.6 in /opt/conda/lib/python3.10/site-packages (from tensorboard) (3.20.3)\r\n",
      "Requirement already satisfied: setuptools>=41.0.0 in /opt/conda/lib/python3.10/site-packages (from tensorboard) (70.0.0)\r\n",
      "Requirement already satisfied: six>1.9 in /opt/conda/lib/python3.10/site-packages (from tensorboard) (1.16.0)\r\n",
      "Requirement already satisfied: tensorboard-data-server<0.8.0,>=0.7.0 in /opt/conda/lib/python3.10/site-packages (from tensorboard) (0.7.2)\r\n",
      "Requirement already satisfied: werkzeug>=1.0.1 in /opt/conda/lib/python3.10/site-packages (from tensorboard) (3.0.4)\r\n",
      "Requirement already satisfied: MarkupSafe>=2.1.1 in /opt/conda/lib/python3.10/site-packages (from werkzeug>=1.0.1->tensorboard) (2.1.5)\r\n",
      "Requirement already satisfied: huggingface_hub in /opt/conda/lib/python3.10/site-packages (0.25.1)\r\n",
      "Requirement already satisfied: filelock in /opt/conda/lib/python3.10/site-packages (from huggingface_hub) (3.15.1)\r\n",
      "Requirement already satisfied: fsspec>=2023.5.0 in /opt/conda/lib/python3.10/site-packages (from huggingface_hub) (2024.6.1)\r\n",
      "Requirement already satisfied: packaging>=20.9 in /opt/conda/lib/python3.10/site-packages (from huggingface_hub) (21.3)\r\n",
      "Requirement already satisfied: pyyaml>=5.1 in /opt/conda/lib/python3.10/site-packages (from huggingface_hub) (6.0.2)\r\n",
      "Requirement already satisfied: requests in /opt/conda/lib/python3.10/site-packages (from huggingface_hub) (2.32.3)\r\n",
      "Requirement already satisfied: tqdm>=4.42.1 in /opt/conda/lib/python3.10/site-packages (from huggingface_hub) (4.66.4)\r\n",
      "Requirement already satisfied: typing-extensions>=3.7.4.3 in /opt/conda/lib/python3.10/site-packages (from huggingface_hub) (4.12.2)\r\n",
      "Requirement already satisfied: pyparsing!=3.0.5,>=2.0.2 in /opt/conda/lib/python3.10/site-packages (from packaging>=20.9->huggingface_hub) (3.1.2)\r\n",
      "Requirement already satisfied: charset-normalizer<4,>=2 in /opt/conda/lib/python3.10/site-packages (from requests->huggingface_hub) (3.3.2)\r\n",
      "Requirement already satisfied: idna<4,>=2.5 in /opt/conda/lib/python3.10/site-packages (from requests->huggingface_hub) (3.7)\r\n",
      "Requirement already satisfied: urllib3<3,>=1.21.1 in /opt/conda/lib/python3.10/site-packages (from requests->huggingface_hub) (1.26.18)\r\n",
      "Requirement already satisfied: certifi>=2017.4.17 in /opt/conda/lib/python3.10/site-packages (from requests->huggingface_hub) (2024.8.30)\r\n"
     ]
    }
   ],
   "source": [
    "!pip install torch==2.4.0+cu118 torchvision==0.19.0+cu118 torchaudio==2.4.0+cu118 --index-url https://download.pytorch.org/whl/cu118\n",
    "!pip install tensorboardX\n",
    "!pip install tensorboard\n",
    "!pip install huggingface_hub"
   ]
  },
  {
   "cell_type": "code",
   "execution_count": 2,
   "id": "d7557eb2",
   "metadata": {
    "execution": {
     "iopub.execute_input": "2024-10-24T21:09:07.948964Z",
     "iopub.status.busy": "2024-10-24T21:09:07.948560Z",
     "iopub.status.idle": "2024-10-24T21:10:01.064726Z",
     "shell.execute_reply": "2024-10-24T21:10:01.063773Z"
    },
    "papermill": {
     "duration": 53.192,
     "end_time": "2024-10-24T21:10:01.067160",
     "exception": false,
     "start_time": "2024-10-24T21:09:07.875160",
     "status": "completed"
    },
    "tags": []
   },
   "outputs": [
    {
     "name": "stdout",
     "output_type": "stream",
     "text": [
      "Requirement already satisfied: transformers>=4.39.0 in /opt/conda/lib/python3.10/site-packages (4.45.1)\r\n",
      "Collecting transformers>=4.39.0\r\n",
      "  Downloading transformers-4.46.0-py3-none-any.whl.metadata (44 kB)\r\n",
      "\u001b[2K     \u001b[90m━━━━━━━━━━━━━━━━━━━━━━━━━━━━━━━━━━━━━━━━\u001b[0m \u001b[32m44.1/44.1 kB\u001b[0m \u001b[31m1.5 MB/s\u001b[0m eta \u001b[36m0:00:00\u001b[0m\r\n",
      "\u001b[?25hRequirement already satisfied: filelock in /opt/conda/lib/python3.10/site-packages (from transformers>=4.39.0) (3.15.1)\r\n",
      "Requirement already satisfied: huggingface-hub<1.0,>=0.23.2 in /opt/conda/lib/python3.10/site-packages (from transformers>=4.39.0) (0.25.1)\r\n",
      "Requirement already satisfied: numpy>=1.17 in /opt/conda/lib/python3.10/site-packages (from transformers>=4.39.0) (1.26.4)\r\n",
      "Requirement already satisfied: packaging>=20.0 in /opt/conda/lib/python3.10/site-packages (from transformers>=4.39.0) (21.3)\r\n",
      "Requirement already satisfied: pyyaml>=5.1 in /opt/conda/lib/python3.10/site-packages (from transformers>=4.39.0) (6.0.2)\r\n",
      "Requirement already satisfied: regex!=2019.12.17 in /opt/conda/lib/python3.10/site-packages (from transformers>=4.39.0) (2024.5.15)\r\n",
      "Requirement already satisfied: requests in /opt/conda/lib/python3.10/site-packages (from transformers>=4.39.0) (2.32.3)\r\n",
      "Requirement already satisfied: safetensors>=0.4.1 in /opt/conda/lib/python3.10/site-packages (from transformers>=4.39.0) (0.4.5)\r\n",
      "Requirement already satisfied: tokenizers<0.21,>=0.20 in /opt/conda/lib/python3.10/site-packages (from transformers>=4.39.0) (0.20.0)\r\n",
      "Requirement already satisfied: tqdm>=4.27 in /opt/conda/lib/python3.10/site-packages (from transformers>=4.39.0) (4.66.4)\r\n",
      "Requirement already satisfied: fsspec>=2023.5.0 in /opt/conda/lib/python3.10/site-packages (from huggingface-hub<1.0,>=0.23.2->transformers>=4.39.0) (2024.6.1)\r\n",
      "Requirement already satisfied: typing-extensions>=3.7.4.3 in /opt/conda/lib/python3.10/site-packages (from huggingface-hub<1.0,>=0.23.2->transformers>=4.39.0) (4.12.2)\r\n",
      "Requirement already satisfied: pyparsing!=3.0.5,>=2.0.2 in /opt/conda/lib/python3.10/site-packages (from packaging>=20.0->transformers>=4.39.0) (3.1.2)\r\n",
      "Requirement already satisfied: charset-normalizer<4,>=2 in /opt/conda/lib/python3.10/site-packages (from requests->transformers>=4.39.0) (3.3.2)\r\n",
      "Requirement already satisfied: idna<4,>=2.5 in /opt/conda/lib/python3.10/site-packages (from requests->transformers>=4.39.0) (3.7)\r\n",
      "Requirement already satisfied: urllib3<3,>=1.21.1 in /opt/conda/lib/python3.10/site-packages (from requests->transformers>=4.39.0) (1.26.18)\r\n",
      "Requirement already satisfied: certifi>=2017.4.17 in /opt/conda/lib/python3.10/site-packages (from requests->transformers>=4.39.0) (2024.8.30)\r\n",
      "Downloading transformers-4.46.0-py3-none-any.whl (10.0 MB)\r\n",
      "\u001b[2K   \u001b[90m━━━━━━━━━━━━━━━━━━━━━━━━━━━━━━━━━━━━━━━━\u001b[0m \u001b[32m10.0/10.0 MB\u001b[0m \u001b[31m58.5 MB/s\u001b[0m eta \u001b[36m0:00:00\u001b[0m\r\n",
      "\u001b[?25hInstalling collected packages: transformers\r\n",
      "  Attempting uninstall: transformers\r\n",
      "    Found existing installation: transformers 4.45.1\r\n",
      "    Uninstalling transformers-4.45.1:\r\n",
      "      Successfully uninstalled transformers-4.45.1\r\n",
      "Successfully installed transformers-4.46.0\r\n",
      "Collecting peft\r\n",
      "  Downloading peft-0.13.2-py3-none-any.whl.metadata (13 kB)\r\n",
      "Collecting bitsandbytes\r\n",
      "  Downloading bitsandbytes-0.44.1-py3-none-manylinux_2_24_x86_64.whl.metadata (3.5 kB)\r\n",
      "Requirement already satisfied: numpy>=1.17 in /opt/conda/lib/python3.10/site-packages (from peft) (1.26.4)\r\n",
      "Requirement already satisfied: packaging>=20.0 in /opt/conda/lib/python3.10/site-packages (from peft) (21.3)\r\n",
      "Requirement already satisfied: psutil in /opt/conda/lib/python3.10/site-packages (from peft) (5.9.3)\r\n",
      "Requirement already satisfied: pyyaml in /opt/conda/lib/python3.10/site-packages (from peft) (6.0.2)\r\n",
      "Requirement already satisfied: torch>=1.13.0 in /opt/conda/lib/python3.10/site-packages (from peft) (2.4.0+cu118)\r\n",
      "Requirement already satisfied: transformers in /opt/conda/lib/python3.10/site-packages (from peft) (4.46.0)\r\n",
      "Requirement already satisfied: tqdm in /opt/conda/lib/python3.10/site-packages (from peft) (4.66.4)\r\n",
      "Requirement already satisfied: accelerate>=0.21.0 in /opt/conda/lib/python3.10/site-packages (from peft) (0.34.2)\r\n",
      "Requirement already satisfied: safetensors in /opt/conda/lib/python3.10/site-packages (from peft) (0.4.5)\r\n",
      "Requirement already satisfied: huggingface-hub>=0.17.0 in /opt/conda/lib/python3.10/site-packages (from peft) (0.25.1)\r\n",
      "Requirement already satisfied: filelock in /opt/conda/lib/python3.10/site-packages (from huggingface-hub>=0.17.0->peft) (3.15.1)\r\n",
      "Requirement already satisfied: fsspec>=2023.5.0 in /opt/conda/lib/python3.10/site-packages (from huggingface-hub>=0.17.0->peft) (2024.6.1)\r\n",
      "Requirement already satisfied: requests in /opt/conda/lib/python3.10/site-packages (from huggingface-hub>=0.17.0->peft) (2.32.3)\r\n",
      "Requirement already satisfied: typing-extensions>=3.7.4.3 in /opt/conda/lib/python3.10/site-packages (from huggingface-hub>=0.17.0->peft) (4.12.2)\r\n",
      "Requirement already satisfied: pyparsing!=3.0.5,>=2.0.2 in /opt/conda/lib/python3.10/site-packages (from packaging>=20.0->peft) (3.1.2)\r\n",
      "Requirement already satisfied: sympy in /opt/conda/lib/python3.10/site-packages (from torch>=1.13.0->peft) (1.13.3)\r\n",
      "Requirement already satisfied: networkx in /opt/conda/lib/python3.10/site-packages (from torch>=1.13.0->peft) (3.3)\r\n",
      "Requirement already satisfied: jinja2 in /opt/conda/lib/python3.10/site-packages (from torch>=1.13.0->peft) (3.1.4)\r\n",
      "Requirement already satisfied: nvidia-cuda-nvrtc-cu11==11.8.89 in /opt/conda/lib/python3.10/site-packages (from torch>=1.13.0->peft) (11.8.89)\r\n",
      "Requirement already satisfied: nvidia-cuda-runtime-cu11==11.8.89 in /opt/conda/lib/python3.10/site-packages (from torch>=1.13.0->peft) (11.8.89)\r\n",
      "Requirement already satisfied: nvidia-cuda-cupti-cu11==11.8.87 in /opt/conda/lib/python3.10/site-packages (from torch>=1.13.0->peft) (11.8.87)\r\n",
      "Requirement already satisfied: nvidia-cudnn-cu11==9.1.0.70 in /opt/conda/lib/python3.10/site-packages (from torch>=1.13.0->peft) (9.1.0.70)\r\n",
      "Requirement already satisfied: nvidia-cublas-cu11==11.11.3.6 in /opt/conda/lib/python3.10/site-packages (from torch>=1.13.0->peft) (11.11.3.6)\r\n",
      "Requirement already satisfied: nvidia-cufft-cu11==10.9.0.58 in /opt/conda/lib/python3.10/site-packages (from torch>=1.13.0->peft) (10.9.0.58)\r\n",
      "Requirement already satisfied: nvidia-curand-cu11==10.3.0.86 in /opt/conda/lib/python3.10/site-packages (from torch>=1.13.0->peft) (10.3.0.86)\r\n",
      "Requirement already satisfied: nvidia-cusolver-cu11==11.4.1.48 in /opt/conda/lib/python3.10/site-packages (from torch>=1.13.0->peft) (11.4.1.48)\r\n",
      "Requirement already satisfied: nvidia-cusparse-cu11==11.7.5.86 in /opt/conda/lib/python3.10/site-packages (from torch>=1.13.0->peft) (11.7.5.86)\r\n",
      "Requirement already satisfied: nvidia-nccl-cu11==2.20.5 in /opt/conda/lib/python3.10/site-packages (from torch>=1.13.0->peft) (2.20.5)\r\n",
      "Requirement already satisfied: nvidia-nvtx-cu11==11.8.86 in /opt/conda/lib/python3.10/site-packages (from torch>=1.13.0->peft) (11.8.86)\r\n",
      "Requirement already satisfied: triton==3.0.0 in /opt/conda/lib/python3.10/site-packages (from torch>=1.13.0->peft) (3.0.0)\r\n",
      "Requirement already satisfied: regex!=2019.12.17 in /opt/conda/lib/python3.10/site-packages (from transformers->peft) (2024.5.15)\r\n",
      "Requirement already satisfied: tokenizers<0.21,>=0.20 in /opt/conda/lib/python3.10/site-packages (from transformers->peft) (0.20.0)\r\n",
      "Requirement already satisfied: MarkupSafe>=2.0 in /opt/conda/lib/python3.10/site-packages (from jinja2->torch>=1.13.0->peft) (2.1.5)\r\n",
      "Requirement already satisfied: charset-normalizer<4,>=2 in /opt/conda/lib/python3.10/site-packages (from requests->huggingface-hub>=0.17.0->peft) (3.3.2)\r\n",
      "Requirement already satisfied: idna<4,>=2.5 in /opt/conda/lib/python3.10/site-packages (from requests->huggingface-hub>=0.17.0->peft) (3.7)\r\n",
      "Requirement already satisfied: urllib3<3,>=1.21.1 in /opt/conda/lib/python3.10/site-packages (from requests->huggingface-hub>=0.17.0->peft) (1.26.18)\r\n",
      "Requirement already satisfied: certifi>=2017.4.17 in /opt/conda/lib/python3.10/site-packages (from requests->huggingface-hub>=0.17.0->peft) (2024.8.30)\r\n",
      "Requirement already satisfied: mpmath<1.4,>=1.1.0 in /opt/conda/lib/python3.10/site-packages (from sympy->torch>=1.13.0->peft) (1.3.0)\r\n",
      "Downloading peft-0.13.2-py3-none-any.whl (320 kB)\r\n",
      "\u001b[2K   \u001b[90m━━━━━━━━━━━━━━━━━━━━━━━━━━━━━━━━━━━━━━━━\u001b[0m \u001b[32m320.7/320.7 kB\u001b[0m \u001b[31m6.2 MB/s\u001b[0m eta \u001b[36m0:00:00\u001b[0m\r\n",
      "\u001b[?25hDownloading bitsandbytes-0.44.1-py3-none-manylinux_2_24_x86_64.whl (122.4 MB)\r\n",
      "\u001b[2K   \u001b[90m━━━━━━━━━━━━━━━━━━━━━━━━━━━━━━━━━━━━━━━━\u001b[0m \u001b[32m122.4/122.4 MB\u001b[0m \u001b[31m13.3 MB/s\u001b[0m eta \u001b[36m0:00:00\u001b[0m\r\n",
      "\u001b[?25hInstalling collected packages: bitsandbytes, peft\r\n",
      "Successfully installed bitsandbytes-0.44.1 peft-0.13.2\r\n",
      "Collecting trl>=0.8.3\r\n",
      "  Downloading trl-0.11.4-py3-none-any.whl.metadata (12 kB)\r\n",
      "Requirement already satisfied: torch>=1.4.0 in /opt/conda/lib/python3.10/site-packages (from trl>=0.8.3) (2.4.0+cu118)\r\n",
      "Requirement already satisfied: transformers>=4.40.0 in /opt/conda/lib/python3.10/site-packages (from trl>=0.8.3) (4.46.0)\r\n",
      "Requirement already satisfied: accelerate in /opt/conda/lib/python3.10/site-packages (from trl>=0.8.3) (0.34.2)\r\n",
      "Requirement already satisfied: datasets in /opt/conda/lib/python3.10/site-packages (from trl>=0.8.3) (3.0.1)\r\n",
      "Collecting tyro>=0.5.11 (from trl>=0.8.3)\r\n",
      "  Downloading tyro-0.8.14-py3-none-any.whl.metadata (8.4 kB)\r\n",
      "Requirement already satisfied: numpy>=1.18.2 in /opt/conda/lib/python3.10/site-packages (from trl>=0.8.3) (1.26.4)\r\n",
      "Requirement already satisfied: filelock in /opt/conda/lib/python3.10/site-packages (from torch>=1.4.0->trl>=0.8.3) (3.15.1)\r\n",
      "Requirement already satisfied: typing-extensions>=4.8.0 in /opt/conda/lib/python3.10/site-packages (from torch>=1.4.0->trl>=0.8.3) (4.12.2)\r\n",
      "Requirement already satisfied: sympy in /opt/conda/lib/python3.10/site-packages (from torch>=1.4.0->trl>=0.8.3) (1.13.3)\r\n",
      "Requirement already satisfied: networkx in /opt/conda/lib/python3.10/site-packages (from torch>=1.4.0->trl>=0.8.3) (3.3)\r\n",
      "Requirement already satisfied: jinja2 in /opt/conda/lib/python3.10/site-packages (from torch>=1.4.0->trl>=0.8.3) (3.1.4)\r\n",
      "Requirement already satisfied: fsspec in /opt/conda/lib/python3.10/site-packages (from torch>=1.4.0->trl>=0.8.3) (2024.6.1)\r\n",
      "Requirement already satisfied: nvidia-cuda-nvrtc-cu11==11.8.89 in /opt/conda/lib/python3.10/site-packages (from torch>=1.4.0->trl>=0.8.3) (11.8.89)\r\n",
      "Requirement already satisfied: nvidia-cuda-runtime-cu11==11.8.89 in /opt/conda/lib/python3.10/site-packages (from torch>=1.4.0->trl>=0.8.3) (11.8.89)\r\n",
      "Requirement already satisfied: nvidia-cuda-cupti-cu11==11.8.87 in /opt/conda/lib/python3.10/site-packages (from torch>=1.4.0->trl>=0.8.3) (11.8.87)\r\n",
      "Requirement already satisfied: nvidia-cudnn-cu11==9.1.0.70 in /opt/conda/lib/python3.10/site-packages (from torch>=1.4.0->trl>=0.8.3) (9.1.0.70)\r\n",
      "Requirement already satisfied: nvidia-cublas-cu11==11.11.3.6 in /opt/conda/lib/python3.10/site-packages (from torch>=1.4.0->trl>=0.8.3) (11.11.3.6)\r\n",
      "Requirement already satisfied: nvidia-cufft-cu11==10.9.0.58 in /opt/conda/lib/python3.10/site-packages (from torch>=1.4.0->trl>=0.8.3) (10.9.0.58)\r\n",
      "Requirement already satisfied: nvidia-curand-cu11==10.3.0.86 in /opt/conda/lib/python3.10/site-packages (from torch>=1.4.0->trl>=0.8.3) (10.3.0.86)\r\n",
      "Requirement already satisfied: nvidia-cusolver-cu11==11.4.1.48 in /opt/conda/lib/python3.10/site-packages (from torch>=1.4.0->trl>=0.8.3) (11.4.1.48)\r\n",
      "Requirement already satisfied: nvidia-cusparse-cu11==11.7.5.86 in /opt/conda/lib/python3.10/site-packages (from torch>=1.4.0->trl>=0.8.3) (11.7.5.86)\r\n",
      "Requirement already satisfied: nvidia-nccl-cu11==2.20.5 in /opt/conda/lib/python3.10/site-packages (from torch>=1.4.0->trl>=0.8.3) (2.20.5)\r\n",
      "Requirement already satisfied: nvidia-nvtx-cu11==11.8.86 in /opt/conda/lib/python3.10/site-packages (from torch>=1.4.0->trl>=0.8.3) (11.8.86)\r\n",
      "Requirement already satisfied: triton==3.0.0 in /opt/conda/lib/python3.10/site-packages (from torch>=1.4.0->trl>=0.8.3) (3.0.0)\r\n",
      "Requirement already satisfied: huggingface-hub<1.0,>=0.23.2 in /opt/conda/lib/python3.10/site-packages (from transformers>=4.40.0->trl>=0.8.3) (0.25.1)\r\n",
      "Requirement already satisfied: packaging>=20.0 in /opt/conda/lib/python3.10/site-packages (from transformers>=4.40.0->trl>=0.8.3) (21.3)\r\n",
      "Requirement already satisfied: pyyaml>=5.1 in /opt/conda/lib/python3.10/site-packages (from transformers>=4.40.0->trl>=0.8.3) (6.0.2)\r\n",
      "Requirement already satisfied: regex!=2019.12.17 in /opt/conda/lib/python3.10/site-packages (from transformers>=4.40.0->trl>=0.8.3) (2024.5.15)\r\n",
      "Requirement already satisfied: requests in /opt/conda/lib/python3.10/site-packages (from transformers>=4.40.0->trl>=0.8.3) (2.32.3)\r\n",
      "Requirement already satisfied: safetensors>=0.4.1 in /opt/conda/lib/python3.10/site-packages (from transformers>=4.40.0->trl>=0.8.3) (0.4.5)\r\n",
      "Requirement already satisfied: tokenizers<0.21,>=0.20 in /opt/conda/lib/python3.10/site-packages (from transformers>=4.40.0->trl>=0.8.3) (0.20.0)\r\n",
      "Requirement already satisfied: tqdm>=4.27 in /opt/conda/lib/python3.10/site-packages (from transformers>=4.40.0->trl>=0.8.3) (4.66.4)\r\n",
      "Requirement already satisfied: docstring-parser>=0.16 in /opt/conda/lib/python3.10/site-packages (from tyro>=0.5.11->trl>=0.8.3) (0.16)\r\n",
      "Requirement already satisfied: rich>=11.1.0 in /opt/conda/lib/python3.10/site-packages (from tyro>=0.5.11->trl>=0.8.3) (13.7.1)\r\n",
      "Collecting shtab>=1.5.6 (from tyro>=0.5.11->trl>=0.8.3)\r\n",
      "  Downloading shtab-1.7.1-py3-none-any.whl.metadata (7.3 kB)\r\n",
      "Requirement already satisfied: psutil in /opt/conda/lib/python3.10/site-packages (from accelerate->trl>=0.8.3) (5.9.3)\r\n",
      "Requirement already satisfied: pyarrow>=15.0.0 in /opt/conda/lib/python3.10/site-packages (from datasets->trl>=0.8.3) (16.1.0)\r\n",
      "Requirement already satisfied: dill<0.3.9,>=0.3.0 in /opt/conda/lib/python3.10/site-packages (from datasets->trl>=0.8.3) (0.3.8)\r\n",
      "Requirement already satisfied: pandas in /opt/conda/lib/python3.10/site-packages (from datasets->trl>=0.8.3) (2.2.2)\r\n",
      "Requirement already satisfied: xxhash in /opt/conda/lib/python3.10/site-packages (from datasets->trl>=0.8.3) (3.4.1)\r\n",
      "Requirement already satisfied: multiprocess in /opt/conda/lib/python3.10/site-packages (from datasets->trl>=0.8.3) (0.70.16)\r\n",
      "Requirement already satisfied: aiohttp in /opt/conda/lib/python3.10/site-packages (from datasets->trl>=0.8.3) (3.9.5)\r\n",
      "Requirement already satisfied: aiosignal>=1.1.2 in /opt/conda/lib/python3.10/site-packages (from aiohttp->datasets->trl>=0.8.3) (1.3.1)\r\n",
      "Requirement already satisfied: attrs>=17.3.0 in /opt/conda/lib/python3.10/site-packages (from aiohttp->datasets->trl>=0.8.3) (23.2.0)\r\n",
      "Requirement already satisfied: frozenlist>=1.1.1 in /opt/conda/lib/python3.10/site-packages (from aiohttp->datasets->trl>=0.8.3) (1.4.1)\r\n",
      "Requirement already satisfied: multidict<7.0,>=4.5 in /opt/conda/lib/python3.10/site-packages (from aiohttp->datasets->trl>=0.8.3) (6.0.5)\r\n",
      "Requirement already satisfied: yarl<2.0,>=1.0 in /opt/conda/lib/python3.10/site-packages (from aiohttp->datasets->trl>=0.8.3) (1.9.4)\r\n",
      "Requirement already satisfied: async-timeout<5.0,>=4.0 in /opt/conda/lib/python3.10/site-packages (from aiohttp->datasets->trl>=0.8.3) (4.0.3)\r\n",
      "Requirement already satisfied: pyparsing!=3.0.5,>=2.0.2 in /opt/conda/lib/python3.10/site-packages (from packaging>=20.0->transformers>=4.40.0->trl>=0.8.3) (3.1.2)\r\n",
      "Requirement already satisfied: charset-normalizer<4,>=2 in /opt/conda/lib/python3.10/site-packages (from requests->transformers>=4.40.0->trl>=0.8.3) (3.3.2)\r\n",
      "Requirement already satisfied: idna<4,>=2.5 in /opt/conda/lib/python3.10/site-packages (from requests->transformers>=4.40.0->trl>=0.8.3) (3.7)\r\n",
      "Requirement already satisfied: urllib3<3,>=1.21.1 in /opt/conda/lib/python3.10/site-packages (from requests->transformers>=4.40.0->trl>=0.8.3) (1.26.18)\r\n",
      "Requirement already satisfied: certifi>=2017.4.17 in /opt/conda/lib/python3.10/site-packages (from requests->transformers>=4.40.0->trl>=0.8.3) (2024.8.30)\r\n",
      "Requirement already satisfied: markdown-it-py>=2.2.0 in /opt/conda/lib/python3.10/site-packages (from rich>=11.1.0->tyro>=0.5.11->trl>=0.8.3) (3.0.0)\r\n",
      "Requirement already satisfied: pygments<3.0.0,>=2.13.0 in /opt/conda/lib/python3.10/site-packages (from rich>=11.1.0->tyro>=0.5.11->trl>=0.8.3) (2.18.0)\r\n",
      "Requirement already satisfied: MarkupSafe>=2.0 in /opt/conda/lib/python3.10/site-packages (from jinja2->torch>=1.4.0->trl>=0.8.3) (2.1.5)\r\n",
      "Requirement already satisfied: python-dateutil>=2.8.2 in /opt/conda/lib/python3.10/site-packages (from pandas->datasets->trl>=0.8.3) (2.9.0.post0)\r\n",
      "Requirement already satisfied: pytz>=2020.1 in /opt/conda/lib/python3.10/site-packages (from pandas->datasets->trl>=0.8.3) (2024.1)\r\n",
      "Requirement already satisfied: tzdata>=2022.7 in /opt/conda/lib/python3.10/site-packages (from pandas->datasets->trl>=0.8.3) (2024.1)\r\n",
      "Requirement already satisfied: mpmath<1.4,>=1.1.0 in /opt/conda/lib/python3.10/site-packages (from sympy->torch>=1.4.0->trl>=0.8.3) (1.3.0)\r\n",
      "Requirement already satisfied: mdurl~=0.1 in /opt/conda/lib/python3.10/site-packages (from markdown-it-py>=2.2.0->rich>=11.1.0->tyro>=0.5.11->trl>=0.8.3) (0.1.2)\r\n",
      "Requirement already satisfied: six>=1.5 in /opt/conda/lib/python3.10/site-packages (from python-dateutil>=2.8.2->pandas->datasets->trl>=0.8.3) (1.16.0)\r\n",
      "Downloading trl-0.11.4-py3-none-any.whl (316 kB)\r\n",
      "\u001b[2K   \u001b[90m━━━━━━━━━━━━━━━━━━━━━━━━━━━━━━━━━━━━━━━━\u001b[0m \u001b[32m316.6/316.6 kB\u001b[0m \u001b[31m6.0 MB/s\u001b[0m eta \u001b[36m0:00:00\u001b[0m\r\n",
      "\u001b[?25hDownloading tyro-0.8.14-py3-none-any.whl (109 kB)\r\n",
      "\u001b[2K   \u001b[90m━━━━━━━━━━━━━━━━━━━━━━━━━━━━━━━━━━━━━━━━\u001b[0m \u001b[32m109.8/109.8 kB\u001b[0m \u001b[31m7.9 MB/s\u001b[0m eta \u001b[36m0:00:00\u001b[0m\r\n",
      "\u001b[?25hDownloading shtab-1.7.1-py3-none-any.whl (14 kB)\r\n",
      "Installing collected packages: shtab, tyro, trl\r\n",
      "Successfully installed shtab-1.7.1 trl-0.11.4 tyro-0.8.14\r\n"
     ]
    }
   ],
   "source": [
    "!pip install -U \"transformers>=4.39.0\"\n",
    "!pip install peft bitsandbytes\n",
    "!pip install -U \"trl>=0.8.3\""
   ]
  },
  {
   "cell_type": "code",
   "execution_count": 3,
   "id": "312c34c1",
   "metadata": {
    "execution": {
     "iopub.execute_input": "2024-10-24T21:10:01.230830Z",
     "iopub.status.busy": "2024-10-24T21:10:01.230350Z",
     "iopub.status.idle": "2024-10-24T21:10:21.815652Z",
     "shell.execute_reply": "2024-10-24T21:10:21.814661Z"
    },
    "papermill": {
     "duration": 20.670064,
     "end_time": "2024-10-24T21:10:21.818104",
     "exception": false,
     "start_time": "2024-10-24T21:10:01.148040",
     "status": "completed"
    },
    "tags": []
   },
   "outputs": [],
   "source": [
    "import torch\n",
    "import torchvision\n",
    "from transformers import AutoTokenizer, AutoProcessor, TrainingArguments, LlavaForConditionalGeneration, BitsAndBytesConfig\n",
    "from trl import SFTTrainer\n",
    "from peft import LoraConfig\n",
    "import bitsandbytes as bnb"
   ]
  },
  {
   "cell_type": "code",
   "execution_count": 4,
   "id": "c4b2ff45",
   "metadata": {
    "execution": {
     "iopub.execute_input": "2024-10-24T21:10:21.983956Z",
     "iopub.status.busy": "2024-10-24T21:10:21.982995Z",
     "iopub.status.idle": "2024-10-24T21:17:32.089978Z",
     "shell.execute_reply": "2024-10-24T21:17:32.088978Z"
    },
    "papermill": {
     "duration": 430.277109,
     "end_time": "2024-10-24T21:17:32.177403",
     "exception": false,
     "start_time": "2024-10-24T21:10:21.900294",
     "status": "completed"
    },
    "tags": []
   },
   "outputs": [
    {
     "data": {
      "application/vnd.jupyter.widget-view+json": {
       "model_id": "fdd68c7763fc4bbba3fddaee83855ee4",
       "version_major": 2,
       "version_minor": 0
      },
      "text/plain": [
       "preprocessor_config.json:   0%|          | 0.00/772 [00:00<?, ?B/s]"
      ]
     },
     "metadata": {},
     "output_type": "display_data"
    },
    {
     "data": {
      "application/vnd.jupyter.widget-view+json": {
       "model_id": "c62f14dfcb8e45cb9f583be3d959f9d8",
       "version_major": 2,
       "version_minor": 0
      },
      "text/plain": [
       "tokenizer_config.json:   0%|          | 0.00/1.98k [00:00<?, ?B/s]"
      ]
     },
     "metadata": {},
     "output_type": "display_data"
    },
    {
     "data": {
      "application/vnd.jupyter.widget-view+json": {
       "model_id": "5e0f4eee65b14e5889b2b74be1a175c4",
       "version_major": 2,
       "version_minor": 0
      },
      "text/plain": [
       "tokenizer.model:   0%|          | 0.00/493k [00:00<?, ?B/s]"
      ]
     },
     "metadata": {},
     "output_type": "display_data"
    },
    {
     "data": {
      "application/vnd.jupyter.widget-view+json": {
       "model_id": "2d4bcb869e1342aab8f6d9e41d80dcd7",
       "version_major": 2,
       "version_minor": 0
      },
      "text/plain": [
       "tokenizer.json:   0%|          | 0.00/1.80M [00:00<?, ?B/s]"
      ]
     },
     "metadata": {},
     "output_type": "display_data"
    },
    {
     "data": {
      "application/vnd.jupyter.widget-view+json": {
       "model_id": "21895a6bfda141c8b60b43d440c3446f",
       "version_major": 2,
       "version_minor": 0
      },
      "text/plain": [
       "added_tokens.json:   0%|          | 0.00/41.0 [00:00<?, ?B/s]"
      ]
     },
     "metadata": {},
     "output_type": "display_data"
    },
    {
     "data": {
      "application/vnd.jupyter.widget-view+json": {
       "model_id": "f1bfa7fff3f745fe853b719db627a8dd",
       "version_major": 2,
       "version_minor": 0
      },
      "text/plain": [
       "special_tokens_map.json:   0%|          | 0.00/552 [00:00<?, ?B/s]"
      ]
     },
     "metadata": {},
     "output_type": "display_data"
    },
    {
     "data": {
      "application/vnd.jupyter.widget-view+json": {
       "model_id": "7e2c5aa3f4de45f3826b355961c7b0fc",
       "version_major": 2,
       "version_minor": 0
      },
      "text/plain": [
       "chat_template.json:   0%|          | 0.00/695 [00:00<?, ?B/s]"
      ]
     },
     "metadata": {},
     "output_type": "display_data"
    },
    {
     "data": {
      "application/vnd.jupyter.widget-view+json": {
       "model_id": "643deb7c44bc4535a37715ab8daaba0d",
       "version_major": 2,
       "version_minor": 0
      },
      "text/plain": [
       "config.json:   0%|          | 0.00/1.28k [00:00<?, ?B/s]"
      ]
     },
     "metadata": {},
     "output_type": "display_data"
    },
    {
     "data": {
      "application/vnd.jupyter.widget-view+json": {
       "model_id": "fe700630a438487793254227d012ecf5",
       "version_major": 2,
       "version_minor": 0
      },
      "text/plain": [
       "model.safetensors.index.json:   0%|          | 0.00/70.2k [00:00<?, ?B/s]"
      ]
     },
     "metadata": {},
     "output_type": "display_data"
    },
    {
     "data": {
      "application/vnd.jupyter.widget-view+json": {
       "model_id": "5f3fd74db474422ea2f65f62911196f1",
       "version_major": 2,
       "version_minor": 0
      },
      "text/plain": [
       "Downloading shards:   0%|          | 0/4 [00:00<?, ?it/s]"
      ]
     },
     "metadata": {},
     "output_type": "display_data"
    },
    {
     "data": {
      "application/vnd.jupyter.widget-view+json": {
       "model_id": "c67ed47deecb49628d1eb271f6b20436",
       "version_major": 2,
       "version_minor": 0
      },
      "text/plain": [
       "model-00001-of-00004.safetensors:   0%|          | 0.00/4.92G [00:00<?, ?B/s]"
      ]
     },
     "metadata": {},
     "output_type": "display_data"
    },
    {
     "data": {
      "application/vnd.jupyter.widget-view+json": {
       "model_id": "593e619622c24a9dad1f09f17dd2f424",
       "version_major": 2,
       "version_minor": 0
      },
      "text/plain": [
       "model-00002-of-00004.safetensors:   0%|          | 0.00/4.92G [00:00<?, ?B/s]"
      ]
     },
     "metadata": {},
     "output_type": "display_data"
    },
    {
     "data": {
      "application/vnd.jupyter.widget-view+json": {
       "model_id": "d42301749da540189c9975cb213ca982",
       "version_major": 2,
       "version_minor": 0
      },
      "text/plain": [
       "model-00003-of-00004.safetensors:   0%|          | 0.00/4.92G [00:00<?, ?B/s]"
      ]
     },
     "metadata": {},
     "output_type": "display_data"
    },
    {
     "data": {
      "application/vnd.jupyter.widget-view+json": {
       "model_id": "c5e31530ff774a049a9cb49cf5790fb4",
       "version_major": 2,
       "version_minor": 0
      },
      "text/plain": [
       "model-00004-of-00004.safetensors:   0%|          | 0.00/380M [00:00<?, ?B/s]"
      ]
     },
     "metadata": {},
     "output_type": "display_data"
    },
    {
     "data": {
      "application/vnd.jupyter.widget-view+json": {
       "model_id": "17f4e9526b5a4a5588dadd706533a6ef",
       "version_major": 2,
       "version_minor": 0
      },
      "text/plain": [
       "Loading checkpoint shards:   0%|          | 0/4 [00:00<?, ?it/s]"
      ]
     },
     "metadata": {},
     "output_type": "display_data"
    },
    {
     "data": {
      "application/vnd.jupyter.widget-view+json": {
       "model_id": "9ede19686d2442e9bdd004e69e7f73f0",
       "version_major": 2,
       "version_minor": 0
      },
      "text/plain": [
       "generation_config.json:   0%|          | 0.00/116 [00:00<?, ?B/s]"
      ]
     },
     "metadata": {},
     "output_type": "display_data"
    },
    {
     "data": {
      "text/plain": [
       "LlavaNextForConditionalGeneration(\n",
       "  (vision_tower): CLIPVisionModel(\n",
       "    (vision_model): CLIPVisionTransformer(\n",
       "      (embeddings): CLIPVisionEmbeddings(\n",
       "        (patch_embedding): Conv2d(3, 1024, kernel_size=(14, 14), stride=(14, 14), bias=False)\n",
       "        (position_embedding): Embedding(577, 1024)\n",
       "      )\n",
       "      (pre_layrnorm): LayerNorm((1024,), eps=1e-05, elementwise_affine=True)\n",
       "      (encoder): CLIPEncoder(\n",
       "        (layers): ModuleList(\n",
       "          (0-23): 24 x CLIPEncoderLayer(\n",
       "            (self_attn): CLIPSdpaAttention(\n",
       "              (k_proj): Linear(in_features=1024, out_features=1024, bias=True)\n",
       "              (v_proj): Linear(in_features=1024, out_features=1024, bias=True)\n",
       "              (q_proj): Linear(in_features=1024, out_features=1024, bias=True)\n",
       "              (out_proj): Linear(in_features=1024, out_features=1024, bias=True)\n",
       "            )\n",
       "            (layer_norm1): LayerNorm((1024,), eps=1e-05, elementwise_affine=True)\n",
       "            (mlp): CLIPMLP(\n",
       "              (activation_fn): QuickGELUActivation()\n",
       "              (fc1): Linear(in_features=1024, out_features=4096, bias=True)\n",
       "              (fc2): Linear(in_features=4096, out_features=1024, bias=True)\n",
       "            )\n",
       "            (layer_norm2): LayerNorm((1024,), eps=1e-05, elementwise_affine=True)\n",
       "          )\n",
       "        )\n",
       "      )\n",
       "      (post_layernorm): LayerNorm((1024,), eps=1e-05, elementwise_affine=True)\n",
       "    )\n",
       "  )\n",
       "  (multi_modal_projector): LlavaNextMultiModalProjector(\n",
       "    (linear_1): Linear(in_features=1024, out_features=4096, bias=True)\n",
       "    (act): GELUActivation()\n",
       "    (linear_2): Linear(in_features=4096, out_features=4096, bias=True)\n",
       "  )\n",
       "  (language_model): MistralForCausalLM(\n",
       "    (model): MistralModel(\n",
       "      (embed_tokens): Embedding(32064, 4096)\n",
       "      (layers): ModuleList(\n",
       "        (0-31): 32 x MistralDecoderLayer(\n",
       "          (self_attn): MistralSdpaAttention(\n",
       "            (q_proj): Linear(in_features=4096, out_features=4096, bias=False)\n",
       "            (k_proj): Linear(in_features=4096, out_features=1024, bias=False)\n",
       "            (v_proj): Linear(in_features=4096, out_features=1024, bias=False)\n",
       "            (o_proj): Linear(in_features=4096, out_features=4096, bias=False)\n",
       "            (rotary_emb): MistralRotaryEmbedding()\n",
       "          )\n",
       "          (mlp): MistralMLP(\n",
       "            (gate_proj): Linear(in_features=4096, out_features=14336, bias=False)\n",
       "            (up_proj): Linear(in_features=4096, out_features=14336, bias=False)\n",
       "            (down_proj): Linear(in_features=14336, out_features=4096, bias=False)\n",
       "            (act_fn): SiLU()\n",
       "          )\n",
       "          (input_layernorm): MistralRMSNorm((4096,), eps=1e-05)\n",
       "          (post_attention_layernorm): MistralRMSNorm((4096,), eps=1e-05)\n",
       "        )\n",
       "      )\n",
       "      (norm): MistralRMSNorm((4096,), eps=1e-05)\n",
       "    )\n",
       "    (lm_head): Linear(in_features=4096, out_features=32064, bias=False)\n",
       "  )\n",
       ")"
      ]
     },
     "execution_count": 4,
     "metadata": {},
     "output_type": "execute_result"
    }
   ],
   "source": [
    "from transformers import LlavaNextProcessor, LlavaNextForConditionalGeneration\n",
    "import torch\n",
    "import matplotlib.pyplot as plt  \n",
    "from PIL import Image\n",
    "import requests\n",
    "\n",
    "processor = LlavaNextProcessor.from_pretrained(\"llava-hf/llava-v1.6-mistral-7b-hf\")\n",
    "\n",
    "model = LlavaNextForConditionalGeneration.from_pretrained(\"llava-hf/llava-v1.6-mistral-7b-hf\", torch_dtype=torch.float16, low_cpu_mem_usage=True) \n",
    "model.to(\"cuda:0\")"
   ]
  },
  {
   "cell_type": "code",
   "execution_count": 5,
   "id": "6482262d",
   "metadata": {
    "execution": {
     "iopub.execute_input": "2024-10-24T21:17:32.346221Z",
     "iopub.status.busy": "2024-10-24T21:17:32.345444Z",
     "iopub.status.idle": "2024-10-24T23:45:44.066415Z",
     "shell.execute_reply": "2024-10-24T23:45:44.065448Z"
    },
    "papermill": {
     "duration": 8891.935313,
     "end_time": "2024-10-24T23:45:44.197054",
     "exception": false,
     "start_time": "2024-10-24T21:17:32.261741",
     "status": "completed"
    },
    "tags": []
   },
   "outputs": [
    {
     "name": "stderr",
     "output_type": "stream",
     "text": [
      "You may have used the wrong order for inputs. `images` should be passed before `text`. The `images` and `text` inputs will be swapped. This behavior will be deprecated in transformers v4.47.\n",
      "Expanding inputs for image tokens in LLaVa-NeXT should be done in processing. Please add `patch_size` and `vision_feature_select_strategy` to the model's processing config or set directly with `processor.patch_size = {{patch_size}}` and processor.vision_feature_select_strategy = {{vision_feature_select_strategy}}`. Using processors without these attributes in the config is deprecated and will throw an error in v4.47.\n",
      "Setting `pad_token_id` to `eos_token_id`:None for open-end generation.\n",
      "Expanding inputs for image tokens in LLaVa-NeXT should be done in processing. Please add `patch_size` and `vision_feature_select_strategy` to the model's processing config or set directly with `processor.patch_size = {{patch_size}}` and processor.vision_feature_select_strategy = {{vision_feature_select_strategy}}`. Using processors without these attributes in the config is deprecated and will throw an error in v4.47.\n",
      "Setting `pad_token_id` to `eos_token_id`:None for open-end generation.\n"
     ]
    },
    {
     "name": "stdout",
     "output_type": "stream",
     "text": [
      "Answer: - People: 2\n",
      "- no-Hard_hats: 0\n",
      "- no-Gloves: 0\n",
      "- no-Reflective_vests: 0\n",
      "- no-Security_boots: 0\n",
      "\n",
      "Both individuals in the image are wearing high visibility vests, which are orange in color. They are also wearing hard hats, gloves, and safety boots, which are typical PPE for construction or industrial sites.\n"
     ]
    },
    {
     "name": "stderr",
     "output_type": "stream",
     "text": [
      "Setting `pad_token_id` to `eos_token_id`:None for open-end generation.\n"
     ]
    },
    {
     "name": "stdout",
     "output_type": "stream",
     "text": [
      "Answer: - People: 3\n",
      "- no-Hard_hats: 1\n",
      "- no-Gloves: 1\n",
      "- no-Reflective_vests: 1\n",
      "- no-Security_boots: 1\n"
     ]
    },
    {
     "name": "stderr",
     "output_type": "stream",
     "text": [
      "Setting `pad_token_id` to `eos_token_id`:None for open-end generation.\n"
     ]
    },
    {
     "name": "stdout",
     "output_type": "stream",
     "text": [
      "Answer: - People: 3\n",
      "- no-Hard_hats: 0\n",
      "- no-Gloves: 0\n",
      "- no-Reflective_vests: 0\n",
      "- no-Security_boots: 0\n",
      "\n",
      "All three individuals are wearing hard hats, which are a type of PPE.\n"
     ]
    },
    {
     "name": "stderr",
     "output_type": "stream",
     "text": [
      "Setting `pad_token_id` to `eos_token_id`:None for open-end generation.\n"
     ]
    },
    {
     "name": "stdout",
     "output_type": "stream",
     "text": [
      "Answer: - People: 5\n",
      "- no-Hard_hats: 1\n",
      "- no-Gloves: 1\n",
      "- no-Reflective_vests: 1\n",
      "- no-Security_boots: 1\n"
     ]
    },
    {
     "name": "stderr",
     "output_type": "stream",
     "text": [
      "Setting `pad_token_id` to `eos_token_id`:None for open-end generation.\n"
     ]
    },
    {
     "name": "stdout",
     "output_type": "stream",
     "text": [
      "Answer: - People: 7\n",
      "- no-Hard_hats: 7\n",
      "- no-Gloves: 7\n",
      "- no-Reflective_vests: 7\n",
      "- no-Security_boots: 7\n",
      "Answer: - People: 2\n",
      "- no-Hard_hats: 0\n",
      "- no-Gloves: 0\n",
      "- no-Reflective_vests: 0\n",
      "- no-Security_boots: 0\n",
      "\n",
      "In the image, both individuals are wearing hard hats, which are a type of PPE. There are no gloves, reflective vests, or security boots visible in the image.\n"
     ]
    },
    {
     "name": "stderr",
     "output_type": "stream",
     "text": [
      "Setting `pad_token_id` to `eos_token_id`:None for open-end generation.\n",
      "Setting `pad_token_id` to `eos_token_id`:None for open-end generation.\n"
     ]
    },
    {
     "name": "stdout",
     "output_type": "stream",
     "text": [
      "Answer: - People: 7\n",
      "- no-Hard_hats: 7\n",
      "- no-Gloves: 7\n",
      "- no-Reflective_vests: 7\n",
      "- no-Security_boots: 7\n"
     ]
    },
    {
     "name": "stderr",
     "output_type": "stream",
     "text": [
      "Setting `pad_token_id` to `eos_token_id`:None for open-end generation.\n"
     ]
    },
    {
     "name": "stdout",
     "output_type": "stream",
     "text": [
      "Answer: - People: 3\n",
      "- no-Hard_hats: 0\n",
      "- no-Gloves: 0\n",
      "- no-Reflective_vests: 0\n",
      "- no-Security_boots: 0\n"
     ]
    },
    {
     "name": "stderr",
     "output_type": "stream",
     "text": [
      "Setting `pad_token_id` to `eos_token_id`:None for open-end generation.\n"
     ]
    },
    {
     "name": "stdout",
     "output_type": "stream",
     "text": [
      "Answer: - People: 5\n",
      "- no-Hard_hats: 0\n",
      "- no-Gloves: 0\n",
      "- no-Reflective_vests: 0\n",
      "- no-Security_boots: 0\n",
      "\n",
      "All five individuals are wearing hard hats, which are a type of PPE.\n"
     ]
    },
    {
     "name": "stderr",
     "output_type": "stream",
     "text": [
      "Setting `pad_token_id` to `eos_token_id`:None for open-end generation.\n"
     ]
    },
    {
     "name": "stdout",
     "output_type": "stream",
     "text": [
      "Answer: - People: 1\n",
      "- no-Hard_hats: 0\n",
      "- no-Gloves: 0\n",
      "- no-Reflective_vests: 0\n",
      "- no-Security_boots: 0\n"
     ]
    },
    {
     "name": "stderr",
     "output_type": "stream",
     "text": [
      "Setting `pad_token_id` to `eos_token_id`:None for open-end generation.\n"
     ]
    },
    {
     "name": "stdout",
     "output_type": "stream",
     "text": [
      "Answer: - People: 1\n",
      "- no-Hard_hats: 0\n",
      "- no-Gloves: 0\n",
      "- no-Reflective_vests: 0\n",
      "- no-Security_boots: 0\n"
     ]
    },
    {
     "name": "stderr",
     "output_type": "stream",
     "text": [
      "Setting `pad_token_id` to `eos_token_id`:None for open-end generation.\n"
     ]
    },
    {
     "name": "stdout",
     "output_type": "stream",
     "text": [
      "Answer: - People: 2\n",
      "- no-Hard_hats: 1\n",
      "- no-Gloves: 1\n",
      "- no-Reflective_vests: 1\n",
      "- no-Security_boots: 1\n"
     ]
    },
    {
     "name": "stderr",
     "output_type": "stream",
     "text": [
      "Setting `pad_token_id` to `eos_token_id`:None for open-end generation.\n"
     ]
    },
    {
     "name": "stdout",
     "output_type": "stream",
     "text": [
      "Answer: - People: 1\n",
      "- no-Hard_hats: 0\n",
      "- no-Gloves: 0\n",
      "- no-Reflective_vests: 0\n",
      "- no-Security_boots: 0\n",
      "\n",
      "The person in the image is wearing a hard hat, which is a type of PPE.\n"
     ]
    },
    {
     "name": "stderr",
     "output_type": "stream",
     "text": [
      "Setting `pad_token_id` to `eos_token_id`:None for open-end generation.\n"
     ]
    },
    {
     "name": "stdout",
     "output_type": "stream",
     "text": [
      "Answer: - People: 2\n",
      "  - no-Hard_hats: 0\n",
      "  - no-Gloves: 0\n",
      "  - no-Reflective_vests: 0\n",
      "  - no-Security_boots: 0\n"
     ]
    },
    {
     "name": "stderr",
     "output_type": "stream",
     "text": [
      "Setting `pad_token_id` to `eos_token_id`:None for open-end generation.\n"
     ]
    },
    {
     "name": "stdout",
     "output_type": "stream",
     "text": [
      "Answer: - People: 5\n",
      "- no-Hard_hats: 0\n",
      "- no-Gloves: 0\n",
      "- no-Reflective_vests: 0\n",
      "- no-Security_boots: 0\n"
     ]
    },
    {
     "name": "stderr",
     "output_type": "stream",
     "text": [
      "Setting `pad_token_id` to `eos_token_id`:None for open-end generation.\n"
     ]
    },
    {
     "name": "stdout",
     "output_type": "stream",
     "text": [
      "Answer: - People: 6\n",
      "- no-Hard_hats: 2\n",
      "- no-Gloves: 2\n",
      "- no-Reflective_vests: 2\n",
      "- no-Security_boots: 2\n"
     ]
    },
    {
     "name": "stderr",
     "output_type": "stream",
     "text": [
      "Setting `pad_token_id` to `eos_token_id`:None for open-end generation.\n"
     ]
    },
    {
     "name": "stdout",
     "output_type": "stream",
     "text": [
      "Answer: - People: 2\n",
      "- no-Hard_hats: 0\n",
      "- no-Gloves: 0\n",
      "- no-Reflective_vests: 0\n",
      "- no-Security_boots: 0\n",
      "\n",
      "Both individuals in the image are wearing hard hats, which are a type of PPE.\n"
     ]
    },
    {
     "name": "stderr",
     "output_type": "stream",
     "text": [
      "Setting `pad_token_id` to `eos_token_id`:None for open-end generation.\n"
     ]
    },
    {
     "name": "stdout",
     "output_type": "stream",
     "text": [
      "Answer: - People: 7\n",
      "- no-Hard_hats: 4\n",
      "- no-Gloves: 4\n",
      "- no-Reflective_vests: 4\n",
      "- no-Security_boots: 4\n",
      "\n",
      "Please note that the image shows a group of people, some of whom are wearing hard hats, gloves, and reflective vests, while others are not. The individuals who are not wearing these items are likely to be in a discussion or observing the situation.\n"
     ]
    },
    {
     "name": "stderr",
     "output_type": "stream",
     "text": [
      "Setting `pad_token_id` to `eos_token_id`:None for open-end generation.\n"
     ]
    },
    {
     "name": "stdout",
     "output_type": "stream",
     "text": [
      "Answer: - People: 1\n",
      "- no-Hard_hats: 0\n",
      "- no-Gloves: 0\n",
      "- no-Reflective_vests: 0\n",
      "- no-Security_boots: 0\n"
     ]
    },
    {
     "name": "stderr",
     "output_type": "stream",
     "text": [
      "Setting `pad_token_id` to `eos_token_id`:None for open-end generation.\n"
     ]
    },
    {
     "name": "stdout",
     "output_type": "stream",
     "text": [
      "Answer: - People: 3\n",
      "- no-Hard_hats: 2\n",
      "- no-Gloves: 2\n",
      "- no-Reflective_vests: 2\n",
      "- no-Security_boots: 2\n"
     ]
    },
    {
     "name": "stderr",
     "output_type": "stream",
     "text": [
      "Setting `pad_token_id` to `eos_token_id`:None for open-end generation.\n"
     ]
    },
    {
     "name": "stdout",
     "output_type": "stream",
     "text": [
      "Answer: - People: 8\n",
      "- no-Hard_hats: 0\n",
      "- no-Gloves: 0\n",
      "- no-Reflective_vests: 0\n",
      "- no-Security_boots: 0\n",
      "\n",
      "All individuals in the image are wearing hard hats, which are a type of PPE.\n"
     ]
    },
    {
     "name": "stderr",
     "output_type": "stream",
     "text": [
      "Setting `pad_token_id` to `eos_token_id`:None for open-end generation.\n"
     ]
    },
    {
     "name": "stdout",
     "output_type": "stream",
     "text": [
      "Answer: - People: 8\n",
      "- no-Hard_hats: 2\n",
      "- no-Gloves: 0\n",
      "- no-Reflective_vests: 0\n",
      "- no-Security_boots: 0\n",
      "\n",
      "Please note that the image shows a group of people, some of whom are wearing hard hats, which are a type of PPE. The rest of the PPEs, such as gloves, reflective vests, and security boots, are not visible in the image.\n"
     ]
    },
    {
     "name": "stderr",
     "output_type": "stream",
     "text": [
      "Setting `pad_token_id` to `eos_token_id`:None for open-end generation.\n"
     ]
    },
    {
     "name": "stdout",
     "output_type": "stream",
     "text": [
      "Answer: - People: 4\n",
      "- no-Hard_hats: 0\n",
      "- no-Gloves: 0\n",
      "- no-Reflective_vests: 0\n",
      "- no-Security_boots: 0\n",
      "Answer: - People: 3\n",
      "- no-Hard_hats: 1\n",
      "- no-Gloves: 1\n",
      "- no-Reflective_vests: 1\n",
      "- no-Security_boots: 1\n"
     ]
    },
    {
     "name": "stderr",
     "output_type": "stream",
     "text": [
      "Setting `pad_token_id` to `eos_token_id`:None for open-end generation.\n",
      "Setting `pad_token_id` to `eos_token_id`:None for open-end generation.\n"
     ]
    },
    {
     "name": "stdout",
     "output_type": "stream",
     "text": [
      "Answer: - People: 7\n",
      "- no-Hard_hats: 5\n",
      "- no-Gloves: 5\n",
      "- no-Reflective_vests: 5\n",
      "- no-Security_boots: 5\n"
     ]
    },
    {
     "name": "stderr",
     "output_type": "stream",
     "text": [
      "Setting `pad_token_id` to `eos_token_id`:None for open-end generation.\n"
     ]
    },
    {
     "name": "stdout",
     "output_type": "stream",
     "text": [
      "Answer: - People: 5\n",
      "- no-Hard_hats: 2\n",
      "- no-Gloves: 2\n",
      "- no-Reflective_vests: 2\n",
      "- no-Security_boots: 2\n"
     ]
    },
    {
     "name": "stderr",
     "output_type": "stream",
     "text": [
      "Setting `pad_token_id` to `eos_token_id`:None for open-end generation.\n"
     ]
    },
    {
     "name": "stdout",
     "output_type": "stream",
     "text": [
      "Answer: - People: 4\n",
      "- no-Hard_hats: 1\n",
      "- no-Gloves: 1\n",
      "- no-Reflective_vests: 1\n",
      "- no-Security_boots: 1\n"
     ]
    },
    {
     "name": "stderr",
     "output_type": "stream",
     "text": [
      "Setting `pad_token_id` to `eos_token_id`:None for open-end generation.\n"
     ]
    },
    {
     "name": "stdout",
     "output_type": "stream",
     "text": [
      "Answer: - People: 1\n",
      "- no-Hard_hats: 0\n",
      "- no-Gloves: 0\n",
      "- no-Reflective_vests: 0\n",
      "- no-Security_boots: 0\n"
     ]
    },
    {
     "name": "stderr",
     "output_type": "stream",
     "text": [
      "Setting `pad_token_id` to `eos_token_id`:None for open-end generation.\n"
     ]
    },
    {
     "name": "stdout",
     "output_type": "stream",
     "text": [
      "Answer: - People: 5\n",
      "- no-Hard_hats: 1\n",
      "- no-Gloves: 1\n",
      "- no-Reflective_vests: 1\n",
      "- no-Security_boots: 1\n"
     ]
    },
    {
     "name": "stderr",
     "output_type": "stream",
     "text": [
      "Setting `pad_token_id` to `eos_token_id`:None for open-end generation.\n"
     ]
    },
    {
     "name": "stdout",
     "output_type": "stream",
     "text": [
      "Answer: - People: 3\n",
      "- no-Hard_hats: 2\n",
      "- no-Gloves: 2\n",
      "- no-Reflective_vests: 2\n",
      "- no-Security_boots: 2\n"
     ]
    },
    {
     "name": "stderr",
     "output_type": "stream",
     "text": [
      "Setting `pad_token_id` to `eos_token_id`:None for open-end generation.\n"
     ]
    },
    {
     "name": "stdout",
     "output_type": "stream",
     "text": [
      "Answer: - People: 1\n",
      "- no-Hard_hats: 0\n",
      "- no-Gloves: 0\n",
      "- no-Reflective_vests: 0\n",
      "- no-Security_boots: 0\n"
     ]
    },
    {
     "name": "stderr",
     "output_type": "stream",
     "text": [
      "Setting `pad_token_id` to `eos_token_id`:None for open-end generation.\n"
     ]
    },
    {
     "name": "stdout",
     "output_type": "stream",
     "text": [
      "Answer: - People: 1\n",
      "- no-Hard_hats: 0\n",
      "- no-Gloves: 0\n",
      "- no-Reflective_vests: 0\n",
      "- no-Security_boots: 0\n"
     ]
    },
    {
     "name": "stderr",
     "output_type": "stream",
     "text": [
      "Setting `pad_token_id` to `eos_token_id`:None for open-end generation.\n"
     ]
    },
    {
     "name": "stdout",
     "output_type": "stream",
     "text": [
      "Answer: - People: 3\n",
      "- no-Hard_hats: 0\n",
      "- no-Gloves: 0\n",
      "- no-Reflective_vests: 0\n",
      "- no-Security_boots: 0\n",
      "\n",
      "In the image, all three individuals are wearing hard hats, which are a type of PPE. They are also wearing high visibility vests, which are a type of PPE. Additionally, they are wearing gloves, which are a type of PPE. The boots they are wearing are not specifically labeled as \"security boots,\" but they appear to be sturdy work boots, which are a type of PPE.\n"
     ]
    },
    {
     "name": "stderr",
     "output_type": "stream",
     "text": [
      "Setting `pad_token_id` to `eos_token_id`:None for open-end generation.\n"
     ]
    },
    {
     "name": "stdout",
     "output_type": "stream",
     "text": [
      "Answer: - People: 1\n",
      "- no-Hard_hats: 0\n",
      "- no-Gloves: 0\n",
      "- no-Reflective_vests: 0\n",
      "- no-Security_boots: 0\n"
     ]
    },
    {
     "name": "stderr",
     "output_type": "stream",
     "text": [
      "Setting `pad_token_id` to `eos_token_id`:None for open-end generation.\n"
     ]
    },
    {
     "name": "stdout",
     "output_type": "stream",
     "text": [
      "Answer: - People: 1\n",
      "- no-Hard_hats: 0\n",
      "- no-Gloves: 0\n",
      "- no-Reflective_vests: 0\n",
      "- no-Security_boots: 0\n"
     ]
    },
    {
     "name": "stderr",
     "output_type": "stream",
     "text": [
      "Setting `pad_token_id` to `eos_token_id`:None for open-end generation.\n"
     ]
    },
    {
     "name": "stdout",
     "output_type": "stream",
     "text": [
      "Answer: - People: 4\n",
      "- no-Hard_hats: 1\n",
      "- no-Gloves: 1\n",
      "- no-Reflective_vests: 1\n",
      "- no-Security_boots: 1\n"
     ]
    },
    {
     "name": "stderr",
     "output_type": "stream",
     "text": [
      "Setting `pad_token_id` to `eos_token_id`:None for open-end generation.\n"
     ]
    },
    {
     "name": "stdout",
     "output_type": "stream",
     "text": [
      "Answer: - People: 1\n",
      "- no-Hard_hats: 0\n",
      "- no-Gloves: 0\n",
      "- no-Reflective_vests: 0\n",
      "- no-Security_boots: 0\n"
     ]
    },
    {
     "name": "stderr",
     "output_type": "stream",
     "text": [
      "Setting `pad_token_id` to `eos_token_id`:None for open-end generation.\n"
     ]
    },
    {
     "name": "stdout",
     "output_type": "stream",
     "text": [
      "Answer: - People: 3\n",
      "- no-Hard_hats: 1\n",
      "- no-Gloves: 1\n",
      "- no-Reflective_vests: 1\n",
      "- no-Security_boots: 1\n"
     ]
    },
    {
     "name": "stderr",
     "output_type": "stream",
     "text": [
      "Setting `pad_token_id` to `eos_token_id`:None for open-end generation.\n"
     ]
    },
    {
     "name": "stdout",
     "output_type": "stream",
     "text": [
      "Answer: - People: 1\n",
      "- no-Hard_hats: 0\n",
      "- no-Gloves: 0\n",
      "- no-Reflective_vests: 0\n",
      "- no-Security_boots: 0\n"
     ]
    },
    {
     "name": "stderr",
     "output_type": "stream",
     "text": [
      "Setting `pad_token_id` to `eos_token_id`:None for open-end generation.\n"
     ]
    },
    {
     "name": "stdout",
     "output_type": "stream",
     "text": [
      "Answer: - People: 4\n",
      "- no-Hard_hats: 2\n",
      "- no-Gloves: 2\n",
      "- no-Reflective_vests: 2\n",
      "- no-Security_boots: 2\n"
     ]
    },
    {
     "name": "stderr",
     "output_type": "stream",
     "text": [
      "Setting `pad_token_id` to `eos_token_id`:None for open-end generation.\n"
     ]
    },
    {
     "name": "stdout",
     "output_type": "stream",
     "text": [
      "Answer: - People: 1\n",
      "- no-Hard_hats: 1\n",
      "- no-Gloves: 1\n",
      "- no-Reflective_vests: 1\n",
      "- no-Security_boots: 1\n"
     ]
    },
    {
     "name": "stderr",
     "output_type": "stream",
     "text": [
      "Setting `pad_token_id` to `eos_token_id`:None for open-end generation.\n"
     ]
    },
    {
     "name": "stdout",
     "output_type": "stream",
     "text": [
      "Answer: - People: 3\n",
      "- no-Hard_hats: 0\n",
      "- no-Gloves: 0\n",
      "- no-Reflective_vests: 0\n",
      "- no-Security_boots: 0\n"
     ]
    },
    {
     "name": "stderr",
     "output_type": "stream",
     "text": [
      "Setting `pad_token_id` to `eos_token_id`:None for open-end generation.\n"
     ]
    },
    {
     "name": "stdout",
     "output_type": "stream",
     "text": [
      "Answer: - People: 3\n",
      "- no-Hard_hats: 0\n",
      "- no-Gloves: 0\n",
      "- no-Reflective_vests: 0\n",
      "- no-Security_boots: 0\n",
      "\n",
      "In the image, all three individuals are wearing hard hats, which are a type of PPE.\n"
     ]
    },
    {
     "name": "stderr",
     "output_type": "stream",
     "text": [
      "Setting `pad_token_id` to `eos_token_id`:None for open-end generation.\n"
     ]
    },
    {
     "name": "stdout",
     "output_type": "stream",
     "text": [
      "Answer: - People: 2\n",
      "- no-Hard_hats: 1\n",
      "- no-Gloves: 1\n",
      "- no-Reflective_vests: 1\n",
      "- no-Security_boots: 1\n"
     ]
    },
    {
     "name": "stderr",
     "output_type": "stream",
     "text": [
      "Setting `pad_token_id` to `eos_token_id`:None for open-end generation.\n"
     ]
    },
    {
     "name": "stdout",
     "output_type": "stream",
     "text": [
      "Answer: - People: 3\n",
      "- no-Hard_hats: 0\n",
      "- no-Gloves: 0\n",
      "- no-Reflective_vests: 0\n",
      "- no-Security_boots: 0\n"
     ]
    },
    {
     "name": "stderr",
     "output_type": "stream",
     "text": [
      "Setting `pad_token_id` to `eos_token_id`:None for open-end generation.\n"
     ]
    },
    {
     "name": "stdout",
     "output_type": "stream",
     "text": [
      "Answer: - People: 1\n",
      "- no-Hard_hats: 0\n",
      "- no-Gloves: 0\n",
      "- no-Reflective_vests: 0\n",
      "- no-Security_boots: 0\n"
     ]
    },
    {
     "name": "stderr",
     "output_type": "stream",
     "text": [
      "Setting `pad_token_id` to `eos_token_id`:None for open-end generation.\n"
     ]
    },
    {
     "name": "stdout",
     "output_type": "stream",
     "text": [
      "Answer: Based on the image provided, here is the information:\n",
      "\n",
      "- People: 10\n",
      "- no-Hard_hats: 9\n",
      "- no-Gloves: 9\n",
      "- no-Reflective_vests: 9\n",
      "- no-Security_boots: 9\n",
      "\n",
      "Please note that the individuals in the image are not wearing any visible PPE, such as hard hats, gloves, high visibility vests, or security boots.\n"
     ]
    },
    {
     "name": "stderr",
     "output_type": "stream",
     "text": [
      "Setting `pad_token_id` to `eos_token_id`:None for open-end generation.\n"
     ]
    },
    {
     "name": "stdout",
     "output_type": "stream",
     "text": [
      "Answer: - People: 2\n",
      "- no-Hard_hats: 1\n",
      "- no-Gloves: 1\n",
      "- no-Reflective_vests: 1\n",
      "- no-Security_boots: 1\n"
     ]
    },
    {
     "name": "stderr",
     "output_type": "stream",
     "text": [
      "Setting `pad_token_id` to `eos_token_id`:None for open-end generation.\n"
     ]
    },
    {
     "name": "stdout",
     "output_type": "stream",
     "text": [
      "Answer: - People: 2\n",
      "- no-Hard_hats: 1\n",
      "- no-Gloves: 1\n",
      "- no-Reflective_vests: 1\n",
      "- no-Security_boots: 1\n"
     ]
    },
    {
     "name": "stderr",
     "output_type": "stream",
     "text": [
      "Setting `pad_token_id` to `eos_token_id`:None for open-end generation.\n"
     ]
    },
    {
     "name": "stdout",
     "output_type": "stream",
     "text": [
      "Answer: In the image, there are two individuals wearing high visibility orange vests, which are reflective vests. They are also wearing hard hats, which are safety helmets. There are no gloves visible in the image. There are no security boots visible in the image. The scene appears to be a construction or industrial site, and the individuals are likely workers or inspectors.\n",
      "\n",
      "Here's the information in the format you requested:\n",
      "\n",
      "- People: 2\n",
      "- no-Hard_hats: 0\n",
      "- no-Gloves: 0\n",
      "- no-Reflective_vests: 0\n",
      "- no-Security_boots: 0\n",
      "\n",
      "Please note that the image does not provide enough information to determine if there are any other individuals or items not visible in the frame.\n"
     ]
    },
    {
     "name": "stderr",
     "output_type": "stream",
     "text": [
      "Setting `pad_token_id` to `eos_token_id`:None for open-end generation.\n"
     ]
    },
    {
     "name": "stdout",
     "output_type": "stream",
     "text": [
      "Answer: - People: 2\n",
      "- no-Hard_hats: 0\n",
      "- no-Gloves: 0\n",
      "- no-Reflective_vests: 0\n",
      "- no-Security_boots: 0\n"
     ]
    },
    {
     "name": "stderr",
     "output_type": "stream",
     "text": [
      "Setting `pad_token_id` to `eos_token_id`:None for open-end generation.\n"
     ]
    },
    {
     "name": "stdout",
     "output_type": "stream",
     "text": [
      "Answer: - People: 1\n",
      "- no-Hard_hats: 0\n",
      "- no-Gloves: 0\n",
      "- no-Reflective_vests: 0\n",
      "- no-Security_boots: 0\n",
      "Answer: - People: 1\n",
      "- no-Hard_hats: 0\n",
      "- no-Gloves: 0\n",
      "- no-Reflective_vests: 0\n",
      "- no-Security_boots: 0\n"
     ]
    },
    {
     "name": "stderr",
     "output_type": "stream",
     "text": [
      "Setting `pad_token_id` to `eos_token_id`:None for open-end generation.\n",
      "Setting `pad_token_id` to `eos_token_id`:None for open-end generation.\n"
     ]
    },
    {
     "name": "stdout",
     "output_type": "stream",
     "text": [
      "Answer: - People: 6\n",
      "- no-Hard_hats: 6\n",
      "- no-Gloves: 6\n",
      "- no-Reflective_vests: 6\n",
      "- no-Security_boots: 6\n"
     ]
    },
    {
     "name": "stderr",
     "output_type": "stream",
     "text": [
      "Setting `pad_token_id` to `eos_token_id`:None for open-end generation.\n"
     ]
    },
    {
     "name": "stdout",
     "output_type": "stream",
     "text": [
      "Answer: - People: 1\n",
      "- no-Hard_hats: 0\n",
      "- no-Gloves: 0\n",
      "- no-Reflective_vests: 0\n",
      "- no-Security_boots: 0\n"
     ]
    },
    {
     "name": "stderr",
     "output_type": "stream",
     "text": [
      "Setting `pad_token_id` to `eos_token_id`:None for open-end generation.\n"
     ]
    },
    {
     "name": "stdout",
     "output_type": "stream",
     "text": [
      "Answer: - People: 1\n",
      "- no-Hard_hats: 0\n",
      "- no-Gloves: 0\n",
      "- no-Reflective_vests: 0\n",
      "- no-Security_boots: 0\n"
     ]
    },
    {
     "name": "stderr",
     "output_type": "stream",
     "text": [
      "Setting `pad_token_id` to `eos_token_id`:None for open-end generation.\n"
     ]
    },
    {
     "name": "stdout",
     "output_type": "stream",
     "text": [
      "Answer: - People: 4\n",
      "- no-Hard_hats: 1\n",
      "- no-Gloves: 1\n",
      "- no-Reflective_vests: 1\n",
      "- no-Security_boots: 1\n"
     ]
    },
    {
     "name": "stderr",
     "output_type": "stream",
     "text": [
      "Setting `pad_token_id` to `eos_token_id`:None for open-end generation.\n"
     ]
    },
    {
     "name": "stdout",
     "output_type": "stream",
     "text": [
      "Answer: - People: 2\n",
      "- no-Hard_hats: 1\n",
      "- no-Gloves: 1\n",
      "- no-Reflective_vests: 1\n",
      "- no-Security_boots: 1\n"
     ]
    },
    {
     "name": "stderr",
     "output_type": "stream",
     "text": [
      "Setting `pad_token_id` to `eos_token_id`:None for open-end generation.\n"
     ]
    },
    {
     "name": "stdout",
     "output_type": "stream",
     "text": [
      "Answer: - People: 3\n",
      "- no-Hard_hats: 1\n",
      "- no-Gloves: 1\n",
      "- no-Reflective_vests: 1\n",
      "- no-Security_boots: 1\n"
     ]
    },
    {
     "name": "stderr",
     "output_type": "stream",
     "text": [
      "Setting `pad_token_id` to `eos_token_id`:None for open-end generation.\n"
     ]
    },
    {
     "name": "stdout",
     "output_type": "stream",
     "text": [
      "Answer: - People: 2\n",
      "- no-Hard_hats: 1\n",
      "- no-Gloves: 1\n",
      "- no-Reflective_vests: 1\n",
      "- no-Security_boots: 1\n"
     ]
    },
    {
     "name": "stderr",
     "output_type": "stream",
     "text": [
      "Setting `pad_token_id` to `eos_token_id`:None for open-end generation.\n"
     ]
    },
    {
     "name": "stdout",
     "output_type": "stream",
     "text": [
      "Answer: - People: 6\n",
      "- no-Hard_hats: 2\n",
      "- no-Gloves: 2\n",
      "- no-Reflective_vests: 2\n",
      "- no-Security_boots: 2\n"
     ]
    },
    {
     "name": "stderr",
     "output_type": "stream",
     "text": [
      "Setting `pad_token_id` to `eos_token_id`:None for open-end generation.\n"
     ]
    },
    {
     "name": "stdout",
     "output_type": "stream",
     "text": [
      "Answer: - People: 10\n",
      "- no-Hard_hats: 7\n",
      "- no-Gloves: 7\n",
      "- no-Reflective_vests: 7\n",
      "- no-Security_boots: 7\n"
     ]
    },
    {
     "name": "stderr",
     "output_type": "stream",
     "text": [
      "Setting `pad_token_id` to `eos_token_id`:None for open-end generation.\n"
     ]
    },
    {
     "name": "stdout",
     "output_type": "stream",
     "text": [
      "Answer: - People: 7\n",
      "- no-Hard_hats: 1\n",
      "- no-Gloves: 1\n",
      "- no-Reflective_vests: 1\n",
      "- no-Security_boots: 1\n"
     ]
    },
    {
     "name": "stderr",
     "output_type": "stream",
     "text": [
      "Setting `pad_token_id` to `eos_token_id`:None for open-end generation.\n"
     ]
    },
    {
     "name": "stdout",
     "output_type": "stream",
     "text": [
      "Answer: - People: 18\n",
      "- no-Hard_hats: 13\n",
      "- no-Gloves: 15\n",
      "- no-Reflective_vests: 16\n",
      "- no-Security_boots: 17\n",
      "\n",
      "Please note that the image provided does not show any PPEs, high visibility vests, gloves, security boots, or hard hats being worn by the individuals in the picture.\n"
     ]
    },
    {
     "name": "stderr",
     "output_type": "stream",
     "text": [
      "Setting `pad_token_id` to `eos_token_id`:None for open-end generation.\n"
     ]
    },
    {
     "name": "stdout",
     "output_type": "stream",
     "text": [
      "Answer: - People: 3\n",
      "- no-Hard_hats: 0\n",
      "- no-Gloves: 0\n",
      "- no-Reflective_vests: 0\n",
      "- no-Security_boots: 0\n",
      "\n",
      "All three individuals are wearing hard hats, which are a form of PPE. They are also wearing gloves, which are another form of PPE. The vests they are wearing are reflective, which is a safety feature to increase visibility. The boots they are wearing are likely to be safety boots, which are another form of PPE.\n"
     ]
    },
    {
     "name": "stderr",
     "output_type": "stream",
     "text": [
      "Setting `pad_token_id` to `eos_token_id`:None for open-end generation.\n"
     ]
    },
    {
     "name": "stdout",
     "output_type": "stream",
     "text": [
      "Answer: - People: 9\n",
      "- no-Hard_hats: 8\n",
      "- no-Gloves: 8\n",
      "- no-Reflective_vests: 8\n",
      "- no-Security_boots: 8\n",
      "\n",
      "Please note that the image does not provide enough information to determine if any of the individuals are wearing PPEs such as gloves, hard hats, or high visibility vests.\n"
     ]
    },
    {
     "name": "stderr",
     "output_type": "stream",
     "text": [
      "Setting `pad_token_id` to `eos_token_id`:None for open-end generation.\n"
     ]
    },
    {
     "name": "stdout",
     "output_type": "stream",
     "text": [
      "Answer: - People: 7\n",
      "- no-Hard_hats: 0\n",
      "- no-Gloves: 0\n",
      "- no-Reflective_vests: 0\n",
      "- no-Security_boots: 0\n",
      "\n",
      "All individuals in the image are wearing hard hats, gloves, and high visibility vests.\n"
     ]
    },
    {
     "name": "stderr",
     "output_type": "stream",
     "text": [
      "Setting `pad_token_id` to `eos_token_id`:None for open-end generation.\n"
     ]
    },
    {
     "name": "stdout",
     "output_type": "stream",
     "text": [
      "Answer: - People: 2\n",
      "- no-Hard_hats: 0\n",
      "- no-Gloves: 0\n",
      "- no-Reflective_vests: 0\n",
      "- no-Security_boots: 0\n"
     ]
    },
    {
     "name": "stderr",
     "output_type": "stream",
     "text": [
      "Setting `pad_token_id` to `eos_token_id`:None for open-end generation.\n"
     ]
    },
    {
     "name": "stdout",
     "output_type": "stream",
     "text": [
      "Answer: - People: 10\n",
      "- no-Hard_hats: 1\n",
      "- no-Gloves: 1\n",
      "- no-Reflective_vests: 1\n",
      "- no-Security_boots: 1\n"
     ]
    },
    {
     "name": "stderr",
     "output_type": "stream",
     "text": [
      "Setting `pad_token_id` to `eos_token_id`:None for open-end generation.\n"
     ]
    },
    {
     "name": "stdout",
     "output_type": "stream",
     "text": [
      "Answer: - People: 1\n",
      "- no-Hard_hats: 0\n",
      "- no-Gloves: 0\n",
      "- no-Reflective_vests: 0\n",
      "- no-Security_boots: 0\n",
      "\n",
      "The person in the image is wearing a high visibility yellow vest, which is a type of PPE.\n"
     ]
    },
    {
     "name": "stderr",
     "output_type": "stream",
     "text": [
      "Setting `pad_token_id` to `eos_token_id`:None for open-end generation.\n"
     ]
    },
    {
     "name": "stdout",
     "output_type": "stream",
     "text": [
      "Answer: In the image, there is one person who appears to be a construction worker. He is wearing a red hard hat, which is a type of PPE. He is also holding a shovel, which is a tool commonly used in construction. There are no visible gloves, reflective vests, or security boots in the image. Therefore, the count would be:\n",
      "\n",
      "    - People: 1\n",
      "    - no-Hard_hats: 0\n",
      "    - no-Gloves: 1\n",
      "    - no-Reflective_vests: 1\n",
      "    - no-Security_boots: 1\n"
     ]
    },
    {
     "name": "stderr",
     "output_type": "stream",
     "text": [
      "Setting `pad_token_id` to `eos_token_id`:None for open-end generation.\n"
     ]
    },
    {
     "name": "stdout",
     "output_type": "stream",
     "text": [
      "Answer: In the image, there are three people visible. One person is wearing a red hard hat, which is a form of PPE. There are no blue, orange, or yellow high visibility vests in the scene. There are no gloves visible in the image. There are no security boots visible in the image. The person wearing the red hard hat is the only one wearing any form of PPE.\n",
      "\n",
      "Therefore, the information can be summarized as follows:\n",
      "\n",
      "* People: 3\n",
      "* no-Hard_hats: 2\n",
      "* no-Gloves: 2\n",
      "* no-Reflective_vests: 2\n",
      "* no-Security_boots: 2\n",
      "\n",
      "Please note that this summary is based on the visible elements in the image and does not include any assumptions or inferences about the individuals or their activities.\n"
     ]
    },
    {
     "name": "stderr",
     "output_type": "stream",
     "text": [
      "Setting `pad_token_id` to `eos_token_id`:None for open-end generation.\n"
     ]
    },
    {
     "name": "stdout",
     "output_type": "stream",
     "text": [
      "Answer: - People: 1\n",
      "- no-Hard_hats: 1\n",
      "- no-Gloves: 1\n",
      "- no-Reflective_vests: 1\n",
      "- no-Security_boots: 1\n"
     ]
    },
    {
     "name": "stderr",
     "output_type": "stream",
     "text": [
      "Setting `pad_token_id` to `eos_token_id`:None for open-end generation.\n"
     ]
    },
    {
     "name": "stdout",
     "output_type": "stream",
     "text": [
      "Answer: In the image, there is one person visible. The person is wearing a high visibility yellow vest, which is a type of PPE. There are no visible hard hats, gloves, or security boots in the image. Therefore, the count would be:\n",
      "\n",
      "    - People: 1\n",
      "    - no-Hard_hats: 1\n",
      "    - no-Gloves: 1\n",
      "    - no-Reflective_vests: 0\n",
      "    - no-Security_boots: 1\n"
     ]
    },
    {
     "name": "stderr",
     "output_type": "stream",
     "text": [
      "Setting `pad_token_id` to `eos_token_id`:None for open-end generation.\n"
     ]
    },
    {
     "name": "stdout",
     "output_type": "stream",
     "text": [
      "Answer: - People: 6\n",
      "- no-Hard_hats: 2\n",
      "- no-Gloves: 2\n",
      "- no-Reflective_vests: 2\n",
      "- no-Security_boots: 2\n"
     ]
    },
    {
     "name": "stderr",
     "output_type": "stream",
     "text": [
      "Setting `pad_token_id` to `eos_token_id`:None for open-end generation.\n"
     ]
    },
    {
     "name": "stdout",
     "output_type": "stream",
     "text": [
      "Answer: - People: 2\n",
      "- no-Hard_hats: 1\n",
      "- no-Gloves: 1\n",
      "- no-Reflective_vests: 1\n",
      "- no-Security_boots: 1\n"
     ]
    },
    {
     "name": "stderr",
     "output_type": "stream",
     "text": [
      "Setting `pad_token_id` to `eos_token_id`:None for open-end generation.\n"
     ]
    },
    {
     "name": "stdout",
     "output_type": "stream",
     "text": [
      "Answer: - People: 3\n",
      "- no-Hard_hats: 0\n",
      "- no-Gloves: 0\n",
      "- no-Reflective_vests: 0\n",
      "- no-Security_boots: 0\n"
     ]
    },
    {
     "name": "stderr",
     "output_type": "stream",
     "text": [
      "Setting `pad_token_id` to `eos_token_id`:None for open-end generation.\n"
     ]
    },
    {
     "name": "stdout",
     "output_type": "stream",
     "text": [
      "Answer: - People: 2\n",
      "- no-Hard_hats: 1\n",
      "- no-Gloves: 1\n",
      "- no-Reflective_vests: 1\n",
      "- no-Security_boots: 1\n"
     ]
    },
    {
     "name": "stderr",
     "output_type": "stream",
     "text": [
      "Setting `pad_token_id` to `eos_token_id`:None for open-end generation.\n"
     ]
    },
    {
     "name": "stdout",
     "output_type": "stream",
     "text": [
      "Answer: - People: 1\n",
      "- no-Hard_hats: 1\n",
      "- no-Gloves: 1\n",
      "- no-Reflective_vests: 1\n",
      "- no-Security_boots: 1\n"
     ]
    },
    {
     "name": "stderr",
     "output_type": "stream",
     "text": [
      "Setting `pad_token_id` to `eos_token_id`:None for open-end generation.\n"
     ]
    },
    {
     "name": "stdout",
     "output_type": "stream",
     "text": [
      "Answer: - People: 3\n",
      "- no-Hard_hats: 0\n",
      "- no-Gloves: 0\n",
      "- no-Reflective_vests: 0\n",
      "- no-Security_boots: 0\n",
      "\n",
      "All three individuals are wearing hard hats, which are a type of PPE.\n"
     ]
    },
    {
     "name": "stderr",
     "output_type": "stream",
     "text": [
      "Setting `pad_token_id` to `eos_token_id`:None for open-end generation.\n"
     ]
    },
    {
     "name": "stdout",
     "output_type": "stream",
     "text": [
      "Answer: - People: 5\n",
      "- no-Hard_hats: 4\n",
      "- no-Gloves: 4\n",
      "- no-Reflective_vests: 4\n",
      "- no-Security_boots: 4\n"
     ]
    },
    {
     "name": "stderr",
     "output_type": "stream",
     "text": [
      "Setting `pad_token_id` to `eos_token_id`:None for open-end generation.\n"
     ]
    },
    {
     "name": "stdout",
     "output_type": "stream",
     "text": [
      "Answer: - People: 5\n",
      "- no-Hard_hats: 4\n",
      "- no-Gloves: 4\n",
      "- no-Reflective_vests: 4\n",
      "- no-Security_boots: 4\n"
     ]
    },
    {
     "name": "stderr",
     "output_type": "stream",
     "text": [
      "Setting `pad_token_id` to `eos_token_id`:None for open-end generation.\n"
     ]
    },
    {
     "name": "stdout",
     "output_type": "stream",
     "text": [
      "Answer: In the image, there are two people. Both of them are wearing high visibility vests, which are orange in color. They are also wearing hard hats, which are white in color. There are no gloves visible in the image. There are no security boots visible in the image.\n",
      "\n",
      "Based on the information provided, the following counts can be made:\n",
      "\n",
      "    - People: 2\n",
      "    - no-Hard_hats: 0\n",
      "    - no-Gloves: 0\n",
      "    - no-Reflective_vests: 0\n",
      "    - no-Security_boots: 0\n"
     ]
    },
    {
     "name": "stderr",
     "output_type": "stream",
     "text": [
      "Setting `pad_token_id` to `eos_token_id`:None for open-end generation.\n"
     ]
    },
    {
     "name": "stdout",
     "output_type": "stream",
     "text": [
      "Answer: - People: 4\n",
      "- no-Hard_hats: 4\n",
      "- no-Gloves: 4\n",
      "- no-Reflective_vests: 4\n",
      "- no-Security_boots: 4\n"
     ]
    },
    {
     "name": "stderr",
     "output_type": "stream",
     "text": [
      "Setting `pad_token_id` to `eos_token_id`:None for open-end generation.\n"
     ]
    },
    {
     "name": "stdout",
     "output_type": "stream",
     "text": [
      "Answer: - People: 6\n",
      "- no-Hard_hats: 5\n",
      "- no-Gloves: 5\n",
      "- no-Reflective_vests: 5\n",
      "- no-Security_boots: 5\n"
     ]
    },
    {
     "name": "stderr",
     "output_type": "stream",
     "text": [
      "Setting `pad_token_id` to `eos_token_id`:None for open-end generation.\n"
     ]
    },
    {
     "name": "stdout",
     "output_type": "stream",
     "text": [
      "Answer: - People: 3\n",
      "- no-Hard_hats: 0\n",
      "- no-Gloves: 0\n",
      "- no-Reflective_vests: 0\n",
      "- no-Security_boots: 0\n",
      "\n",
      "All three individuals are wearing hard hats, which are a type of PPE.\n"
     ]
    },
    {
     "name": "stderr",
     "output_type": "stream",
     "text": [
      "Setting `pad_token_id` to `eos_token_id`:None for open-end generation.\n"
     ]
    },
    {
     "name": "stdout",
     "output_type": "stream",
     "text": [
      "Answer: - People: 2\n",
      "- no-Hard_hats: 1\n",
      "- no-Gloves: 1\n",
      "- no-Reflective_vests: 1\n",
      "- no-Security_boots: 1\n"
     ]
    },
    {
     "name": "stderr",
     "output_type": "stream",
     "text": [
      "Setting `pad_token_id` to `eos_token_id`:None for open-end generation.\n"
     ]
    },
    {
     "name": "stdout",
     "output_type": "stream",
     "text": [
      "Answer: - People: 10\n",
      "- no-Hard_hats: 0\n",
      "- no-Gloves: 0\n",
      "- no-Reflective_vests: 0\n",
      "- no-Security_boots: 0\n"
     ]
    },
    {
     "name": "stderr",
     "output_type": "stream",
     "text": [
      "Setting `pad_token_id` to `eos_token_id`:None for open-end generation.\n"
     ]
    },
    {
     "name": "stdout",
     "output_type": "stream",
     "text": [
      "Answer: - People: 3\n",
      "- no-Hard_hats: 0\n",
      "- no-Gloves: 0\n",
      "- no-Reflective_vests: 0\n",
      "- no-Security_boots: 0\n",
      "\n",
      "All three individuals are wearing hard hats, which are a type of PPE.\n"
     ]
    },
    {
     "name": "stderr",
     "output_type": "stream",
     "text": [
      "Setting `pad_token_id` to `eos_token_id`:None for open-end generation.\n"
     ]
    },
    {
     "name": "stdout",
     "output_type": "stream",
     "text": [
      "Answer: - People: 1\n",
      "- no-Hard_hats: 0\n",
      "- no-Gloves: 0\n",
      "- no-Reflective_vests: 0\n",
      "- no-Security_boots: 0\n"
     ]
    },
    {
     "name": "stderr",
     "output_type": "stream",
     "text": [
      "Setting `pad_token_id` to `eos_token_id`:None for open-end generation.\n"
     ]
    },
    {
     "name": "stdout",
     "output_type": "stream",
     "text": [
      "Answer: - People: 1\n",
      "- no-Hard_hats: 0\n",
      "- no-Gloves: 0\n",
      "- no-Reflective_vests: 0\n",
      "- no-Security_boots: 0\n"
     ]
    },
    {
     "name": "stderr",
     "output_type": "stream",
     "text": [
      "Setting `pad_token_id` to `eos_token_id`:None for open-end generation.\n"
     ]
    },
    {
     "name": "stdout",
     "output_type": "stream",
     "text": [
      "Answer: - People: 4\n",
      "- no-Hard_hats: 1\n",
      "- no-Gloves: 1\n",
      "- no-Reflective_vests: 1\n",
      "- no-Security_boots: 1\n"
     ]
    },
    {
     "name": "stderr",
     "output_type": "stream",
     "text": [
      "Setting `pad_token_id` to `eos_token_id`:None for open-end generation.\n"
     ]
    },
    {
     "name": "stdout",
     "output_type": "stream",
     "text": [
      "Answer: - People: 14\n",
      "- no-Hard_hats: 0\n",
      "- no-Gloves: 0\n",
      "- no-Reflective_vests: 0\n",
      "- no-Security_boots: 0\n",
      "\n",
      "All individuals in the image are wearing hard hats, which are a type of PPE.\n"
     ]
    },
    {
     "name": "stderr",
     "output_type": "stream",
     "text": [
      "Setting `pad_token_id` to `eos_token_id`:None for open-end generation.\n"
     ]
    },
    {
     "name": "stdout",
     "output_type": "stream",
     "text": [
      "Answer: - People: 3\n",
      "- no-Hard_hats: 0\n",
      "- no-Gloves: 0\n",
      "- no-Reflective_vests: 0\n",
      "- no-Security_boots: 0\n",
      "\n",
      "In the image, all three individuals are wearing hard hats, which are a type of PPE.\n"
     ]
    },
    {
     "name": "stderr",
     "output_type": "stream",
     "text": [
      "Setting `pad_token_id` to `eos_token_id`:None for open-end generation.\n"
     ]
    },
    {
     "name": "stdout",
     "output_type": "stream",
     "text": [
      "Answer: - People: 5\n",
      "- no-Hard_hats: 1\n",
      "- no-Gloves: 1\n",
      "- no-Reflective_vests: 1\n",
      "- no-Security_boots: 1\n"
     ]
    },
    {
     "name": "stderr",
     "output_type": "stream",
     "text": [
      "Setting `pad_token_id` to `eos_token_id`:None for open-end generation.\n"
     ]
    },
    {
     "name": "stdout",
     "output_type": "stream",
     "text": [
      "Answer: In the image, there are three men standing in front of a red banner with Chinese characters. They are wearing casual clothing and do not appear to be wearing any PPE such as hard hats, gloves, or high visibility vests. There are no security boots visible in the image.\n",
      "\n",
      "Based on the information provided, the output would be:\n",
      "\n",
      "    - People: 3\n",
      "    - no-Hard_hats: 3\n",
      "    - no-Gloves: 3\n",
      "    - no-Reflective_vests: 3\n",
      "    - no-Security_boots: 3\n"
     ]
    },
    {
     "name": "stderr",
     "output_type": "stream",
     "text": [
      "Setting `pad_token_id` to `eos_token_id`:None for open-end generation.\n"
     ]
    },
    {
     "name": "stdout",
     "output_type": "stream",
     "text": [
      "Answer: - People: 2\n",
      "- no-Hard_hats: 0\n",
      "- no-Gloves: 0\n",
      "- no-Reflective_vests: 0\n",
      "- no-Security_boots: 0\n"
     ]
    },
    {
     "name": "stderr",
     "output_type": "stream",
     "text": [
      "Setting `pad_token_id` to `eos_token_id`:None for open-end generation.\n"
     ]
    },
    {
     "name": "stdout",
     "output_type": "stream",
     "text": [
      "Answer: - People: 2\n",
      "- no-Hard_hats: 1\n",
      "- no-Gloves: 1\n",
      "- no-Reflective_vests: 1\n",
      "- no-Security_boots: 1\n"
     ]
    },
    {
     "name": "stderr",
     "output_type": "stream",
     "text": [
      "Setting `pad_token_id` to `eos_token_id`:None for open-end generation.\n"
     ]
    },
    {
     "name": "stdout",
     "output_type": "stream",
     "text": [
      "Answer: - People: 5\n",
      "- no-Hard_hats: 2\n",
      "- no-Gloves: 2\n",
      "- no-Reflective_vests: 2\n",
      "- no-Security_boots: 2\n"
     ]
    },
    {
     "name": "stderr",
     "output_type": "stream",
     "text": [
      "Setting `pad_token_id` to `eos_token_id`:None for open-end generation.\n"
     ]
    },
    {
     "name": "stdout",
     "output_type": "stream",
     "text": [
      "Answer: In the image, there are three people.\n",
      "\n",
      "- People: 3\n",
      "- no-Hard_hats: 0\n",
      "- no-Gloves: 0\n",
      "- no-Reflective_vests: 0\n",
      "- no-Security_boots: 0\n",
      "\n",
      "All three individuals are wearing hard hats, gloves, and reflective vests. They are also wearing safety boots.\n"
     ]
    },
    {
     "name": "stderr",
     "output_type": "stream",
     "text": [
      "Setting `pad_token_id` to `eos_token_id`:None for open-end generation.\n"
     ]
    },
    {
     "name": "stdout",
     "output_type": "stream",
     "text": [
      "Answer: In the scene, there is one person. The person is wearing a red shirt, a red hard hat, and black pants. There are no visible gloves, reflective vests, or security boots in the scene.\n",
      "\n",
      "Based on the information provided, the output would be:\n",
      "\n",
      "- People: 1\n",
      "- no-Hard_hats: 0\n",
      "- no-Gloves: 1\n",
      "- no-Reflective_vests: 1\n",
      "- no-Security_boots: 1\n"
     ]
    },
    {
     "name": "stderr",
     "output_type": "stream",
     "text": [
      "Setting `pad_token_id` to `eos_token_id`:None for open-end generation.\n"
     ]
    },
    {
     "name": "stdout",
     "output_type": "stream",
     "text": [
      "Answer: - People: 5\n",
      "- no-Hard_hats: 3\n",
      "- no-Gloves: 3\n",
      "- no-Reflective_vests: 3\n",
      "- no-Security_boots: 3\n"
     ]
    },
    {
     "name": "stderr",
     "output_type": "stream",
     "text": [
      "Setting `pad_token_id` to `eos_token_id`:None for open-end generation.\n"
     ]
    },
    {
     "name": "stdout",
     "output_type": "stream",
     "text": [
      "Answer: - People: 2\n",
      "- no-Hard_hats: 1\n",
      "- no-Gloves: 1\n",
      "- no-Reflective_vests: 1\n",
      "- no-Security_boots: 1\n"
     ]
    },
    {
     "name": "stderr",
     "output_type": "stream",
     "text": [
      "Setting `pad_token_id` to `eos_token_id`:None for open-end generation.\n"
     ]
    },
    {
     "name": "stdout",
     "output_type": "stream",
     "text": [
      "Answer: - People: 3\n",
      "- no-Hard_hats: 3\n",
      "- no-Gloves: 3\n",
      "- no-Reflective_vests: 3\n",
      "- no-Security_boots: 3\n"
     ]
    },
    {
     "name": "stderr",
     "output_type": "stream",
     "text": [
      "Setting `pad_token_id` to `eos_token_id`:None for open-end generation.\n"
     ]
    },
    {
     "name": "stdout",
     "output_type": "stream",
     "text": [
      "Answer: - People: 1\n",
      "- no-Hard_hats: 0\n",
      "- no-Gloves: 0\n",
      "- no-Reflective_vests: 0\n",
      "- no-Security_boots: 0\n"
     ]
    },
    {
     "name": "stderr",
     "output_type": "stream",
     "text": [
      "Setting `pad_token_id` to `eos_token_id`:None for open-end generation.\n"
     ]
    },
    {
     "name": "stdout",
     "output_type": "stream",
     "text": [
      "Answer: - People: 3\n",
      "- no-Hard_hats: 2\n",
      "- no-Gloves: 2\n",
      "- no-Reflective_vests: 2\n",
      "- no-Security_boots: 2\n"
     ]
    },
    {
     "name": "stderr",
     "output_type": "stream",
     "text": [
      "Setting `pad_token_id` to `eos_token_id`:None for open-end generation.\n"
     ]
    },
    {
     "name": "stdout",
     "output_type": "stream",
     "text": [
      "Answer: - People: 7\n",
      "- no-Hard_hats: 0\n",
      "- no-Gloves: 0\n",
      "- no-Reflective_vests: 0\n",
      "- no-Security_boots: 0\n",
      "\n",
      "All individuals in the image are wearing hard hats, which are a type of PPE.\n"
     ]
    },
    {
     "name": "stderr",
     "output_type": "stream",
     "text": [
      "Setting `pad_token_id` to `eos_token_id`:None for open-end generation.\n"
     ]
    },
    {
     "name": "stdout",
     "output_type": "stream",
     "text": [
      "Answer: - People: 10\n",
      "- no-Hard_hats: 6\n",
      "- no-Gloves: 6\n",
      "- no-Reflective_vests: 6\n",
      "- no-Security_boots: 6\n",
      "\n",
      "Please note that the image shows a group of people, some of whom are wearing hard hats, gloves, and reflective vests, which are typical PPE for construction or industrial sites. The rest of the people are not wearing these items.\n"
     ]
    },
    {
     "name": "stderr",
     "output_type": "stream",
     "text": [
      "Setting `pad_token_id` to `eos_token_id`:None for open-end generation.\n"
     ]
    },
    {
     "name": "stdout",
     "output_type": "stream",
     "text": [
      "Answer: - People: 6\n",
      "- no-Hard_hats: 1\n",
      "- no-Gloves: 1\n",
      "- no-Reflective_vests: 1\n",
      "- no-Security_boots: 1\n"
     ]
    },
    {
     "name": "stderr",
     "output_type": "stream",
     "text": [
      "Setting `pad_token_id` to `eos_token_id`:None for open-end generation.\n"
     ]
    },
    {
     "name": "stdout",
     "output_type": "stream",
     "text": [
      "Answer: - People: 5\n",
      "- no-Hard_hats: 2\n",
      "- no-Gloves: 2\n",
      "- no-Reflective_vests: 2\n",
      "- no-Security_boots: 2\n",
      "\n",
      "Please note that the image shows a group of people, some of whom are wearing hard hats, gloves, and reflective vests, which are typical PPE for construction or industrial sites. However, there are two individuals in the group who are not wearing any of these items.\n"
     ]
    },
    {
     "name": "stderr",
     "output_type": "stream",
     "text": [
      "Setting `pad_token_id` to `eos_token_id`:None for open-end generation.\n"
     ]
    },
    {
     "name": "stdout",
     "output_type": "stream",
     "text": [
      "Answer: - People: 3\n",
      "- no-Hard_hats: 2\n",
      "- no-Gloves: 2\n",
      "- no-Reflective_vests: 2\n",
      "- no-Security_boots: 2\n"
     ]
    },
    {
     "name": "stderr",
     "output_type": "stream",
     "text": [
      "Setting `pad_token_id` to `eos_token_id`:None for open-end generation.\n"
     ]
    },
    {
     "name": "stdout",
     "output_type": "stream",
     "text": [
      "Answer: - People: 8\n",
      "- no-Hard_hats: 4\n",
      "- no-Gloves: 4\n",
      "- no-Reflective_vests: 4\n",
      "- no-Security_boots: 4\n"
     ]
    },
    {
     "name": "stderr",
     "output_type": "stream",
     "text": [
      "Setting `pad_token_id` to `eos_token_id`:None for open-end generation.\n"
     ]
    },
    {
     "name": "stdout",
     "output_type": "stream",
     "text": [
      "Answer: - People: 3\n",
      "- no-Hard_hats: 0\n",
      "- no-Gloves: 0\n",
      "- no-Reflective_vests: 0\n",
      "- no-Security_boots: 0\n"
     ]
    },
    {
     "name": "stderr",
     "output_type": "stream",
     "text": [
      "Setting `pad_token_id` to `eos_token_id`:None for open-end generation.\n"
     ]
    },
    {
     "name": "stdout",
     "output_type": "stream",
     "text": [
      "Answer: - People: 5\n",
      "- no-Hard_hats: 1\n",
      "- no-Gloves: 1\n",
      "- no-Reflective_vests: 1\n",
      "- no-Security_boots: 1\n"
     ]
    },
    {
     "name": "stderr",
     "output_type": "stream",
     "text": [
      "Setting `pad_token_id` to `eos_token_id`:None for open-end generation.\n"
     ]
    },
    {
     "name": "stdout",
     "output_type": "stream",
     "text": [
      "Answer: - People: 1\n",
      "- no-Hard_hats: 0\n",
      "- no-Gloves: 0\n",
      "- no-Reflective_vests: 0\n",
      "- no-Security_boots: 0\n",
      "Answer: - People: 8\n",
      "- no-Hard_hats: 0\n",
      "- no-Gloves: 0\n",
      "- no-Reflective_vests: 0\n",
      "- no-Security_boots: 0\n",
      "\n",
      "All individuals in the image are wearing hard hats, which are a form of PPE.\n"
     ]
    },
    {
     "name": "stderr",
     "output_type": "stream",
     "text": [
      "Setting `pad_token_id` to `eos_token_id`:None for open-end generation.\n",
      "Setting `pad_token_id` to `eos_token_id`:None for open-end generation.\n"
     ]
    },
    {
     "name": "stdout",
     "output_type": "stream",
     "text": [
      "Answer: - People: 2\n",
      "- no-Hard_hats: 0\n",
      "- no-Gloves: 0\n",
      "- no-Reflective_vests: 0\n",
      "- no-Security_boots: 0\n",
      "\n",
      "Both individuals in the image are wearing hard hats, which are a type of PPE.\n"
     ]
    },
    {
     "name": "stderr",
     "output_type": "stream",
     "text": [
      "Setting `pad_token_id` to `eos_token_id`:None for open-end generation.\n"
     ]
    },
    {
     "name": "stdout",
     "output_type": "stream",
     "text": [
      "Answer: - People: 4\n",
      "- no-Hard_hats: 2\n",
      "- no-Gloves: 2\n",
      "- no-Reflective_vests: 2\n",
      "- no-Security_boots: 2\n"
     ]
    },
    {
     "name": "stderr",
     "output_type": "stream",
     "text": [
      "Setting `pad_token_id` to `eos_token_id`:None for open-end generation.\n"
     ]
    },
    {
     "name": "stdout",
     "output_type": "stream",
     "text": [
      "Answer: - People: 6\n",
      "- no-Hard_hats: 1\n",
      "- no-Gloves: 1\n",
      "- no-Reflective_vests: 1\n",
      "- no-Security_boots: 1\n"
     ]
    },
    {
     "name": "stderr",
     "output_type": "stream",
     "text": [
      "Setting `pad_token_id` to `eos_token_id`:None for open-end generation.\n"
     ]
    },
    {
     "name": "stdout",
     "output_type": "stream",
     "text": [
      "Answer: - People: 2\n",
      "- no-Hard_hats: 0\n",
      "- no-Gloves: 0\n",
      "- no-Reflective_vests: 0\n",
      "- no-Security_boots: 0\n",
      "\n",
      "Both individuals in the image are wearing hard hats, which are a type of PPE. They are also wearing high visibility vests, which are a type of PPE. Additionally, they are wearing gloves, which are a type of PPE. They are also wearing security boots, which are a type of PPE.\n"
     ]
    },
    {
     "name": "stderr",
     "output_type": "stream",
     "text": [
      "Setting `pad_token_id` to `eos_token_id`:None for open-end generation.\n"
     ]
    },
    {
     "name": "stdout",
     "output_type": "stream",
     "text": [
      "Answer: - People: 6\n",
      "- no-Hard_hats: 2\n",
      "- no-Gloves: 2\n",
      "- no-Reflective_vests: 2\n",
      "- no-Security_boots: 2\n"
     ]
    },
    {
     "name": "stderr",
     "output_type": "stream",
     "text": [
      "Setting `pad_token_id` to `eos_token_id`:None for open-end generation.\n"
     ]
    },
    {
     "name": "stdout",
     "output_type": "stream",
     "text": [
      "Answer: - People: 5\n",
      "- no-Hard_hats: 2\n",
      "- no-Gloves: 2\n",
      "- no-Reflective_vests: 2\n",
      "- no-Security_boots: 2\n"
     ]
    },
    {
     "name": "stderr",
     "output_type": "stream",
     "text": [
      "Setting `pad_token_id` to `eos_token_id`:None for open-end generation.\n"
     ]
    },
    {
     "name": "stdout",
     "output_type": "stream",
     "text": [
      "Answer: - People: 10\n",
      "- no-Hard_hats: 1\n",
      "- no-Gloves: 1\n",
      "- no-Reflective_vests: 1\n",
      "- no-Security_boots: 1\n"
     ]
    },
    {
     "name": "stderr",
     "output_type": "stream",
     "text": [
      "Setting `pad_token_id` to `eos_token_id`:None for open-end generation.\n"
     ]
    },
    {
     "name": "stdout",
     "output_type": "stream",
     "text": [
      "Answer: - People: 1\n",
      "- no-Hard_hats: 0\n",
      "- no-Gloves: 0\n",
      "- no-Reflective_vests: 0\n",
      "- no-Security_boots: 0\n"
     ]
    },
    {
     "name": "stderr",
     "output_type": "stream",
     "text": [
      "Setting `pad_token_id` to `eos_token_id`:None for open-end generation.\n"
     ]
    },
    {
     "name": "stdout",
     "output_type": "stream",
     "text": [
      "Answer: - People: 6\n",
      "- no-Hard_hats: 6\n",
      "- no-Gloves: 6\n",
      "- no-Reflective_vests: 6\n",
      "- no-Security_boots: 6\n",
      "\n",
      "Please note that the image depicts a group of people sitting and using their cell phones, and there are no PPEs, gloves, security boots, or hard hats visible in the scene.\n"
     ]
    },
    {
     "name": "stderr",
     "output_type": "stream",
     "text": [
      "Setting `pad_token_id` to `eos_token_id`:None for open-end generation.\n"
     ]
    },
    {
     "name": "stdout",
     "output_type": "stream",
     "text": [
      "Answer: - People: 5\n",
      "- no-Hard_hats: 4\n",
      "- no-Gloves: 4\n",
      "- no-Reflective_vests: 4\n",
      "- no-Security_boots: 4\n"
     ]
    },
    {
     "name": "stderr",
     "output_type": "stream",
     "text": [
      "Setting `pad_token_id` to `eos_token_id`:None for open-end generation.\n"
     ]
    },
    {
     "name": "stdout",
     "output_type": "stream",
     "text": [
      "Answer: - People: 9\n",
      "- no-Hard_hats: 3\n",
      "- no-Gloves: 3\n",
      "- no-Reflective_vests: 3\n",
      "- no-Security_boots: 3\n",
      "\n",
      "Please note that the image provided is a stock photo and may not accurately represent real-life scenarios.\n"
     ]
    },
    {
     "name": "stderr",
     "output_type": "stream",
     "text": [
      "Setting `pad_token_id` to `eos_token_id`:None for open-end generation.\n"
     ]
    },
    {
     "name": "stdout",
     "output_type": "stream",
     "text": [
      "Answer: In the image, there is one person who appears to be wearing a hard hat, which is a type of PPE. The person is also wearing a high visibility vest, which is another type of PPE. There are no visible gloves or security boots in the image. Therefore, the count would be:\n",
      "\n",
      "    - People: 1\n",
      "    - no-Hard_hats: 0\n",
      "    - no-Gloves: 1\n",
      "    - no-Reflective_vests: 0\n",
      "    - no-Security_boots: 1\n"
     ]
    },
    {
     "name": "stderr",
     "output_type": "stream",
     "text": [
      "Setting `pad_token_id` to `eos_token_id`:None for open-end generation.\n"
     ]
    },
    {
     "name": "stdout",
     "output_type": "stream",
     "text": [
      "Answer: In the image, there are five people standing in front of a blue banner with Chinese characters. They are dressed in business attire, with the women wearing dresses and the man wearing a white shirt and black pants. There are no visible PPEs such as hard hats, gloves, reflective vests, or security boots in the scene.\n",
      "\n",
      "Based on the information provided, the answer would be:\n",
      "\n",
      "    - People: 5\n",
      "    - no-Hard_hats: 5\n",
      "    - no-Gloves: 5\n",
      "    - no-Reflective_vests: 5\n",
      "    - no-Security_boots: 5\n"
     ]
    },
    {
     "name": "stderr",
     "output_type": "stream",
     "text": [
      "Setting `pad_token_id` to `eos_token_id`:None for open-end generation.\n"
     ]
    },
    {
     "name": "stdout",
     "output_type": "stream",
     "text": [
      "Answer: - People: 1\n",
      "- no-Hard_hats: 1\n",
      "- no-Gloves: 1\n",
      "- no-Reflective_vests: 1\n",
      "- no-Security_boots: 1\n"
     ]
    },
    {
     "name": "stderr",
     "output_type": "stream",
     "text": [
      "Setting `pad_token_id` to `eos_token_id`:None for open-end generation.\n"
     ]
    },
    {
     "name": "stdout",
     "output_type": "stream",
     "text": [
      "Answer: - People: 2\n",
      "- no-Hard_hats: 0\n",
      "- no-Gloves: 0\n",
      "- no-Reflective_vests: 0\n",
      "- no-Security_boots: 0\n"
     ]
    },
    {
     "name": "stderr",
     "output_type": "stream",
     "text": [
      "Setting `pad_token_id` to `eos_token_id`:None for open-end generation.\n"
     ]
    },
    {
     "name": "stdout",
     "output_type": "stream",
     "text": [
      "Answer: - People: 2\n",
      "- no-Hard_hats: 0\n",
      "- no-Gloves: 0\n",
      "- no-Reflective_vests: 0\n",
      "- no-Security_boots: 0\n"
     ]
    },
    {
     "name": "stderr",
     "output_type": "stream",
     "text": [
      "Setting `pad_token_id` to `eos_token_id`:None for open-end generation.\n"
     ]
    },
    {
     "name": "stdout",
     "output_type": "stream",
     "text": [
      "Answer: - People: 5\n",
      "- no-Hard_hats: 1\n",
      "- no-Gloves: 1\n",
      "- no-Reflective_vests: 1\n",
      "- no-Security_boots: 1\n"
     ]
    },
    {
     "name": "stderr",
     "output_type": "stream",
     "text": [
      "Setting `pad_token_id` to `eos_token_id`:None for open-end generation.\n"
     ]
    },
    {
     "name": "stdout",
     "output_type": "stream",
     "text": [
      "Answer: - People: 1\n",
      "- no-Hard_hats: 0\n",
      "- no-Gloves: 0\n",
      "- no-Reflective_vests: 0\n",
      "- no-Security_boots: 0\n",
      "Answer: In the image, there is one person visible. The person is wearing a hard hat, which is a form of PPE. There is no visible evidence of the person wearing gloves, a reflective vest, or security boots. Therefore, the data for the image would be:\n",
      "\n",
      "    - People: 1\n",
      "    - no-Hard_hats: 0\n",
      "    - no-Gloves: 1\n",
      "    - no-Reflective_vests: 1\n",
      "    - no-Security_boots: 1\n"
     ]
    },
    {
     "name": "stderr",
     "output_type": "stream",
     "text": [
      "Setting `pad_token_id` to `eos_token_id`:None for open-end generation.\n",
      "Setting `pad_token_id` to `eos_token_id`:None for open-end generation.\n"
     ]
    },
    {
     "name": "stdout",
     "output_type": "stream",
     "text": [
      "Answer: - People: 1\n",
      "- no-Hard_hats: 0\n",
      "- no-Gloves: 0\n",
      "- no-Reflective_vests: 0\n",
      "- no-Security_boots: 0\n"
     ]
    },
    {
     "name": "stderr",
     "output_type": "stream",
     "text": [
      "Setting `pad_token_id` to `eos_token_id`:None for open-end generation.\n"
     ]
    },
    {
     "name": "stdout",
     "output_type": "stream",
     "text": [
      "Answer: - People: 2\n",
      "- no-Hard_hats: 0\n",
      "- no-Gloves: 0\n",
      "- no-Reflective_vests: 0\n",
      "- no-Security_boots: 0\n",
      "\n",
      "Both individuals in the image are wearing high visibility vests, which are orange in color. They are also wearing hard hats and gloves, and they are standing in a field with tall grass.\n"
     ]
    },
    {
     "name": "stderr",
     "output_type": "stream",
     "text": [
      "Setting `pad_token_id` to `eos_token_id`:None for open-end generation.\n"
     ]
    },
    {
     "name": "stdout",
     "output_type": "stream",
     "text": [
      "Answer: - People: 4\n",
      "- no-Hard_hats: 2\n",
      "- no-Gloves: 2\n",
      "- no-Reflective_vests: 2\n",
      "- no-Security_boots: 2\n",
      "\n",
      "Please note that the image may not provide a clear view of all the PPEs, and the count is based on the visible items.\n"
     ]
    },
    {
     "name": "stderr",
     "output_type": "stream",
     "text": [
      "Setting `pad_token_id` to `eos_token_id`:None for open-end generation.\n"
     ]
    },
    {
     "name": "stdout",
     "output_type": "stream",
     "text": [
      "Answer: - People: 10\n",
      "- no-Hard_hats: 1\n",
      "- no-Gloves: 1\n",
      "- no-Reflective_vests: 1\n",
      "- no-Security_boots: 1\n"
     ]
    },
    {
     "name": "stderr",
     "output_type": "stream",
     "text": [
      "Setting `pad_token_id` to `eos_token_id`:None for open-end generation.\n"
     ]
    },
    {
     "name": "stdout",
     "output_type": "stream",
     "text": [
      "Answer: - People: 2\n",
      "- no-Hard_hats: 0\n",
      "- no-Gloves: 0\n",
      "- no-Reflective_vests: 0\n",
      "- no-Security_boots: 0\n",
      "\n",
      "Both individuals in the image are wearing hard hats, which are a type of PPE.\n"
     ]
    },
    {
     "name": "stderr",
     "output_type": "stream",
     "text": [
      "Setting `pad_token_id` to `eos_token_id`:None for open-end generation.\n"
     ]
    },
    {
     "name": "stdout",
     "output_type": "stream",
     "text": [
      "Answer: - People: 6\n",
      "- no-Hard_hats: 4\n",
      "- no-Gloves: 4\n",
      "- no-Reflective_vests: 4\n",
      "- no-Security_boots: 4\n"
     ]
    },
    {
     "name": "stderr",
     "output_type": "stream",
     "text": [
      "Setting `pad_token_id` to `eos_token_id`:None for open-end generation.\n"
     ]
    },
    {
     "name": "stdout",
     "output_type": "stream",
     "text": [
      "Answer: - People: 4\n",
      "- no-Hard_hats: 0\n",
      "- no-Gloves: 0\n",
      "- no-Reflective_vests: 0\n",
      "- no-Security_boots: 0\n",
      "\n",
      "All four individuals are wearing hard hats, gloves, and reflective vests.\n"
     ]
    },
    {
     "name": "stderr",
     "output_type": "stream",
     "text": [
      "Setting `pad_token_id` to `eos_token_id`:None for open-end generation.\n"
     ]
    },
    {
     "name": "stdout",
     "output_type": "stream",
     "text": [
      "Answer: - People: 2\n",
      "- no-Hard_hats: 0\n",
      "- no-Gloves: 0\n",
      "- no-Reflective_vests: 0\n",
      "- no-Security_boots: 0\n"
     ]
    },
    {
     "name": "stderr",
     "output_type": "stream",
     "text": [
      "Setting `pad_token_id` to `eos_token_id`:None for open-end generation.\n"
     ]
    },
    {
     "name": "stdout",
     "output_type": "stream",
     "text": [
      "Answer: - People: 6\n",
      "- no-Hard_hats: 2\n",
      "- no-Gloves: 2\n",
      "- no-Reflective_vests: 2\n",
      "- no-Security_boots: 2\n"
     ]
    },
    {
     "name": "stderr",
     "output_type": "stream",
     "text": [
      "Setting `pad_token_id` to `eos_token_id`:None for open-end generation.\n"
     ]
    },
    {
     "name": "stdout",
     "output_type": "stream",
     "text": [
      "Answer: - People: 3\n",
      "- no-Hard_hats: 2\n",
      "- no-Gloves: 2\n",
      "- no-Reflective_vests: 2\n",
      "- no-Security_boots: 2\n"
     ]
    },
    {
     "name": "stderr",
     "output_type": "stream",
     "text": [
      "Setting `pad_token_id` to `eos_token_id`:None for open-end generation.\n"
     ]
    },
    {
     "name": "stdout",
     "output_type": "stream",
     "text": [
      "Answer: - People: 6\n",
      "- no-Hard_hats: 6\n",
      "- no-Gloves: 6\n",
      "- no-Reflective_vests: 6\n",
      "- no-Security_boots: 6\n",
      "\n",
      "Please note that the image depicts a classroom setting with children and a teacher, and there are no PPEs, gloves, hard hats, reflective vests, or security boots visible in the scene.\n"
     ]
    },
    {
     "name": "stderr",
     "output_type": "stream",
     "text": [
      "Setting `pad_token_id` to `eos_token_id`:None for open-end generation.\n"
     ]
    },
    {
     "name": "stdout",
     "output_type": "stream",
     "text": [
      "Answer: - People: 1\n",
      "- no-Hard_hats: 0\n",
      "- no-Gloves: 0\n",
      "- no-Reflective_vests: 0\n",
      "- no-Security_boots: 0\n"
     ]
    },
    {
     "name": "stderr",
     "output_type": "stream",
     "text": [
      "Setting `pad_token_id` to `eos_token_id`:None for open-end generation.\n"
     ]
    },
    {
     "name": "stdout",
     "output_type": "stream",
     "text": [
      "Answer: - People: 6\n",
      "- no-Hard_hats: 2\n",
      "- no-Gloves: 2\n",
      "- no-Reflective_vests: 2\n",
      "- no-Security_boots: 2\n"
     ]
    },
    {
     "name": "stderr",
     "output_type": "stream",
     "text": [
      "Setting `pad_token_id` to `eos_token_id`:None for open-end generation.\n"
     ]
    },
    {
     "name": "stdout",
     "output_type": "stream",
     "text": [
      "Answer: - People: 2\n",
      "- no-Hard_hats: 0\n",
      "- no-Gloves: 0\n",
      "- no-Reflective_vests: 0\n",
      "- no-Security_boots: 0\n",
      "\n",
      "Both individuals in the image are wearing hard hats, which are a form of PPE.\n"
     ]
    },
    {
     "name": "stderr",
     "output_type": "stream",
     "text": [
      "Setting `pad_token_id` to `eos_token_id`:None for open-end generation.\n"
     ]
    },
    {
     "name": "stdout",
     "output_type": "stream",
     "text": [
      "Answer: - People: 1\n",
      "- no-Hard_hats: 0\n",
      "- no-Gloves: 0\n",
      "- no-Reflective_vests: 0\n",
      "- no-Security_boots: 0\n"
     ]
    },
    {
     "name": "stderr",
     "output_type": "stream",
     "text": [
      "Setting `pad_token_id` to `eos_token_id`:None for open-end generation.\n"
     ]
    },
    {
     "name": "stdout",
     "output_type": "stream",
     "text": [
      "Answer: - People: 2\n",
      "- no-Hard_hats: 0\n",
      "- no-Gloves: 0\n",
      "- no-Reflective_vests: 0\n",
      "- no-Security_boots: 0\n",
      "\n",
      "Both individuals in the image are wearing hard hats, which are a form of PPE.\n"
     ]
    },
    {
     "name": "stderr",
     "output_type": "stream",
     "text": [
      "Setting `pad_token_id` to `eos_token_id`:None for open-end generation.\n"
     ]
    },
    {
     "name": "stdout",
     "output_type": "stream",
     "text": [
      "Answer: - People: 3\n",
      "- no-Hard_hats: 0\n",
      "- no-Gloves: 0\n",
      "- no-Reflective_vests: 0\n",
      "- no-Security_boots: 0\n",
      "\n",
      "All three individuals are wearing hard hats, which are a type of PPE. They are also wearing high visibility vests, which are a type of PPE. Additionally, they are wearing gloves, which are a type of PPE. The boots they are wearing are not specifically described as security boots, but they are likely to be sturdy work boots, which are a type of PPE.\n"
     ]
    },
    {
     "name": "stderr",
     "output_type": "stream",
     "text": [
      "Setting `pad_token_id` to `eos_token_id`:None for open-end generation.\n"
     ]
    },
    {
     "name": "stdout",
     "output_type": "stream",
     "text": [
      "Answer: - People: 4\n",
      "- no-Hard_hats: 0\n",
      "- no-Gloves: 0\n",
      "- no-Reflective_vests: 0\n",
      "- no-Security_boots: 0\n",
      "\n",
      "All four individuals are wearing hard hats, which are a type of PPE.\n"
     ]
    },
    {
     "name": "stderr",
     "output_type": "stream",
     "text": [
      "Setting `pad_token_id` to `eos_token_id`:None for open-end generation.\n"
     ]
    },
    {
     "name": "stdout",
     "output_type": "stream",
     "text": [
      "Answer: - People: 1\n",
      "- no-Hard_hats: 1\n",
      "- no-Gloves: 1\n",
      "- no-Reflective_vests: 1\n",
      "- no-Security_boots: 1\n"
     ]
    },
    {
     "name": "stderr",
     "output_type": "stream",
     "text": [
      "Setting `pad_token_id` to `eos_token_id`:None for open-end generation.\n"
     ]
    },
    {
     "name": "stdout",
     "output_type": "stream",
     "text": [
      "Answer: - People: 3\n",
      "- no-Hard_hats: 0\n",
      "- no-Gloves: 0\n",
      "- no-Reflective_vests: 0\n",
      "- no-Security_boots: 0\n",
      "\n",
      "All three individuals are wearing hard hats, which are a type of PPE.\n"
     ]
    },
    {
     "name": "stderr",
     "output_type": "stream",
     "text": [
      "Setting `pad_token_id` to `eos_token_id`:None for open-end generation.\n"
     ]
    },
    {
     "name": "stdout",
     "output_type": "stream",
     "text": [
      "Answer: Based on the image provided, here is the information:\n",
      "\n",
      "- People: 10\n",
      "- no-Hard_hats: 10\n",
      "- no-Gloves: 10\n",
      "- no-Reflective_vests: 10\n",
      "- no-Security_boots: 10\n",
      "\n",
      "Please note that the image does not show any PPEs, high visibility vests, gloves, security boots, or hard hats being worn by the individuals present.\n"
     ]
    },
    {
     "name": "stderr",
     "output_type": "stream",
     "text": [
      "Setting `pad_token_id` to `eos_token_id`:None for open-end generation.\n"
     ]
    },
    {
     "name": "stdout",
     "output_type": "stream",
     "text": [
      "Answer: - People: 4\n",
      "- no-Hard_hats: 1\n",
      "- no-Gloves: 1\n",
      "- no-Reflective_vests: 1\n",
      "- no-Security_boots: 1\n"
     ]
    },
    {
     "name": "stderr",
     "output_type": "stream",
     "text": [
      "Setting `pad_token_id` to `eos_token_id`:None for open-end generation.\n"
     ]
    },
    {
     "name": "stdout",
     "output_type": "stream",
     "text": [
      "Answer: - People: 2\n",
      "- no-Hard_hats: 0\n",
      "- no-Gloves: 0\n",
      "- no-Reflective_vests: 0\n",
      "- no-Security_boots: 0\n"
     ]
    },
    {
     "name": "stderr",
     "output_type": "stream",
     "text": [
      "Setting `pad_token_id` to `eos_token_id`:None for open-end generation.\n"
     ]
    },
    {
     "name": "stdout",
     "output_type": "stream",
     "text": [
      "Answer: - People: 5\n",
      "- no-Hard_hats: 2\n",
      "- no-Gloves: 2\n",
      "- no-Reflective_vests: 2\n",
      "- no-Security_boots: 2\n"
     ]
    },
    {
     "name": "stderr",
     "output_type": "stream",
     "text": [
      "Setting `pad_token_id` to `eos_token_id`:None for open-end generation.\n"
     ]
    },
    {
     "name": "stdout",
     "output_type": "stream",
     "text": [
      "Answer: - People: 4\n",
      "- no-Hard_hats: 1\n",
      "- no-Gloves: 1\n",
      "- no-Reflective_vests: 1\n",
      "- no-Security_boots: 1\n"
     ]
    },
    {
     "name": "stderr",
     "output_type": "stream",
     "text": [
      "Setting `pad_token_id` to `eos_token_id`:None for open-end generation.\n"
     ]
    },
    {
     "name": "stdout",
     "output_type": "stream",
     "text": [
      "Answer: - People: 2\n",
      "- no-Hard_hats: 1\n",
      "- no-Gloves: 1\n",
      "- no-Reflective_vests: 1\n",
      "- no-Security_boots: 1\n"
     ]
    },
    {
     "name": "stderr",
     "output_type": "stream",
     "text": [
      "Setting `pad_token_id` to `eos_token_id`:None for open-end generation.\n"
     ]
    },
    {
     "name": "stdout",
     "output_type": "stream",
     "text": [
      "Answer: Based on the image provided, here is the information:\n",
      "\n",
      "- People: 5\n",
      "- no-Hard_hats: 4\n",
      "- no-Gloves: 4\n",
      "- no-Reflective_vests: 4\n",
      "- no-Security_boots: 4\n",
      "\n",
      "Please note that the individuals in the image are not wearing any visible PPE, such as hard hats, gloves, reflective vests, or security boots.\n"
     ]
    },
    {
     "name": "stderr",
     "output_type": "stream",
     "text": [
      "Setting `pad_token_id` to `eos_token_id`:None for open-end generation.\n"
     ]
    },
    {
     "name": "stdout",
     "output_type": "stream",
     "text": [
      "Answer: - People: 8\n",
      "- no-Hard_hats: 7\n",
      "- no-Gloves: 7\n",
      "- no-Reflective_vests: 7\n",
      "- no-Security_boots: 7\n"
     ]
    },
    {
     "name": "stderr",
     "output_type": "stream",
     "text": [
      "Setting `pad_token_id` to `eos_token_id`:None for open-end generation.\n"
     ]
    },
    {
     "name": "stdout",
     "output_type": "stream",
     "text": [
      "Answer: - People: 3\n",
      "- no-Hard_hats: 0\n",
      "- no-Gloves: 0\n",
      "- no-Reflective_vests: 0\n",
      "- no-Security_boots: 0\n",
      "\n",
      "All three individuals are wearing hard hats, which are a type of PPE.\n"
     ]
    },
    {
     "name": "stderr",
     "output_type": "stream",
     "text": [
      "Setting `pad_token_id` to `eos_token_id`:None for open-end generation.\n"
     ]
    },
    {
     "name": "stdout",
     "output_type": "stream",
     "text": [
      "Answer: - People: 3\n",
      "- no-Hard_hats: 0\n",
      "- no-Gloves: 0\n",
      "- no-Reflective_vests: 0\n",
      "- no-Security_boots: 0\n"
     ]
    },
    {
     "name": "stderr",
     "output_type": "stream",
     "text": [
      "Setting `pad_token_id` to `eos_token_id`:None for open-end generation.\n"
     ]
    },
    {
     "name": "stdout",
     "output_type": "stream",
     "text": [
      "Answer: - People: 1\n",
      "- no-Hard_hats: 0\n",
      "- no-Gloves: 0\n",
      "- no-Reflective_vests: 0\n",
      "- no-Security_boots: 0\n"
     ]
    },
    {
     "name": "stderr",
     "output_type": "stream",
     "text": [
      "Setting `pad_token_id` to `eos_token_id`:None for open-end generation.\n"
     ]
    },
    {
     "name": "stdout",
     "output_type": "stream",
     "text": [
      "Answer: - People: 10\n",
      "- no-Hard_hats: 3\n",
      "- no-Gloves: 3\n",
      "- no-Reflective_vests: 3\n",
      "- no-Security_boots: 3\n"
     ]
    },
    {
     "name": "stderr",
     "output_type": "stream",
     "text": [
      "Setting `pad_token_id` to `eos_token_id`:None for open-end generation.\n"
     ]
    },
    {
     "name": "stdout",
     "output_type": "stream",
     "text": [
      "Answer: - People: 5\n",
      "- no-Hard_hats: 1\n",
      "- no-Gloves: 1\n",
      "- no-Reflective_vests: 1\n",
      "- no-Security_boots: 1\n"
     ]
    },
    {
     "name": "stderr",
     "output_type": "stream",
     "text": [
      "Setting `pad_token_id` to `eos_token_id`:None for open-end generation.\n"
     ]
    },
    {
     "name": "stdout",
     "output_type": "stream",
     "text": [
      "Answer: - People: 4\n",
      "- no-Hard_hats: 3\n",
      "- no-Gloves: 3\n",
      "- no-Reflective_vests: 3\n",
      "- no-Security_boots: 3\n"
     ]
    },
    {
     "name": "stderr",
     "output_type": "stream",
     "text": [
      "Setting `pad_token_id` to `eos_token_id`:None for open-end generation.\n"
     ]
    },
    {
     "name": "stdout",
     "output_type": "stream",
     "text": [
      "Answer: - People: 5\n",
      "- no-Hard_hats: 2\n",
      "- no-Gloves: 2\n",
      "- no-Reflective_vests: 2\n",
      "- no-Security_boots: 2\n"
     ]
    },
    {
     "name": "stderr",
     "output_type": "stream",
     "text": [
      "Setting `pad_token_id` to `eos_token_id`:None for open-end generation.\n"
     ]
    },
    {
     "name": "stdout",
     "output_type": "stream",
     "text": [
      "Answer: - People: 4\n",
      "- no-Hard_hats: 0\n",
      "- no-Gloves: 0\n",
      "- no-Reflective_vests: 0\n",
      "- no-Security_boots: 0\n",
      "\n",
      "All four individuals are wearing hard hats, which are a form of PPE.\n"
     ]
    },
    {
     "name": "stderr",
     "output_type": "stream",
     "text": [
      "Setting `pad_token_id` to `eos_token_id`:None for open-end generation.\n"
     ]
    },
    {
     "name": "stdout",
     "output_type": "stream",
     "text": [
      "Answer: - People: 1\n",
      "- no-Hard_hats: 0\n",
      "- no-Gloves: 0\n",
      "- no-Reflective_vests: 0\n",
      "- no-Security_boots: 0\n",
      "Answer: - People: 5\n",
      "- no-Hard_hats: 4\n",
      "- no-Gloves: 4\n",
      "- no-Reflective_vests: 4\n",
      "- no-Security_boots: 4\n"
     ]
    },
    {
     "name": "stderr",
     "output_type": "stream",
     "text": [
      "Setting `pad_token_id` to `eos_token_id`:None for open-end generation.\n",
      "Setting `pad_token_id` to `eos_token_id`:None for open-end generation.\n"
     ]
    },
    {
     "name": "stdout",
     "output_type": "stream",
     "text": [
      "Answer: - People: 4\n",
      "- no-Hard_hats: 1\n",
      "- no-Gloves: 1\n",
      "- no-Reflective_vests: 1\n",
      "- no-Security_boots: 1\n"
     ]
    },
    {
     "name": "stderr",
     "output_type": "stream",
     "text": [
      "Setting `pad_token_id` to `eos_token_id`:None for open-end generation.\n"
     ]
    },
    {
     "name": "stdout",
     "output_type": "stream",
     "text": [
      "Answer: - People: 1\n",
      "- no-Hard_hats: 0\n",
      "- no-Gloves: 0\n",
      "- no-Reflective_vests: 0\n",
      "- no-Security_boots: 0\n"
     ]
    },
    {
     "name": "stderr",
     "output_type": "stream",
     "text": [
      "Setting `pad_token_id` to `eos_token_id`:None for open-end generation.\n"
     ]
    },
    {
     "name": "stdout",
     "output_type": "stream",
     "text": [
      "Answer: - People: 4\n",
      "- no-Hard_hats: 0\n",
      "- no-Gloves: 0\n",
      "- no-Reflective_vests: 0\n",
      "- no-Security_boots: 0\n",
      "\n",
      "All four individuals are wearing hard hats, which are a type of PPE.\n"
     ]
    },
    {
     "name": "stderr",
     "output_type": "stream",
     "text": [
      "Setting `pad_token_id` to `eos_token_id`:None for open-end generation.\n"
     ]
    },
    {
     "name": "stdout",
     "output_type": "stream",
     "text": [
      "Answer: - People: 3\n",
      "- no-Hard_hats: 0\n",
      "- no-Gloves: 0\n",
      "- no-Reflective_vests: 0\n",
      "- no-Security_boots: 0\n"
     ]
    },
    {
     "name": "stderr",
     "output_type": "stream",
     "text": [
      "Setting `pad_token_id` to `eos_token_id`:None for open-end generation.\n"
     ]
    },
    {
     "name": "stdout",
     "output_type": "stream",
     "text": [
      "Answer: - People: 4\n",
      "- no-Hard_hats: 1\n",
      "- no-Gloves: 1\n",
      "- no-Reflective_vests: 1\n",
      "- no-Security_boots: 1\n"
     ]
    },
    {
     "name": "stderr",
     "output_type": "stream",
     "text": [
      "Setting `pad_token_id` to `eos_token_id`:None for open-end generation.\n"
     ]
    },
    {
     "name": "stdout",
     "output_type": "stream",
     "text": [
      "Answer: - People: 7\n",
      "- no-Hard_hats: 0\n",
      "- no-Gloves: 0\n",
      "- no-Reflective_vests: 0\n",
      "- no-Security_boots: 0\n",
      "\n",
      "All individuals in the image are wearing hard hats, which are a form of PPE.\n"
     ]
    },
    {
     "name": "stderr",
     "output_type": "stream",
     "text": [
      "Setting `pad_token_id` to `eos_token_id`:None for open-end generation.\n"
     ]
    },
    {
     "name": "stdout",
     "output_type": "stream",
     "text": [
      "Answer: - People: 2\n",
      "- no-Hard_hats: 0\n",
      "- no-Gloves: 0\n",
      "- no-Reflective_vests: 0\n",
      "- no-Security_boots: 0\n"
     ]
    },
    {
     "name": "stderr",
     "output_type": "stream",
     "text": [
      "Setting `pad_token_id` to `eos_token_id`:None for open-end generation.\n"
     ]
    },
    {
     "name": "stdout",
     "output_type": "stream",
     "text": [
      "Answer: - People: 7\n",
      "- no-Hard_hats: 0\n",
      "- no-Gloves: 0\n",
      "- no-Reflective_vests: 0\n",
      "- no-Security_boots: 0\n",
      "\n",
      "All individuals in the image are wearing hard hats, which are a form of PPE.\n"
     ]
    },
    {
     "name": "stderr",
     "output_type": "stream",
     "text": [
      "Setting `pad_token_id` to `eos_token_id`:None for open-end generation.\n"
     ]
    },
    {
     "name": "stdout",
     "output_type": "stream",
     "text": [
      "Answer: - People: 6\n",
      "- no-Hard_hats: 0\n",
      "- no-Gloves: 0\n",
      "- no-Reflective_vests: 0\n",
      "- no-Security_boots: 0\n",
      "\n",
      "All individuals in the image are wearing hard hats, which are a form of PPE.\n"
     ]
    },
    {
     "name": "stderr",
     "output_type": "stream",
     "text": [
      "Setting `pad_token_id` to `eos_token_id`:None for open-end generation.\n"
     ]
    },
    {
     "name": "stdout",
     "output_type": "stream",
     "text": [
      "Answer: - People: 10\n",
      "- no-Hard_hats: 0\n",
      "- no-Gloves: 0\n",
      "- no-Reflective_vests: 0\n",
      "- no-Security_boots: 0\n",
      "\n",
      "All individuals in the image are wearing hard hats, which are a form of PPE.\n",
      "Answer: - People: 7\n",
      "- no-Hard_hats: 7\n",
      "- no-Gloves: 7\n",
      "- no-Reflective_vests: 7\n",
      "- no-Security_boots: 7\n"
     ]
    },
    {
     "name": "stderr",
     "output_type": "stream",
     "text": [
      "Setting `pad_token_id` to `eos_token_id`:None for open-end generation.\n",
      "Setting `pad_token_id` to `eos_token_id`:None for open-end generation.\n"
     ]
    },
    {
     "name": "stdout",
     "output_type": "stream",
     "text": [
      "Answer: - People: 5\n",
      "- no-Hard_hats: 0\n",
      "- no-Gloves: 0\n",
      "- no-Reflective_vests: 0\n",
      "- no-Security_boots: 0\n",
      "\n",
      "All five individuals in the image are wearing hard hats, which are a type of PPE.\n"
     ]
    },
    {
     "name": "stderr",
     "output_type": "stream",
     "text": [
      "Setting `pad_token_id` to `eos_token_id`:None for open-end generation.\n"
     ]
    },
    {
     "name": "stdout",
     "output_type": "stream",
     "text": [
      "Answer: In the image, there is one person who is wearing a hard hat, a high visibility vest, and is holding a clipboard. There are no other people visible in the image. Therefore, the values for the variables you've provided are:\n",
      "\n",
      "    - People: 1\n",
      "    - no-Hard_hats: 0\n",
      "    - no-Gloves: 0\n",
      "    - no-Reflective_vests: 0\n",
      "    - no-Security_boots: 0\n"
     ]
    },
    {
     "name": "stderr",
     "output_type": "stream",
     "text": [
      "Setting `pad_token_id` to `eos_token_id`:None for open-end generation.\n"
     ]
    },
    {
     "name": "stdout",
     "output_type": "stream",
     "text": [
      "Answer: - People: 2\n",
      "- no-Hard_hats: 0\n",
      "- no-Gloves: 0\n",
      "- no-Reflective_vests: 0\n",
      "- no-Security_boots: 0\n",
      "\n",
      "In the image, both individuals are wearing hard hats, which are a type of PPE. There are no gloves, reflective vests, or security boots visible in the image.\n"
     ]
    },
    {
     "name": "stderr",
     "output_type": "stream",
     "text": [
      "Setting `pad_token_id` to `eos_token_id`:None for open-end generation.\n"
     ]
    },
    {
     "name": "stdout",
     "output_type": "stream",
     "text": [
      "Answer: - People: 4\n",
      "- no-Hard_hats: 0\n",
      "- no-Gloves: 0\n",
      "- no-Reflective_vests: 0\n",
      "- no-Security_boots: 0\n",
      "\n",
      "All four individuals are wearing hard hats, which are a form of PPE.\n"
     ]
    },
    {
     "name": "stderr",
     "output_type": "stream",
     "text": [
      "Setting `pad_token_id` to `eos_token_id`:None for open-end generation.\n"
     ]
    },
    {
     "name": "stdout",
     "output_type": "stream",
     "text": [
      "Answer: - People: 7\n",
      "- no-Hard_hats: 2\n",
      "- no-Gloves: 2\n",
      "- no-Reflective_vests: 2\n",
      "- no-Security_boots: 2\n"
     ]
    },
    {
     "name": "stderr",
     "output_type": "stream",
     "text": [
      "Setting `pad_token_id` to `eos_token_id`:None for open-end generation.\n"
     ]
    },
    {
     "name": "stdout",
     "output_type": "stream",
     "text": [
      "Answer: - People: 15\n",
      "- no-Hard_hats: 0\n",
      "- no-Gloves: 0\n",
      "- no-Reflective_vests: 0\n",
      "- no-Security_boots: 0\n"
     ]
    },
    {
     "name": "stderr",
     "output_type": "stream",
     "text": [
      "Setting `pad_token_id` to `eos_token_id`:None for open-end generation.\n"
     ]
    },
    {
     "name": "stdout",
     "output_type": "stream",
     "text": [
      "Answer: - People: 6\n",
      "- no-Hard_hats: 0\n",
      "- no-Gloves: 0\n",
      "- no-Reflective_vests: 0\n",
      "- no-Security_boots: 0\n"
     ]
    },
    {
     "name": "stderr",
     "output_type": "stream",
     "text": [
      "Setting `pad_token_id` to `eos_token_id`:None for open-end generation.\n"
     ]
    },
    {
     "name": "stdout",
     "output_type": "stream",
     "text": [
      "Answer: - People: 5\n",
      "- no-Hard_hats: 0\n",
      "- no-Gloves: 0\n",
      "- no-Reflective_vests: 0\n",
      "- no-Security_boots: 0\n",
      "\n",
      "All the workers are wearing hard hats, gloves, reflective vests, and security boots.\n"
     ]
    },
    {
     "name": "stderr",
     "output_type": "stream",
     "text": [
      "Setting `pad_token_id` to `eos_token_id`:None for open-end generation.\n"
     ]
    },
    {
     "name": "stdout",
     "output_type": "stream",
     "text": [
      "Answer: - People: 5\n",
      "- no-Hard_hats: 0\n",
      "- no-Gloves: 0\n",
      "- no-Reflective_vests: 0\n",
      "- no-Security_boots: 0\n",
      "\n",
      "All individuals in the image are wearing hard hats, gloves, and high visibility vests.\n"
     ]
    },
    {
     "name": "stderr",
     "output_type": "stream",
     "text": [
      "Setting `pad_token_id` to `eos_token_id`:None for open-end generation.\n"
     ]
    },
    {
     "name": "stdout",
     "output_type": "stream",
     "text": [
      "Answer: - People: 2\n",
      "- no-Hard_hats: 1\n",
      "- no-Gloves: 1\n",
      "- no-Reflective_vests: 1\n",
      "- no-Security_boots: 1\n"
     ]
    },
    {
     "name": "stderr",
     "output_type": "stream",
     "text": [
      "Setting `pad_token_id` to `eos_token_id`:None for open-end generation.\n"
     ]
    },
    {
     "name": "stdout",
     "output_type": "stream",
     "text": [
      "Answer: - People: 13\n",
      "- no-Hard_hats: 12\n",
      "- no-Gloves: 13\n",
      "- no-Reflective_vests: 13\n",
      "- no-Security_boots: 13\n"
     ]
    },
    {
     "name": "stderr",
     "output_type": "stream",
     "text": [
      "Setting `pad_token_id` to `eos_token_id`:None for open-end generation.\n"
     ]
    },
    {
     "name": "stdout",
     "output_type": "stream",
     "text": [
      "Answer: - People: 1\n",
      "- no-Hard_hats: 0\n",
      "- no-Gloves: 0\n",
      "- no-Reflective_vests: 0\n",
      "- no-Security_boots: 0\n"
     ]
    },
    {
     "name": "stderr",
     "output_type": "stream",
     "text": [
      "Setting `pad_token_id` to `eos_token_id`:None for open-end generation.\n"
     ]
    },
    {
     "name": "stdout",
     "output_type": "stream",
     "text": [
      "Answer: - People: 3\n",
      "- no-Hard_hats: 0\n",
      "- no-Gloves: 0\n",
      "- no-Reflective_vests: 0\n",
      "- no-Security_boots: 0\n"
     ]
    },
    {
     "name": "stderr",
     "output_type": "stream",
     "text": [
      "Setting `pad_token_id` to `eos_token_id`:None for open-end generation.\n"
     ]
    },
    {
     "name": "stdout",
     "output_type": "stream",
     "text": [
      "Answer: - People: 5\n",
      "- no-Hard_hats: 0\n",
      "- no-Gloves: 0\n",
      "- no-Reflective_vests: 0\n",
      "- no-Security_boots: 0\n"
     ]
    },
    {
     "name": "stderr",
     "output_type": "stream",
     "text": [
      "Setting `pad_token_id` to `eos_token_id`:None for open-end generation.\n"
     ]
    },
    {
     "name": "stdout",
     "output_type": "stream",
     "text": [
      "Answer: In the image, there is one person wearing a hard hat, which is a type of PPE. There is no visible evidence of gloves, security boots, or reflective vests. Therefore, the count would be:\n",
      "\n",
      "    - People: 1\n",
      "    - no-Hard_hats: 0\n",
      "    - no-Gloves: 1\n",
      "    - no-Reflective_vests: 1\n",
      "    - no-Security_boots: 1\n"
     ]
    },
    {
     "name": "stderr",
     "output_type": "stream",
     "text": [
      "Setting `pad_token_id` to `eos_token_id`:None for open-end generation.\n"
     ]
    },
    {
     "name": "stdout",
     "output_type": "stream",
     "text": [
      "Answer: - People: 2\n",
      "- no-Hard_hats: 0\n",
      "- no-Gloves: 0\n",
      "- no-Reflective_vests: 0\n",
      "- no-Security_boots: 0\n"
     ]
    },
    {
     "name": "stderr",
     "output_type": "stream",
     "text": [
      "Setting `pad_token_id` to `eos_token_id`:None for open-end generation.\n"
     ]
    },
    {
     "name": "stdout",
     "output_type": "stream",
     "text": [
      "Answer: - People: 1\n",
      "- no-Hard_hats: 0\n",
      "- no-Gloves: 0\n",
      "- no-Reflective_vests: 0\n",
      "- no-Security_boots: 0\n"
     ]
    },
    {
     "name": "stderr",
     "output_type": "stream",
     "text": [
      "Setting `pad_token_id` to `eos_token_id`:None for open-end generation.\n"
     ]
    },
    {
     "name": "stdout",
     "output_type": "stream",
     "text": [
      "Answer: - People: 3\n",
      "- no-Hard_hats: 0\n",
      "- no-Gloves: 0\n",
      "- no-Reflective_vests: 0\n",
      "- no-Security_boots: 0\n",
      "\n",
      "All three individuals are wearing hard hats, which are a type of PPE.\n"
     ]
    },
    {
     "name": "stderr",
     "output_type": "stream",
     "text": [
      "Setting `pad_token_id` to `eos_token_id`:None for open-end generation.\n"
     ]
    },
    {
     "name": "stdout",
     "output_type": "stream",
     "text": [
      "Answer: - People: 3\n",
      "- no-Hard_hats: 1\n",
      "- no-Gloves: 1\n",
      "- no-Reflective_vests: 1\n",
      "- no-Security_boots: 1\n"
     ]
    },
    {
     "name": "stderr",
     "output_type": "stream",
     "text": [
      "Setting `pad_token_id` to `eos_token_id`:None for open-end generation.\n"
     ]
    },
    {
     "name": "stdout",
     "output_type": "stream",
     "text": [
      "Answer: - People: 1\n",
      "- no-Hard_hats: 0\n",
      "- no-Gloves: 0\n",
      "- no-Reflective_vests: 0\n",
      "- no-Security_boots: 0\n",
      "\n",
      "The person in the image is wearing a hard hat, which is a type of PPE.\n"
     ]
    },
    {
     "name": "stderr",
     "output_type": "stream",
     "text": [
      "Setting `pad_token_id` to `eos_token_id`:None for open-end generation.\n"
     ]
    },
    {
     "name": "stdout",
     "output_type": "stream",
     "text": [
      "Answer: - People: 12\n",
      "- no-Hard_hats: 0\n",
      "- no-Gloves: 0\n",
      "- no-Reflective_vests: 0\n",
      "- no-Security_boots: 0\n",
      "\n",
      "All individuals in the image are wearing hard hats, which are a form of PPE.\n"
     ]
    },
    {
     "name": "stderr",
     "output_type": "stream",
     "text": [
      "Setting `pad_token_id` to `eos_token_id`:None for open-end generation.\n"
     ]
    },
    {
     "name": "stdout",
     "output_type": "stream",
     "text": [
      "Answer: - People: 1\n",
      "- no-Hard_hats: 0\n",
      "- no-Gloves: 0\n",
      "- no-Reflective_vests: 0\n",
      "- no-Security_boots: 0\n"
     ]
    },
    {
     "name": "stderr",
     "output_type": "stream",
     "text": [
      "Setting `pad_token_id` to `eos_token_id`:None for open-end generation.\n"
     ]
    },
    {
     "name": "stdout",
     "output_type": "stream",
     "text": [
      "Answer: - People: 5\n",
      "- no-Hard_hats: 5\n",
      "- no-Gloves: 5\n",
      "- no-Reflective_vests: 5\n",
      "- no-Security_boots: 5\n"
     ]
    },
    {
     "name": "stderr",
     "output_type": "stream",
     "text": [
      "Setting `pad_token_id` to `eos_token_id`:None for open-end generation.\n"
     ]
    },
    {
     "name": "stdout",
     "output_type": "stream",
     "text": [
      "Answer: - People: 3\n",
      "- no-Hard_hats: 1\n",
      "- no-Gloves: 1\n",
      "- no-Reflective_vests: 1\n",
      "- no-Security_boots: 1\n"
     ]
    },
    {
     "name": "stderr",
     "output_type": "stream",
     "text": [
      "Setting `pad_token_id` to `eos_token_id`:None for open-end generation.\n"
     ]
    },
    {
     "name": "stdout",
     "output_type": "stream",
     "text": [
      "Answer: - People: 2\n",
      "- no-Hard_hats: 0\n",
      "- no-Gloves: 0\n",
      "- no-Reflective_vests: 0\n",
      "- no-Security_boots: 0\n"
     ]
    },
    {
     "name": "stderr",
     "output_type": "stream",
     "text": [
      "Setting `pad_token_id` to `eos_token_id`:None for open-end generation.\n"
     ]
    },
    {
     "name": "stdout",
     "output_type": "stream",
     "text": [
      "Answer: - People: 4\n",
      "- no-Hard_hats: 1\n",
      "- no-Gloves: 1\n",
      "- no-Reflective_vests: 1\n",
      "- no-Security_boots: 1\n"
     ]
    },
    {
     "name": "stderr",
     "output_type": "stream",
     "text": [
      "Setting `pad_token_id` to `eos_token_id`:None for open-end generation.\n"
     ]
    },
    {
     "name": "stdout",
     "output_type": "stream",
     "text": [
      "Answer: - People: 1\n",
      "- no-Hard_hats: 0\n",
      "- no-Gloves: 0\n",
      "- no-Reflective_vests: 0\n",
      "- no-Security_boots: 0\n"
     ]
    },
    {
     "name": "stderr",
     "output_type": "stream",
     "text": [
      "Setting `pad_token_id` to `eos_token_id`:None for open-end generation.\n"
     ]
    },
    {
     "name": "stdout",
     "output_type": "stream",
     "text": [
      "Answer: In the image, there are four individuals working on a construction site. They are wearing hard hats, which are a type of PPE. There are no visible gloves, security boots, or reflective vests in the image. Therefore, the count would be:\n",
      "\n",
      "    - People: 4\n",
      "    - no-Hard_hats: 0\n",
      "    - no-Gloves: 4\n",
      "    - no-Reflective_vests: 4\n",
      "    - no-Security_boots: 4\n"
     ]
    },
    {
     "name": "stderr",
     "output_type": "stream",
     "text": [
      "Setting `pad_token_id` to `eos_token_id`:None for open-end generation.\n"
     ]
    },
    {
     "name": "stdout",
     "output_type": "stream",
     "text": [
      "Answer: - People: 1\n",
      "- no-Hard_hats: 0\n",
      "- no-Gloves: 0\n",
      "- no-Reflective_vests: 0\n",
      "- no-Security_boots: 0\n",
      "\n",
      "The person in the image is wearing a hard hat, which is a type of PPE.\n"
     ]
    },
    {
     "name": "stderr",
     "output_type": "stream",
     "text": [
      "Setting `pad_token_id` to `eos_token_id`:None for open-end generation.\n"
     ]
    },
    {
     "name": "stdout",
     "output_type": "stream",
     "text": [
      "Answer: - People: 10\n",
      "- no-Hard_hats: 3\n",
      "- no-Gloves: 3\n",
      "- no-Reflective_vests: 3\n",
      "- no-Security_boots: 3\n",
      "\n",
      "Please note that the image may not show all the details, and the count is based on the visible elements in the image.\n"
     ]
    },
    {
     "name": "stderr",
     "output_type": "stream",
     "text": [
      "Setting `pad_token_id` to `eos_token_id`:None for open-end generation.\n"
     ]
    },
    {
     "name": "stdout",
     "output_type": "stream",
     "text": [
      "Answer: - People: 5\n",
      "- no-Hard_hats: 1\n",
      "- no-Gloves: 1\n",
      "- no-Reflective_vests: 1\n",
      "- no-Security_boots: 1\n"
     ]
    },
    {
     "name": "stderr",
     "output_type": "stream",
     "text": [
      "Setting `pad_token_id` to `eos_token_id`:None for open-end generation.\n"
     ]
    },
    {
     "name": "stdout",
     "output_type": "stream",
     "text": [
      "Answer: - People: 7\n",
      "- no-Hard_hats: 1\n",
      "- no-Gloves: 1\n",
      "- no-Reflective_vests: 1\n",
      "- no-Security_boots: 1\n",
      "\n",
      "Please note that the person in the middle is wearing a hard hat, and the person on the far right is wearing a high visibility vest. The person on the far left is not wearing a hard hat, and the person in the middle is not wearing gloves. The person on the far right is not wearing a high visibility vest. The person in the middle is not wearing a security boot.\n"
     ]
    },
    {
     "name": "stderr",
     "output_type": "stream",
     "text": [
      "Setting `pad_token_id` to `eos_token_id`:None for open-end generation.\n"
     ]
    },
    {
     "name": "stdout",
     "output_type": "stream",
     "text": [
      "Answer: - People: 2\n",
      "- no-Hard_hats: 0\n",
      "- no-Gloves: 0\n",
      "- no-Reflective_vests: 0\n",
      "- no-Security_boots: 0\n",
      "\n",
      "In the image, both individuals are wearing hard hats, which are a type of PPE. They are also wearing high visibility vests, which are a type of PPE. Additionally, they are wearing gloves, which are a type of PPE. They are also wearing security boots, which are a type of PPE. Therefore, there are no individuals in the picture who are not wearing PPE.\n"
     ]
    },
    {
     "name": "stderr",
     "output_type": "stream",
     "text": [
      "Setting `pad_token_id` to `eos_token_id`:None for open-end generation.\n"
     ]
    },
    {
     "name": "stdout",
     "output_type": "stream",
     "text": [
      "Answer: - People: 2\n",
      "- no-Hard_hats: 0\n",
      "- no-Gloves: 0\n",
      "- no-Reflective_vests: 0\n",
      "- no-Security_boots: 0\n",
      "\n",
      "In the image, both individuals are wearing hard hats, which are a type of PPE. They are also wearing gloves, which are another type of PPE. Additionally, they are wearing blue high visibility vests, which are a type of reflective vest. They are also wearing security boots, which are a type of footwear designed for safety.\n"
     ]
    },
    {
     "name": "stderr",
     "output_type": "stream",
     "text": [
      "Setting `pad_token_id` to `eos_token_id`:None for open-end generation.\n"
     ]
    },
    {
     "name": "stdout",
     "output_type": "stream",
     "text": [
      "Answer: - People: 2\n",
      "- no-Hard_hats: 1\n",
      "- no-Gloves: 1\n",
      "- no-Reflective_vests: 1\n",
      "- no-Security_boots: 1\n"
     ]
    },
    {
     "name": "stderr",
     "output_type": "stream",
     "text": [
      "Setting `pad_token_id` to `eos_token_id`:None for open-end generation.\n"
     ]
    },
    {
     "name": "stdout",
     "output_type": "stream",
     "text": [
      "Answer: - People: 3\n",
      "- no-Hard_hats: 2\n",
      "- no-Gloves: 2\n",
      "- no-Reflective_vests: 2\n",
      "- no-Security_boots: 2\n"
     ]
    },
    {
     "name": "stderr",
     "output_type": "stream",
     "text": [
      "Setting `pad_token_id` to `eos_token_id`:None for open-end generation.\n"
     ]
    },
    {
     "name": "stdout",
     "output_type": "stream",
     "text": [
      "Answer: - People: 10\n",
      "- no-Hard_hats: 0\n",
      "- no-Gloves: 0\n",
      "- no-Reflective_vests: 0\n",
      "- no-Security_boots: 0\n",
      "\n",
      "Please note that the image does not provide enough information to determine if there are gloves, security boots, or reflective vests being worn by the individuals. However, all individuals are wearing hard hats, which are a form of PPE.\n"
     ]
    },
    {
     "name": "stderr",
     "output_type": "stream",
     "text": [
      "Setting `pad_token_id` to `eos_token_id`:None for open-end generation.\n"
     ]
    },
    {
     "name": "stdout",
     "output_type": "stream",
     "text": [
      "Answer: - People: 2\n",
      "- no-Hard_hats: 0\n",
      "- no-Gloves: 0\n",
      "- no-Reflective_vests: 0\n",
      "- no-Security_boots: 0\n"
     ]
    },
    {
     "name": "stderr",
     "output_type": "stream",
     "text": [
      "Setting `pad_token_id` to `eos_token_id`:None for open-end generation.\n"
     ]
    },
    {
     "name": "stdout",
     "output_type": "stream",
     "text": [
      "Answer: - People: 1\n",
      "- no-Hard_hats: 0\n",
      "- no-Gloves: 0\n",
      "- no-Reflective_vests: 0\n",
      "- no-Security_boots: 0\n"
     ]
    },
    {
     "name": "stderr",
     "output_type": "stream",
     "text": [
      "Setting `pad_token_id` to `eos_token_id`:None for open-end generation.\n"
     ]
    },
    {
     "name": "stdout",
     "output_type": "stream",
     "text": [
      "Answer: - People: 3\n",
      "- no-Hard_hats: 0\n",
      "- no-Gloves: 0\n",
      "- no-Reflective_vests: 0\n",
      "- no-Security_boots: 0\n",
      "\n",
      "All three individuals are wearing hard hats, which are a type of PPE. They are also wearing high visibility vests, which are a type of PPE. Additionally, they are wearing gloves, which are a type of PPE. They are also wearing security boots, which are a type of PPE.\n"
     ]
    },
    {
     "name": "stderr",
     "output_type": "stream",
     "text": [
      "Setting `pad_token_id` to `eos_token_id`:None for open-end generation.\n"
     ]
    },
    {
     "name": "stdout",
     "output_type": "stream",
     "text": [
      "Answer: - People: 5\n",
      "- no-Hard_hats: 4\n",
      "- no-Gloves: 4\n",
      "- no-Reflective_vests: 4\n",
      "- no-Security_boots: 4\n"
     ]
    },
    {
     "name": "stderr",
     "output_type": "stream",
     "text": [
      "Setting `pad_token_id` to `eos_token_id`:None for open-end generation.\n"
     ]
    },
    {
     "name": "stdout",
     "output_type": "stream",
     "text": [
      "Answer: - People: 2\n",
      "- no-Hard_hats: 0\n",
      "- no-Gloves: 0\n",
      "- no-Reflective_vests: 0\n",
      "- no-Security_boots: 0\n",
      "\n",
      "Both individuals in the image are wearing hard hats, which are a type of PPE.\n"
     ]
    },
    {
     "name": "stderr",
     "output_type": "stream",
     "text": [
      "Setting `pad_token_id` to `eos_token_id`:None for open-end generation.\n"
     ]
    },
    {
     "name": "stdout",
     "output_type": "stream",
     "text": [
      "Answer: - People: 2\n",
      "- no-Hard_hats: 1\n",
      "- no-Gloves: 1\n",
      "- no-Reflective_vests: 1\n",
      "- no-Security_boots: 1\n"
     ]
    },
    {
     "name": "stderr",
     "output_type": "stream",
     "text": [
      "Setting `pad_token_id` to `eos_token_id`:None for open-end generation.\n"
     ]
    },
    {
     "name": "stdout",
     "output_type": "stream",
     "text": [
      "Answer: - People: 1\n",
      "- no-Hard_hats: 1\n",
      "- no-Gloves: 1\n",
      "- no-Reflective_vests: 1\n",
      "- no-Security_boots: 1\n"
     ]
    },
    {
     "name": "stderr",
     "output_type": "stream",
     "text": [
      "Setting `pad_token_id` to `eos_token_id`:None for open-end generation.\n"
     ]
    },
    {
     "name": "stdout",
     "output_type": "stream",
     "text": [
      "Answer: - People: 4\n",
      "- no-Hard_hats: 0\n",
      "- no-Gloves: 0\n",
      "- no-Reflective_vests: 0\n",
      "- no-Security_boots: 0\n",
      "\n",
      "All four individuals are wearing hard hats, which are a type of PPE.\n"
     ]
    },
    {
     "name": "stderr",
     "output_type": "stream",
     "text": [
      "Setting `pad_token_id` to `eos_token_id`:None for open-end generation.\n"
     ]
    },
    {
     "name": "stdout",
     "output_type": "stream",
     "text": [
      "Answer: - People: 1\n",
      "- no-Hard_hats: 0\n",
      "- no-Gloves: 0\n",
      "- no-Reflective_vests: 0\n",
      "- no-Security_boots: 0\n"
     ]
    },
    {
     "name": "stderr",
     "output_type": "stream",
     "text": [
      "Setting `pad_token_id` to `eos_token_id`:None for open-end generation.\n"
     ]
    },
    {
     "name": "stdout",
     "output_type": "stream",
     "text": [
      "Answer: - People: 4\n",
      "- no-Hard_hats: 2\n",
      "- no-Gloves: 2\n",
      "- no-Reflective_vests: 2\n",
      "- no-Security_boots: 2\n"
     ]
    },
    {
     "name": "stderr",
     "output_type": "stream",
     "text": [
      "Setting `pad_token_id` to `eos_token_id`:None for open-end generation.\n"
     ]
    },
    {
     "name": "stdout",
     "output_type": "stream",
     "text": [
      "Answer: - People: 4\n",
      "- no-Hard_hats: 3\n",
      "- no-Gloves: 3\n",
      "- no-Reflective_vests: 3\n",
      "- no-Security_boots: 3\n"
     ]
    },
    {
     "name": "stderr",
     "output_type": "stream",
     "text": [
      "Setting `pad_token_id` to `eos_token_id`:None for open-end generation.\n"
     ]
    },
    {
     "name": "stdout",
     "output_type": "stream",
     "text": [
      "Answer: - People: 2\n",
      "- no-Hard_hats: 0\n",
      "- no-Gloves: 0\n",
      "- no-Reflective_vests: 0\n",
      "- no-Security_boots: 0\n",
      "\n",
      "Both individuals in the image are wearing hard hats, which are a form of PPE.\n"
     ]
    },
    {
     "name": "stderr",
     "output_type": "stream",
     "text": [
      "Setting `pad_token_id` to `eos_token_id`:None for open-end generation.\n"
     ]
    },
    {
     "name": "stdout",
     "output_type": "stream",
     "text": [
      "Answer: - People: 10\n",
      "- no-Hard_hats: 0\n",
      "- no-Gloves: 0\n",
      "- no-Reflective_vests: 0\n",
      "- no-Security_boots: 0\n",
      "\n",
      "All individuals in the image are wearing hard hats, gloves, and high visibility vests.\n"
     ]
    },
    {
     "name": "stderr",
     "output_type": "stream",
     "text": [
      "Setting `pad_token_id` to `eos_token_id`:None for open-end generation.\n"
     ]
    },
    {
     "name": "stdout",
     "output_type": "stream",
     "text": [
      "Answer: - People: 1\n",
      "- no-Hard_hats: 0\n",
      "- no-Gloves: 0\n",
      "- no-Reflective_vests: 0\n",
      "- no-Security_boots: 0\n"
     ]
    },
    {
     "name": "stderr",
     "output_type": "stream",
     "text": [
      "Setting `pad_token_id` to `eos_token_id`:None for open-end generation.\n"
     ]
    },
    {
     "name": "stdout",
     "output_type": "stream",
     "text": [
      "Answer: - People: 6\n",
      "- no-Hard_hats: 2\n",
      "- no-Gloves: 2\n",
      "- no-Reflective_vests: 2\n",
      "- no-Security_boots: 2\n"
     ]
    },
    {
     "name": "stderr",
     "output_type": "stream",
     "text": [
      "Setting `pad_token_id` to `eos_token_id`:None for open-end generation.\n"
     ]
    },
    {
     "name": "stdout",
     "output_type": "stream",
     "text": [
      "Answer: - People: 1\n",
      "- no-Hard_hats: 0\n",
      "- no-Gloves: 0\n",
      "- no-Reflective_vests: 0\n",
      "- no-Security_boots: 0\n"
     ]
    },
    {
     "name": "stderr",
     "output_type": "stream",
     "text": [
      "Setting `pad_token_id` to `eos_token_id`:None for open-end generation.\n"
     ]
    },
    {
     "name": "stdout",
     "output_type": "stream",
     "text": [
      "Answer: - People: 4\n",
      "- no-Hard_hats: 0\n",
      "- no-Gloves: 0\n",
      "- no-Reflective_vests: 0\n",
      "- no-Security_boots: 0\n"
     ]
    },
    {
     "name": "stderr",
     "output_type": "stream",
     "text": [
      "Setting `pad_token_id` to `eos_token_id`:None for open-end generation.\n"
     ]
    },
    {
     "name": "stdout",
     "output_type": "stream",
     "text": [
      "Answer: In the image, there is one person who appears to be engaged in some sort of construction or building activity. The person is wearing a camouflage jacket, which is not considered PPE, but it does provide some protection from the elements.\n",
      "\n",
      "There are no visible hard hats, gloves, high visibility vests, or security boots in the image. Therefore, the following counts can be provided:\n",
      "\n",
      "    - People: 1\n",
      "    - no-Hard_hats: 1\n",
      "    - no-Gloves: 1\n",
      "    - no-Reflective_vests: 1\n",
      "    - no-Security_boots: 1\n"
     ]
    },
    {
     "name": "stderr",
     "output_type": "stream",
     "text": [
      "Setting `pad_token_id` to `eos_token_id`:None for open-end generation.\n"
     ]
    },
    {
     "name": "stdout",
     "output_type": "stream",
     "text": [
      "Answer: - People: 4\n",
      "- no-Hard_hats: 0\n",
      "- no-Gloves: 0\n",
      "- no-Reflective_vests: 0\n",
      "- no-Security_boots: 0\n"
     ]
    },
    {
     "name": "stderr",
     "output_type": "stream",
     "text": [
      "Setting `pad_token_id` to `eos_token_id`:None for open-end generation.\n"
     ]
    },
    {
     "name": "stdout",
     "output_type": "stream",
     "text": [
      "Answer: - People: 10\n",
      "- no-Hard_hats: 4\n",
      "- no-Gloves: 4\n",
      "- no-Reflective_vests: 4\n",
      "- no-Security_boots: 4\n"
     ]
    },
    {
     "name": "stderr",
     "output_type": "stream",
     "text": [
      "Setting `pad_token_id` to `eos_token_id`:None for open-end generation.\n"
     ]
    },
    {
     "name": "stdout",
     "output_type": "stream",
     "text": [
      "Answer: - People: 5\n",
      "- no-Hard_hats: 2\n",
      "- no-Gloves: 2\n",
      "- no-Reflective_vests: 2\n",
      "- no-Security_boots: 2\n"
     ]
    },
    {
     "name": "stderr",
     "output_type": "stream",
     "text": [
      "Setting `pad_token_id` to `eos_token_id`:None for open-end generation.\n"
     ]
    },
    {
     "name": "stdout",
     "output_type": "stream",
     "text": [
      "Answer: - People: 9\n",
      "- no-Hard_hats: 8\n",
      "- no-Gloves: 8\n",
      "- no-Reflective_vests: 8\n",
      "- no-Security_boots: 8\n",
      "\n",
      "Please note that the image does not provide enough information to determine if any of the individuals are wearing PPEs such as gloves, hard hats, or high visibility vests.\n"
     ]
    },
    {
     "name": "stderr",
     "output_type": "stream",
     "text": [
      "Setting `pad_token_id` to `eos_token_id`:None for open-end generation.\n"
     ]
    },
    {
     "name": "stdout",
     "output_type": "stream",
     "text": [
      "Answer: - People: 1\n",
      "- no-Hard_hats: 0\n",
      "- no-Gloves: 0\n",
      "- no-Reflective_vests: 0\n",
      "- no-Security_boots: 0\n"
     ]
    },
    {
     "name": "stderr",
     "output_type": "stream",
     "text": [
      "Setting `pad_token_id` to `eos_token_id`:None for open-end generation.\n"
     ]
    },
    {
     "name": "stdout",
     "output_type": "stream",
     "text": [
      "Answer: - People: 3\n",
      "- no-Hard_hats: 0\n",
      "- no-Gloves: 0\n",
      "- no-Reflective_vests: 0\n",
      "- no-Security_boots: 0\n",
      "\n",
      "All three individuals are wearing hard hats, which are a type of PPE.\n"
     ]
    },
    {
     "name": "stderr",
     "output_type": "stream",
     "text": [
      "Setting `pad_token_id` to `eos_token_id`:None for open-end generation.\n"
     ]
    },
    {
     "name": "stdout",
     "output_type": "stream",
     "text": [
      "Answer: - People: 1\n",
      "- no-Hard_hats: 0\n",
      "- no-Gloves: 0\n",
      "- no-Reflective_vests: 0\n",
      "- no-Security_boots: 0\n",
      "\n",
      "The person in the image is wearing a hard hat, which is a type of PPE.\n"
     ]
    },
    {
     "name": "stderr",
     "output_type": "stream",
     "text": [
      "Setting `pad_token_id` to `eos_token_id`:None for open-end generation.\n"
     ]
    },
    {
     "name": "stdout",
     "output_type": "stream",
     "text": [
      "Answer: In the image, there are no PPEs visible, such as hard hats, gloves, or high visibility vests. There are no security boots either. All individuals are dressed in business attire, which is not considered PPE.\n",
      "\n",
      "Here's the count based on the information provided:\n",
      "\n",
      "- People: 8\n",
      "- no-Hard_hats: 8\n",
      "- no-Gloves: 8\n",
      "- no-Reflective_vests: 8\n",
      "- no-Security_boots: 8\n",
      "\n",
      "Please note that the absence of PPEs in this image does not necessarily mean that the individuals are not required to wear them in their work environment. It could be that the image was taken during a formal event or a time when PPEs are not necessary.\n"
     ]
    },
    {
     "name": "stderr",
     "output_type": "stream",
     "text": [
      "Setting `pad_token_id` to `eos_token_id`:None for open-end generation.\n"
     ]
    },
    {
     "name": "stdout",
     "output_type": "stream",
     "text": [
      "Answer: - People: 2\n",
      "- no-Hard_hats: 1\n",
      "- no-Gloves: 1\n",
      "- no-Reflective_vests: 1\n",
      "- no-Security_boots: 1\n"
     ]
    },
    {
     "name": "stderr",
     "output_type": "stream",
     "text": [
      "Setting `pad_token_id` to `eos_token_id`:None for open-end generation.\n"
     ]
    },
    {
     "name": "stdout",
     "output_type": "stream",
     "text": [
      "Answer: - People: 3\n",
      "- no-Hard_hats: 1\n",
      "- no-Gloves: 1\n",
      "- no-Reflective_vests: 1\n",
      "- no-Security_boots: 1\n"
     ]
    },
    {
     "name": "stderr",
     "output_type": "stream",
     "text": [
      "Setting `pad_token_id` to `eos_token_id`:None for open-end generation.\n"
     ]
    },
    {
     "name": "stdout",
     "output_type": "stream",
     "text": [
      "Answer: - People: 5\n",
      "- no-Hard_hats: 2\n",
      "- no-Gloves: 2\n",
      "- no-Reflective_vests: 2\n",
      "- no-Security_boots: 2\n"
     ]
    },
    {
     "name": "stderr",
     "output_type": "stream",
     "text": [
      "Setting `pad_token_id` to `eos_token_id`:None for open-end generation.\n"
     ]
    },
    {
     "name": "stdout",
     "output_type": "stream",
     "text": [
      "Answer: - People: 2\n",
      "- no-Hard_hats: 2\n",
      "- no-Gloves: 2\n",
      "- no-Reflective_vests: 2\n",
      "- no-Security_boots: 2\n"
     ]
    },
    {
     "name": "stderr",
     "output_type": "stream",
     "text": [
      "Setting `pad_token_id` to `eos_token_id`:None for open-end generation.\n"
     ]
    },
    {
     "name": "stdout",
     "output_type": "stream",
     "text": [
      "Answer: - People: 2\n",
      "- no-Hard_hats: 0\n",
      "- no-Gloves: 0\n",
      "- no-Reflective_vests: 0\n",
      "- no-Security_boots: 0\n"
     ]
    },
    {
     "name": "stderr",
     "output_type": "stream",
     "text": [
      "Setting `pad_token_id` to `eos_token_id`:None for open-end generation.\n"
     ]
    },
    {
     "name": "stdout",
     "output_type": "stream",
     "text": [
      "Answer: - People: 3\n",
      "- no-Hard_hats: 0\n",
      "- no-Gloves: 0\n",
      "- no-Reflective_vests: 0\n",
      "- no-Security_boots: 0\n",
      "\n",
      "All three individuals are wearing hard hats, which are a type of PPE. They are also wearing high visibility vests, which are a type of PPE. Additionally, they are wearing gloves, which are a type of PPE. The boots they are wearing are not specifically described as security boots, but they are likely to be sturdy work boots, which are a type of PPE.\n"
     ]
    },
    {
     "name": "stderr",
     "output_type": "stream",
     "text": [
      "Setting `pad_token_id` to `eos_token_id`:None for open-end generation.\n"
     ]
    },
    {
     "name": "stdout",
     "output_type": "stream",
     "text": [
      "Answer: - People: 1\n",
      "- no-Hard_hats: 0\n",
      "- no-Gloves: 0\n",
      "- no-Reflective_vests: 0\n",
      "- no-Security_boots: 0\n"
     ]
    },
    {
     "name": "stderr",
     "output_type": "stream",
     "text": [
      "Setting `pad_token_id` to `eos_token_id`:None for open-end generation.\n"
     ]
    },
    {
     "name": "stdout",
     "output_type": "stream",
     "text": [
      "Answer: - People: 1\n",
      "- no-Hard_hats: 0\n",
      "- no-Gloves: 0\n",
      "- no-Reflective_vests: 0\n",
      "- no-Security_boots: 0\n"
     ]
    },
    {
     "name": "stderr",
     "output_type": "stream",
     "text": [
      "Setting `pad_token_id` to `eos_token_id`:None for open-end generation.\n"
     ]
    },
    {
     "name": "stdout",
     "output_type": "stream",
     "text": [
      "Answer: - People: 10\n",
      "- no-Hard_hats: 10\n",
      "- no-Gloves: 10\n",
      "- no-Reflective_vests: 10\n",
      "- no-Security_boots: 10\n",
      "\n",
      "Please note that the image does not depict any PPEs, high visibility vests, gloves, security boots, or hard hats.\n"
     ]
    },
    {
     "name": "stderr",
     "output_type": "stream",
     "text": [
      "Setting `pad_token_id` to `eos_token_id`:None for open-end generation.\n"
     ]
    },
    {
     "name": "stdout",
     "output_type": "stream",
     "text": [
      "Answer: - People: 12\n",
      "- no-Hard_hats: 10\n",
      "- no-Gloves: 10\n",
      "- no-Reflective_vests: 10\n",
      "- no-Security_boots: 10\n",
      "\n",
      "Please note that the image may not show all the details, and the count is based on the visible elements in the image.\n"
     ]
    },
    {
     "name": "stderr",
     "output_type": "stream",
     "text": [
      "Setting `pad_token_id` to `eos_token_id`:None for open-end generation.\n"
     ]
    },
    {
     "name": "stdout",
     "output_type": "stream",
     "text": [
      "Answer: - People: 1\n",
      "- no-Hard_hats: 0\n",
      "- no-Gloves: 0\n",
      "- no-Reflective_vests: 0\n",
      "- no-Security_boots: 0\n"
     ]
    },
    {
     "name": "stderr",
     "output_type": "stream",
     "text": [
      "Setting `pad_token_id` to `eos_token_id`:None for open-end generation.\n"
     ]
    },
    {
     "name": "stdout",
     "output_type": "stream",
     "text": [
      "Answer: - People: 2\n",
      "- no-Hard_hats: 1\n",
      "- no-Gloves: 1\n",
      "- no-Reflective_vests: 1\n",
      "- no-Security_boots: 1\n"
     ]
    },
    {
     "name": "stderr",
     "output_type": "stream",
     "text": [
      "Setting `pad_token_id` to `eos_token_id`:None for open-end generation.\n"
     ]
    },
    {
     "name": "stdout",
     "output_type": "stream",
     "text": [
      "Answer: - People: 2\n",
      "- no-Hard_hats: 0\n",
      "- no-Gloves: 0\n",
      "- no-Reflective_vests: 0\n",
      "- no-Security_boots: 0\n"
     ]
    },
    {
     "name": "stderr",
     "output_type": "stream",
     "text": [
      "Setting `pad_token_id` to `eos_token_id`:None for open-end generation.\n"
     ]
    },
    {
     "name": "stdout",
     "output_type": "stream",
     "text": [
      "Answer: - People: 4\n",
      "- no-Hard_hats: 2\n",
      "- no-Gloves: 2\n",
      "- no-Reflective_vests: 2\n",
      "- no-Security_boots: 2\n",
      "Answer: - People: 2\n",
      "- no-Hard_hats: 0\n",
      "- no-Gloves: 0\n",
      "- no-Reflective_vests: 0\n",
      "- no-Security_boots: 0\n",
      "\n",
      "In the image, both individuals are wearing hard hats, which are a type of PPE. There are no visible gloves, reflective vests, or security boots in the scene.\n"
     ]
    },
    {
     "name": "stderr",
     "output_type": "stream",
     "text": [
      "Setting `pad_token_id` to `eos_token_id`:None for open-end generation.\n",
      "Setting `pad_token_id` to `eos_token_id`:None for open-end generation.\n"
     ]
    },
    {
     "name": "stdout",
     "output_type": "stream",
     "text": [
      "Answer: - People: 2\n",
      "- no-Hard_hats: 0\n",
      "- no-Gloves: 0\n",
      "- no-Reflective_vests: 0\n",
      "- no-Security_boots: 0\n"
     ]
    },
    {
     "name": "stderr",
     "output_type": "stream",
     "text": [
      "Setting `pad_token_id` to `eos_token_id`:None for open-end generation.\n"
     ]
    },
    {
     "name": "stdout",
     "output_type": "stream",
     "text": [
      "Answer: - People: 1\n",
      "- no-Hard_hats: 0\n",
      "- no-Gloves: 0\n",
      "- no-Reflective_vests: 0\n",
      "- no-Security_boots: 0\n",
      "\n",
      "The person in the image is wearing a hard hat, a high visibility vest, and safety boots.\n"
     ]
    },
    {
     "name": "stderr",
     "output_type": "stream",
     "text": [
      "Setting `pad_token_id` to `eos_token_id`:None for open-end generation.\n"
     ]
    },
    {
     "name": "stdout",
     "output_type": "stream",
     "text": [
      "Answer: - People: 3\n",
      "- no-Hard_hats: 1\n",
      "- no-Gloves: 1\n",
      "- no-Reflective_vests: 1\n",
      "- no-Security_boots: 1\n"
     ]
    },
    {
     "name": "stderr",
     "output_type": "stream",
     "text": [
      "Setting `pad_token_id` to `eos_token_id`:None for open-end generation.\n"
     ]
    },
    {
     "name": "stdout",
     "output_type": "stream",
     "text": [
      "Answer: - People: 3\n",
      "- no-Hard_hats: 0\n",
      "- no-Gloves: 0\n",
      "- no-Reflective_vests: 0\n",
      "- no-Security_boots: 0\n"
     ]
    },
    {
     "name": "stderr",
     "output_type": "stream",
     "text": [
      "Setting `pad_token_id` to `eos_token_id`:None for open-end generation.\n"
     ]
    },
    {
     "name": "stdout",
     "output_type": "stream",
     "text": [
      "Answer: - People: 3\n",
      "- no-Hard_hats: 1\n",
      "- no-Gloves: 1\n",
      "- no-Reflective_vests: 1\n",
      "- no-Security_boots: 1\n"
     ]
    },
    {
     "name": "stderr",
     "output_type": "stream",
     "text": [
      "Setting `pad_token_id` to `eos_token_id`:None for open-end generation.\n"
     ]
    },
    {
     "name": "stdout",
     "output_type": "stream",
     "text": [
      "Answer: - People: 1\n",
      "- no-Hard_hats: 0\n",
      "- no-Gloves: 0\n",
      "- no-Reflective_vests: 0\n",
      "- no-Security_boots: 0\n",
      "\n",
      "The person in the image is wearing a hard hat, which is a type of PPE.\n"
     ]
    },
    {
     "name": "stderr",
     "output_type": "stream",
     "text": [
      "Setting `pad_token_id` to `eos_token_id`:None for open-end generation.\n"
     ]
    },
    {
     "name": "stdout",
     "output_type": "stream",
     "text": [
      "Answer: - People: 5\n",
      "- no-Hard_hats: 4\n",
      "- no-Gloves: 4\n",
      "- no-Reflective_vests: 4\n",
      "- no-Security_boots: 4\n"
     ]
    },
    {
     "name": "stderr",
     "output_type": "stream",
     "text": [
      "Setting `pad_token_id` to `eos_token_id`:None for open-end generation.\n"
     ]
    },
    {
     "name": "stdout",
     "output_type": "stream",
     "text": [
      "Answer: In the image, there are no PPEs visible, such as hard hats, gloves, or high visibility vests. There are no security boots either. All the individuals in the picture are wearing casual clothing and are not wearing any safety gear.\n",
      "\n",
      "Here's the count based on your criteria:\n",
      "\n",
      "- People: 8\n",
      "- no-Hard_hats: 8\n",
      "- no-Gloves: 8\n",
      "- no-Reflective_vests: 8\n",
      "- no-Security_boots: 8\n",
      "\n",
      "Please note that the image does not depict a work environment or a situation where PPEs would be required.\n"
     ]
    },
    {
     "name": "stderr",
     "output_type": "stream",
     "text": [
      "Setting `pad_token_id` to `eos_token_id`:None for open-end generation.\n"
     ]
    },
    {
     "name": "stdout",
     "output_type": "stream",
     "text": [
      "Answer: - People: 7\n",
      "- no-Hard_hats: 2\n",
      "- no-Gloves: 2\n",
      "- no-Reflective_vests: 2\n",
      "- no-Security_boots: 2\n"
     ]
    },
    {
     "name": "stderr",
     "output_type": "stream",
     "text": [
      "Setting `pad_token_id` to `eos_token_id`:None for open-end generation.\n"
     ]
    },
    {
     "name": "stdout",
     "output_type": "stream",
     "text": [
      "Answer: - People: 2\n",
      "- no-Hard_hats: 0\n",
      "- no-Gloves: 0\n",
      "- no-Reflective_vests: 0\n",
      "- no-Security_boots: 0\n",
      "Answer: - People: 3\n",
      "- no-Hard_hats: 0\n",
      "- no-Gloves: 0\n",
      "- no-Reflective_vests: 0\n",
      "- no-Security_boots: 0\n",
      "\n",
      "All three individuals are wearing hard hats, which are a type of PPE.\n"
     ]
    },
    {
     "name": "stderr",
     "output_type": "stream",
     "text": [
      "Setting `pad_token_id` to `eos_token_id`:None for open-end generation.\n",
      "Setting `pad_token_id` to `eos_token_id`:None for open-end generation.\n"
     ]
    },
    {
     "name": "stdout",
     "output_type": "stream",
     "text": [
      "Answer: - People: 8\n",
      "- no-Hard_hats: 3\n",
      "- no-Gloves: 0\n",
      "- no-Reflective_vests: 0\n",
      "- no-Security_boots: 0\n",
      "\n",
      "Please note that the image does not provide enough information to determine if there are gloves or security boots.\n"
     ]
    },
    {
     "name": "stderr",
     "output_type": "stream",
     "text": [
      "Setting `pad_token_id` to `eos_token_id`:None for open-end generation.\n"
     ]
    },
    {
     "name": "stdout",
     "output_type": "stream",
     "text": [
      "Answer: - People: 2\n",
      "- no-Hard_hats: 1\n",
      "- no-Gloves: 1\n",
      "- no-Reflective_vests: 1\n",
      "- no-Security_boots: 1\n"
     ]
    },
    {
     "name": "stderr",
     "output_type": "stream",
     "text": [
      "Setting `pad_token_id` to `eos_token_id`:None for open-end generation.\n"
     ]
    },
    {
     "name": "stdout",
     "output_type": "stream",
     "text": [
      "Answer: - People: 1\n",
      "- no-Hard_hats: 0\n",
      "- no-Gloves: 0\n",
      "- no-Reflective_vests: 0\n",
      "- no-Security_boots: 0\n",
      "\n",
      "The person in the image is wearing a hard hat, gloves, and a high visibility vest.\n"
     ]
    },
    {
     "name": "stderr",
     "output_type": "stream",
     "text": [
      "Setting `pad_token_id` to `eos_token_id`:None for open-end generation.\n"
     ]
    },
    {
     "name": "stdout",
     "output_type": "stream",
     "text": [
      "Answer: - People: 15\n",
      "- no-Hard_hats: 1\n",
      "- no-Gloves: 1\n",
      "- no-Reflective_vests: 1\n",
      "- no-Security_boots: 1\n"
     ]
    },
    {
     "name": "stderr",
     "output_type": "stream",
     "text": [
      "Setting `pad_token_id` to `eos_token_id`:None for open-end generation.\n"
     ]
    },
    {
     "name": "stdout",
     "output_type": "stream",
     "text": [
      "Answer: - People: 1\n",
      "- no-Hard_hats: 0\n",
      "- no-Gloves: 0\n",
      "- no-Reflective_vests: 0\n",
      "- no-Security_boots: 0\n"
     ]
    },
    {
     "name": "stderr",
     "output_type": "stream",
     "text": [
      "Setting `pad_token_id` to `eos_token_id`:None for open-end generation.\n"
     ]
    },
    {
     "name": "stdout",
     "output_type": "stream",
     "text": [
      "Answer: - People: 9\n",
      "- no-Hard_hats: 5\n",
      "- no-Gloves: 5\n",
      "- no-Reflective_vests: 5\n",
      "- no-Security_boots: 5\n",
      "\n",
      "Please note that the image shows a group of people, and the presence of PPEs such as hard hats, gloves, and high visibility vests is not clearly visible. The information provided is based on the visible elements in the image.\n"
     ]
    },
    {
     "name": "stderr",
     "output_type": "stream",
     "text": [
      "Setting `pad_token_id` to `eos_token_id`:None for open-end generation.\n"
     ]
    },
    {
     "name": "stdout",
     "output_type": "stream",
     "text": [
      "Answer: In the image, there is one person who appears to be a speaker or performer. The person is wearing a white hard hat, which is a type of PPE. There are no visible gloves, reflective vests, or security boots in the image. Therefore, the count would be:\n",
      "\n",
      "    - People: 1\n",
      "    - no-Hard_hats: 0\n",
      "    - no-Gloves: 1\n",
      "    - no-Reflective_vests: 1\n",
      "    - no-Security_boots: 1\n"
     ]
    },
    {
     "name": "stderr",
     "output_type": "stream",
     "text": [
      "Setting `pad_token_id` to `eos_token_id`:None for open-end generation.\n"
     ]
    },
    {
     "name": "stdout",
     "output_type": "stream",
     "text": [
      "Answer: - People: 6\n",
      "- no-Hard_hats: 3\n",
      "- no-Gloves: 3\n",
      "- no-Reflective_vests: 3\n",
      "- no-Security_boots: 3\n",
      "\n",
      "Please note that the image shows a group of people wearing hard hats, which are a type of PPE. However, there are no visible gloves, reflective vests, or security boots in the image.\n"
     ]
    },
    {
     "name": "stderr",
     "output_type": "stream",
     "text": [
      "Setting `pad_token_id` to `eos_token_id`:None for open-end generation.\n"
     ]
    },
    {
     "name": "stdout",
     "output_type": "stream",
     "text": [
      "Answer: - People: 7\n",
      "- no-Hard_hats: 1\n",
      "- no-Gloves: 1\n",
      "- no-Reflective_vests: 1\n",
      "- no-Security_boots: 1\n"
     ]
    },
    {
     "name": "stderr",
     "output_type": "stream",
     "text": [
      "Setting `pad_token_id` to `eos_token_id`:None for open-end generation.\n"
     ]
    },
    {
     "name": "stdout",
     "output_type": "stream",
     "text": [
      "Answer: - People: 1\n",
      "- no-Hard_hats: 0\n",
      "- no-Gloves: 0\n",
      "- no-Reflective_vests: 0\n",
      "- no-Security_boots: 0\n"
     ]
    },
    {
     "name": "stderr",
     "output_type": "stream",
     "text": [
      "Setting `pad_token_id` to `eos_token_id`:None for open-end generation.\n"
     ]
    },
    {
     "name": "stdout",
     "output_type": "stream",
     "text": [
      "Answer: - People: 1\n",
      "- no-Hard_hats: 1\n",
      "- no-Gloves: 1\n",
      "- no-Reflective_vests: 1\n",
      "- no-Security_boots: 1\n"
     ]
    },
    {
     "name": "stderr",
     "output_type": "stream",
     "text": [
      "Setting `pad_token_id` to `eos_token_id`:None for open-end generation.\n"
     ]
    },
    {
     "name": "stdout",
     "output_type": "stream",
     "text": [
      "Answer: - People: 3\n",
      "- no-Hard_hats: 2\n",
      "- no-Gloves: 2\n",
      "- no-Reflective_vests: 2\n",
      "- no-Security_boots: 2\n"
     ]
    },
    {
     "name": "stderr",
     "output_type": "stream",
     "text": [
      "Setting `pad_token_id` to `eos_token_id`:None for open-end generation.\n"
     ]
    },
    {
     "name": "stdout",
     "output_type": "stream",
     "text": [
      "Answer: - People: 9\n",
      "- no-Hard_hats: 5\n",
      "- no-Gloves: 5\n",
      "- no-Reflective_vests: 5\n",
      "- no-Security_boots: 5\n",
      "\n",
      "Please note that the image shows a group of people, some of whom are wearing hard hats, gloves, and high visibility vests. However, there are also individuals who are not wearing these items.\n"
     ]
    },
    {
     "name": "stderr",
     "output_type": "stream",
     "text": [
      "Setting `pad_token_id` to `eos_token_id`:None for open-end generation.\n"
     ]
    },
    {
     "name": "stdout",
     "output_type": "stream",
     "text": [
      "Answer: - People: 2\n",
      "- no-Hard_hats: 0\n",
      "- no-Gloves: 0\n",
      "- no-Reflective_vests: 0\n",
      "- no-Security_boots: 0\n"
     ]
    },
    {
     "name": "stderr",
     "output_type": "stream",
     "text": [
      "Setting `pad_token_id` to `eos_token_id`:None for open-end generation.\n"
     ]
    },
    {
     "name": "stdout",
     "output_type": "stream",
     "text": [
      "Answer: - People: 4\n",
      "- no-Hard_hats: 1\n",
      "- no-Gloves: 1\n",
      "- no-Reflective_vests: 1\n",
      "- no-Security_boots: 1\n"
     ]
    },
    {
     "name": "stderr",
     "output_type": "stream",
     "text": [
      "Setting `pad_token_id` to `eos_token_id`:None for open-end generation.\n"
     ]
    },
    {
     "name": "stdout",
     "output_type": "stream",
     "text": [
      "Answer: - People: 6\n",
      "- no-Hard_hats: 4\n",
      "- no-Gloves: 4\n",
      "- no-Reflective_vests: 4\n",
      "- no-Security_boots: 4\n"
     ]
    },
    {
     "name": "stderr",
     "output_type": "stream",
     "text": [
      "Setting `pad_token_id` to `eos_token_id`:None for open-end generation.\n"
     ]
    },
    {
     "name": "stdout",
     "output_type": "stream",
     "text": [
      "Answer: - People: 4\n",
      "- no-Hard_hats: 0\n",
      "- no-Gloves: 0\n",
      "- no-Reflective_vests: 0\n",
      "- no-Security_boots: 0\n"
     ]
    },
    {
     "name": "stderr",
     "output_type": "stream",
     "text": [
      "Setting `pad_token_id` to `eos_token_id`:None for open-end generation.\n"
     ]
    },
    {
     "name": "stdout",
     "output_type": "stream",
     "text": [
      "Answer: In the image, there is one person visible. The person is wearing a red hard hat, which is a type of PPE. There are no blue, orange, or yellow high visibility vests in the scene. There are no gloves visible in the image. There are no security boots visible in the image. The person is not wearing a hard hat, so the number of Hard_hats is 1. The number of Gloves is 0. The number of Reflective_vests is 0. The number of Security_boots is 0. The number of people is 1.\n"
     ]
    },
    {
     "name": "stderr",
     "output_type": "stream",
     "text": [
      "Setting `pad_token_id` to `eos_token_id`:None for open-end generation.\n"
     ]
    },
    {
     "name": "stdout",
     "output_type": "stream",
     "text": [
      "Answer: - People: 4\n",
      "- no-Hard_hats: 2\n",
      "- no-Gloves: 2\n",
      "- no-Reflective_vests: 2\n",
      "- no-Security_boots: 2\n"
     ]
    },
    {
     "name": "stderr",
     "output_type": "stream",
     "text": [
      "Setting `pad_token_id` to `eos_token_id`:None for open-end generation.\n"
     ]
    },
    {
     "name": "stdout",
     "output_type": "stream",
     "text": [
      "Answer: - People: 2\n",
      "- no-Hard_hats: 0\n",
      "- no-Gloves: 0\n",
      "- no-Reflective_vests: 0\n",
      "- no-Security_boots: 0\n"
     ]
    },
    {
     "name": "stderr",
     "output_type": "stream",
     "text": [
      "Setting `pad_token_id` to `eos_token_id`:None for open-end generation.\n"
     ]
    },
    {
     "name": "stdout",
     "output_type": "stream",
     "text": [
      "Answer: - People: 3\n",
      "- no-Hard_hats: 2\n",
      "- no-Gloves: 2\n",
      "- no-Reflective_vests: 2\n",
      "- no-Security_boots: 2\n",
      "\n",
      "Please note that the image shows three men sitting on the ground, with one of them wearing a blue hard hat. The other two men are not wearing any PPE.\n",
      "Answer: - People: 10\n",
      "- no-Hard_hats: 0\n",
      "- no-Gloves: 0\n",
      "- no-Reflective_vests: 0\n",
      "- no-Security_boots: 0\n",
      "\n",
      "Please note that the image may not capture all the PPEs worn by the individuals, and the numbers provided are based on the visible PPEs in the image.\n"
     ]
    },
    {
     "name": "stderr",
     "output_type": "stream",
     "text": [
      "Setting `pad_token_id` to `eos_token_id`:None for open-end generation.\n",
      "Setting `pad_token_id` to `eos_token_id`:None for open-end generation.\n"
     ]
    },
    {
     "name": "stdout",
     "output_type": "stream",
     "text": [
      "Answer: - People: 4\n",
      "- no-Hard_hats: 0\n",
      "- no-Gloves: 0\n",
      "- no-Reflective_vests: 0\n",
      "- no-Security_boots: 0\n"
     ]
    },
    {
     "name": "stderr",
     "output_type": "stream",
     "text": [
      "Setting `pad_token_id` to `eos_token_id`:None for open-end generation.\n"
     ]
    },
    {
     "name": "stdout",
     "output_type": "stream",
     "text": [
      "Answer: - People: 2\n",
      "- no-Hard_hats: 0\n",
      "- no-Gloves: 0\n",
      "- no-Reflective_vests: 0\n",
      "- no-Security_boots: 0\n"
     ]
    },
    {
     "name": "stderr",
     "output_type": "stream",
     "text": [
      "Setting `pad_token_id` to `eos_token_id`:None for open-end generation.\n"
     ]
    },
    {
     "name": "stdout",
     "output_type": "stream",
     "text": [
      "Answer: - People: 2\n",
      "- no-Hard_hats: 2\n",
      "- no-Gloves: 2\n",
      "- no-Reflective_vests: 2\n",
      "- no-Security_boots: 2\n"
     ]
    },
    {
     "name": "stderr",
     "output_type": "stream",
     "text": [
      "Setting `pad_token_id` to `eos_token_id`:None for open-end generation.\n"
     ]
    },
    {
     "name": "stdout",
     "output_type": "stream",
     "text": [
      "Answer: - People: 3\n",
      "- no-Hard_hats: 0\n",
      "- no-Gloves: 0\n",
      "- no-Reflective_vests: 0\n",
      "- no-Security_boots: 0\n",
      "\n",
      "All three individuals are wearing hard hats, which are a type of PPE.\n"
     ]
    },
    {
     "name": "stderr",
     "output_type": "stream",
     "text": [
      "Setting `pad_token_id` to `eos_token_id`:None for open-end generation.\n"
     ]
    },
    {
     "name": "stdout",
     "output_type": "stream",
     "text": [
      "Answer: - People: 2\n",
      "- no-Hard_hats: 0\n",
      "- no-Gloves: 0\n",
      "- no-Reflective_vests: 0\n",
      "- no-Security_boots: 0\n",
      "\n",
      "Both individuals in the image are wearing hard hats, which are a form of PPE.\n"
     ]
    },
    {
     "name": "stderr",
     "output_type": "stream",
     "text": [
      "Setting `pad_token_id` to `eos_token_id`:None for open-end generation.\n"
     ]
    },
    {
     "name": "stdout",
     "output_type": "stream",
     "text": [
      "Answer: - People: 9\n",
      "- no-Hard_hats: 4\n",
      "- no-Gloves: 4\n",
      "- no-Reflective_vests: 4\n",
      "- no-Security_boots: 4\n",
      "\n",
      "Please note that the image shows a group of people standing in front of a building, and it is not possible to determine if they are wearing PPEs or not without more information. The presence of hard hats, gloves, reflective vests, and security boots would be indicative of a construction or industrial site, but without a clear view of their attire, it is not possible to confirm their presence or absence.\n"
     ]
    },
    {
     "name": "stderr",
     "output_type": "stream",
     "text": [
      "Setting `pad_token_id` to `eos_token_id`:None for open-end generation.\n"
     ]
    },
    {
     "name": "stdout",
     "output_type": "stream",
     "text": [
      "Answer: - People: 5\n",
      "- no-Hard_hats: 0\n",
      "- no-Gloves: 0\n",
      "- no-Reflective_vests: 0\n",
      "- no-Security_boots: 0\n",
      "\n",
      "All individuals in the image are wearing hard hats, which are a type of PPE.\n"
     ]
    },
    {
     "name": "stderr",
     "output_type": "stream",
     "text": [
      "Setting `pad_token_id` to `eos_token_id`:None for open-end generation.\n"
     ]
    },
    {
     "name": "stdout",
     "output_type": "stream",
     "text": [
      "Answer: - People: 2\n",
      "- no-Hard_hats: 0\n",
      "- no-Gloves: 0\n",
      "- no-Reflective_vests: 0\n",
      "- no-Security_boots: 0\n",
      "\n",
      "Both individuals in the image are wearing hard hats, which are a type of PPE.\n"
     ]
    },
    {
     "name": "stderr",
     "output_type": "stream",
     "text": [
      "Setting `pad_token_id` to `eos_token_id`:None for open-end generation.\n"
     ]
    },
    {
     "name": "stdout",
     "output_type": "stream",
     "text": [
      "Answer: - People: 5\n",
      "- no-Hard_hats: 4\n",
      "- no-Gloves: 4\n",
      "- no-Reflective_vests: 4\n",
      "- no-Security_boots: 4\n"
     ]
    },
    {
     "name": "stderr",
     "output_type": "stream",
     "text": [
      "Setting `pad_token_id` to `eos_token_id`:None for open-end generation.\n"
     ]
    },
    {
     "name": "stdout",
     "output_type": "stream",
     "text": [
      "Answer: - People: 12\n",
      "- no-Hard_hats: 0\n",
      "- no-Gloves: 0\n",
      "- no-Reflective_vests: 0\n",
      "- no-Security_boots: 0\n",
      "\n",
      "All individuals in the image are wearing hard hats, gloves, reflective vests, and security boots.\n"
     ]
    },
    {
     "name": "stderr",
     "output_type": "stream",
     "text": [
      "Setting `pad_token_id` to `eos_token_id`:None for open-end generation.\n"
     ]
    },
    {
     "name": "stdout",
     "output_type": "stream",
     "text": [
      "Answer: In the image, there is one person who appears to be a construction worker. He is wearing a black shirt, black pants, and black shoes. He is not wearing a hard hat, gloves, or a high visibility vest. He is also not wearing security boots.\n",
      "\n",
      "Based on the information provided, the following statement can be made:\n",
      "\n",
      "* People: 1\n",
      "* no-Hard_hats: 1\n",
      "* no-Gloves: 1\n",
      "* no-Reflective_vests: 1\n",
      "* no-Security_boots: 1\n"
     ]
    },
    {
     "name": "stderr",
     "output_type": "stream",
     "text": [
      "Setting `pad_token_id` to `eos_token_id`:None for open-end generation.\n"
     ]
    },
    {
     "name": "stdout",
     "output_type": "stream",
     "text": [
      "Answer: - People: 10\n",
      "- no-Hard_hats: 7\n",
      "- no-Gloves: 7\n",
      "- no-Reflective_vests: 7\n",
      "- no-Security_boots: 7\n",
      "Answer: - People: 4\n",
      "- no-Hard_hats: 1\n",
      "- no-Gloves: 1\n",
      "- no-Reflective_vests: 1\n",
      "- no-Security_boots: 1\n"
     ]
    }
   ],
   "source": [
    "import os\n",
    "import time\n",
    "import re\n",
    "from PIL import Image\n",
    "\n",
    "input_dir = \"/kaggle/input/ppe-detection-no-ppe-llava-v2/test/images\"\n",
    "output_dir = \"/kaggle/working/test_set\"\n",
    "\n",
    "# Ensure the output directory exists\n",
    "os.makedirs(output_dir, exist_ok=True)\n",
    "\n",
    "# Loop through each image in the directory\n",
    "for filename in os.listdir(input_dir):\n",
    "    if filename.endswith(\".jpg\") or filename.endswith(\".png\"):\n",
    "        file_path = os.path.join(input_dir, filename)\n",
    "        \n",
    "        # Open image\n",
    "        image = Image.open(file_path)\n",
    "\n",
    "        # Combine all questions into one prompt\n",
    "        question = (\n",
    "            \"Are there PPEs in the scene? \"\n",
    "            \"Are there blue, orange or yellow high visibility vests in the scene? \"\n",
    "            \"Are there gloves? \"\n",
    "            \"Are there security boots? \"\n",
    "            \"Are there hard hats? \"\n",
    "            \"Count people who doesn't wear PPE in the picture, I'll make you an example:\\n\"\n",
    "            \"    - People: {number of people}\\n\"\n",
    "            \"    - no-Hard_hats: {number of Hard_hats}\\n\"\n",
    "            \"    - no-Gloves: {number of Gloves}\\n\"\n",
    "            \"    - no-Reflective_vests: {number of Reflective_vests}\\n\"\n",
    "            \"    - no-Security_boots: {number of Security_boots}\\n\"\n",
    "        )\n",
    "\n",
    "        # Create the conversation\n",
    "        conversation = [\n",
    "            {   \n",
    "                \"role\": \"user\",\n",
    "                \"content\": [\n",
    "                    {\"type\": \"image\"},\n",
    "                ],\n",
    "            },\n",
    "            {\n",
    "                \"role\": \"user\",\n",
    "                \"content\": [\n",
    "                    {\"type\": \"text\", \"text\": question},\n",
    "                ],\n",
    "            }\n",
    "        ]\n",
    "\n",
    "        # Generate prompt and process inputs\n",
    "        prompt = processor.apply_chat_template(conversation, add_generation_prompt=True)\n",
    "        inputs = processor(prompt, image, return_tensors=\"pt\").to(\"cuda:0\")\n",
    "        # Start measuring time for image processing\n",
    "        \n",
    "        start_time = time.time()\n",
    "        # Generate output from the model\n",
    "        output = model.generate(**inputs, max_new_tokens=1500)\n",
    "        model_output = processor.decode(output[0], skip_special_tokens=True)\n",
    "        elapsed_time = time.time() - start_time\n",
    "\n",
    "        # Remove the question and any unwanted tokens from the output\n",
    "        # For example, remove everything between '[INST]' and '[/INST]'\n",
    "        cleaned_output = re.sub(r'\\[INST\\](.*?)\\[/INST\\]', '', model_output, flags=re.DOTALL)\n",
    "\n",
    "        # Remove any extra whitespace\n",
    "        answer_only = cleaned_output.strip()\n",
    "\n",
    "        # Print the response\n",
    "        print(f\"Answer: {answer_only}\")\n",
    "\n",
    "        # Save the output to a text file\n",
    "        output_file_path = os.path.join(output_dir, f\"{os.path.splitext(filename)[0]}_output.txt\")\n",
    "        with open(output_file_path, \"w\") as output_file:\n",
    "            output_file.write(f\"Image filename: {filename}\\n{answer_only}\\n\")\n",
    "            output_file.write(f\"Processing time: {elapsed_time:.4f} seconds\\n\")\n",
    "\n",
    "        # print(f\"Processed {filename} in {elapsed_time:.4f} seconds, output saved to {output_file_path}\")\n",
    "        # print(\"-\" * 100)"
   ]
  },
  {
   "cell_type": "code",
   "execution_count": 6,
   "id": "889f7c08",
   "metadata": {
    "execution": {
     "iopub.execute_input": "2024-10-24T23:45:44.457127Z",
     "iopub.status.busy": "2024-10-24T23:45:44.456782Z",
     "iopub.status.idle": "2024-10-24T23:45:44.484420Z",
     "shell.execute_reply": "2024-10-24T23:45:44.483542Z"
    },
    "papermill": {
     "duration": 0.159807,
     "end_time": "2024-10-24T23:45:44.486330",
     "exception": false,
     "start_time": "2024-10-24T23:45:44.326523",
     "status": "completed"
    },
    "tags": []
   },
   "outputs": [],
   "source": [
    "mapping = [\n",
    "    (\"Worker\", \"People:\"),\n",
    "    (\"no-vest\", \"no-Reflective_vests:\"),\n",
    "    (\"no-shoes\", \"no-Security_boots:\"),\n",
    "    (\"no-gloves\", \"no-Gloves:\"),\n",
    "    (\"no-helmet\", \"no-Hard_hats:\"),\n",
    "]\n",
    "\n",
    "def calculate_metrics(ground_truth, predictions, mapping):\n",
    "    metrics = {\"TP\": 0, \"FP\": 0, \"FN\": 0}\n",
    "    for class_name, model_key in mapping:\n",
    "        if model_key is None:\n",
    "            pred_count = 0  # No prediction for this class\n",
    "        else:\n",
    "            pred_count = predictions.get(model_key, 0)\n",
    "        true_count = ground_truth.get(class_name, 0)\n",
    "        \n",
    "        if pred_count == true_count:\n",
    "            metrics[\"TP\"] += true_count\n",
    "        elif true_count > pred_count:\n",
    "            metrics[\"TP\"] += pred_count\n",
    "            metrics[\"FN\"] += (true_count - pred_count)\n",
    "        else:\n",
    "            metrics[\"TP\"] += true_count\n",
    "            metrics[\"FP\"] += (pred_count - true_count)\n",
    "    \n",
    "    return metrics\n",
    "\n",
    "def calculate_metrics_per_DPI(ground_truth, predictions, mapping, dpi):\n",
    "    metrics = {\"TP\": 0, \"FP\": 0, \"FN\": 0}\n",
    "    for class_name, model_key in mapping:\n",
    "        if model_key is None or dpi != model_key.strip(\":\"):\n",
    "            continue  # Skip if the current class does not match the DPI we're focusing on\n",
    "        \n",
    "        pred_count = predictions.get(model_key, 0)\n",
    "        true_count = ground_truth.get(class_name, 0)\n",
    "        \n",
    "        if pred_count == true_count:\n",
    "            metrics[\"TP\"] += true_count\n",
    "        elif true_count > pred_count:\n",
    "            metrics[\"TP\"] += pred_count\n",
    "            metrics[\"FN\"] += (true_count - pred_count)\n",
    "        else:\n",
    "            metrics[\"TP\"] += true_count\n",
    "            metrics[\"FP\"] += (pred_count - true_count)\n",
    "    \n",
    "    return metrics\n",
    "\n",
    "    \n",
    "\n",
    "def read_ground_truth(file_path):\n",
    "    ground_truth = {}\n",
    "    with open(file_path, 'r') as f:\n",
    "        for line in f:\n",
    "            elements = line.split()\n",
    "            class_id = int(elements[0])\n",
    "            if class_id == 2:\n",
    "                ground_truth[\"no-gloves\"] = ground_truth.get(\"no-gloves\", 0) + 1\n",
    "            elif class_id == 3:\n",
    "                ground_truth[\"no-helmet\"] = ground_truth.get(\"no-helmet\", 0) + 1\n",
    "            elif class_id == 6:\n",
    "                ground_truth[\"Worker\"] = ground_truth.get(\"Worker\", 0) + 1\n",
    "            elif class_id == 4:\n",
    "                ground_truth[\"no-shoes\"] = ground_truth.get(\"no-shoes\", 0) + 1\n",
    "            elif class_id == 5:\n",
    "                ground_truth[\"no-vest\"] = ground_truth.get(\"no-vest\", 0) + 1\n",
    "    return ground_truth\n",
    "\n",
    "\n",
    "def extract_json_from_file(file_path):\n",
    "    result = {}\n",
    "    found = False\n",
    "    with open(file_path, 'r') as file:\n",
    "        lines = file.readlines()\n",
    "        for line in lines:\n",
    "            line = line.lstrip()\n",
    "            if line.startswith('-'):\n",
    "                DPI = ''\n",
    "                found = True\n",
    "                words = line.split()\n",
    "                flag = True\n",
    "                for word in words:\n",
    "                    if not flag: \n",
    "                        break\n",
    "                    if word == 'People:' or word == 'no-Gloves:' or word == 'no-Security_boots:' or word == 'no-Reflective_vests:' or word == 'no-Hard_hats:':\n",
    "                        DPI = word\n",
    "                        found = True\n",
    "                    if word.isdigit():\n",
    "                        result[DPI] = result.get(DPI, 0) + int(word)\n",
    "                        flag = False\n",
    "                    if word == 'Yes':\n",
    "                        result[DPI] = result.get(DPI, 0) + 1\n",
    "                        flag = False\n",
    "                    if word == 'No' or word.lower() == 'not':\n",
    "                        result[DPI] = result.get(DPI, 0)\n",
    "                        flag = False\n",
    "        if not found:\n",
    "            result['People:'] = result.get('People:', 0)\n",
    "            result['no-Gloves:'] = result.get('no-Gloves:', 0)\n",
    "            result['no-Security_boots:'] = result.get('no-Security_boots:', 0)\n",
    "            result['no-Reflective_vests:'] = result.get('no-Reflective_vests:', 0)\n",
    "            result['no-Hard_hats:'] = result.get('no-Hard_hats:', 0)\n",
    "    #print(f'result: {result}')\n",
    "    return result\n",
    "            \n",
    "                \n",
    "\n",
    "def filter_greater_than_zero(data):\n",
    "    return {key: value for key, value in data.items() if value > 0}\n",
    "\n",
    "def calculate_classification_metrics(metrics):\n",
    "    TP = metrics[\"TP\"]\n",
    "    FP = metrics[\"FP\"]\n",
    "    FN = metrics[\"FN\"]\n",
    "    \n",
    "    accuracy = TP / (TP + FP + FN) if (TP + FP + FN) > 0 else 0\n",
    "    precision = TP / (TP + FP) if (TP + FP) > 0 else 0\n",
    "    recall = TP / (TP + FN) if (TP + FN) > 0 else 0\n",
    "    f1_score = 2 * (precision * recall) / (precision + recall) if (precision + recall) > 0 else 0\n",
    "    return {\n",
    "        \"accuracy\": accuracy,\n",
    "        \"precision\": precision,\n",
    "        \"recall\": recall,\n",
    "        \"f1_score\": f1_score\n",
    "    }\n",
    "\n",
    "def save_metrics_to_file(metrics, output_folder, file_name):\n",
    "    output_path = os.path.join(output_folder, f\"{file_name}_metrics.json\")\n",
    "    with open(output_path, 'w') as f:\n",
    "        json.dump(metrics, f, indent=4)\n",
    "    #print(f\"Metrics saved to {output_path}\")\n",
    "    \n",
    "def calculate_final_metrics(all_metrics):\n",
    "    total_accuracy = 0\n",
    "    total_precision = 0\n",
    "    total_recall = 0\n",
    "    total_f1_score = 0\n",
    "    n = len(all_metrics)\n",
    "    # Somma i valori delle metriche per ciascun file\n",
    "    for metric in all_metrics:\n",
    "        total_accuracy += metric['accuracy']\n",
    "        total_precision += metric['precision']\n",
    "        total_recall += metric['recall']\n",
    "        total_f1_score += metric['f1_score']\n",
    "\n",
    "        \n",
    "    # Calcola la media per ciascuna metrica\n",
    "    final_metrics = {\n",
    "        \"final_accuracy\": total_accuracy / n, \n",
    "        \"final_precision\": total_precision / n, \n",
    "        \"final_recall\": total_recall / n, \n",
    "        \"final_f1_score\": total_f1_score / n\n",
    "    }\n",
    "    return final_metrics"
   ]
  },
  {
   "cell_type": "code",
   "execution_count": 7,
   "id": "0ca19423",
   "metadata": {
    "execution": {
     "iopub.execute_input": "2024-10-24T23:45:44.755307Z",
     "iopub.status.busy": "2024-10-24T23:45:44.754929Z",
     "iopub.status.idle": "2024-10-24T23:45:47.108287Z",
     "shell.execute_reply": "2024-10-24T23:45:47.107256Z"
    },
    "papermill": {
     "duration": 2.495213,
     "end_time": "2024-10-24T23:45:47.110317",
     "exception": false,
     "start_time": "2024-10-24T23:45:44.615104",
     "status": "completed"
    },
    "tags": []
   },
   "outputs": [
    {
     "name": "stdout",
     "output_type": "stream",
     "text": [
      "000003_jpg.rf.d40443db19285b9a9946c11744788b4e.txt 000003_jpg.rf.d40443db19285b9a9946c11744788b4e_output.txt\n",
      "gt: {'Worker': 1, 'no-gloves': 2, 'no-vest': 1}\n",
      "prediction: {'People:': 1}\n",
      "\n",
      "000007_jpg.rf.b0dc72be378912149acb5cdff9467226.txt 000007_jpg.rf.b0dc72be378912149acb5cdff9467226_output.txt\n",
      "gt: {'Worker': 9, 'no-vest': 9, 'no-helmet': 13, 'no-shoes': 20, 'no-gloves': 13}\n",
      "prediction: {'People:': 18, 'no-Hard_hats:': 13, 'no-Gloves:': 15, 'no-Reflective_vests:': 16, 'no-Security_boots:': 17}\n",
      "\n",
      "000011_jpg.rf.49004c4398611bd1bb489d5e00bef241.txt 000011_jpg.rf.49004c4398611bd1bb489d5e00bef241_output.txt\n",
      "gt: {'Worker': 4}\n",
      "prediction: {'People:': 5}\n",
      "\n",
      "000038_jpg.rf.1130ff13d1eae8edfe3ac8062e85fcbc.txt 000038_jpg.rf.1130ff13d1eae8edfe3ac8062e85fcbc_output.txt\n",
      "gt: {'Worker': 2, 'no-helmet': 2, 'no-shoes': 4}\n",
      "prediction: {'People:': 2}\n",
      "\n",
      "000047_jpg.rf.d84b4eef009d0b8940346cbfcb27aa37.txt 000047_jpg.rf.d84b4eef009d0b8940346cbfcb27aa37_output.txt\n",
      "gt: {'Worker': 10, 'no-vest': 9, 'no-helmet': 8, 'no-shoes': 8, 'no-gloves': 11}\n",
      "prediction: {'People:': 10, 'no-Hard_hats:': 7, 'no-Gloves:': 7, 'no-Reflective_vests:': 7, 'no-Security_boots:': 7}\n",
      "\n",
      "000059_jpg.rf.78dbc7b805060ce84bb5abe7390ea2ea.txt 000059_jpg.rf.78dbc7b805060ce84bb5abe7390ea2ea_output.txt\n",
      "gt: {'Worker': 11, 'no-vest': 4, 'no-gloves': 3, 'no-helmet': 1, 'no-shoes': 5}\n",
      "prediction: {'People:': 12, 'no-Hard_hats:': 10, 'no-Gloves:': 10, 'no-Reflective_vests:': 10, 'no-Security_boots:': 10}\n",
      "\n",
      "000074_jpg.rf.a08d3e43f1e2ecf69a91575b31ef6350.txt 000074_jpg.rf.a08d3e43f1e2ecf69a91575b31ef6350_output.txt\n",
      "gt: {'Worker': 2, 'no-vest': 1, 'no-gloves': 3}\n",
      "prediction: {'People:': 4, 'no-Hard_hats:': 1, 'no-Gloves:': 1, 'no-Reflective_vests:': 1, 'no-Security_boots:': 1}\n",
      "\n",
      "000080_jpg.rf.f71b3ca0d53611a5cafdadf815bf08f7.txt 000080_jpg.rf.f71b3ca0d53611a5cafdadf815bf08f7_output.txt\n",
      "gt: {'Worker': 3, 'no-helmet': 1}\n",
      "prediction: {'People:': 3}\n",
      "\n",
      "000087_jpg.rf.ec9cc9dbbca8ace5ba6780a12d22842c.txt 000087_jpg.rf.ec9cc9dbbca8ace5ba6780a12d22842c_output.txt\n",
      "gt: {'Worker': 1, 'no-vest': 1}\n",
      "prediction: {'People:': 1}\n",
      "\n",
      "000099_jpg.rf.5cfab9af85fab2f10af5bc6dba43a1a7.txt 000099_jpg.rf.5cfab9af85fab2f10af5bc6dba43a1a7_output.txt\n",
      "gt: {'Worker': 3, 'no-gloves': 1}\n",
      "prediction: {'People:': 3}\n",
      "\n",
      "000112_jpg.rf.8720f21b094b332ca0d232845c78bebb.txt 000112_jpg.rf.8720f21b094b332ca0d232845c78bebb_output.txt\n",
      "gt: {'Worker': 3, 'no-gloves': 4}\n",
      "prediction: {'People:': 3, 'no-Hard_hats:': 1, 'no-Gloves:': 1, 'no-Reflective_vests:': 1, 'no-Security_boots:': 1}\n",
      "\n",
      "000139_jpg.rf.3adf28e0ab1eb59d719f487b7455fcbe.txt 000139_jpg.rf.3adf28e0ab1eb59d719f487b7455fcbe_output.txt\n",
      "gt: {'Worker': 2, 'no-helmet': 2, 'no-vest': 2, 'no-gloves': 2}\n",
      "prediction: {'People:': 2, 'no-Hard_hats:': 1, 'no-Gloves:': 1, 'no-Reflective_vests:': 1, 'no-Security_boots:': 1}\n",
      "\n",
      "000159_jpg.rf.14e4f61408d57cf1796e52b134937587.txt 000159_jpg.rf.14e4f61408d57cf1796e52b134937587_output.txt\n",
      "gt: {'Worker': 5, 'no-vest': 3, 'no-helmet': 3, 'no-gloves': 7, 'no-shoes': 4}\n",
      "prediction: {'People:': 3, 'no-Hard_hats:': 3, 'no-Gloves:': 3, 'no-Reflective_vests:': 3, 'no-Security_boots:': 3}\n",
      "\n",
      "000163_jpg.rf.93fc2da24e45edda4a1c82ae462b9ac5.txt 000163_jpg.rf.93fc2da24e45edda4a1c82ae462b9ac5_output.txt\n",
      "gt: {'Worker': 10, 'no-helmet': 5, 'no-vest': 2, 'no-gloves': 1, 'no-shoes': 1}\n",
      "prediction: {'People:': 3, 'no-Hard_hats:': 1, 'no-Gloves:': 1, 'no-Reflective_vests:': 1, 'no-Security_boots:': 1}\n",
      "\n",
      "000180_jpg.rf.a949fac8a59945767ce537583d628791.txt 000180_jpg.rf.a949fac8a59945767ce537583d628791_output.txt\n",
      "gt: {'Worker': 5, 'no-vest': 5, 'no-helmet': 6, 'no-shoes': 7, 'no-gloves': 4}\n",
      "prediction: {'People:': 7, 'no-Hard_hats:': 7, 'no-Gloves:': 7, 'no-Reflective_vests:': 7, 'no-Security_boots:': 7}\n",
      "\n",
      "000188_jpg.rf.de07276f3b42baf694151e0e4a2ab667.txt 000188_jpg.rf.de07276f3b42baf694151e0e4a2ab667_output.txt\n",
      "gt: {'Worker': 6, 'no-helmet': 3, 'no-vest': 6, 'no-gloves': 6, 'no-shoes': 7}\n",
      "prediction: {'People:': 10, 'no-Hard_hats:': 6, 'no-Gloves:': 6, 'no-Reflective_vests:': 6, 'no-Security_boots:': 6}\n",
      "\n",
      "000190_jpg.rf.527c7e3efdf948f5d10358d75eb02a8b.txt 000190_jpg.rf.527c7e3efdf948f5d10358d75eb02a8b_output.txt\n",
      "gt: {'Worker': 4, 'no-gloves': 2, 'no-shoes': 4}\n",
      "prediction: {'People:': 4}\n",
      "\n",
      "000193_jpg.rf.7b751276fe16df5be9e056ad916ab428.txt 000193_jpg.rf.7b751276fe16df5be9e056ad916ab428_output.txt\n",
      "gt: {'Worker': 2, 'no-helmet': 1, 'no-vest': 2, 'no-shoes': 2}\n",
      "prediction: {'People:': 2, 'no-Hard_hats:': 1, 'no-Gloves:': 1, 'no-Reflective_vests:': 1, 'no-Security_boots:': 1}\n",
      "\n",
      "000239_jpg.rf.9d6de3e306e3bd83e2aa9b8132a08a00.txt 000239_jpg.rf.9d6de3e306e3bd83e2aa9b8132a08a00_output.txt\n",
      "gt: {'Worker': 2, 'no-vest': 1, 'no-gloves': 2}\n",
      "prediction: {'People:': 2}\n",
      "\n",
      "000240_jpg.rf.e969caf8db860772ba66227ba07218bf.txt 000240_jpg.rf.e969caf8db860772ba66227ba07218bf_output.txt\n",
      "gt: {'Worker': 12, 'no-vest': 11, 'no-gloves': 2, 'no-helmet': 3, 'no-shoes': 16}\n",
      "prediction: {'People:': 15, 'no-Hard_hats:': 1, 'no-Gloves:': 1, 'no-Reflective_vests:': 1, 'no-Security_boots:': 1}\n",
      "\n",
      "000241_jpg.rf.6b1df94d33d8ae0a397c06ddb6897974.txt 000241_jpg.rf.6b1df94d33d8ae0a397c06ddb6897974_output.txt\n",
      "gt: {'Worker': 3, 'no-vest': 1, 'no-gloves': 5}\n",
      "prediction: {'People:': 3}\n",
      "\n",
      "000242_jpg.rf.aca73904c9feecc612dd00ba375ac2c0.txt 000242_jpg.rf.aca73904c9feecc612dd00ba375ac2c0_output.txt\n",
      "gt: {'Worker': 5}\n",
      "prediction: {'People:': 5}\n",
      "\n",
      "000243_jpg.rf.8365ff9ec85f01f67f98bd489c3f5a57.txt 000243_jpg.rf.8365ff9ec85f01f67f98bd489c3f5a57_output.txt\n",
      "gt: {'Worker': 7, 'no-vest': 6}\n",
      "prediction: {'People:': 7, 'no-Hard_hats:': 2, 'no-Gloves:': 2, 'no-Reflective_vests:': 2, 'no-Security_boots:': 2}\n",
      "\n",
      "000244_jpg.rf.4600979cc15d2693a04b29936476e87c.txt 000244_jpg.rf.4600979cc15d2693a04b29936476e87c_output.txt\n",
      "gt: {'Worker': 6, 'no-helmet': 1}\n",
      "prediction: {'People:': 5}\n",
      "\n",
      "000245_jpg.rf.f69ed86ce8828dedbf2fd4087cc2a479.txt 000245_jpg.rf.f69ed86ce8828dedbf2fd4087cc2a479_output.txt\n",
      "gt: {'Worker': 6, 'no-gloves': 4}\n",
      "prediction: {'People:': 7, 'no-Hard_hats:': 1, 'no-Gloves:': 1, 'no-Reflective_vests:': 1, 'no-Security_boots:': 1}\n",
      "\n",
      "000246_jpg.rf.08e72b34c5c2272a36d07592c79e19ea.txt 000246_jpg.rf.08e72b34c5c2272a36d07592c79e19ea_output.txt\n",
      "gt: {'Worker': 22, 'no-vest': 4}\n",
      "prediction: {'People:': 15}\n",
      "\n",
      "000258_jpg.rf.19b512d88bdc48a3718b07dbca87320f.txt 000258_jpg.rf.19b512d88bdc48a3718b07dbca87320f_output.txt\n",
      "gt: {'Worker': 5, 'no-shoes': 1, 'no-gloves': 5, 'no-vest': 1}\n",
      "prediction: {'People:': 5, 'no-Hard_hats:': 1, 'no-Gloves:': 1, 'no-Reflective_vests:': 1, 'no-Security_boots:': 1}\n",
      "\n",
      "000260_jpg.rf.66cf16d23c90a09f16c1349beb8d1a2e.txt 000260_jpg.rf.66cf16d23c90a09f16c1349beb8d1a2e_output.txt\n",
      "gt: {'Worker': 8, 'no-shoes': 9, 'no-gloves': 11}\n",
      "prediction: {'People:': 7, 'no-Hard_hats:': 1, 'no-Gloves:': 1, 'no-Reflective_vests:': 1, 'no-Security_boots:': 1}\n",
      "\n",
      "000263_jpg.rf.ea429cbc1e50fde426be08f1e564a225.txt 000263_jpg.rf.ea429cbc1e50fde426be08f1e564a225_output.txt\n",
      "gt: {'Worker': 3, 'no-vest': 3, 'no-gloves': 1}\n",
      "prediction: {'People:': 3}\n",
      "\n",
      "000267_jpg.rf.c866c5396621d9259734b4d86f98564c.txt 000267_jpg.rf.c866c5396621d9259734b4d86f98564c_output.txt\n",
      "gt: {'Worker': 3, 'no-vest': 3, 'no-shoes': 4}\n",
      "prediction: {'People:': 3, 'no-Hard_hats:': 2, 'no-Gloves:': 2, 'no-Reflective_vests:': 2, 'no-Security_boots:': 2}\n",
      "\n",
      "000272_jpg.rf.865aebe1e5f716ceeba593961c45f801.txt 000272_jpg.rf.865aebe1e5f716ceeba593961c45f801_output.txt\n",
      "gt: {'Worker': 2, 'no-vest': 2, 'no-gloves': 2}\n",
      "prediction: {'People:': 2}\n",
      "\n",
      "000274_jpg.rf.afe38f0d22a4a8799c0917419ea149b7.txt 000274_jpg.rf.afe38f0d22a4a8799c0917419ea149b7_output.txt\n",
      "gt: {'Worker': 7, 'no-gloves': 4}\n",
      "prediction: {'People:': 6}\n",
      "\n",
      "000276_jpg.rf.0fbd13ba97a0323ddfac7d066f88f8ae.txt 000276_jpg.rf.0fbd13ba97a0323ddfac7d066f88f8ae_output.txt\n",
      "gt: {'Worker': 1, 'no-vest': 1}\n",
      "prediction: {'People:': 1}\n",
      "\n",
      "000279_jpg.rf.22b3c8142799941b0413a21d21dc3010.txt 000279_jpg.rf.22b3c8142799941b0413a21d21dc3010_output.txt\n",
      "gt: {'Worker': 3, 'no-gloves': 4}\n",
      "prediction: {'People:': 3}\n",
      "\n",
      "000280_jpg.rf.bda7408107b9d28d6ea70e588200b980.txt 000280_jpg.rf.bda7408107b9d28d6ea70e588200b980_output.txt\n",
      "gt: {'Worker': 2, 'no-vest': 2, 'no-shoes': 3}\n",
      "prediction: {'People:': 2}\n",
      "\n",
      "000282_jpg.rf.08f4d728fb25c4b95d5dc28f0387ca14.txt 000282_jpg.rf.08f4d728fb25c4b95d5dc28f0387ca14_output.txt\n",
      "gt: {'Worker': 2, 'no-gloves': 3, 'no-vest': 2}\n",
      "prediction: {'People:': 2, 'no-Hard_hats:': 1, 'no-Gloves:': 1, 'no-Reflective_vests:': 1, 'no-Security_boots:': 1}\n",
      "\n",
      "000282_jpg.rf.306cacae4a7b8e0e620a9fc6905026ac.txt 000282_jpg.rf.306cacae4a7b8e0e620a9fc6905026ac_output.txt\n",
      "gt: {'Worker': 2, 'no-vest': 2, 'no-gloves': 3}\n",
      "prediction: {'People:': 2, 'no-Hard_hats:': 1, 'no-Gloves:': 1, 'no-Reflective_vests:': 1, 'no-Security_boots:': 1}\n",
      "\n",
      "000283_jpg.rf.18fa09d125cf38258ebf6921ce7a4651.txt 000283_jpg.rf.18fa09d125cf38258ebf6921ce7a4651_output.txt\n",
      "gt: {'Worker': 2, 'no-helmet': 2}\n",
      "prediction: {'People:': 2, 'no-Hard_hats:': 2, 'no-Gloves:': 2, 'no-Reflective_vests:': 2, 'no-Security_boots:': 2}\n",
      "\n",
      "000284_jpg.rf.cc485ec07cad5cdf1fc6ea0b29d198e2.txt 000284_jpg.rf.cc485ec07cad5cdf1fc6ea0b29d198e2_output.txt\n",
      "gt: {'Worker': 4, 'no-helmet': 3, 'no-vest': 4, 'no-shoes': 4}\n",
      "prediction: {'People:': 3, 'no-Hard_hats:': 1, 'no-Gloves:': 1, 'no-Reflective_vests:': 1, 'no-Security_boots:': 1}\n",
      "\n",
      "000285_jpg.rf.656f0a0be3151a66a4ddf3542e3d442c.txt 000285_jpg.rf.656f0a0be3151a66a4ddf3542e3d442c_output.txt\n",
      "gt: {'Worker': 4, 'no-vest': 4, 'no-gloves': 1}\n",
      "prediction: {'People:': 4, 'no-Hard_hats:': 1, 'no-Gloves:': 1, 'no-Reflective_vests:': 1, 'no-Security_boots:': 1}\n",
      "\n",
      "000286_jpg.rf.acf34a7332fa093e27fd96211e15c4c5.txt 000286_jpg.rf.acf34a7332fa093e27fd96211e15c4c5_output.txt\n",
      "gt: {'Worker': 2, 'no-gloves': 3}\n",
      "prediction: {'People:': 2}\n",
      "\n",
      "000287_jpg.rf.022a44d8f3ff58a8496183a8c4653e04.txt 000287_jpg.rf.022a44d8f3ff58a8496183a8c4653e04_output.txt\n",
      "gt: {'Worker': 3, 'no-gloves': 1, 'no-shoes': 4}\n",
      "prediction: {'People:': 4}\n",
      "\n",
      "000291_jpg.rf.abb8f6825f6076c29873878a266c0ff1.txt 000291_jpg.rf.abb8f6825f6076c29873878a266c0ff1_output.txt\n",
      "gt: {'Worker': 4, 'no-vest': 4, 'no-shoes': 7}\n",
      "prediction: {'People:': 4, 'no-Hard_hats:': 1, 'no-Gloves:': 1, 'no-Reflective_vests:': 1, 'no-Security_boots:': 1}\n",
      "\n",
      "000292_jpg.rf.9188aad07cb2fcb5eea05a8ccd7d0571.txt 000292_jpg.rf.9188aad07cb2fcb5eea05a8ccd7d0571_output.txt\n",
      "gt: {'Worker': 3, 'no-vest': 2, 'no-gloves': 2}\n",
      "prediction: {'People:': 3}\n",
      "\n",
      "000294_jpg.rf.d909224ec25b43f8d3bfdfb6a7b1e987.txt 000294_jpg.rf.d909224ec25b43f8d3bfdfb6a7b1e987_output.txt\n",
      "gt: {'Worker': 3, 'no-vest': 3}\n",
      "prediction: {'People:': 3, 'no-Hard_hats:': 1, 'no-Gloves:': 1, 'no-Reflective_vests:': 1, 'no-Security_boots:': 1}\n",
      "\n",
      "000295_jpg.rf.09adab3668abff6289f7277c6c76f126.txt 000295_jpg.rf.09adab3668abff6289f7277c6c76f126_output.txt\n",
      "gt: {'Worker': 5, 'no-vest': 3, 'no-gloves': 2, 'no-shoes': 3}\n",
      "prediction: {'People:': 6}\n",
      "\n",
      "000299_jpg.rf.7812dd5414b3823ac3e7907de28e1dd3.txt 000299_jpg.rf.7812dd5414b3823ac3e7907de28e1dd3_output.txt\n",
      "gt: {'Worker': 4, 'no-vest': 4, 'no-gloves': 7}\n",
      "prediction: {'People:': 5, 'no-Hard_hats:': 4, 'no-Gloves:': 4, 'no-Reflective_vests:': 4, 'no-Security_boots:': 4}\n",
      "\n",
      "000301_jpg.rf.20a5361e0a4555ae747fe88bd56e5bce.txt 000301_jpg.rf.20a5361e0a4555ae747fe88bd56e5bce_output.txt\n",
      "gt: {'Worker': 2, 'no-vest': 3}\n",
      "prediction: {'People:': 3}\n",
      "\n",
      "000304_jpg.rf.fbfad07df2e0a7ca7bc5ed46edf986cf.txt 000304_jpg.rf.fbfad07df2e0a7ca7bc5ed46edf986cf_output.txt\n",
      "gt: {'Worker': 6, 'no-vest': 6, 'no-helmet': 1, 'no-gloves': 1}\n",
      "prediction: {'People:': 6, 'no-Hard_hats:': 2, 'no-Gloves:': 2, 'no-Reflective_vests:': 2, 'no-Security_boots:': 2}\n",
      "\n",
      "000307_jpg.rf.c49ea2880d676d3a75a035fef0fb035f.txt 000307_jpg.rf.c49ea2880d676d3a75a035fef0fb035f_output.txt\n",
      "gt: {'Worker': 2, 'no-vest': 2, 'no-gloves': 1}\n",
      "prediction: {'People:': 2}\n",
      "\n",
      "000311_jpg.rf.af4966eb9d72b110a4a87599f92dcb28.txt 000311_jpg.rf.af4966eb9d72b110a4a87599f92dcb28_output.txt\n",
      "gt: {'Worker': 7, 'no-gloves': 3}\n",
      "prediction: {'People:': 8}\n",
      "\n",
      "000314_jpg.rf.466c324c021dfcee755e03e0a973eae2.txt 000314_jpg.rf.466c324c021dfcee755e03e0a973eae2_output.txt\n",
      "gt: {'Worker': 8, 'no-vest': 8, 'no-shoes': 4, 'no-helmet': 8, 'no-gloves': 10}\n",
      "prediction: {'People:': 8, 'no-Hard_hats:': 8, 'no-Gloves:': 8, 'no-Reflective_vests:': 8, 'no-Security_boots:': 8}\n",
      "\n",
      "000315_jpg.rf.17396080a9532b77c0c14dad23804adb.txt 000315_jpg.rf.17396080a9532b77c0c14dad23804adb_output.txt\n",
      "gt: {'Worker': 3, 'no-vest': 5, 'no-shoes': 6, 'no-gloves': 6}\n",
      "prediction: {'People:': 5, 'no-Hard_hats:': 2, 'no-Gloves:': 2, 'no-Reflective_vests:': 2, 'no-Security_boots:': 2}\n",
      "\n",
      "000318_jpg.rf.3cff893fa86b55c3b40b61a52e7806d5.txt 000318_jpg.rf.3cff893fa86b55c3b40b61a52e7806d5_output.txt\n",
      "gt: {'Worker': 4, 'no-vest': 4, 'no-gloves': 1}\n",
      "prediction: {'People:': 4}\n",
      "\n",
      "000322_jpg.rf.5d93cfb3843c085142371ce59d3e98b6.txt 000322_jpg.rf.5d93cfb3843c085142371ce59d3e98b6_output.txt\n",
      "gt: {'Worker': 1, 'no-vest': 1, 'no-gloves': 1}\n",
      "prediction: {'People:': 1}\n",
      "\n",
      "000324_jpg.rf.61839584480d0dbf303ef1a62c41d0f8.txt 000324_jpg.rf.61839584480d0dbf303ef1a62c41d0f8_output.txt\n",
      "gt: {'Worker': 3, 'no-vest': 3, 'no-gloves': 3, 'no-shoes': 2}\n",
      "prediction: {'People:': 3}\n",
      "\n",
      "000349_jpg.rf.78089df7e084c7d1d57908a12bf56d8a.txt 000349_jpg.rf.78089df7e084c7d1d57908a12bf56d8a_output.txt\n",
      "gt: {'Worker': 3, 'no-helmet': 3, 'no-vest': 3, 'no-shoes': 3, 'no-gloves': 3}\n",
      "prediction: {'People:': 3, 'no-Hard_hats:': 2, 'no-Gloves:': 2, 'no-Reflective_vests:': 2, 'no-Security_boots:': 2}\n",
      "\n",
      "000350_jpg.rf.c3027d7a7d2ab5bc9f6c134e74b2462c.txt 000350_jpg.rf.c3027d7a7d2ab5bc9f6c134e74b2462c_output.txt\n",
      "gt: {'Worker': 6, 'no-gloves': 4, 'no-vest': 5}\n",
      "prediction: {'People:': 6, 'no-Hard_hats:': 2, 'no-Gloves:': 2, 'no-Reflective_vests:': 2, 'no-Security_boots:': 2}\n",
      "\n",
      "000355_jpg.rf.56186e5007b9ecbfa08e12574b7ee344.txt 000355_jpg.rf.56186e5007b9ecbfa08e12574b7ee344_output.txt\n",
      "gt: {'Worker': 9, 'no-vest': 9, 'no-gloves': 5, 'no-shoes': 6, 'no-helmet': 8}\n",
      "prediction: {'People:': 7, 'no-Hard_hats:': 2, 'no-Gloves:': 2, 'no-Reflective_vests:': 2, 'no-Security_boots:': 2}\n",
      "\n",
      "000356_jpg.rf.4b010b49d50c8b228019320d4d03a51e.txt 000356_jpg.rf.4b010b49d50c8b228019320d4d03a51e_output.txt\n",
      "gt: {'Worker': 10, 'no-shoes': 20, 'no-gloves': 11}\n",
      "prediction: {'People:': 12}\n",
      "\n",
      "000401_jpg.rf.cb52fd90af8a489593369012425eea63.txt 000401_jpg.rf.cb52fd90af8a489593369012425eea63_output.txt\n",
      "gt: {'Worker': 11, 'no-gloves': 10, 'no-shoes': 15}\n",
      "prediction: {'People:': 10}\n",
      "\n",
      "000405_jpg.rf.1e6aeb42a76c8daa89120f87d4098caa.txt 000405_jpg.rf.1e6aeb42a76c8daa89120f87d4098caa_output.txt\n",
      "gt: {'Worker': 4}\n",
      "prediction: {'People:': 4}\n",
      "\n",
      "000432_jpg.rf.c94f6f592356abe77319eccc3d3123a3.txt 000432_jpg.rf.c94f6f592356abe77319eccc3d3123a3_output.txt\n",
      "gt: {'Worker': 6, 'no-vest': 7, 'no-gloves': 1, 'no-shoes': 2, 'no-helmet': 1}\n",
      "prediction: {'People:': 6, 'no-Hard_hats:': 1, 'no-Gloves:': 1, 'no-Reflective_vests:': 1, 'no-Security_boots:': 1}\n",
      "\n",
      "000441_jpg.rf.25f9dbd918810c6179c8d847267533c0.txt 000441_jpg.rf.25f9dbd918810c6179c8d847267533c0_output.txt\n",
      "gt: {'Worker': 5, 'no-gloves': 1}\n",
      "prediction: {'People:': 5}\n",
      "\n",
      "000443_jpg.rf.afd23c6920e3751fa6163466bae9434a.txt 000443_jpg.rf.afd23c6920e3751fa6163466bae9434a_output.txt\n",
      "gt: {'Worker': 5, 'no-vest': 5, 'no-gloves': 7, 'no-shoes': 4, 'no-helmet': 1}\n",
      "prediction: {'People:': 6, 'no-Hard_hats:': 3, 'no-Gloves:': 3, 'no-Reflective_vests:': 3, 'no-Security_boots:': 3}\n",
      "\n",
      "000448_jpg.rf.dbb8911a70d9eb5371af5346a571a90d.txt 000448_jpg.rf.dbb8911a70d9eb5371af5346a571a90d_output.txt\n",
      "gt: {'Worker': 2, 'no-vest': 1, 'no-helmet': 1, 'no-gloves': 2, 'no-shoes': 4}\n",
      "prediction: {'People:': 2}\n",
      "\n",
      "000461_jpg.rf.747ddf7918139680d3fc3e91e990e263.txt 000461_jpg.rf.747ddf7918139680d3fc3e91e990e263_output.txt\n",
      "gt: {'Worker': 3, 'no-vest': 1, 'no-gloves': 4, 'no-shoes': 2}\n",
      "prediction: {'People:': 3}\n",
      "\n",
      "000470_jpg.rf.e06dfb039e34543970920c34c942771a.txt 000470_jpg.rf.e06dfb039e34543970920c34c942771a_output.txt\n",
      "gt: {'Worker': 5, 'no-vest': 5, 'no-helmet': 4, 'no-gloves': 2, 'no-shoes': 5}\n",
      "prediction: {'People:': 5, 'no-Hard_hats:': 4, 'no-Gloves:': 4, 'no-Reflective_vests:': 4, 'no-Security_boots:': 4}\n",
      "\n",
      "000474_jpg.rf.a73d3e3dd79d71b38cdf99faa95a04d3.txt 000474_jpg.rf.a73d3e3dd79d71b38cdf99faa95a04d3_output.txt\n",
      "gt: {'Worker': 11, 'no-gloves': 12}\n",
      "prediction: {'People:': 14}\n",
      "\n",
      "000475_jpg.rf.4155b2aa92dd47b59e0fd3e5be82d0d4.txt 000475_jpg.rf.4155b2aa92dd47b59e0fd3e5be82d0d4_output.txt\n",
      "gt: {'Worker': 2, 'no-vest': 2, 'no-gloves': 2}\n",
      "prediction: {'People:': 2}\n",
      "\n",
      "000479_jpg.rf.93ff500f666d0761080fb990f0bd59ac.txt 000479_jpg.rf.93ff500f666d0761080fb990f0bd59ac_output.txt\n",
      "gt: {'Worker': 1, 'no-helmet': 1, 'no-vest': 1, 'no-gloves': 1}\n",
      "prediction: {'People:': 1, 'no-Hard_hats:': 1, 'no-Gloves:': 1, 'no-Reflective_vests:': 1, 'no-Security_boots:': 1}\n",
      "\n",
      "000480_jpg.rf.215e1cebd70370e62c4c4326a8e1a3ee.txt 000480_jpg.rf.215e1cebd70370e62c4c4326a8e1a3ee_output.txt\n",
      "gt: {'Worker': 1, 'no-vest': 1, 'no-helmet': 1, 'no-gloves': 1}\n",
      "prediction: {}\n",
      "\n",
      "000482_jpg.rf.341858fccd514bf108b16307b3601d8e.txt 000482_jpg.rf.341858fccd514bf108b16307b3601d8e_output.txt\n",
      "gt: {'Worker': 5, 'no-vest': 4, 'no-helmet': 3, 'no-gloves': 3, 'no-shoes': 6}\n",
      "prediction: {'People:': 4, 'no-Hard_hats:': 3, 'no-Gloves:': 3, 'no-Reflective_vests:': 3, 'no-Security_boots:': 3}\n",
      "\n",
      "000483_jpg.rf.bf0309340b8c526f486c315a4c0abe2d.txt 000483_jpg.rf.bf0309340b8c526f486c315a4c0abe2d_output.txt\n",
      "gt: {'Worker': 8, 'no-vest': 7, 'no-helmet': 5, 'no-gloves': 4, 'no-shoes': 9}\n",
      "prediction: {'People:': 7, 'no-Hard_hats:': 4, 'no-Gloves:': 4, 'no-Reflective_vests:': 4, 'no-Security_boots:': 4}\n",
      "\n",
      "000484_jpg.rf.5c56c8b682e829beb4515f9f5da89047.txt 000484_jpg.rf.5c56c8b682e829beb4515f9f5da89047_output.txt\n",
      "gt: {'Worker': 11, 'no-vest': 5, 'no-gloves': 3}\n",
      "prediction: {'People:': 10, 'no-Hard_hats:': 1, 'no-Gloves:': 1, 'no-Reflective_vests:': 1, 'no-Security_boots:': 1}\n",
      "\n",
      "000487_jpg.rf.02447176714a3516b23341d208be0c02.txt 000487_jpg.rf.02447176714a3516b23341d208be0c02_output.txt\n",
      "gt: {'Worker': 3, 'no-gloves': 6}\n",
      "prediction: {'People:': 3}\n",
      "\n",
      "000489_jpg.rf.728a41de13ca061d5b74e11a88905331.txt 000489_jpg.rf.728a41de13ca061d5b74e11a88905331_output.txt\n",
      "gt: {'Worker': 2}\n",
      "prediction: {'People:': 2}\n",
      "\n",
      "000490_jpg.rf.df50ad499a82bf312eb65496dcd24b9f.txt 000490_jpg.rf.df50ad499a82bf312eb65496dcd24b9f_output.txt\n",
      "gt: {'Worker': 3, 'no-vest': 3, 'no-shoes': 1}\n",
      "prediction: {'People:': 3}\n",
      "\n",
      "000493_jpg.rf.edc107361a165d085dbf839f84377460.txt 000493_jpg.rf.edc107361a165d085dbf839f84377460_output.txt\n",
      "gt: {'Worker': 2, 'no-gloves': 4}\n",
      "prediction: {'People:': 2}\n",
      "\n",
      "000494_jpg.rf.57a3d8a5b1b38f62195da8ebbea0d85c.txt 000494_jpg.rf.57a3d8a5b1b38f62195da8ebbea0d85c_output.txt\n",
      "gt: {'Worker': 5, 'no-vest': 5, 'no-helmet': 5, 'no-shoes': 9}\n",
      "prediction: {'People:': 5, 'no-Hard_hats:': 3, 'no-Gloves:': 3, 'no-Reflective_vests:': 3, 'no-Security_boots:': 3}\n",
      "\n",
      "000498_jpg.rf.6550bca3b67fd036d251f1f7b919928b.txt 000498_jpg.rf.6550bca3b67fd036d251f1f7b919928b_output.txt\n",
      "gt: {'Worker': 2}\n",
      "prediction: {'People:': 2, 'no-Hard_hats:': 1, 'no-Gloves:': 1, 'no-Reflective_vests:': 1, 'no-Security_boots:': 1}\n",
      "\n",
      "000499_jpg.rf.ee0eee20eefd4b3f12dbfac53c0dd13e.txt 000499_jpg.rf.ee0eee20eefd4b3f12dbfac53c0dd13e_output.txt\n",
      "gt: {'Worker': 2, 'no-shoes': 4}\n",
      "prediction: {'People:': 2}\n",
      "\n",
      "000501_jpg.rf.e580b3c83c439a06343f76468e357d57.txt 000501_jpg.rf.e580b3c83c439a06343f76468e357d57_output.txt\n",
      "gt: {'Worker': 4, 'no-vest': 4, 'no-gloves': 6, 'no-shoes': 2}\n",
      "prediction: {'People:': 5}\n",
      "\n",
      "000505_jpg.rf.5b216bec19588be84b271f5247d5b3bc.txt 000505_jpg.rf.5b216bec19588be84b271f5247d5b3bc_output.txt\n",
      "gt: {'Worker': 3, 'no-vest': 3, 'no-helmet': 3, 'no-shoes': 6, 'no-gloves': 4}\n",
      "prediction: {'People:': 3, 'no-Hard_hats:': 3, 'no-Gloves:': 3, 'no-Reflective_vests:': 3, 'no-Security_boots:': 3}\n",
      "\n",
      "000507_jpg.rf.ec3e5ebfb84d0e8118e45d1eceb592cf.txt 000507_jpg.rf.ec3e5ebfb84d0e8118e45d1eceb592cf_output.txt\n",
      "gt: {'Worker': 5, 'no-vest': 5, 'no-helmet': 3, 'no-gloves': 2, 'no-shoes': 1}\n",
      "prediction: {'People:': 6, 'no-Hard_hats:': 4, 'no-Gloves:': 4, 'no-Reflective_vests:': 4, 'no-Security_boots:': 4}\n",
      "\n",
      "000508_jpg.rf.8e80d71396d98d01599371175b1ca54b.txt 000508_jpg.rf.8e80d71396d98d01599371175b1ca54b_output.txt\n",
      "gt: {'Worker': 5, 'no-vest': 5, 'no-helmet': 3, 'no-shoes': 6, 'no-gloves': 1}\n",
      "prediction: {'People:': 5, 'no-Hard_hats:': 4, 'no-Gloves:': 4, 'no-Reflective_vests:': 4, 'no-Security_boots:': 4}\n",
      "\n",
      "000509_jpg.rf.d2c86e90786008613d5f4588645d7f01.txt 000509_jpg.rf.d2c86e90786008613d5f4588645d7f01_output.txt\n",
      "gt: {'Worker': 9, 'no-vest': 9, 'no-helmet': 2, 'no-gloves': 11, 'no-shoes': 17}\n",
      "prediction: {'People:': 9, 'no-Hard_hats:': 4, 'no-Gloves:': 4, 'no-Reflective_vests:': 4, 'no-Security_boots:': 4}\n",
      "\n",
      "000510_jpg.rf.1c988ca6c8a43d564795333c3765180e.txt 000510_jpg.rf.1c988ca6c8a43d564795333c3765180e_output.txt\n",
      "gt: {'Worker': 12, 'no-vest': 12, 'no-gloves': 15, 'no-shoes': 22}\n",
      "prediction: {'People:': 12}\n",
      "\n",
      "000511_jpg.rf.b58f1c01fcf74fdf7cfa769cb34ae4a8.txt 000511_jpg.rf.b58f1c01fcf74fdf7cfa769cb34ae4a8_output.txt\n",
      "gt: {'Worker': 3, 'no-vest': 3, 'no-helmet': 3, 'no-gloves': 1, 'no-shoes': 4}\n",
      "prediction: {'People:': 4, 'no-Hard_hats:': 3, 'no-Gloves:': 3, 'no-Reflective_vests:': 3, 'no-Security_boots:': 3}\n",
      "\n",
      "000513_jpg.rf.ed0cfaa117918aa9dfd65e216e8aaebb.txt 000513_jpg.rf.ed0cfaa117918aa9dfd65e216e8aaebb_output.txt\n",
      "gt: {'Worker': 6, 'no-vest': 5, 'no-helmet': 2, 'no-gloves': 2, 'no-shoes': 2}\n",
      "prediction: {'People:': 6, 'no-Hard_hats:': 2, 'no-Gloves:': 2, 'no-Reflective_vests:': 2, 'no-Security_boots:': 2}\n",
      "\n",
      "000514_jpg.rf.09e0a1fa4b7f92608c4540d4c9b066e7.txt 000514_jpg.rf.09e0a1fa4b7f92608c4540d4c9b066e7_output.txt\n",
      "gt: {'Worker': 5, 'no-vest': 5, 'no-gloves': 5, 'no-shoes': 6}\n",
      "prediction: {'People:': 5}\n",
      "\n",
      "000515_jpg.rf.a3f9b99000446b500859a41d8e59271c.txt 000515_jpg.rf.a3f9b99000446b500859a41d8e59271c_output.txt\n",
      "gt: {'Worker': 6, 'no-vest': 6, 'no-helmet': 6, 'no-shoes': 10, 'no-gloves': 2}\n",
      "prediction: {'People:': 6, 'no-Hard_hats:': 5, 'no-Gloves:': 5, 'no-Reflective_vests:': 5, 'no-Security_boots:': 5}\n",
      "\n",
      "000516_jpg.rf.5824e67e9c5f75c60807384061c8b1f2.txt 000516_jpg.rf.5824e67e9c5f75c60807384061c8b1f2_output.txt\n",
      "gt: {'Worker': 5, 'no-vest': 5, 'no-helmet': 2, 'no-gloves': 4, 'no-shoes': 8}\n",
      "prediction: {'People:': 5, 'no-Hard_hats:': 2, 'no-Gloves:': 2, 'no-Reflective_vests:': 2, 'no-Security_boots:': 2}\n",
      "\n",
      "000517_jpg.rf.a81010dc52953c31a635440cbe8a923f.txt 000517_jpg.rf.a81010dc52953c31a635440cbe8a923f_output.txt\n",
      "gt: {'Worker': 5, 'no-vest': 4, 'no-helmet': 4, 'no-gloves': 4, 'no-shoes': 6}\n",
      "prediction: {'People:': 5, 'no-Hard_hats:': 4, 'no-Gloves:': 4, 'no-Reflective_vests:': 4, 'no-Security_boots:': 4}\n",
      "\n",
      "000518_jpg.rf.39fc76fafe82d72163aed86e0530a2a4.txt 000518_jpg.rf.39fc76fafe82d72163aed86e0530a2a4_output.txt\n",
      "gt: {'Worker': 2, 'no-vest': 2, 'no-helmet': 2, 'no-shoes': 2}\n",
      "prediction: {'People:': 2, 'no-Hard_hats:': 2, 'no-Gloves:': 2, 'no-Reflective_vests:': 2, 'no-Security_boots:': 2}\n",
      "\n",
      "000521_jpg.rf.5355e0595746957c21a2274f4d3ab3f5.txt 000521_jpg.rf.5355e0595746957c21a2274f4d3ab3f5_output.txt\n",
      "gt: {'Worker': 3, 'no-vest': 3, 'no-gloves': 6, 'no-shoes': 5}\n",
      "prediction: {'People:': 3}\n",
      "\n",
      "000521_jpg.rf.e1335e7c8682466c66785ace21cb49c5.txt 000521_jpg.rf.e1335e7c8682466c66785ace21cb49c5_output.txt\n",
      "gt: {'Worker': 3, 'no-gloves': 6, 'no-vest': 3, 'no-shoes': 5}\n",
      "prediction: {'People:': 3}\n",
      "\n",
      "000525_jpg.rf.6db07cb64ae4446f9503d6d25be94d10.txt 000525_jpg.rf.6db07cb64ae4446f9503d6d25be94d10_output.txt\n",
      "gt: {'Worker': 8, 'no-vest': 7, 'no-helmet': 7, 'no-gloves': 7, 'no-shoes': 6}\n",
      "prediction: {'People:': 7, 'no-Hard_hats:': 5, 'no-Gloves:': 5, 'no-Reflective_vests:': 5, 'no-Security_boots:': 5}\n",
      "\n",
      "000528_jpg.rf.83c8ef71c8885cfe69e94306a7dbafc2.txt 000528_jpg.rf.83c8ef71c8885cfe69e94306a7dbafc2_output.txt\n",
      "gt: {'Worker': 9, 'no-vest': 9, 'no-gloves': 12}\n",
      "prediction: {'People:': 10}\n",
      "\n",
      "000529_jpg.rf.1b0658063e15c0b5505f215b73de9c7b.txt 000529_jpg.rf.1b0658063e15c0b5505f215b73de9c7b_output.txt\n",
      "gt: {'Worker': 3, 'no-vest': 3, 'no-helmet': 2, 'no-gloves': 5, 'no-shoes': 2}\n",
      "prediction: {'People:': 3, 'no-Hard_hats:': 2, 'no-Gloves:': 2, 'no-Reflective_vests:': 2, 'no-Security_boots:': 2}\n",
      "\n",
      "000532_jpg.rf.0fcfce2f2d287986eae383b367411b0d.txt 000532_jpg.rf.0fcfce2f2d287986eae383b367411b0d_output.txt\n",
      "gt: {'Worker': 9, 'no-vest': 9, 'no-helmet': 8, 'no-gloves': 9, 'no-shoes': 13}\n",
      "prediction: {'People:': 8, 'no-Hard_hats:': 7, 'no-Gloves:': 7, 'no-Reflective_vests:': 7, 'no-Security_boots:': 7}\n",
      "\n",
      "000533_jpg.rf.f46922de10db39053120f768cf331295.txt 000533_jpg.rf.f46922de10db39053120f768cf331295_output.txt\n",
      "gt: {'Worker': 10, 'no-vest': 10, 'no-helmet': 10, 'no-gloves': 7, 'no-shoes': 11}\n",
      "prediction: {'People:': 13, 'no-Hard_hats:': 12, 'no-Gloves:': 13, 'no-Reflective_vests:': 13, 'no-Security_boots:': 13}\n",
      "\n",
      "000534_jpg.rf.2250634e916178d3ace62c3e4fbb1cb6.txt 000534_jpg.rf.2250634e916178d3ace62c3e4fbb1cb6_output.txt\n",
      "gt: {'Worker': 6, 'no-vest': 6, 'no-gloves': 6, 'no-shoes': 6}\n",
      "prediction: {'People:': 7}\n",
      "\n",
      "000535_jpg.rf.0b3a88375d9e065f49a8028c4a3e6416.txt 000535_jpg.rf.0b3a88375d9e065f49a8028c4a3e6416_output.txt\n",
      "gt: {'Worker': 8, 'no-vest': 8, 'no-helmet': 2, 'no-gloves': 10, 'no-shoes': 8}\n",
      "prediction: {'People:': 8, 'no-Hard_hats:': 3}\n",
      "\n",
      "000536_jpg.rf.5da2000be396e8a9218c3c23512a6ea5.txt 000536_jpg.rf.5da2000be396e8a9218c3c23512a6ea5_output.txt\n",
      "gt: {'Worker': 1, 'no-vest': 1, 'no-gloves': 2}\n",
      "prediction: {'People:': 1}\n",
      "\n",
      "000538_jpg.rf.5121d2629d787c458815e03c44343cbf.txt 000538_jpg.rf.5121d2629d787c458815e03c44343cbf_output.txt\n",
      "gt: {'Worker': 6, 'no-vest': 6, 'no-helmet': 5, 'no-gloves': 10, 'no-shoes': 6}\n",
      "prediction: {'People:': 5, 'no-Hard_hats:': 4, 'no-Gloves:': 4, 'no-Reflective_vests:': 4, 'no-Security_boots:': 4}\n",
      "\n",
      "000541_jpg.rf.5335916e0c7e78b582a1dbf070740de8.txt 000541_jpg.rf.5335916e0c7e78b582a1dbf070740de8_output.txt\n",
      "gt: {'Worker': 6, 'no-vest': 6, 'no-shoes': 4, 'no-gloves': 3}\n",
      "prediction: {'People:': 6, 'no-Hard_hats:': 2, 'no-Gloves:': 2, 'no-Reflective_vests:': 2, 'no-Security_boots:': 2}\n",
      "\n",
      "000542_jpg.rf.cd7655ec5ecbeb46230472ca196d7a76.txt 000542_jpg.rf.cd7655ec5ecbeb46230472ca196d7a76_output.txt\n",
      "gt: {'Worker': 7, 'no-vest': 7, 'no-gloves': 8}\n",
      "prediction: {'People:': 7}\n",
      "\n",
      "000543_jpg.rf.65bc9df0ec92358124942fc6fbb83efd.txt 000543_jpg.rf.65bc9df0ec92358124942fc6fbb83efd_output.txt\n",
      "gt: {'Worker': 11, 'no-vest': 7, 'no-gloves': 8, 'no-helmet': 5, 'no-shoes': 18}\n",
      "prediction: {'People:': 10, 'no-Hard_hats:': 4, 'no-Gloves:': 4, 'no-Reflective_vests:': 4, 'no-Security_boots:': 4}\n",
      "\n",
      "000544_jpg.rf.4c3b01b0ce6a0ece2038e69542a4f0d0.txt 000544_jpg.rf.4c3b01b0ce6a0ece2038e69542a4f0d0_output.txt\n",
      "gt: {'Worker': 2}\n",
      "prediction: {'People:': 2}\n",
      "\n",
      "000550_jpg.rf.045dc61db4051f00398ad2d2ff720b8d.txt 000550_jpg.rf.045dc61db4051f00398ad2d2ff720b8d_output.txt\n",
      "gt: {'Worker': 3, 'no-gloves': 2}\n",
      "prediction: {'People:': 3}\n",
      "\n",
      "000552_jpg.rf.5afcd0a9cf4f2890b750cb4fe721166b.txt 000552_jpg.rf.5afcd0a9cf4f2890b750cb4fe721166b_output.txt\n",
      "gt: {'Worker': 6, 'no-vest': 6, 'no-helmet': 6, 'no-gloves': 6}\n",
      "prediction: {'People:': 5, 'no-Hard_hats:': 5, 'no-Gloves:': 5, 'no-Reflective_vests:': 5, 'no-Security_boots:': 5}\n",
      "\n",
      "000554_jpg.rf.1577206e11b2e6878e739defeb31d758.txt 000554_jpg.rf.1577206e11b2e6878e739defeb31d758_output.txt\n",
      "gt: {'Worker': 4, 'no-vest': 4, 'no-helmet': 4, 'no-shoes': 7, 'no-gloves': 3}\n",
      "prediction: {'People:': 4, 'no-Hard_hats:': 4, 'no-Gloves:': 4, 'no-Reflective_vests:': 4, 'no-Security_boots:': 4}\n",
      "\n",
      "000555_jpg.rf.6f9000b0bcc268c081e6bb21fa9a9ef7.txt 000555_jpg.rf.6f9000b0bcc268c081e6bb21fa9a9ef7_output.txt\n",
      "gt: {'Worker': 10, 'no-shoes': 17, 'no-vest': 9, 'no-gloves': 5, 'no-helmet': 10}\n",
      "prediction: {'People:': 9, 'no-Hard_hats:': 8, 'no-Gloves:': 8, 'no-Reflective_vests:': 8, 'no-Security_boots:': 8}\n",
      "\n",
      "000555_jpg.rf.e05ee9216dac72330fd14206cb2e8567.txt 000555_jpg.rf.e05ee9216dac72330fd14206cb2e8567_output.txt\n",
      "gt: {'Worker': 8, 'no-vest': 8, 'no-helmet': 8, 'no-gloves': 4, 'no-shoes': 14}\n",
      "prediction: {'People:': 9, 'no-Hard_hats:': 8, 'no-Gloves:': 8, 'no-Reflective_vests:': 8, 'no-Security_boots:': 8}\n",
      "\n",
      "000556_jpg.rf.4144f29122c626ab41ff66dc0c06258a.txt 000556_jpg.rf.4144f29122c626ab41ff66dc0c06258a_output.txt\n",
      "gt: {'Worker': 1, 'no-vest': 1, 'no-helmet': 1, 'no-gloves': 2, 'no-shoes': 2}\n",
      "prediction: {'People:': 1, 'no-Hard_hats:': 1, 'no-Gloves:': 1, 'no-Reflective_vests:': 1, 'no-Security_boots:': 1}\n",
      "\n",
      "000560_jpg.rf.2a1f20945de523150f7a46a8f84a8e5c.txt 000560_jpg.rf.2a1f20945de523150f7a46a8f84a8e5c_output.txt\n",
      "gt: {'Worker': 5, 'no-helmet': 3, 'no-gloves': 3, 'no-vest': 5, 'no-shoes': 4}\n",
      "prediction: {'People:': 5, 'no-Hard_hats:': 4, 'no-Gloves:': 4, 'no-Reflective_vests:': 4, 'no-Security_boots:': 4}\n",
      "\n",
      "000564_jpg.rf.92099f747ff932b0143b02a591183ae1.txt 000564_jpg.rf.92099f747ff932b0143b02a591183ae1_output.txt\n",
      "gt: {'Worker': 8, 'no-helmet': 6, 'no-gloves': 5, 'no-vest': 8, 'no-shoes': 13}\n",
      "prediction: {'People:': 7, 'no-Hard_hats:': 7, 'no-Gloves:': 7, 'no-Reflective_vests:': 7, 'no-Security_boots:': 7}\n",
      "\n",
      "000567_jpg.rf.765151e1bdefa004bf6dbe3e2a121304.txt 000567_jpg.rf.765151e1bdefa004bf6dbe3e2a121304_output.txt\n",
      "gt: {'Worker': 10, 'no-vest': 10, 'no-gloves': 11, 'no-shoes': 16}\n",
      "prediction: {'People:': 10, 'no-Hard_hats:': 3, 'no-Gloves:': 3, 'no-Reflective_vests:': 3, 'no-Security_boots:': 3}\n",
      "\n",
      "000572_jpg.rf.4bda4c8fc54c632d50327231428fed2d.txt 000572_jpg.rf.4bda4c8fc54c632d50327231428fed2d_output.txt\n",
      "gt: {'Worker': 6, 'no-vest': 6, 'no-helmet': 6, 'no-gloves': 9, 'no-shoes': 8}\n",
      "prediction: {'People:': 6, 'no-Hard_hats:': 6, 'no-Gloves:': 6, 'no-Reflective_vests:': 6, 'no-Security_boots:': 6}\n",
      "\n",
      "000583_jpg.rf.2600199bc9be306435327a48960c3ae0.txt 000583_jpg.rf.2600199bc9be306435327a48960c3ae0_output.txt\n",
      "gt: {'Worker': 8, 'no-shoes': 7, 'no-vest': 6, 'no-gloves': 1}\n",
      "prediction: {'People:': 5, 'no-Hard_hats:': 2, 'no-Gloves:': 2, 'no-Reflective_vests:': 2, 'no-Security_boots:': 2}\n",
      "\n",
      "000594_jpg.rf.d2d5d5ea74f58a9dbd11a0f5c3192549.txt 000594_jpg.rf.d2d5d5ea74f58a9dbd11a0f5c3192549_output.txt\n",
      "gt: {'Worker': 16, 'no-vest': 8, 'no-helmet': 11, 'no-shoes': 13}\n",
      "prediction: {'People:': 10, 'no-Hard_hats:': 10, 'no-Gloves:': 10, 'no-Reflective_vests:': 10, 'no-Security_boots:': 10}\n",
      "\n",
      "000598_jpg.rf.acaa31f526bea3416c984ff22a208ae3.txt 000598_jpg.rf.acaa31f526bea3416c984ff22a208ae3_output.txt\n",
      "gt: {'Worker': 9, 'no-helmet': 8, 'no-vest': 8, 'no-shoes': 13, 'no-gloves': 4}\n",
      "prediction: {'People:': 10, 'no-Hard_hats:': 9, 'no-Gloves:': 9, 'no-Reflective_vests:': 9, 'no-Security_boots:': 9}\n",
      "\n",
      "000645_jpg.rf.aba45d945ada85e6c6115f4959c0249c.txt 000645_jpg.rf.aba45d945ada85e6c6115f4959c0249c_output.txt\n",
      "gt: {'Worker': 4, 'no-gloves': 6, 'no-vest': 2, 'no-shoes': 4, 'no-helmet': 3}\n",
      "prediction: {'People:': 4, 'no-Hard_hats:': 2, 'no-Gloves:': 2, 'no-Reflective_vests:': 2, 'no-Security_boots:': 2}\n",
      "\n",
      "000663_jpg.rf.7ad60bf079f9ba5be54a4f73f53ff49b.txt 000663_jpg.rf.7ad60bf079f9ba5be54a4f73f53ff49b_output.txt\n",
      "gt: {'Worker': 6, 'no-vest': 4, 'no-gloves': 3}\n",
      "prediction: {'People:': 5, 'no-Hard_hats:': 1, 'no-Gloves:': 1, 'no-Reflective_vests:': 1, 'no-Security_boots:': 1}\n",
      "\n",
      "000674_jpg.rf.0a77da5fd5aeddc72b44226c21af40a9.txt 000674_jpg.rf.0a77da5fd5aeddc72b44226c21af40a9_output.txt\n",
      "gt: {'Worker': 1, 'no-helmet': 1, 'no-vest': 1, 'no-gloves': 2, 'no-shoes': 2}\n",
      "prediction: {'People:': 1, 'no-Hard_hats:': 1, 'no-Gloves:': 1, 'no-Reflective_vests:': 1, 'no-Security_boots:': 1}\n",
      "\n",
      "000687_jpg.rf.6834628dee96d0a251735c889c935770.txt 000687_jpg.rf.6834628dee96d0a251735c889c935770_output.txt\n",
      "gt: {'Worker': 4, 'no-helmet': 2, 'no-vest': 2, 'no-gloves': 2}\n",
      "prediction: {'People:': 4, 'no-Hard_hats:': 2, 'no-Gloves:': 2, 'no-Reflective_vests:': 2, 'no-Security_boots:': 2}\n",
      "\n",
      "000689_jpg.rf.f15b76cdb7ed41ba23b18b6a6c214a34.txt 000689_jpg.rf.f15b76cdb7ed41ba23b18b6a6c214a34_output.txt\n",
      "gt: {'Worker': 2, 'no-vest': 2, 'no-shoes': 2, 'no-gloves': 3}\n",
      "prediction: {'People:': 2}\n",
      "\n",
      "000692_jpg.rf.c6c5d28f6056401573e02f9858bd1fc7.txt 000692_jpg.rf.c6c5d28f6056401573e02f9858bd1fc7_output.txt\n",
      "gt: {'Worker': 7, 'no-vest': 5, 'no-helmet': 3, 'no-shoes': 2}\n",
      "prediction: {'People:': 6, 'no-Hard_hats:': 4, 'no-Gloves:': 4, 'no-Reflective_vests:': 4, 'no-Security_boots:': 4}\n",
      "\n",
      "000702_jpg.rf.fc8ee9b606ea7c267b83c1b4866df022.txt 000702_jpg.rf.fc8ee9b606ea7c267b83c1b4866df022_output.txt\n",
      "gt: {'Worker': 10, 'no-vest': 8, 'no-shoes': 9, 'no-gloves': 3}\n",
      "prediction: {'People:': 10, 'no-Hard_hats:': 7, 'no-Gloves:': 7, 'no-Reflective_vests:': 7, 'no-Security_boots:': 7}\n",
      "\n",
      "000708_jpg.rf.0a33eef1752f95c55f40d6ee8ca6e5a0.txt 000708_jpg.rf.0a33eef1752f95c55f40d6ee8ca6e5a0_output.txt\n",
      "gt: {'Worker': 4, 'no-gloves': 1}\n",
      "prediction: {'People:': 4}\n",
      "\n",
      "000709_jpg.rf.3e4fbbc301f7376b907e8c1eaaafbe52.txt 000709_jpg.rf.3e4fbbc301f7376b907e8c1eaaafbe52_output.txt\n",
      "gt: {'Worker': 7, 'no-shoes': 14, 'no-vest': 7, 'no-gloves': 4, 'no-helmet': 7}\n",
      "prediction: {'People:': 7, 'no-Hard_hats:': 7, 'no-Gloves:': 7, 'no-Reflective_vests:': 7, 'no-Security_boots:': 7}\n",
      "\n",
      "000717_jpg.rf.1de2c5cb058d1552ab14c45e06f71e8f.txt 000717_jpg.rf.1de2c5cb058d1552ab14c45e06f71e8f_output.txt\n",
      "gt: {'Worker': 1}\n",
      "prediction: {'People:': 1}\n",
      "\n",
      "000741_jpg.rf.d1ff4086db9566b4d67619e8cae91090.txt 000741_jpg.rf.d1ff4086db9566b4d67619e8cae91090_output.txt\n",
      "gt: {'Worker': 4, 'no-helmet': 3, 'no-vest': 2, 'no-gloves': 5}\n",
      "prediction: {'People:': 4, 'no-Hard_hats:': 2, 'no-Gloves:': 2, 'no-Reflective_vests:': 2, 'no-Security_boots:': 2}\n",
      "\n",
      "000742_jpg.rf.58ca9862df8ced3516a40868a40ec398.txt 000742_jpg.rf.58ca9862df8ced3516a40868a40ec398_output.txt\n",
      "gt: {'Worker': 3, 'no-gloves': 3, 'no-vest': 1}\n",
      "prediction: {'People:': 3}\n",
      "\n",
      "000750_jpg.rf.c1c0d1c49f11b75d9e1084261ad02f9f.txt 000750_jpg.rf.c1c0d1c49f11b75d9e1084261ad02f9f_output.txt\n",
      "gt: {'Worker': 2, 'no-vest': 2}\n",
      "prediction: {'People:': 2}\n",
      "\n",
      "000752_jpg.rf.c914cf0c8687397a2b8c7213947ee38a.txt 000752_jpg.rf.c914cf0c8687397a2b8c7213947ee38a_output.txt\n",
      "gt: {'Worker': 4, 'no-vest': 3, 'no-helmet': 1, 'no-gloves': 2}\n",
      "prediction: {'People:': 4, 'no-Hard_hats:': 2, 'no-Gloves:': 2, 'no-Reflective_vests:': 2, 'no-Security_boots:': 2}\n",
      "\n",
      "000755_jpg.rf.7a17f34065d09122684595265ef6269f.txt 000755_jpg.rf.7a17f34065d09122684595265ef6269f_output.txt\n",
      "gt: {'Worker': 1, 'no-vest': 1, 'no-gloves': 2}\n",
      "prediction: {'People:': 1}\n",
      "\n",
      "000758_jpg.rf.5395cca8b2cc5e008315f52a9dc528d9.txt 000758_jpg.rf.5395cca8b2cc5e008315f52a9dc528d9_output.txt\n",
      "gt: {'Worker': 5, 'no-gloves': 6, 'no-helmet': 1}\n",
      "prediction: {'People:': 4, 'no-Hard_hats:': 1, 'no-Gloves:': 1, 'no-Reflective_vests:': 1, 'no-Security_boots:': 1}\n",
      "\n",
      "000759_jpg.rf.c2ee78471a790566a9fe0b09b9c31ddf.txt 000759_jpg.rf.c2ee78471a790566a9fe0b09b9c31ddf_output.txt\n",
      "gt: {'Worker': 2, 'no-vest': 2}\n",
      "prediction: {'People:': 2}\n",
      "\n",
      "000763_jpg.rf.45c5e4ee60abacec6d91e0a9fb699d87.txt 000763_jpg.rf.45c5e4ee60abacec6d91e0a9fb699d87_output.txt\n",
      "gt: {'Worker': 5, 'no-vest': 5, 'no-gloves': 7}\n",
      "prediction: {'People:': 5, 'no-Hard_hats:': 2, 'no-Gloves:': 2, 'no-Reflective_vests:': 2, 'no-Security_boots:': 2}\n",
      "\n",
      "000764_jpg.rf.f1a4476fa731f52ab22bca634f841cfd.txt 000764_jpg.rf.f1a4476fa731f52ab22bca634f841cfd_output.txt\n",
      "gt: {'Worker': 2, 'no-gloves': 3}\n",
      "prediction: {'People:': 2}\n",
      "\n",
      "000776_jpg.rf.8a95540e4bc7a1846d4ee847bb028daa.txt 000776_jpg.rf.8a95540e4bc7a1846d4ee847bb028daa_output.txt\n",
      "gt: {'Worker': 4, 'no-gloves': 7}\n",
      "prediction: {'People:': 5}\n",
      "\n",
      "000777_jpg.rf.376e9e031db0c54d91545556b65b1e2e.txt 000777_jpg.rf.376e9e031db0c54d91545556b65b1e2e_output.txt\n",
      "gt: {'Worker': 4, 'no-gloves': 4}\n",
      "prediction: {'People:': 4}\n",
      "\n",
      "000787_jpg.rf.55dc06ebe68910072c1d615d5d0be70d.txt 000787_jpg.rf.55dc06ebe68910072c1d615d5d0be70d_output.txt\n",
      "gt: {'Worker': 1, 'no-gloves': 1, 'no-shoes': 2}\n",
      "prediction: {'People:': 1}\n",
      "\n",
      "000790_jpg.rf.9a8218e4b98aee7206834cbcdd1b9cee.txt 000790_jpg.rf.9a8218e4b98aee7206834cbcdd1b9cee_output.txt\n",
      "gt: {'Worker': 2, 'no-vest': 2}\n",
      "prediction: {'People:': 2}\n",
      "\n",
      "000791_jpg.rf.50d95a38b58d3e86c438db3f5bf17232.txt 000791_jpg.rf.50d95a38b58d3e86c438db3f5bf17232_output.txt\n",
      "gt: {'Worker': 2}\n",
      "prediction: {'People:': 2}\n",
      "\n",
      "000801_jpg.rf.ef46d37e2695162969beb54c7f6b786f.txt 000801_jpg.rf.ef46d37e2695162969beb54c7f6b786f_output.txt\n",
      "gt: {'Worker': 3, 'no-vest': 2, 'no-gloves': 4}\n",
      "prediction: {'People:': 3, 'no-Hard_hats:': 1, 'no-Gloves:': 1, 'no-Reflective_vests:': 1, 'no-Security_boots:': 1}\n",
      "\n",
      "000816_jpg.rf.57d7548fc1e14604bf7071e537d26f20.txt 000816_jpg.rf.57d7548fc1e14604bf7071e537d26f20_output.txt\n",
      "gt: {'Worker': 6, 'no-vest': 3, 'no-gloves': 4, 'no-helmet': 1}\n",
      "prediction: {'People:': 7, 'no-Hard_hats:': 1, 'no-Gloves:': 1, 'no-Reflective_vests:': 1, 'no-Security_boots:': 1}\n",
      "\n",
      "000818_jpg.rf.81b8e050601f42a37722ac4ec46f93a3.txt 000818_jpg.rf.81b8e050601f42a37722ac4ec46f93a3_output.txt\n",
      "gt: {'Worker': 2, 'no-vest': 2, 'no-gloves': 2}\n",
      "prediction: {'People:': 2}\n",
      "\n",
      "000821_jpg.rf.0d8dcf01c488228bca4c0652fcc2b296.txt 000821_jpg.rf.0d8dcf01c488228bca4c0652fcc2b296_output.txt\n",
      "gt: {'Worker': 1, 'no-vest': 1, 'no-gloves': 1}\n",
      "prediction: {'People:': 1}\n",
      "\n",
      "000823_jpg.rf.8ce455885f1fb3d941aecf833793a304.txt 000823_jpg.rf.8ce455885f1fb3d941aecf833793a304_output.txt\n",
      "gt: {'Worker': 3, 'no-gloves': 5, 'no-vest': 3}\n",
      "prediction: {'People:': 3}\n",
      "\n",
      "000824_jpg.rf.e6b66134eae11050b43ccf04de40d223.txt 000824_jpg.rf.e6b66134eae11050b43ccf04de40d223_output.txt\n",
      "gt: {'Worker': 9, 'no-helmet': 2, 'no-vest': 2, 'no-shoes': 5, 'no-gloves': 5}\n",
      "prediction: {'People:': 10, 'no-Hard_hats:': 1, 'no-Gloves:': 1, 'no-Reflective_vests:': 1, 'no-Security_boots:': 1}\n",
      "\n",
      "000828_jpg.rf.964405712d8fb7bcdebd86f1dab82406.txt 000828_jpg.rf.964405712d8fb7bcdebd86f1dab82406_output.txt\n",
      "gt: {'Worker': 2, 'no-gloves': 3, 'no-vest': 2}\n",
      "prediction: {'People:': 2, 'no-Hard_hats:': 1, 'no-Gloves:': 1, 'no-Reflective_vests:': 1, 'no-Security_boots:': 1}\n",
      "\n",
      "000830_jpg.rf.3b4cbbc90a4808d14be0245c77efc468.txt 000830_jpg.rf.3b4cbbc90a4808d14be0245c77efc468_output.txt\n",
      "gt: {'Worker': 2, 'no-vest': 2}\n",
      "prediction: {'People:': 2}\n",
      "\n",
      "000833_jpg.rf.bbe3f08a0dc2db2c5dfe3b9c6fecb150.txt 000833_jpg.rf.bbe3f08a0dc2db2c5dfe3b9c6fecb150_output.txt\n",
      "gt: {'Worker': 1, 'no-vest': 1}\n",
      "prediction: {'People:': 1}\n",
      "\n",
      "000836_jpg.rf.b37f05964df054983eecb1b2d0758a70.txt 000836_jpg.rf.b37f05964df054983eecb1b2d0758a70_output.txt\n",
      "gt: {'no-vest': 1, 'no-gloves': 2}\n",
      "prediction: {'People:': 1}\n",
      "\n",
      "000837_jpg.rf.52828ef9fa0b922a87757f94ab2d4ebd.txt 000837_jpg.rf.52828ef9fa0b922a87757f94ab2d4ebd_output.txt\n",
      "gt: {'Worker': 1, 'no-vest': 1, 'no-gloves': 1}\n",
      "prediction: {'People:': 1}\n",
      "\n",
      "000838_jpg.rf.008223cc170bb52cb9e4b9673452cc37.txt 000838_jpg.rf.008223cc170bb52cb9e4b9673452cc37_output.txt\n",
      "gt: {'Worker': 1, 'no-gloves': 2}\n",
      "prediction: {'People:': 1}\n",
      "\n",
      "000839_jpg.rf.8494a99328272974e67fa8df7c9c98c5.txt 000839_jpg.rf.8494a99328272974e67fa8df7c9c98c5_output.txt\n",
      "gt: {'no-gloves': 1, 'Worker': 1}\n",
      "prediction: {'People:': 1}\n",
      "\n",
      "000840_jpg.rf.452f6f418cb423387452f62085100005.txt 000840_jpg.rf.452f6f418cb423387452f62085100005_output.txt\n",
      "gt: {'Worker': 2, 'no-vest': 2, 'no-gloves': 1}\n",
      "prediction: {'People:': 2}\n",
      "\n",
      "000842_jpg.rf.38b5cc8a84bf10b3faed827207867f65.txt 000842_jpg.rf.38b5cc8a84bf10b3faed827207867f65_output.txt\n",
      "gt: {'Worker': 10, 'no-helmet': 7, 'no-vest': 9, 'no-gloves': 13, 'no-shoes': 4}\n",
      "prediction: {'People:': 9, 'no-Hard_hats:': 5, 'no-Gloves:': 5, 'no-Reflective_vests:': 5, 'no-Security_boots:': 5}\n",
      "\n",
      "000845_jpg.rf.f74d8c4058eebc8dfd9d04dfbcf8b542.txt 000845_jpg.rf.f74d8c4058eebc8dfd9d04dfbcf8b542_output.txt\n",
      "gt: {'Worker': 3, 'no-gloves': 4, 'no-vest': 3, 'no-helmet': 1}\n",
      "prediction: {}\n",
      "\n",
      "000848_jpg.rf.3f261f6b891bb939de97173a4ed63782.txt 000848_jpg.rf.3f261f6b891bb939de97173a4ed63782_output.txt\n",
      "gt: {'Worker': 1, 'no-shoes': 2, 'no-helmet': 1}\n",
      "prediction: {'People:': 1}\n",
      "\n",
      "000849_jpg.rf.4ff0b956d8de803845e6bd04bbea8007.txt 000849_jpg.rf.4ff0b956d8de803845e6bd04bbea8007_output.txt\n",
      "gt: {'Worker': 13, 'no-vest': 7}\n",
      "prediction: {'People:': 10}\n",
      "\n",
      "000850_jpg.rf.b1bfd4578cb65bc76d83edd78686cd8e.txt 000850_jpg.rf.b1bfd4578cb65bc76d83edd78686cd8e_output.txt\n",
      "gt: {'Worker': 2, 'no-shoes': 4, 'no-gloves': 3, 'no-vest': 2}\n",
      "prediction: {'People:': 2}\n",
      "\n",
      "000851_jpg.rf.865ec0fdd5a5a253605215a9b1356118.txt 000851_jpg.rf.865ec0fdd5a5a253605215a9b1356118_output.txt\n",
      "gt: {'Worker': 3, 'no-gloves': 4}\n",
      "prediction: {'People:': 3}\n",
      "\n",
      "000852_jpg.rf.3c957c8c954c2bc5caf472ddeff99b54.txt 000852_jpg.rf.3c957c8c954c2bc5caf472ddeff99b54_output.txt\n",
      "gt: {'Worker': 1, 'no-gloves': 2}\n",
      "prediction: {'People:': 1}\n",
      "\n",
      "000853_jpg.rf.33667cbd2c15fe1fcf5353230b94ceeb.txt 000853_jpg.rf.33667cbd2c15fe1fcf5353230b94ceeb_output.txt\n",
      "gt: {'Worker': 1, 'no-gloves': 2}\n",
      "prediction: {'People:': 1}\n",
      "\n",
      "000854_jpg.rf.f736fae988dbdc50908189b30827cc68.txt 000854_jpg.rf.f736fae988dbdc50908189b30827cc68_output.txt\n",
      "gt: {'Worker': 6, 'no-vest': 6, 'no-gloves': 7}\n",
      "prediction: {'People:': 6, 'no-Hard_hats:': 2, 'no-Gloves:': 2, 'no-Reflective_vests:': 2, 'no-Security_boots:': 2}\n",
      "\n",
      "000855_jpg.rf.5a6dd92038761bbf41916f24617e761f.txt 000855_jpg.rf.5a6dd92038761bbf41916f24617e761f_output.txt\n",
      "gt: {'Worker': 1}\n",
      "prediction: {'People:': 1}\n",
      "\n",
      "000856_jpg.rf.2f8a91012778ff2e03377e5798d19068.txt 000856_jpg.rf.2f8a91012778ff2e03377e5798d19068_output.txt\n",
      "gt: {'Worker': 10, 'no-helmet': 1, 'no-vest': 9, 'no-gloves': 6}\n",
      "prediction: {'People:': 10, 'no-Hard_hats:': 3, 'no-Gloves:': 3, 'no-Reflective_vests:': 3, 'no-Security_boots:': 3}\n",
      "\n",
      "000857_jpg.rf.931a4b7594cb80a464d0d1aeb628f3e5.txt 000857_jpg.rf.931a4b7594cb80a464d0d1aeb628f3e5_output.txt\n",
      "gt: {'Worker': 2, 'no-vest': 2, 'no-gloves': 2}\n",
      "prediction: {'People:': 2}\n",
      "\n",
      "000858_jpg.rf.996bd13ebf681ed87677d099ce8cd53d.txt 000858_jpg.rf.996bd13ebf681ed87677d099ce8cd53d_output.txt\n",
      "gt: {'Worker': 2}\n",
      "prediction: {'People:': 2}\n",
      "\n",
      "000859_jpg.rf.811a1f5b8aa79ebc33cc81e5cd69dc73.txt 000859_jpg.rf.811a1f5b8aa79ebc33cc81e5cd69dc73_output.txt\n",
      "gt: {'Worker': 2, 'no-helmet': 1, 'no-vest': 2, 'no-gloves': 3}\n",
      "prediction: {'People:': 2, 'no-Hard_hats:': 1, 'no-Gloves:': 1, 'no-Reflective_vests:': 1, 'no-Security_boots:': 1}\n",
      "\n",
      "000860_jpg.rf.713286bf4e5671d8bf9abe0ba29b6591.txt 000860_jpg.rf.713286bf4e5671d8bf9abe0ba29b6591_output.txt\n",
      "gt: {'Worker': 2, 'no-gloves': 3, 'no-helmet': 1}\n",
      "prediction: {'People:': 2}\n",
      "\n",
      "000861_jpg.rf.31301bf5d05dd6827a82970077dd7cc7.txt 000861_jpg.rf.31301bf5d05dd6827a82970077dd7cc7_output.txt\n",
      "gt: {'Worker': 1}\n",
      "prediction: {'People:': 1}\n",
      "\n",
      "000862_jpg.rf.301e9ea501143ab3b5f98db232a54d83.txt 000862_jpg.rf.301e9ea501143ab3b5f98db232a54d83_output.txt\n",
      "gt: {'Worker': 4}\n",
      "prediction: {'People:': 4}\n",
      "\n",
      "000863_jpg.rf.fab2a413f1e29245c91ff77530ab3795.txt 000863_jpg.rf.fab2a413f1e29245c91ff77530ab3795_output.txt\n",
      "gt: {'Worker': 2, 'no-helmet': 1, 'no-gloves': 3}\n",
      "prediction: {'People:': 2, 'no-Hard_hats:': 1, 'no-Gloves:': 1, 'no-Reflective_vests:': 1, 'no-Security_boots:': 1}\n",
      "\n",
      "000864_jpg.rf.62a0872e4a272acb31c63c1f8938368f.txt 000864_jpg.rf.62a0872e4a272acb31c63c1f8938368f_output.txt\n",
      "gt: {'Worker': 2, 'no-gloves': 2, 'no-vest': 2}\n",
      "prediction: {'People:': 2}\n",
      "\n",
      "000865_jpg.rf.7043e73f7ed98cb4311301f78d3e619d.txt 000865_jpg.rf.7043e73f7ed98cb4311301f78d3e619d_output.txt\n",
      "gt: {'Worker': 1, 'no-gloves': 2}\n",
      "prediction: {'People:': 1}\n",
      "\n",
      "000866_jpg.rf.4473b3c177495022b2c277c3e03647c8.txt 000866_jpg.rf.4473b3c177495022b2c277c3e03647c8_output.txt\n",
      "gt: {'Worker': 3, 'no-helmet': 2, 'no-vest': 3, 'no-gloves': 4}\n",
      "prediction: {'People:': 3, 'no-Hard_hats:': 2, 'no-Gloves:': 2, 'no-Reflective_vests:': 2, 'no-Security_boots:': 2}\n",
      "\n",
      "000867_jpg.rf.23939563e3d3a2c00d0ab6ed39b1002e.txt 000867_jpg.rf.23939563e3d3a2c00d0ab6ed39b1002e_output.txt\n",
      "gt: {'Worker': 3}\n",
      "prediction: {'People:': 3}\n",
      "\n",
      "000868_jpg.rf.dd9a173d001b5c0e377e443aa7074988.txt 000868_jpg.rf.dd9a173d001b5c0e377e443aa7074988_output.txt\n",
      "gt: {'Worker': 2, 'no-vest': 1, 'no-gloves': 2}\n",
      "prediction: {'People:': 2}\n",
      "\n",
      "000869_jpg.rf.ffbab464b05abcc8a2f3be2acddc470f.txt 000869_jpg.rf.ffbab464b05abcc8a2f3be2acddc470f_output.txt\n",
      "gt: {'Worker': 2, 'no-gloves': 3, 'no-vest': 2}\n",
      "prediction: {'People:': 2}\n",
      "\n",
      "000870_jpg.rf.fbe983425d06c068334e2e10b9f86251.txt 000870_jpg.rf.fbe983425d06c068334e2e10b9f86251_output.txt\n",
      "gt: {'Worker': 4, 'no-vest': 4, 'no-helmet': 2, 'no-gloves': 4}\n",
      "prediction: {'People:': 4, 'no-Hard_hats:': 1, 'no-Gloves:': 1, 'no-Reflective_vests:': 1, 'no-Security_boots:': 1}\n",
      "\n",
      "000871_jpg.rf.9606ec507a3e6ad0e0c89fef3cd29925.txt 000871_jpg.rf.9606ec507a3e6ad0e0c89fef3cd29925_output.txt\n",
      "gt: {'Worker': 2, 'no-vest': 2, 'no-gloves': 1}\n",
      "prediction: {'People:': 2, 'no-Hard_hats:': 1, 'no-Gloves:': 1, 'no-Reflective_vests:': 1, 'no-Security_boots:': 1}\n",
      "\n",
      "000872_jpg.rf.b7ad141b3a92abf1f246dd60850bbe1a.txt 000872_jpg.rf.b7ad141b3a92abf1f246dd60850bbe1a_output.txt\n",
      "gt: {'Worker': 1}\n",
      "prediction: {'People:': 1, 'no-Gloves:': 1, 'no-Reflective_vests:': 1, 'no-Security_boots:': 1}\n",
      "\n",
      "000873_jpg.rf.6e7dbf32247c4877b1c65e9d82aea15c.txt 000873_jpg.rf.6e7dbf32247c4877b1c65e9d82aea15c_output.txt\n",
      "gt: {'Worker': 3, 'no-vest': 2, 'no-gloves': 2}\n",
      "prediction: {'People:': 3}\n",
      "\n",
      "000874_jpg.rf.e33242b468c1be9fb0df340c1fa223fd.txt 000874_jpg.rf.e33242b468c1be9fb0df340c1fa223fd_output.txt\n",
      "gt: {'Worker': 1, 'no-gloves': 2}\n",
      "prediction: {'People:': 1}\n",
      "\n",
      "000875_jpg.rf.ebd550083d656371f7a42a1f67d7111e.txt 000875_jpg.rf.ebd550083d656371f7a42a1f67d7111e_output.txt\n",
      "gt: {'Worker': 1, 'no-gloves': 2, 'no-vest': 1}\n",
      "prediction: {'People:': 1, 'no-Hard_hats:': 1, 'no-Gloves:': 1, 'no-Reflective_vests:': 1, 'no-Security_boots:': 1}\n",
      "\n",
      "000876_jpg.rf.39f575793a47cd6db05abf7d9ed02f72.txt 000876_jpg.rf.39f575793a47cd6db05abf7d9ed02f72_output.txt\n",
      "gt: {'Worker': 1, 'no-vest': 1}\n",
      "prediction: {'People:': 1}\n",
      "\n",
      "000877_jpg.rf.b5f4d3ef14246264464e57136ef9486e.txt 000877_jpg.rf.b5f4d3ef14246264464e57136ef9486e_output.txt\n",
      "gt: {'Worker': 1, 'no-vest': 1}\n",
      "prediction: {'People:': 1}\n",
      "\n",
      "000878_jpg.rf.222be11443d19be0835160d04b7e15f7.txt 000878_jpg.rf.222be11443d19be0835160d04b7e15f7_output.txt\n",
      "gt: {'Worker': 1, 'no-vest': 1}\n",
      "prediction: {'People:': 1}\n",
      "\n",
      "000879_jpg.rf.035d45b3ea800ac9e9cb69c3277d7e1c.txt 000879_jpg.rf.035d45b3ea800ac9e9cb69c3277d7e1c_output.txt\n",
      "gt: {'Worker': 5, 'no-vest': 3, 'no-gloves': 8}\n",
      "prediction: {'People:': 4}\n",
      "\n",
      "000880_jpg.rf.20717b29ba88ed22afecfe259a5265a7.txt 000880_jpg.rf.20717b29ba88ed22afecfe259a5265a7_output.txt\n",
      "gt: {'Worker': 1, 'no-vest': 1, 'no-gloves': 2}\n",
      "prediction: {'People:': 1, 'no-Hard_hats:': 1, 'no-Gloves:': 1, 'no-Reflective_vests:': 1, 'no-Security_boots:': 1}\n",
      "\n",
      "000882_jpg.rf.2e1fa1398e05c1a323da60c3b1da79cd.txt 000882_jpg.rf.2e1fa1398e05c1a323da60c3b1da79cd_output.txt\n",
      "gt: {'Worker': 3, 'no-gloves': 3, 'no-vest': 3}\n",
      "prediction: {'People:': 3}\n",
      "\n",
      "000883_jpg.rf.78bf42ac4cd05f3ce4fa36ff58c8882f.txt 000883_jpg.rf.78bf42ac4cd05f3ce4fa36ff58c8882f_output.txt\n",
      "gt: {'Worker': 9, 'no-gloves': 5, 'no-helmet': 3, 'no-vest': 8, 'no-shoes': 9}\n",
      "prediction: {'People:': 9, 'no-Hard_hats:': 5, 'no-Gloves:': 5, 'no-Reflective_vests:': 5, 'no-Security_boots:': 5}\n",
      "\n",
      "000885_jpg.rf.b8cda7cf158197127316a02de2050c7e.txt 000885_jpg.rf.b8cda7cf158197127316a02de2050c7e_output.txt\n",
      "gt: {'Worker': 3, 'no-gloves': 4, 'no-vest': 1, 'no-shoes': 6}\n",
      "prediction: {'People:': 3, 'no-Hard_hats:': 1, 'no-Gloves:': 1, 'no-Reflective_vests:': 1, 'no-Security_boots:': 1}\n",
      "\n",
      "000886_jpg.rf.36ed6f10eb01c55f76d875b87eab9b22.txt 000886_jpg.rf.36ed6f10eb01c55f76d875b87eab9b22_output.txt\n",
      "gt: {'Worker': 1, 'no-vest': 1}\n",
      "prediction: {'People:': 1}\n",
      "\n",
      "000887_jpg.rf.9d80fd39c5b51ad96e21c1299a70b2af.txt 000887_jpg.rf.9d80fd39c5b51ad96e21c1299a70b2af_output.txt\n",
      "gt: {'Worker': 6, 'no-vest': 6}\n",
      "prediction: {'People:': 7}\n",
      "\n",
      "000888_jpg.rf.06f05a48a6abc4eb7b81c239adb51645.txt 000888_jpg.rf.06f05a48a6abc4eb7b81c239adb51645_output.txt\n",
      "gt: {'Worker': 2, 'no-gloves': 1, 'no-vest': 2}\n",
      "prediction: {'People:': 2}\n",
      "\n",
      "000889_jpg.rf.81ab6c340b320a6cde7576f62291b0ea.txt 000889_jpg.rf.81ab6c340b320a6cde7576f62291b0ea_output.txt\n",
      "gt: {'Worker': 1, 'no-gloves': 2}\n",
      "prediction: {'People:': 1}\n",
      "\n",
      "000890_jpg.rf.5f6a58aafd42270eee37688702d4a6d1.txt 000890_jpg.rf.5f6a58aafd42270eee37688702d4a6d1_output.txt\n",
      "gt: {'Worker': 1, 'no-gloves': 1}\n",
      "prediction: {'People:': 1}\n",
      "\n",
      "000891_jpg.rf.599b9e92f46214dcfde80b5174fc7327.txt 000891_jpg.rf.599b9e92f46214dcfde80b5174fc7327_output.txt\n",
      "gt: {'Worker': 3, 'no-vest': 3, 'no-gloves': 4}\n",
      "prediction: {'People:': 3, 'no-Hard_hats:': 1, 'no-Gloves:': 1, 'no-Reflective_vests:': 1, 'no-Security_boots:': 1}\n",
      "\n",
      "000892_jpg.rf.e42e63b13e7937f7d29c8617083d872b.txt 000892_jpg.rf.e42e63b13e7937f7d29c8617083d872b_output.txt\n",
      "gt: {'Worker': 1, 'no-gloves': 2}\n",
      "prediction: {'People:': 1}\n",
      "\n",
      "000893_jpg.rf.f543326a1f50ff7946aea1e9bcb167b8.txt 000893_jpg.rf.f543326a1f50ff7946aea1e9bcb167b8_output.txt\n",
      "gt: {'Worker': 1, 'no-gloves': 1}\n",
      "prediction: {'People:': 1}\n",
      "\n",
      "000894_jpg.rf.0b76eee9a2055d8867f4fcbb8ebe4460.txt 000894_jpg.rf.0b76eee9a2055d8867f4fcbb8ebe4460_output.txt\n",
      "gt: {'Worker': 6, 'no-helmet': 6, 'no-gloves': 9}\n",
      "prediction: {'People:': 6, 'no-Hard_hats:': 6, 'no-Gloves:': 6, 'no-Reflective_vests:': 6, 'no-Security_boots:': 6}\n",
      "\n",
      "000896_jpg.rf.e7a72fa3cc78c46db4edef3c93d9eefe.txt 000896_jpg.rf.e7a72fa3cc78c46db4edef3c93d9eefe_output.txt\n",
      "gt: {'Worker': 3, 'no-vest': 4, 'no-gloves': 3}\n",
      "prediction: {'People:': 4, 'no-Hard_hats:': 1, 'no-Gloves:': 1, 'no-Reflective_vests:': 1, 'no-Security_boots:': 1}\n",
      "\n",
      "000897_jpg.rf.f90e4c0367c35c11ba6f4f4cb53cde02.txt 000897_jpg.rf.f90e4c0367c35c11ba6f4f4cb53cde02_output.txt\n",
      "gt: {'Worker': 3, 'no-gloves': 3}\n",
      "prediction: {'People:': 3}\n",
      "\n",
      "000898_jpg.rf.79cc1bafeab2be65d53469eed0acffb3.txt 000898_jpg.rf.79cc1bafeab2be65d53469eed0acffb3_output.txt\n",
      "gt: {'Worker': 5, 'no-vest': 1, 'no-gloves': 7}\n",
      "prediction: {'People:': 5, 'no-Hard_hats:': 1, 'no-Gloves:': 1, 'no-Reflective_vests:': 1, 'no-Security_boots:': 1}\n",
      "\n",
      "000899_jpg.rf.3d25d335ae4b63e5eff9b518260505bf.txt 000899_jpg.rf.3d25d335ae4b63e5eff9b518260505bf_output.txt\n",
      "gt: {'Worker': 4, 'no-gloves': 2, 'no-vest': 4, 'no-helmet': 3}\n",
      "prediction: {'People:': 4, 'no-Hard_hats:': 2, 'no-Gloves:': 2, 'no-Reflective_vests:': 2, 'no-Security_boots:': 2}\n",
      "\n",
      "000903_jpg.rf.97714b48a6687b9a125f85670d15404f.txt 000903_jpg.rf.97714b48a6687b9a125f85670d15404f_output.txt\n",
      "gt: {'Worker': 1, 'no-gloves': 2}\n",
      "prediction: {'People:': 1}\n",
      "\n",
      "000904_jpg.rf.1dd86cd8d9660d70a03105fa1c6d58b5.txt 000904_jpg.rf.1dd86cd8d9660d70a03105fa1c6d58b5_output.txt\n",
      "gt: {'Worker': 3}\n",
      "prediction: {'People:': 3}\n",
      "\n",
      "000905_jpg.rf.cfb066f543e1026ef3568793c2c67414.txt 000905_jpg.rf.cfb066f543e1026ef3568793c2c67414_output.txt\n",
      "gt: {'Worker': 2, 'no-gloves': 2, 'no-vest': 1}\n",
      "prediction: {'People:': 2, 'no-Hard_hats:': 1, 'no-Gloves:': 1, 'no-Reflective_vests:': 1, 'no-Security_boots:': 1}\n",
      "\n",
      "000906_jpg.rf.76462921da962a794f8d916496d4ffb4.txt 000906_jpg.rf.76462921da962a794f8d916496d4ffb4_output.txt\n",
      "gt: {'Worker': 1, 'no-gloves': 1}\n",
      "prediction: {'People:': 1}\n",
      "\n",
      "000908_jpg.rf.04f271f35c7b18b8591c7355fd5b5664.txt 000908_jpg.rf.04f271f35c7b18b8591c7355fd5b5664_output.txt\n",
      "gt: {'Worker': 5, 'no-vest': 5, 'no-gloves': 6, 'no-helmet': 5, 'no-shoes': 1}\n",
      "prediction: {'People:': 6, 'no-Hard_hats:': 6, 'no-Gloves:': 6, 'no-Reflective_vests:': 6, 'no-Security_boots:': 6}\n",
      "\n",
      "000909_jpg.rf.c105df869f8d4801cd179a61cfce2062.txt 000909_jpg.rf.c105df869f8d4801cd179a61cfce2062_output.txt\n",
      "gt: {'Worker': 2, 'no-gloves': 2, 'no-vest': 2}\n",
      "prediction: {'People:': 2}\n",
      "\n",
      "000912_jpg.rf.194572a86502c10b31732afe6340ff41.txt 000912_jpg.rf.194572a86502c10b31732afe6340ff41_output.txt\n",
      "gt: {'Worker': 11, 'no-gloves': 16}\n",
      "prediction: {'People:': 10}\n",
      "\n",
      "000916_jpg.rf.615c1bec95a3b51cf060ee745a5684b1.txt 000916_jpg.rf.615c1bec95a3b51cf060ee745a5684b1_output.txt\n",
      "gt: {'Worker': 1, 'no-vest': 1}\n",
      "prediction: {'People:': 1, 'no-Hard_hats:': 1, 'no-Gloves:': 1, 'no-Reflective_vests:': 1, 'no-Security_boots:': 1}\n",
      "\n",
      "000921_jpg.rf.02b60b91ffcaa5e604a03e4a0f3c7af6.txt 000921_jpg.rf.02b60b91ffcaa5e604a03e4a0f3c7af6_output.txt\n",
      "gt: {'Worker': 9, 'no-vest': 8, 'no-helmet': 6, 'no-gloves': 5}\n",
      "prediction: {'People:': 9, 'no-Hard_hats:': 3, 'no-Gloves:': 3, 'no-Reflective_vests:': 3, 'no-Security_boots:': 3}\n",
      "\n",
      "000922_jpg.rf.d079a63081088f5c1602aa34927b6997.txt 000922_jpg.rf.d079a63081088f5c1602aa34927b6997_output.txt\n",
      "gt: {'Worker': 5, 'no-gloves': 2}\n",
      "prediction: {'People:': 5, 'no-Hard_hats:': 2, 'no-Gloves:': 2, 'no-Reflective_vests:': 2, 'no-Security_boots:': 2}\n",
      "\n",
      "000923_jpg.rf.28abee7a2647a6a82ca507ed4b735e60.txt 000923_jpg.rf.28abee7a2647a6a82ca507ed4b735e60_output.txt\n",
      "gt: {'Worker': 2, 'no-vest': 2, 'no-gloves': 3}\n",
      "prediction: {'People:': 2}\n",
      "\n",
      "000924_jpg.rf.ca00e12200f4c1dc190a5044df8da98e.txt 000924_jpg.rf.ca00e12200f4c1dc190a5044df8da98e_output.txt\n",
      "gt: {'Worker': 2, 'no-helmet': 1, 'no-vest': 2, 'no-gloves': 3}\n",
      "prediction: {'People:': 2, 'no-Hard_hats:': 1, 'no-Gloves:': 1, 'no-Reflective_vests:': 1, 'no-Security_boots:': 1}\n",
      "\n",
      "000926_jpg.rf.fa4283985a614373a82751db89609382.txt 000926_jpg.rf.fa4283985a614373a82751db89609382_output.txt\n",
      "gt: {'Worker': 6, 'no-vest': 5, 'no-gloves': 5}\n",
      "prediction: {'People:': 5, 'no-Hard_hats:': 2, 'no-Gloves:': 2, 'no-Reflective_vests:': 2, 'no-Security_boots:': 2}\n",
      "\n",
      "000927_jpg.rf.ce5f63e6540ecb07127fcaddce1d14f1.txt 000927_jpg.rf.ce5f63e6540ecb07127fcaddce1d14f1_output.txt\n",
      "gt: {'Worker': 1, 'no-gloves': 1, 'no-vest': 1}\n",
      "prediction: {'People:': 1}\n",
      "\n",
      "000928_jpg.rf.5b3253e71a70c82056ad5fab9e127390.txt 000928_jpg.rf.5b3253e71a70c82056ad5fab9e127390_output.txt\n",
      "gt: {'Worker': 1, 'no-vest': 1, 'no-gloves': 1}\n",
      "prediction: {'People:': 1}\n",
      "\n",
      "000929_jpg.rf.ac3874cadd9a2de8e487fb0b220e58bf.txt 000929_jpg.rf.ac3874cadd9a2de8e487fb0b220e58bf_output.txt\n",
      "gt: {'Worker': 4, 'no-gloves': 4, 'no-vest': 3, 'no-helmet': 3}\n",
      "prediction: {'People:': 4, 'no-Hard_hats:': 1, 'no-Gloves:': 1, 'no-Reflective_vests:': 1, 'no-Security_boots:': 1}\n",
      "\n",
      "000931_jpg.rf.9cc94e1d0fe6f1de09216c042bed6c55.txt 000931_jpg.rf.9cc94e1d0fe6f1de09216c042bed6c55_output.txt\n",
      "gt: {'Worker': 4, 'no-vest': 4, 'no-helmet': 1, 'no-gloves': 3}\n",
      "prediction: {'People:': 4, 'no-Hard_hats:': 2, 'no-Gloves:': 2, 'no-Reflective_vests:': 2, 'no-Security_boots:': 2}\n",
      "\n",
      "000932_jpg.rf.bcf9f64c19e92f6efc3c08da640b31f1.txt 000932_jpg.rf.bcf9f64c19e92f6efc3c08da640b31f1_output.txt\n",
      "gt: {'Worker': 2, 'no-gloves': 2, 'no-vest': 2, 'no-helmet': 1}\n",
      "prediction: {'People:': 2, 'no-Hard_hats:': 1, 'no-Gloves:': 1, 'no-Reflective_vests:': 1, 'no-Security_boots:': 1}\n",
      "\n",
      "000934_jpg.rf.5bf2e4d7a25e4bb38646966aea573ad1.txt 000934_jpg.rf.5bf2e4d7a25e4bb38646966aea573ad1_output.txt\n",
      "gt: {'no-gloves': 4, 'Worker': 5, 'no-vest': 6, 'no-shoes': 4}\n",
      "prediction: {'People:': 4}\n",
      "\n",
      "000936_jpg.rf.b218d1b1874892086021f9f342b80a82.txt 000936_jpg.rf.b218d1b1874892086021f9f342b80a82_output.txt\n",
      "gt: {'Worker': 5, 'no-vest': 5, 'no-gloves': 3}\n",
      "prediction: {'People:': 5, 'no-Hard_hats:': 2, 'no-Gloves:': 2, 'no-Reflective_vests:': 2, 'no-Security_boots:': 2}\n",
      "\n",
      "000940_jpg.rf.3a9eb943a854a887a94199744e946e54.txt 000940_jpg.rf.3a9eb943a854a887a94199744e946e54_output.txt\n",
      "gt: {'Worker': 1, 'no-gloves': 2}\n",
      "prediction: {'People:': 1}\n",
      "\n",
      "000941_jpg.rf.ef449bde626dd04ad64301c6f4956656.txt 000941_jpg.rf.ef449bde626dd04ad64301c6f4956656_output.txt\n",
      "gt: {'Worker': 6, 'no-vest': 4, 'no-gloves': 3, 'no-shoes': 7, 'no-helmet': 1}\n",
      "prediction: {'People:': 4, 'no-Hard_hats:': 1, 'no-Gloves:': 1, 'no-Reflective_vests:': 1, 'no-Security_boots:': 1}\n",
      "\n",
      "000942_jpg.rf.91a799efc495e5ba684630f6f4898357.txt 000942_jpg.rf.91a799efc495e5ba684630f6f4898357_output.txt\n",
      "gt: {'Worker': 2, 'no-helmet': 1, 'no-gloves': 2, 'no-vest': 2, 'no-shoes': 4}\n",
      "prediction: {'People:': 1, 'no-Gloves:': 1, 'no-Reflective_vests:': 1, 'no-Security_boots:': 1}\n",
      "\n",
      "000945_jpg.rf.d0499b4558a42911988dde507cfe77d9.txt 000945_jpg.rf.d0499b4558a42911988dde507cfe77d9_output.txt\n",
      "gt: {'Worker': 1, 'no-vest': 1}\n",
      "prediction: {'People:': 1}\n",
      "\n",
      "000948_jpg.rf.a54efddd2ff919c7338b4e5683e33fe7.txt 000948_jpg.rf.a54efddd2ff919c7338b4e5683e33fe7_output.txt\n",
      "gt: {'no-gloves': 6, 'Worker': 4, 'no-vest': 4}\n",
      "prediction: {'People:': 5, 'no-Hard_hats:': 2, 'no-Gloves:': 2, 'no-Reflective_vests:': 2, 'no-Security_boots:': 2}\n",
      "\n",
      "000949_jpg.rf.ccaa79aa10c96d3f171fd701e0ade17a.txt 000949_jpg.rf.ccaa79aa10c96d3f171fd701e0ade17a_output.txt\n",
      "gt: {'Worker': 1, 'no-gloves': 1, 'no-vest': 1}\n",
      "prediction: {'People:': 1}\n",
      "\n",
      "000950_jpg.rf.8d8e6f27930de00bc095e89ffee3a9ff.txt 000950_jpg.rf.8d8e6f27930de00bc095e89ffee3a9ff_output.txt\n",
      "gt: {'Worker': 1, 'no-gloves': 2}\n",
      "prediction: {'People:': 1}\n",
      "\n",
      "000952_jpg.rf.d567ca9a8b4570b59731c6f0d79a066a.txt 000952_jpg.rf.d567ca9a8b4570b59731c6f0d79a066a_output.txt\n",
      "gt: {'Worker': 1, 'no-vest': 1}\n",
      "prediction: {'People:': 1}\n",
      "\n",
      "000953_jpg.rf.578b585e5e0dbf9d9face2a5b95aa402.txt 000953_jpg.rf.578b585e5e0dbf9d9face2a5b95aa402_output.txt\n",
      "gt: {'Worker': 1}\n",
      "prediction: {'People:': 1}\n",
      "\n",
      "000956_jpg.rf.a391949c0199d3eea142a95afffdf628.txt 000956_jpg.rf.a391949c0199d3eea142a95afffdf628_output.txt\n",
      "gt: {'Worker': 5, 'no-vest': 5, 'no-helmet': 3, 'no-gloves': 3}\n",
      "prediction: {'People:': 5, 'no-Hard_hats:': 4, 'no-Gloves:': 4, 'no-Reflective_vests:': 4, 'no-Security_boots:': 4}\n",
      "\n",
      "000957_jpg.rf.743258b670e732ee5ba76d674a9b1e10.txt 000957_jpg.rf.743258b670e732ee5ba76d674a9b1e10_output.txt\n",
      "gt: {'Worker': 8, 'no-gloves': 13, 'no-vest': 8}\n",
      "prediction: {'People:': 8}\n",
      "\n",
      "000959_jpg.rf.7a071ee5cccc1e4117970511eb618db3.txt 000959_jpg.rf.7a071ee5cccc1e4117970511eb618db3_output.txt\n",
      "gt: {'Worker': 3, 'no-vest': 3, 'no-gloves': 6}\n",
      "prediction: {'People:': 3}\n",
      "\n",
      "000960_jpg.rf.0ceab74f17073146b007d68be0c834cd.txt 000960_jpg.rf.0ceab74f17073146b007d68be0c834cd_output.txt\n",
      "gt: {'Worker': 1, 'no-gloves': 2, 'no-vest': 1, 'no-shoes': 2}\n",
      "prediction: {'People:': 1}\n",
      "\n",
      "000961_jpg.rf.7a96ab67f1066b546b064893c57efb4b.txt 000961_jpg.rf.7a96ab67f1066b546b064893c57efb4b_output.txt\n",
      "gt: {'Worker': 2, 'no-gloves': 2, 'no-vest': 2}\n",
      "prediction: {'People:': 2}\n",
      "\n",
      "000962_jpg.rf.8eef8002595f899a6c47edb63005fb64.txt 000962_jpg.rf.8eef8002595f899a6c47edb63005fb64_output.txt\n",
      "gt: {'Worker': 2, 'no-vest': 2}\n",
      "prediction: {'People:': 2}\n",
      "\n",
      "000965_jpg.rf.e884db4e645e2fbda481545e39efea46.txt 000965_jpg.rf.e884db4e645e2fbda481545e39efea46_output.txt\n",
      "gt: {'Worker': 5, 'no-helmet': 5, 'no-vest': 5, 'no-gloves': 10}\n",
      "prediction: {'People:': 5, 'no-Hard_hats:': 5, 'no-Gloves:': 5, 'no-Reflective_vests:': 5, 'no-Security_boots:': 5}\n",
      "\n",
      "000966_jpg.rf.a9b80d2619128bb6377e517bcc73c748.txt 000966_jpg.rf.a9b80d2619128bb6377e517bcc73c748_output.txt\n",
      "gt: {'Worker': 8, 'no-vest': 8, 'no-gloves': 10, 'no-helmet': 8, 'no-shoes': 9}\n",
      "prediction: {'People:': 10, 'no-Hard_hats:': 10, 'no-Gloves:': 10, 'no-Reflective_vests:': 10, 'no-Security_boots:': 10}\n",
      "\n",
      "000968_jpg.rf.f98ab1c9bc0cbe48f2a165ea36175107.txt 000968_jpg.rf.f98ab1c9bc0cbe48f2a165ea36175107_output.txt\n",
      "gt: {'Worker': 8, 'no-vest': 8, 'no-gloves': 10, 'no-shoes': 15}\n",
      "prediction: {'People:': 8, 'no-Hard_hats:': 8, 'no-Gloves:': 8, 'no-Reflective_vests:': 8, 'no-Security_boots:': 8}\n",
      "\n",
      "image_from_china-1723-_jpg.rf.a2d8e0342df6da27a22298dd63284fd9.txt image_from_china-1723-_jpg.rf.a2d8e0342df6da27a22298dd63284fd9_output.txt\n",
      "gt: {'Worker': 2, 'no-gloves': 2, 'no-vest': 2}\n",
      "prediction: {'People:': 2, 'no-Hard_hats:': 1, 'no-Gloves:': 1, 'no-Reflective_vests:': 1, 'no-Security_boots:': 1}\n",
      "\n",
      "image_from_china-261-_jpg.rf.f00ea5e64b325281b2f74fb304d7d8cd.txt image_from_china-261-_jpg.rf.f00ea5e64b325281b2f74fb304d7d8cd_output.txt\n",
      "gt: {'Worker': 3, 'no-vest': 3, 'no-gloves': 4, 'no-helmet': 3, 'no-shoes': 4}\n",
      "prediction: {'People:': 3, 'no-Hard_hats:': 2, 'no-Gloves:': 2, 'no-Reflective_vests:': 2, 'no-Security_boots:': 2}\n",
      "\n",
      "image_from_china-270-_jpg.rf.3e3324c626a451fba3dc7bf5e94fb935.txt image_from_china-270-_jpg.rf.3e3324c626a451fba3dc7bf5e94fb935_output.txt\n",
      "gt: {'Worker': 1}\n",
      "prediction: {'People:': 1}\n",
      "\n",
      "image_from_china-289-_jpg.rf.04f01825914e270c10a88a94715afbdb.txt image_from_china-289-_jpg.rf.04f01825914e270c10a88a94715afbdb_output.txt\n",
      "gt: {'Worker': 2, 'no-vest': 2, 'no-helmet': 1, 'no-gloves': 1}\n",
      "prediction: {}\n",
      "\n",
      "image_from_china-341-_jpg.rf.29df58925e6d4af3b5e6e338bd9616bb.txt image_from_china-341-_jpg.rf.29df58925e6d4af3b5e6e338bd9616bb_output.txt\n",
      "gt: {'Worker': 7, 'no-vest': 7, 'no-helmet': 5, 'no-gloves': 2}\n",
      "prediction: {'People:': 6, 'no-Hard_hats:': 2, 'no-Gloves:': 2, 'no-Reflective_vests:': 2, 'no-Security_boots:': 2}\n",
      "\n",
      "image_from_china-341-_jpg.rf.2e349776f8b20f62b215348757b39ead.txt image_from_china-341-_jpg.rf.2e349776f8b20f62b215348757b39ead_output.txt\n",
      "gt: {'Worker': 7, 'no-helmet': 5, 'no-vest': 7, 'no-gloves': 2}\n",
      "prediction: {'People:': 6, 'no-Hard_hats:': 2, 'no-Gloves:': 2, 'no-Reflective_vests:': 2, 'no-Security_boots:': 2}\n",
      "\n",
      "image_from_china-362-_jpg.rf.af15b5924c6eb0b30581aba4823d74be.txt image_from_china-362-_jpg.rf.af15b5924c6eb0b30581aba4823d74be_output.txt\n",
      "gt: {'Worker': 4, 'no-vest': 4}\n",
      "prediction: {'People:': 5, 'no-Hard_hats:': 1, 'no-Gloves:': 1, 'no-Reflective_vests:': 1, 'no-Security_boots:': 1}\n",
      "\n",
      "image_from_china-371-_jpg.rf.86ca50d8772689c29987fa66accc1af3.txt image_from_china-371-_jpg.rf.86ca50d8772689c29987fa66accc1af3_output.txt\n",
      "gt: {'Worker': 1, 'no-vest': 1, 'no-gloves': 1}\n",
      "prediction: {'People:': 1, 'no-Hard_hats:': 1, 'no-Gloves:': 1, 'no-Reflective_vests:': 1, 'no-Security_boots:': 1}\n",
      "\n",
      "image_from_china-391-_jpg.rf.d793425537225798464f26272e3322fb.txt image_from_china-391-_jpg.rf.d793425537225798464f26272e3322fb_output.txt\n",
      "gt: {'Worker': 6, 'no-vest': 6, 'no-gloves': 3, 'no-shoes': 4}\n",
      "prediction: {'People:': 6, 'no-Hard_hats:': 1, 'no-Gloves:': 1, 'no-Reflective_vests:': 1, 'no-Security_boots:': 1}\n",
      "\n",
      "image_from_china-417-_jpg.rf.8b663683fe5e6c1ca5b0155e60566548.txt image_from_china-417-_jpg.rf.8b663683fe5e6c1ca5b0155e60566548_output.txt\n",
      "gt: {'Worker': 4, 'no-vest': 4}\n",
      "prediction: {'People:': 3}\n",
      "\n",
      "image_from_china-457-_jpg.rf.02f5ff5b7c447c2dec8965cf009be76e.txt image_from_china-457-_jpg.rf.02f5ff5b7c447c2dec8965cf009be76e_output.txt\n",
      "gt: {'Worker': 2, 'no-vest': 2, 'no-helmet': 1, 'no-gloves': 4, 'no-shoes': 2}\n",
      "prediction: {'People:': 2, 'no-Hard_hats:': 1, 'no-Gloves:': 1, 'no-Reflective_vests:': 1, 'no-Security_boots:': 1}\n",
      "\n",
      "image_from_china-475-_jpg.rf.bafedf7a5cacbece2eaa5ff15d1268cb.txt image_from_china-475-_jpg.rf.bafedf7a5cacbece2eaa5ff15d1268cb_output.txt\n",
      "gt: {'Worker': 2, 'no-vest': 2, 'no-gloves': 3}\n",
      "prediction: {'People:': 2}\n",
      "\n",
      "image_from_china-524-_jpg.rf.5d7ae31c91eb7d8346225ed34bd721fd.txt image_from_china-524-_jpg.rf.5d7ae31c91eb7d8346225ed34bd721fd_output.txt\n",
      "gt: {'Worker': 1, 'no-gloves': 2, 'no-vest': 1}\n",
      "prediction: {'People:': 1}\n",
      "\n",
      "image_from_china-560-_jpg.rf.269e125cb0501b419b7cc87d36621f7d.txt image_from_china-560-_jpg.rf.269e125cb0501b419b7cc87d36621f7d_output.txt\n",
      "gt: {'Worker': 1, 'no-vest': 1, 'no-helmet': 1, 'no-gloves': 2, 'no-shoes': 1}\n",
      "prediction: {'People:': 1, 'no-Hard_hats:': 1, 'no-Gloves:': 1, 'no-Reflective_vests:': 1, 'no-Security_boots:': 1}\n",
      "\n",
      "image_from_china-578-_jpg.rf.77dafaa87747b66b032fb6a884b92c0e.txt image_from_china-578-_jpg.rf.77dafaa87747b66b032fb6a884b92c0e_output.txt\n",
      "gt: {'Worker': 7, 'no-vest': 6, 'no-helmet': 2, 'no-gloves': 2}\n",
      "prediction: {'People:': 4, 'no-Hard_hats:': 1, 'no-Gloves:': 1, 'no-Reflective_vests:': 1, 'no-Security_boots:': 1}\n",
      "\n",
      "image_from_china-578-_jpg.rf.992b508fc3e80befedc02c6c8e7aef27.txt image_from_china-578-_jpg.rf.992b508fc3e80befedc02c6c8e7aef27_output.txt\n",
      "gt: {'Worker': 4, 'no-vest': 4, 'no-helmet': 1, 'no-shoes': 2}\n",
      "prediction: {'People:': 4, 'no-Hard_hats:': 1, 'no-Gloves:': 1, 'no-Reflective_vests:': 1, 'no-Security_boots:': 1}\n",
      "\n",
      "image_from_china-631-_jpg.rf.f08be4f0d2a20fa64d43e6f19e4d4e3a.txt image_from_china-631-_jpg.rf.f08be4f0d2a20fa64d43e6f19e4d4e3a_output.txt\n",
      "gt: {'Worker': 15, 'no-vest': 16, 'no-helmet': 1}\n",
      "prediction: {'People:': 10}\n",
      "\n",
      "image_from_china-744-_jpg.rf.0cff8c20e69453d1fd5d3cd5bc97b50b.txt image_from_china-744-_jpg.rf.0cff8c20e69453d1fd5d3cd5bc97b50b_output.txt\n",
      "gt: {'Worker': 3, 'no-vest': 3, 'no-helmet': 1, 'no-gloves': 1}\n",
      "prediction: {'People:': 3, 'no-Hard_hats:': 2, 'no-Gloves:': 2, 'no-Reflective_vests:': 2, 'no-Security_boots:': 2}\n",
      "\n",
      "ppe_0000_jpg.rf.05aa024f36351fa65dd34d9f5be5db4e.txt ppe_0000_jpg.rf.05aa024f36351fa65dd34d9f5be5db4e_output.txt\n",
      "gt: {'Worker': 1, 'no-gloves': 2, 'no-vest': 1}\n",
      "prediction: {'People:': 1}\n",
      "\n",
      "ppe_0018_jpg.rf.9c86ac702a3bb3e4d19b5228b5e8a2f8.txt ppe_0018_jpg.rf.9c86ac702a3bb3e4d19b5228b5e8a2f8_output.txt\n",
      "gt: {'Worker': 2, 'no-vest': 2, 'no-gloves': 3}\n",
      "prediction: {'People:': 2, 'no-Hard_hats:': 1, 'no-Gloves:': 1, 'no-Reflective_vests:': 1, 'no-Security_boots:': 1}\n",
      "\n",
      "ppe_0033_jpg.rf.cbfb0249ac925b12d351a5ecb4d65fc6.txt ppe_0033_jpg.rf.cbfb0249ac925b12d351a5ecb4d65fc6_output.txt\n",
      "gt: {'Worker': 5, 'no-helmet': 1, 'no-gloves': 4}\n",
      "prediction: {'People:': 7}\n",
      "\n",
      "ppe_0036_jpg.rf.b12dfa9de7d26747a3070907b9159f64.txt ppe_0036_jpg.rf.b12dfa9de7d26747a3070907b9159f64_output.txt\n",
      "gt: {'Worker': 1, 'no-vest': 1, 'no-gloves': 2}\n",
      "prediction: {'People:': 1, 'no-Gloves:': 1, 'no-Reflective_vests:': 1, 'no-Security_boots:': 1}\n",
      "\n",
      "ppe_0051_jpg.rf.fc873407be338e7bbffd9f736c2b90f9.txt ppe_0051_jpg.rf.fc873407be338e7bbffd9f736c2b90f9_output.txt\n",
      "gt: {'Worker': 1}\n",
      "prediction: {'People:': 1}\n",
      "\n",
      "ppe_0128_jpg.rf.cf35c9e2bbe4675536dfab6d4fc833d6.txt ppe_0128_jpg.rf.cf35c9e2bbe4675536dfab6d4fc833d6_output.txt\n",
      "gt: {'Worker': 5, 'no-gloves': 2, 'no-vest': 5}\n",
      "prediction: {'People:': 5, 'no-Hard_hats:': 1, 'no-Gloves:': 1, 'no-Reflective_vests:': 1, 'no-Security_boots:': 1}\n",
      "\n",
      "ppe_0154_jpg.rf.a35d0a60c2a5881a92f117945a68e4ba.txt ppe_0154_jpg.rf.a35d0a60c2a5881a92f117945a68e4ba_output.txt\n",
      "gt: {'Worker': 3, 'no-gloves': 4}\n",
      "prediction: {'People:': 3}\n",
      "\n",
      "ppe_0397_jpg.rf.72c248826a59e8a1427fd45a519b270b.txt ppe_0397_jpg.rf.72c248826a59e8a1427fd45a519b270b_output.txt\n",
      "gt: {'Worker': 9, 'no-gloves': 8, 'no-helmet': 9, 'no-shoes': 13}\n",
      "prediction: {'People:': 8, 'no-Hard_hats:': 4, 'no-Gloves:': 4, 'no-Reflective_vests:': 4, 'no-Security_boots:': 4}\n",
      "\n",
      "ppe_0931_jpg.rf.b9361d4d51c09514648dcbc490baa28f.txt ppe_0931_jpg.rf.b9361d4d51c09514648dcbc490baa28f_output.txt\n",
      "gt: {'no-vest': 4, 'Worker': 4, 'no-helmet': 3, 'no-shoes': 4}\n",
      "prediction: {'People:': 3, 'no-Hard_hats:': 1, 'no-Gloves:': 1, 'no-Reflective_vests:': 1, 'no-Security_boots:': 1}\n",
      "\n",
      "ppe_0994_jpg.rf.ea6bac492d936a77a6af7b09aaed8ab0.txt ppe_0994_jpg.rf.ea6bac492d936a77a6af7b09aaed8ab0_output.txt\n",
      "gt: {'Worker': 2}\n",
      "prediction: {'People:': 2}\n",
      "\n",
      "ppe_1037_jpg.rf.f0a034968b50a638db9c1ca60fa8fd30.txt ppe_1037_jpg.rf.f0a034968b50a638db9c1ca60fa8fd30_output.txt\n",
      "gt: {'Worker': 2, 'no-vest': 2, 'no-shoes': 3}\n",
      "prediction: {'People:': 3, 'no-Hard_hats:': 2, 'no-Gloves:': 2, 'no-Reflective_vests:': 2, 'no-Security_boots:': 2}\n",
      "\n",
      "ppe_1038_jpg.rf.b76cb79dcc4614737e5e6aa8ece54937.txt ppe_1038_jpg.rf.b76cb79dcc4614737e5e6aa8ece54937_output.txt\n",
      "gt: {'Worker': 1, 'no-vest': 1}\n",
      "prediction: {'People:': 1, 'no-Hard_hats:': 1, 'no-Gloves:': 1, 'no-Security_boots:': 1}\n",
      "\n",
      "ppe_1056_jpg.rf.07b14d5edfbdef5f93bed73da1ca4b3c.txt ppe_1056_jpg.rf.07b14d5edfbdef5f93bed73da1ca4b3c_output.txt\n",
      "gt: {'Worker': 3}\n",
      "prediction: {'People:': 3}\n",
      "\n",
      "ppe_1074_jpg.rf.170fd2819987ddfabbb4e0fcaa645db4.txt ppe_1074_jpg.rf.170fd2819987ddfabbb4e0fcaa645db4_output.txt\n",
      "gt: {'Worker': 4, 'no-vest': 4, 'no-gloves': 6}\n",
      "prediction: {'People:': 4, 'no-Hard_hats:': 1, 'no-Gloves:': 1, 'no-Reflective_vests:': 1, 'no-Security_boots:': 1}\n",
      "\n",
      "ppe_1075_jpg.rf.6f07e605d995a87a7937b75063011968.txt ppe_1075_jpg.rf.6f07e605d995a87a7937b75063011968_output.txt\n",
      "gt: {'Worker': 12, 'no-vest': 1, 'no-helmet': 6}\n",
      "prediction: {'People:': 10, 'no-Hard_hats:': 1, 'no-Gloves:': 1, 'no-Reflective_vests:': 1, 'no-Security_boots:': 1}\n",
      "\n",
      "ppe_1082_jpg.rf.71423d3f831606f66cec3e3d6c650183.txt ppe_1082_jpg.rf.71423d3f831606f66cec3e3d6c650183_output.txt\n",
      "gt: {'Worker': 1, 'no-vest': 1, 'no-gloves': 1}\n",
      "prediction: {'People:': 1}\n",
      "\n",
      "ppe_1094_jpg.rf.f88d842eabd77aa76a70cf4ea884dc41.txt ppe_1094_jpg.rf.f88d842eabd77aa76a70cf4ea884dc41_output.txt\n",
      "gt: {'Worker': 4}\n",
      "prediction: {'People:': 4, 'no-Gloves:': 4, 'no-Reflective_vests:': 4, 'no-Security_boots:': 4}\n",
      "\n",
      "ppe_1098_jpg.rf.93ca53468305d99cfab84624a92d3ba5.txt ppe_1098_jpg.rf.93ca53468305d99cfab84624a92d3ba5_output.txt\n",
      "gt: {'Worker': 4, 'no-vest': 4}\n",
      "prediction: {'People:': 4}\n",
      "\n",
      "ppe_1102_jpg.rf.6b7992b3a78883a0747100d10e51f005.txt ppe_1102_jpg.rf.6b7992b3a78883a0747100d10e51f005_output.txt\n",
      "gt: {'Worker': 2, 'no-vest': 1, 'no-helmet': 1}\n",
      "prediction: {'People:': 2, 'no-Hard_hats:': 1, 'no-Gloves:': 1, 'no-Reflective_vests:': 1, 'no-Security_boots:': 1}\n",
      "\n",
      "ppe_1102_jpg.rf.d840f3470a4235aa677fef709a86ea06.txt ppe_1102_jpg.rf.d840f3470a4235aa677fef709a86ea06_output.txt\n",
      "gt: {'Worker': 2, 'no-helmet': 1, 'no-vest': 1}\n",
      "prediction: {'People:': 2, 'no-Hard_hats:': 1, 'no-Gloves:': 1, 'no-Reflective_vests:': 1, 'no-Security_boots:': 1}\n",
      "\n",
      "ppe_1105_jpg.rf.0129b2a4b3e14247aab1c7924d9da271.txt ppe_1105_jpg.rf.0129b2a4b3e14247aab1c7924d9da271_output.txt\n",
      "gt: {'Worker': 1, 'no-gloves': 1}\n",
      "prediction: {'People:': 1}\n",
      "\n",
      "ppe_1122_jpg.rf.09a7b20b268d68678e386d1a67b526e7.txt ppe_1122_jpg.rf.09a7b20b268d68678e386d1a67b526e7_output.txt\n",
      "gt: {'Worker': 3, 'no-gloves': 5}\n",
      "prediction: {'People:': 3}\n",
      "\n",
      "ppe_1141_jpg.rf.014ba97a593a311a869cef768894087d.txt ppe_1141_jpg.rf.014ba97a593a311a869cef768894087d_output.txt\n",
      "gt: {'Worker': 1, 'no-gloves': 1}\n",
      "prediction: {'People:': 1}\n",
      "\n",
      "ppe_1149_jpg.rf.9aa17a22684903510c94c747bb4f4c20.txt ppe_1149_jpg.rf.9aa17a22684903510c94c747bb4f4c20_output.txt\n",
      "gt: {'Worker': 1, 'no-gloves': 1}\n",
      "prediction: {'People:': 1}\n",
      "\n",
      "ppe_1159_jpg.rf.62612d8c22c65690d98ffa4a38a0f1d0.txt ppe_1159_jpg.rf.62612d8c22c65690d98ffa4a38a0f1d0_output.txt\n",
      "gt: {'Worker': 2, 'no-vest': 2, 'no-gloves': 4}\n",
      "prediction: {'People:': 2}\n",
      "\n",
      "ppe_1173_jpg.rf.b259420c4e49a956175bc0024cbe4f2f.txt ppe_1173_jpg.rf.b259420c4e49a956175bc0024cbe4f2f_output.txt\n",
      "gt: {'Worker': 4, 'no-shoes': 1, 'no-gloves': 8, 'no-helmet': 1, 'no-vest': 4}\n",
      "prediction: {'People:': 5, 'no-Hard_hats:': 1, 'no-Gloves:': 1, 'no-Reflective_vests:': 1, 'no-Security_boots:': 1}\n",
      "\n",
      "ppe_1199_jpg.rf.73c9ea04d97b47d1b028a3db313c7416.txt ppe_1199_jpg.rf.73c9ea04d97b47d1b028a3db313c7416_output.txt\n",
      "gt: {'Worker': 3, 'no-vest': 1, 'no-gloves': 1}\n",
      "prediction: {'People:': 3, 'no-Hard_hats:': 2, 'no-Gloves:': 2, 'no-Reflective_vests:': 2, 'no-Security_boots:': 2}\n",
      "\n",
      "ppe_1204_jpg.rf.b05466885036032f28ce7c971d3435fa.txt ppe_1204_jpg.rf.b05466885036032f28ce7c971d3435fa_output.txt\n",
      "gt: {'Worker': 1, 'no-vest': 1, 'no-gloves': 1}\n",
      "prediction: {'People:': 1, 'no-Gloves:': 1, 'no-Reflective_vests:': 1, 'no-Security_boots:': 1}\n",
      "\n",
      "ppe_1238_jpg.rf.75ca1aa2426912ec5a458fb30cbbfa85.txt ppe_1238_jpg.rf.75ca1aa2426912ec5a458fb30cbbfa85_output.txt\n",
      "gt: {'Worker': 5, 'no-vest': 5, 'no-helmet': 1}\n",
      "prediction: {'People:': 5, 'no-Hard_hats:': 4, 'no-Gloves:': 4, 'no-Reflective_vests:': 4, 'no-Security_boots:': 4}\n",
      "\n",
      "ppe_1246_jpg.rf.e2948ccb5207ae7a57f37baeb4f8792e.txt ppe_1246_jpg.rf.e2948ccb5207ae7a57f37baeb4f8792e_output.txt\n",
      "gt: {'Worker': 7, 'no-vest': 7}\n",
      "prediction: {'People:': 5, 'no-Hard_hats:': 1, 'no-Gloves:': 1, 'no-Reflective_vests:': 1, 'no-Security_boots:': 1}\n",
      "\n",
      "ppe_1262_jpg.rf.677b983af8eecf1312e383f9835b083b.txt ppe_1262_jpg.rf.677b983af8eecf1312e383f9835b083b_output.txt\n",
      "gt: {'Worker': 2, 'no-vest': 2, 'no-gloves': 1}\n",
      "prediction: {'People:': 2}\n",
      "\n",
      "ppe_1266_jpg.rf.d05c7f1b8e7e0259d9f2db2e7e1ae268.txt ppe_1266_jpg.rf.d05c7f1b8e7e0259d9f2db2e7e1ae268_output.txt\n",
      "gt: {'Worker': 1, 'no-gloves': 2}\n",
      "prediction: {'People:': 1}\n",
      "\n",
      "ppe_1270_jpg.rf.0aac7475c0731464cc574a01c57d2396.txt ppe_1270_jpg.rf.0aac7475c0731464cc574a01c57d2396_output.txt\n",
      "gt: {'Worker': 2, 'no-helmet': 2}\n",
      "prediction: {'People:': 2, 'no-Hard_hats:': 1, 'no-Gloves:': 1, 'no-Reflective_vests:': 1, 'no-Security_boots:': 1}\n",
      "\n",
      "ppe_1279_jpg.rf.ded61cfbeff7000f7c1049ec4d04f733.txt ppe_1279_jpg.rf.ded61cfbeff7000f7c1049ec4d04f733_output.txt\n",
      "gt: {'Worker': 6, 'no-vest': 7}\n",
      "prediction: {'People:': 4}\n",
      "\n",
      "ppe_1289_jpg.rf.aef3ba1622b323b5016d2ac04ba4d2f6.txt ppe_1289_jpg.rf.aef3ba1622b323b5016d2ac04ba4d2f6_output.txt\n",
      "gt: {'Worker': 1, 'no-shoes': 1, 'no-gloves': 2}\n",
      "prediction: {'People:': 1, 'no-Gloves:': 1, 'no-Security_boots:': 1}\n",
      "\n",
      "ppe_1302_jpg.rf.889e0b92314e880ca743ab799214021c.txt ppe_1302_jpg.rf.889e0b92314e880ca743ab799214021c_output.txt\n",
      "gt: {'Worker': 2, 'no-gloves': 3, 'no-helmet': 2}\n",
      "prediction: {'People:': 2}\n",
      "\n",
      "ppe_1303_jpg.rf.5fc08402c38119dfaf3db2a9d89836cf.txt ppe_1303_jpg.rf.5fc08402c38119dfaf3db2a9d89836cf_output.txt\n",
      "gt: {'Worker': 2, 'no-vest': 2}\n",
      "prediction: {'People:': 1, 'no-Gloves:': 1, 'no-Reflective_vests:': 1, 'no-Security_boots:': 1}\n",
      "\n",
      "ppe_1304_jpg.rf.4764d98c931cbbbaaa69b1fe998980e5.txt ppe_1304_jpg.rf.4764d98c931cbbbaaa69b1fe998980e5_output.txt\n",
      "gt: {'Worker': 3, 'no-vest': 3, 'no-gloves': 3}\n",
      "prediction: {'People:': 3, 'no-Hard_hats:': 1, 'no-Gloves:': 1, 'no-Reflective_vests:': 1, 'no-Security_boots:': 1}\n",
      "\n",
      "ppe_1324_jpg.rf.b0209696ad2a4ca44d39c0e5cb771b19.txt ppe_1324_jpg.rf.b0209696ad2a4ca44d39c0e5cb771b19_output.txt\n",
      "gt: {'Worker': 2, 'no-gloves': 2}\n",
      "prediction: {'People:': 1}\n",
      "\n",
      "ppe_1328_jpg.rf.860a32aeb7abd308d5a0e8d355e6076a.txt ppe_1328_jpg.rf.860a32aeb7abd308d5a0e8d355e6076a_output.txt\n",
      "gt: {'Worker': 10, 'no-vest': 9, 'no-gloves': 4, 'no-shoes': 9}\n",
      "prediction: {'People:': 8, 'no-Hard_hats:': 2}\n",
      "\n",
      "final metric: {'final_accuracy': 0.5037015502983185, 'final_precision': 0.8686157015491366, 'final_recall': 0.5740191335774675, 'final_f1_score': 0.64426096893679}\n",
      "final metric People: {'final_accuracy': 0.9269477185873296, 'final_precision': 0.9608527385313103, 'final_recall': 0.9531079670690064, 'final_f1_score': 0.951560220813199}\n",
      "final metric no-Hard_hats: {'final_accuracy': 0.23436779670545896, 'final_precision': 0.2795557616986188, 'final_recall': 0.26325359344839866, 'final_f1_score': 0.25746322898729307}\n",
      "final metric no-Gloves: {'final_accuracy': 0.22154261683482468, 'final_precision': 0.3759533125604554, 'final_recall': 0.2546802133652783, 'final_f1_score': 0.27322510642315845}\n",
      "final metric no-Reflective_vests: {'final_accuracy': 0.28097435122597464, 'final_precision': 0.43918259320045033, 'final_recall': 0.2898437060774724, 'final_f1_score': 0.3273663063814027}\n",
      "final metric no-Security_boots: {'final_accuracy': 0.1389255294192269, 'final_precision': 0.23526889776889778, 'final_recall': 0.15040987840357592, 'final_f1_score': 0.16807978106208052}\n"
     ]
    }
   ],
   "source": [
    "import json\n",
    "import os\n",
    "\n",
    "ground_truth_folder = \"/kaggle/input/ppe-detection-no-ppe-llava-v2/test/labels\"\n",
    "predictions_folder = \"/kaggle/working/test_set\"    \n",
    "output_folder = \"/kaggle/working/metrics_output\"\n",
    "output_folder_final = \"/kaggle/working/metrics_output_final\"\n",
    "os.makedirs(output_folder, exist_ok=True)\n",
    "os.makedirs(output_folder_final, exist_ok=True)\n",
    "DPI = ['People', 'no-Hard_hats', 'no-Gloves', 'no-Reflective_vests', 'no-Security_boots']\n",
    "\n",
    "gt_files = sorted(os.listdir(ground_truth_folder))\n",
    "pred_files = sorted(os.listdir(predictions_folder)) \n",
    "all_metrics = []\n",
    "for gt_file, pred_file in zip(gt_files, pred_files):\n",
    "    print(gt_file, pred_file)\n",
    "    base_filename = os.path.splitext(pred_file)[0]\n",
    "    #print(base_filename)\n",
    "    gt_results = read_ground_truth(os.path.join(ground_truth_folder,gt_file))\n",
    "    print(f'gt: {gt_results}')\n",
    "    data = extract_json_from_file(os.path.join(predictions_folder, pred_file))\n",
    "    prediction_results = filter_greater_than_zero(data)\n",
    "    print(f'prediction: {prediction_results}\\n')\n",
    "    metrics = calculate_metrics(gt_results, prediction_results, mapping)\n",
    "    final_metrics_per_image = calculate_classification_metrics(metrics)\n",
    "    all_metrics.append(final_metrics_per_image)\n",
    "final = calculate_final_metrics(all_metrics)\n",
    "print(f'final metric: {final}')\n",
    "save_metrics_to_file(final, output_folder_final, \"final\")\n",
    "\n",
    "#########################################################################################################\n",
    "final_ppes_metrics = {\n",
    "    'People': {\n",
    "        'Accuracy': 0, \n",
    "        'Precision': 0, \n",
    "        'Recall': 0, \n",
    "        'F1-Score': 0\n",
    "    },\n",
    "    'no-Hard_hats': {\n",
    "        'Accuracy': 0, \n",
    "        'Precision': 0, \n",
    "        'Recall': 0, \n",
    "        'F1-Score': 0\n",
    "    },\n",
    "    'no-Gloves': {\n",
    "        'Accuracy': 0, \n",
    "        'Precision': 0, \n",
    "        'Recall': 0, \n",
    "        'F1-Score': 0\n",
    "    },\n",
    "    'no-Reflective_vests': {\n",
    "        'Accuracy': 0, \n",
    "        'Precision': 0, \n",
    "        'Recall': 0, \n",
    "        'F1-Score': 0\n",
    "    },\n",
    "    'no-Security_boots': {\n",
    "        'Accuracy': 0, \n",
    "        'Precision': 0, \n",
    "        'Recall': 0, \n",
    "        'F1-Score': 0\n",
    "    },\n",
    "}\n",
    "# Second part of the code to calculate per DPI metrics\n",
    "gt_files = sorted(os.listdir(ground_truth_folder))\n",
    "pred_files = sorted(os.listdir(predictions_folder)) \n",
    "\n",
    "# Iterate over each DPI type\n",
    "for dpi in DPI:\n",
    "    all_metrics_per_dpi = []  # Initialize a list to collect metrics for each DPI\n",
    "    for gt_file, pred_file in zip(gt_files, pred_files):\n",
    "        base_filename = os.path.splitext(pred_file)[0]\n",
    "\n",
    "        # Read ground truth and predictions for the current image\n",
    "        gt_results = read_ground_truth(os.path.join(ground_truth_folder, gt_file))\n",
    "        data = extract_json_from_file(os.path.join(predictions_folder, pred_file))\n",
    "        \n",
    "        # Filter predictions with counts greater than zero\n",
    "        prediction_results = filter_greater_than_zero(data)\n",
    "        \n",
    "        # Calculate per-image metrics for the current DPI\n",
    "        metrics = calculate_metrics_per_DPI(gt_results, prediction_results, mapping, dpi)\n",
    "        final_metrics_per_image = calculate_classification_metrics(metrics)\n",
    "        all_metrics_per_dpi.append(final_metrics_per_image)\n",
    "\n",
    "    # Calculate final averaged metrics for the current DPI\n",
    "    final_dpi_metrics = calculate_final_metrics(all_metrics_per_dpi)\n",
    "    print(f'final metric {dpi}: {final_dpi_metrics}')\n",
    "    \n",
    "    # Update the final PPE metrics dictionary with calculated values\n",
    "    final_ppes_metrics[dpi]['Accuracy'] = final_dpi_metrics['final_accuracy']\n",
    "    final_ppes_metrics[dpi]['Precision'] = final_dpi_metrics['final_precision']\n",
    "    final_ppes_metrics[dpi]['Recall'] = final_dpi_metrics['final_recall']\n",
    "    final_ppes_metrics[dpi]['F1-Score'] = final_dpi_metrics['final_f1_score']\n",
    "\n",
    "# Save final PPEs metrics to file\n",
    "output_file_path = os.path.join(output_folder_final, \"final_ppes_metrics.json\")\n",
    "with open(output_file_path, 'w') as f:\n",
    "    json.dump(final_ppes_metrics, f, indent=4)"
   ]
  }
 ],
 "metadata": {
  "kaggle": {
   "accelerator": "gpu",
   "dataSources": [
    {
     "datasetId": 5934381,
     "sourceId": 9703683,
     "sourceType": "datasetVersion"
    },
    {
     "datasetId": 5941445,
     "sourceId": 9712887,
     "sourceType": "datasetVersion"
    }
   ],
   "dockerImageVersionId": 30787,
   "isGpuEnabled": true,
   "isInternetEnabled": true,
   "language": "python",
   "sourceType": "notebook"
  },
  "kernelspec": {
   "display_name": "Python 3",
   "language": "python",
   "name": "python3"
  },
  "language_info": {
   "codemirror_mode": {
    "name": "ipython",
    "version": 3
   },
   "file_extension": ".py",
   "mimetype": "text/x-python",
   "name": "python",
   "nbconvert_exporter": "python",
   "pygments_lexer": "ipython3",
   "version": "3.10.14"
  },
  "papermill": {
   "default_parameters": {},
   "duration": 9593.520777,
   "end_time": "2024-10-24T23:45:50.056808",
   "environment_variables": {},
   "exception": null,
   "input_path": "__notebook__.ipynb",
   "output_path": "__notebook__.ipynb",
   "parameters": {},
   "start_time": "2024-10-24T21:05:56.536031",
   "version": "2.6.0"
  },
  "widgets": {
   "application/vnd.jupyter.widget-state+json": {
    "state": {
     "0039e07114124634aa82c685d0c1380b": {
      "model_module": "@jupyter-widgets/controls",
      "model_module_version": "1.5.0",
      "model_name": "ProgressStyleModel",
      "state": {
       "_model_module": "@jupyter-widgets/controls",
       "_model_module_version": "1.5.0",
       "_model_name": "ProgressStyleModel",
       "_view_count": null,
       "_view_module": "@jupyter-widgets/base",
       "_view_module_version": "1.2.0",
       "_view_name": "StyleView",
       "bar_color": null,
       "description_width": ""
      }
     },
     "004b0f6b7c714e54a188e2339fe315ca": {
      "model_module": "@jupyter-widgets/controls",
      "model_module_version": "1.5.0",
      "model_name": "FloatProgressModel",
      "state": {
       "_dom_classes": [],
       "_model_module": "@jupyter-widgets/controls",
       "_model_module_version": "1.5.0",
       "_model_name": "FloatProgressModel",
       "_view_count": null,
       "_view_module": "@jupyter-widgets/controls",
       "_view_module_version": "1.5.0",
       "_view_name": "ProgressView",
       "bar_style": "success",
       "description": "",
       "description_tooltip": null,
       "layout": "IPY_MODEL_481aedee0d904bf1a9c952e954d68c6a",
       "max": 4915917568.0,
       "min": 0.0,
       "orientation": "horizontal",
       "style": "IPY_MODEL_18ef98a1157947bc941f280bbd257f6d",
       "value": 4915917568.0
      }
     },
     "0069d194578c45578151e481777b70d0": {
      "model_module": "@jupyter-widgets/base",
      "model_module_version": "1.2.0",
      "model_name": "LayoutModel",
      "state": {
       "_model_module": "@jupyter-widgets/base",
       "_model_module_version": "1.2.0",
       "_model_name": "LayoutModel",
       "_view_count": null,
       "_view_module": "@jupyter-widgets/base",
       "_view_module_version": "1.2.0",
       "_view_name": "LayoutView",
       "align_content": null,
       "align_items": null,
       "align_self": null,
       "border": null,
       "bottom": null,
       "display": null,
       "flex": null,
       "flex_flow": null,
       "grid_area": null,
       "grid_auto_columns": null,
       "grid_auto_flow": null,
       "grid_auto_rows": null,
       "grid_column": null,
       "grid_gap": null,
       "grid_row": null,
       "grid_template_areas": null,
       "grid_template_columns": null,
       "grid_template_rows": null,
       "height": null,
       "justify_content": null,
       "justify_items": null,
       "left": null,
       "margin": null,
       "max_height": null,
       "max_width": null,
       "min_height": null,
       "min_width": null,
       "object_fit": null,
       "object_position": null,
       "order": null,
       "overflow": null,
       "overflow_x": null,
       "overflow_y": null,
       "padding": null,
       "right": null,
       "top": null,
       "visibility": null,
       "width": null
      }
     },
     "01f9e72eec1a44099eb0a3501411f52a": {
      "model_module": "@jupyter-widgets/controls",
      "model_module_version": "1.5.0",
      "model_name": "HTMLModel",
      "state": {
       "_dom_classes": [],
       "_model_module": "@jupyter-widgets/controls",
       "_model_module_version": "1.5.0",
       "_model_name": "HTMLModel",
       "_view_count": null,
       "_view_module": "@jupyter-widgets/controls",
       "_view_module_version": "1.5.0",
       "_view_name": "HTMLView",
       "description": "",
       "description_tooltip": null,
       "layout": "IPY_MODEL_2fb85381211449c6aaf869343d3e67d5",
       "placeholder": "​",
       "style": "IPY_MODEL_e898a9792d074abfa105f03d32b16aa0",
       "value": "config.json: 100%"
      }
     },
     "03ae795b45674a21ba1561166e3a36d4": {
      "model_module": "@jupyter-widgets/controls",
      "model_module_version": "1.5.0",
      "model_name": "HTMLModel",
      "state": {
       "_dom_classes": [],
       "_model_module": "@jupyter-widgets/controls",
       "_model_module_version": "1.5.0",
       "_model_name": "HTMLModel",
       "_view_count": null,
       "_view_module": "@jupyter-widgets/controls",
       "_view_module_version": "1.5.0",
       "_view_name": "HTMLView",
       "description": "",
       "description_tooltip": null,
       "layout": "IPY_MODEL_3032f60c3a0944f99863bbf765413332",
       "placeholder": "​",
       "style": "IPY_MODEL_2233a1b08c5645ccb909d8bf4804fbe3",
       "value": " 772/772 [00:00&lt;00:00, 61.7kB/s]"
      }
     },
     "03bf05aa6a74434e81372bc76a648a5f": {
      "model_module": "@jupyter-widgets/base",
      "model_module_version": "1.2.0",
      "model_name": "LayoutModel",
      "state": {
       "_model_module": "@jupyter-widgets/base",
       "_model_module_version": "1.2.0",
       "_model_name": "LayoutModel",
       "_view_count": null,
       "_view_module": "@jupyter-widgets/base",
       "_view_module_version": "1.2.0",
       "_view_name": "LayoutView",
       "align_content": null,
       "align_items": null,
       "align_self": null,
       "border": null,
       "bottom": null,
       "display": null,
       "flex": null,
       "flex_flow": null,
       "grid_area": null,
       "grid_auto_columns": null,
       "grid_auto_flow": null,
       "grid_auto_rows": null,
       "grid_column": null,
       "grid_gap": null,
       "grid_row": null,
       "grid_template_areas": null,
       "grid_template_columns": null,
       "grid_template_rows": null,
       "height": null,
       "justify_content": null,
       "justify_items": null,
       "left": null,
       "margin": null,
       "max_height": null,
       "max_width": null,
       "min_height": null,
       "min_width": null,
       "object_fit": null,
       "object_position": null,
       "order": null,
       "overflow": null,
       "overflow_x": null,
       "overflow_y": null,
       "padding": null,
       "right": null,
       "top": null,
       "visibility": null,
       "width": null
      }
     },
     "03dedb48ddda44289474a52333fcef38": {
      "model_module": "@jupyter-widgets/controls",
      "model_module_version": "1.5.0",
      "model_name": "DescriptionStyleModel",
      "state": {
       "_model_module": "@jupyter-widgets/controls",
       "_model_module_version": "1.5.0",
       "_model_name": "DescriptionStyleModel",
       "_view_count": null,
       "_view_module": "@jupyter-widgets/base",
       "_view_module_version": "1.2.0",
       "_view_name": "StyleView",
       "description_width": ""
      }
     },
     "042ab66523c44432b7f083a74e2163bc": {
      "model_module": "@jupyter-widgets/controls",
      "model_module_version": "1.5.0",
      "model_name": "ProgressStyleModel",
      "state": {
       "_model_module": "@jupyter-widgets/controls",
       "_model_module_version": "1.5.0",
       "_model_name": "ProgressStyleModel",
       "_view_count": null,
       "_view_module": "@jupyter-widgets/base",
       "_view_module_version": "1.2.0",
       "_view_name": "StyleView",
       "bar_color": null,
       "description_width": ""
      }
     },
     "087c6f5a163140de9964d6d9d58797c1": {
      "model_module": "@jupyter-widgets/controls",
      "model_module_version": "1.5.0",
      "model_name": "FloatProgressModel",
      "state": {
       "_dom_classes": [],
       "_model_module": "@jupyter-widgets/controls",
       "_model_module_version": "1.5.0",
       "_model_name": "FloatProgressModel",
       "_view_count": null,
       "_view_module": "@jupyter-widgets/controls",
       "_view_module_version": "1.5.0",
       "_view_name": "ProgressView",
       "bar_style": "success",
       "description": "",
       "description_tooltip": null,
       "layout": "IPY_MODEL_2b7ae85a1e2141b9b6a1c8055f396127",
       "max": 4.0,
       "min": 0.0,
       "orientation": "horizontal",
       "style": "IPY_MODEL_042ab66523c44432b7f083a74e2163bc",
       "value": 4.0
      }
     },
     "0babd87696b34576a700fc52e1530179": {
      "model_module": "@jupyter-widgets/controls",
      "model_module_version": "1.5.0",
      "model_name": "DescriptionStyleModel",
      "state": {
       "_model_module": "@jupyter-widgets/controls",
       "_model_module_version": "1.5.0",
       "_model_name": "DescriptionStyleModel",
       "_view_count": null,
       "_view_module": "@jupyter-widgets/base",
       "_view_module_version": "1.2.0",
       "_view_name": "StyleView",
       "description_width": ""
      }
     },
     "0e0e66a3c96b44849bc623ab44dbb7cd": {
      "model_module": "@jupyter-widgets/controls",
      "model_module_version": "1.5.0",
      "model_name": "DescriptionStyleModel",
      "state": {
       "_model_module": "@jupyter-widgets/controls",
       "_model_module_version": "1.5.0",
       "_model_name": "DescriptionStyleModel",
       "_view_count": null,
       "_view_module": "@jupyter-widgets/base",
       "_view_module_version": "1.2.0",
       "_view_name": "StyleView",
       "description_width": ""
      }
     },
     "0f46c9ac4fbb413488ebc4947c9c8152": {
      "model_module": "@jupyter-widgets/controls",
      "model_module_version": "1.5.0",
      "model_name": "DescriptionStyleModel",
      "state": {
       "_model_module": "@jupyter-widgets/controls",
       "_model_module_version": "1.5.0",
       "_model_name": "DescriptionStyleModel",
       "_view_count": null,
       "_view_module": "@jupyter-widgets/base",
       "_view_module_version": "1.2.0",
       "_view_name": "StyleView",
       "description_width": ""
      }
     },
     "0f4e19b851be4ccd9db2e5c330213cad": {
      "model_module": "@jupyter-widgets/controls",
      "model_module_version": "1.5.0",
      "model_name": "FloatProgressModel",
      "state": {
       "_dom_classes": [],
       "_model_module": "@jupyter-widgets/controls",
       "_model_module_version": "1.5.0",
       "_model_name": "FloatProgressModel",
       "_view_count": null,
       "_view_module": "@jupyter-widgets/controls",
       "_view_module_version": "1.5.0",
       "_view_name": "ProgressView",
       "bar_style": "success",
       "description": "",
       "description_tooltip": null,
       "layout": "IPY_MODEL_7b08c72d7e264d23bd11bee992b1ac0a",
       "max": 552.0,
       "min": 0.0,
       "orientation": "horizontal",
       "style": "IPY_MODEL_c3088a855651408dbb5a15404fb2d33e",
       "value": 552.0
      }
     },
     "13034ed55ef54f5284c64a3614178aa0": {
      "model_module": "@jupyter-widgets/controls",
      "model_module_version": "1.5.0",
      "model_name": "HTMLModel",
      "state": {
       "_dom_classes": [],
       "_model_module": "@jupyter-widgets/controls",
       "_model_module_version": "1.5.0",
       "_model_name": "HTMLModel",
       "_view_count": null,
       "_view_module": "@jupyter-widgets/controls",
       "_view_module_version": "1.5.0",
       "_view_name": "HTMLView",
       "description": "",
       "description_tooltip": null,
       "layout": "IPY_MODEL_a10d3b4b5aea4b2ab63cad50e0f99831",
       "placeholder": "​",
       "style": "IPY_MODEL_a32280fabd7f42e8bec15f497df74c93",
       "value": " 4.92G/4.92G [01:56&lt;00:00, 41.8MB/s]"
      }
     },
     "148fc523a996441187e5e20749714dcb": {
      "model_module": "@jupyter-widgets/base",
      "model_module_version": "1.2.0",
      "model_name": "LayoutModel",
      "state": {
       "_model_module": "@jupyter-widgets/base",
       "_model_module_version": "1.2.0",
       "_model_name": "LayoutModel",
       "_view_count": null,
       "_view_module": "@jupyter-widgets/base",
       "_view_module_version": "1.2.0",
       "_view_name": "LayoutView",
       "align_content": null,
       "align_items": null,
       "align_self": null,
       "border": null,
       "bottom": null,
       "display": null,
       "flex": null,
       "flex_flow": null,
       "grid_area": null,
       "grid_auto_columns": null,
       "grid_auto_flow": null,
       "grid_auto_rows": null,
       "grid_column": null,
       "grid_gap": null,
       "grid_row": null,
       "grid_template_areas": null,
       "grid_template_columns": null,
       "grid_template_rows": null,
       "height": null,
       "justify_content": null,
       "justify_items": null,
       "left": null,
       "margin": null,
       "max_height": null,
       "max_width": null,
       "min_height": null,
       "min_width": null,
       "object_fit": null,
       "object_position": null,
       "order": null,
       "overflow": null,
       "overflow_x": null,
       "overflow_y": null,
       "padding": null,
       "right": null,
       "top": null,
       "visibility": null,
       "width": null
      }
     },
     "158260ef15d841f4a2238633561dce3d": {
      "model_module": "@jupyter-widgets/controls",
      "model_module_version": "1.5.0",
      "model_name": "HTMLModel",
      "state": {
       "_dom_classes": [],
       "_model_module": "@jupyter-widgets/controls",
       "_model_module_version": "1.5.0",
       "_model_name": "HTMLModel",
       "_view_count": null,
       "_view_module": "@jupyter-widgets/controls",
       "_view_module_version": "1.5.0",
       "_view_name": "HTMLView",
       "description": "",
       "description_tooltip": null,
       "layout": "IPY_MODEL_878389b39fa64b30ae9f00bf059825e0",
       "placeholder": "​",
       "style": "IPY_MODEL_2a9c5b9303d14625b41eceb64ce4900b",
       "value": " 1.98k/1.98k [00:00&lt;00:00, 159kB/s]"
      }
     },
     "16c74fc009574d86ba9e32d8f0d924f2": {
      "model_module": "@jupyter-widgets/base",
      "model_module_version": "1.2.0",
      "model_name": "LayoutModel",
      "state": {
       "_model_module": "@jupyter-widgets/base",
       "_model_module_version": "1.2.0",
       "_model_name": "LayoutModel",
       "_view_count": null,
       "_view_module": "@jupyter-widgets/base",
       "_view_module_version": "1.2.0",
       "_view_name": "LayoutView",
       "align_content": null,
       "align_items": null,
       "align_self": null,
       "border": null,
       "bottom": null,
       "display": null,
       "flex": null,
       "flex_flow": null,
       "grid_area": null,
       "grid_auto_columns": null,
       "grid_auto_flow": null,
       "grid_auto_rows": null,
       "grid_column": null,
       "grid_gap": null,
       "grid_row": null,
       "grid_template_areas": null,
       "grid_template_columns": null,
       "grid_template_rows": null,
       "height": null,
       "justify_content": null,
       "justify_items": null,
       "left": null,
       "margin": null,
       "max_height": null,
       "max_width": null,
       "min_height": null,
       "min_width": null,
       "object_fit": null,
       "object_position": null,
       "order": null,
       "overflow": null,
       "overflow_x": null,
       "overflow_y": null,
       "padding": null,
       "right": null,
       "top": null,
       "visibility": null,
       "width": null
      }
     },
     "17378430eb6743129413ba742a58e6a2": {
      "model_module": "@jupyter-widgets/controls",
      "model_module_version": "1.5.0",
      "model_name": "HTMLModel",
      "state": {
       "_dom_classes": [],
       "_model_module": "@jupyter-widgets/controls",
       "_model_module_version": "1.5.0",
       "_model_name": "HTMLModel",
       "_view_count": null,
       "_view_module": "@jupyter-widgets/controls",
       "_view_module_version": "1.5.0",
       "_view_name": "HTMLView",
       "description": "",
       "description_tooltip": null,
       "layout": "IPY_MODEL_0069d194578c45578151e481777b70d0",
       "placeholder": "​",
       "style": "IPY_MODEL_de83d23d30824c9fbdf52a31fb7fe9aa",
       "value": "special_tokens_map.json: 100%"
      }
     },
     "17f4e9526b5a4a5588dadd706533a6ef": {
      "model_module": "@jupyter-widgets/controls",
      "model_module_version": "1.5.0",
      "model_name": "HBoxModel",
      "state": {
       "_dom_classes": [],
       "_model_module": "@jupyter-widgets/controls",
       "_model_module_version": "1.5.0",
       "_model_name": "HBoxModel",
       "_view_count": null,
       "_view_module": "@jupyter-widgets/controls",
       "_view_module_version": "1.5.0",
       "_view_name": "HBoxView",
       "box_style": "",
       "children": [
        "IPY_MODEL_3878c2e710854b79aedc07c1488d6db9",
        "IPY_MODEL_087c6f5a163140de9964d6d9d58797c1",
        "IPY_MODEL_59dcab0c1f25425db0b17bffcfdf25bc"
       ],
       "layout": "IPY_MODEL_19707a1a66da4d02b05c438ab6ccc108"
      }
     },
     "18ef98a1157947bc941f280bbd257f6d": {
      "model_module": "@jupyter-widgets/controls",
      "model_module_version": "1.5.0",
      "model_name": "ProgressStyleModel",
      "state": {
       "_model_module": "@jupyter-widgets/controls",
       "_model_module_version": "1.5.0",
       "_model_name": "ProgressStyleModel",
       "_view_count": null,
       "_view_module": "@jupyter-widgets/base",
       "_view_module_version": "1.2.0",
       "_view_name": "StyleView",
       "bar_color": null,
       "description_width": ""
      }
     },
     "19707a1a66da4d02b05c438ab6ccc108": {
      "model_module": "@jupyter-widgets/base",
      "model_module_version": "1.2.0",
      "model_name": "LayoutModel",
      "state": {
       "_model_module": "@jupyter-widgets/base",
       "_model_module_version": "1.2.0",
       "_model_name": "LayoutModel",
       "_view_count": null,
       "_view_module": "@jupyter-widgets/base",
       "_view_module_version": "1.2.0",
       "_view_name": "LayoutView",
       "align_content": null,
       "align_items": null,
       "align_self": null,
       "border": null,
       "bottom": null,
       "display": null,
       "flex": null,
       "flex_flow": null,
       "grid_area": null,
       "grid_auto_columns": null,
       "grid_auto_flow": null,
       "grid_auto_rows": null,
       "grid_column": null,
       "grid_gap": null,
       "grid_row": null,
       "grid_template_areas": null,
       "grid_template_columns": null,
       "grid_template_rows": null,
       "height": null,
       "justify_content": null,
       "justify_items": null,
       "left": null,
       "margin": null,
       "max_height": null,
       "max_width": null,
       "min_height": null,
       "min_width": null,
       "object_fit": null,
       "object_position": null,
       "order": null,
       "overflow": null,
       "overflow_x": null,
       "overflow_y": null,
       "padding": null,
       "right": null,
       "top": null,
       "visibility": null,
       "width": null
      }
     },
     "1cdd7838a94e4edb9fbc5dd1a89689fe": {
      "model_module": "@jupyter-widgets/base",
      "model_module_version": "1.2.0",
      "model_name": "LayoutModel",
      "state": {
       "_model_module": "@jupyter-widgets/base",
       "_model_module_version": "1.2.0",
       "_model_name": "LayoutModel",
       "_view_count": null,
       "_view_module": "@jupyter-widgets/base",
       "_view_module_version": "1.2.0",
       "_view_name": "LayoutView",
       "align_content": null,
       "align_items": null,
       "align_self": null,
       "border": null,
       "bottom": null,
       "display": null,
       "flex": null,
       "flex_flow": null,
       "grid_area": null,
       "grid_auto_columns": null,
       "grid_auto_flow": null,
       "grid_auto_rows": null,
       "grid_column": null,
       "grid_gap": null,
       "grid_row": null,
       "grid_template_areas": null,
       "grid_template_columns": null,
       "grid_template_rows": null,
       "height": null,
       "justify_content": null,
       "justify_items": null,
       "left": null,
       "margin": null,
       "max_height": null,
       "max_width": null,
       "min_height": null,
       "min_width": null,
       "object_fit": null,
       "object_position": null,
       "order": null,
       "overflow": null,
       "overflow_x": null,
       "overflow_y": null,
       "padding": null,
       "right": null,
       "top": null,
       "visibility": null,
       "width": null
      }
     },
     "1d6b60e2f5a046939bc42712277f7437": {
      "model_module": "@jupyter-widgets/controls",
      "model_module_version": "1.5.0",
      "model_name": "DescriptionStyleModel",
      "state": {
       "_model_module": "@jupyter-widgets/controls",
       "_model_module_version": "1.5.0",
       "_model_name": "DescriptionStyleModel",
       "_view_count": null,
       "_view_module": "@jupyter-widgets/base",
       "_view_module_version": "1.2.0",
       "_view_name": "StyleView",
       "description_width": ""
      }
     },
     "21895a6bfda141c8b60b43d440c3446f": {
      "model_module": "@jupyter-widgets/controls",
      "model_module_version": "1.5.0",
      "model_name": "HBoxModel",
      "state": {
       "_dom_classes": [],
       "_model_module": "@jupyter-widgets/controls",
       "_model_module_version": "1.5.0",
       "_model_name": "HBoxModel",
       "_view_count": null,
       "_view_module": "@jupyter-widgets/controls",
       "_view_module_version": "1.5.0",
       "_view_name": "HBoxView",
       "box_style": "",
       "children": [
        "IPY_MODEL_5380ae94e2964ae181b663af51e9c686",
        "IPY_MODEL_da7c8c294a534e2d9ed0260090ccbde3",
        "IPY_MODEL_911e08e20ce4448188cd0330f46e5b66"
       ],
       "layout": "IPY_MODEL_16c74fc009574d86ba9e32d8f0d924f2"
      }
     },
     "2233a1b08c5645ccb909d8bf4804fbe3": {
      "model_module": "@jupyter-widgets/controls",
      "model_module_version": "1.5.0",
      "model_name": "DescriptionStyleModel",
      "state": {
       "_model_module": "@jupyter-widgets/controls",
       "_model_module_version": "1.5.0",
       "_model_name": "DescriptionStyleModel",
       "_view_count": null,
       "_view_module": "@jupyter-widgets/base",
       "_view_module_version": "1.2.0",
       "_view_name": "StyleView",
       "description_width": ""
      }
     },
     "23278bfb2d7d40f38ab3e6457c2238ff": {
      "model_module": "@jupyter-widgets/base",
      "model_module_version": "1.2.0",
      "model_name": "LayoutModel",
      "state": {
       "_model_module": "@jupyter-widgets/base",
       "_model_module_version": "1.2.0",
       "_model_name": "LayoutModel",
       "_view_count": null,
       "_view_module": "@jupyter-widgets/base",
       "_view_module_version": "1.2.0",
       "_view_name": "LayoutView",
       "align_content": null,
       "align_items": null,
       "align_self": null,
       "border": null,
       "bottom": null,
       "display": null,
       "flex": null,
       "flex_flow": null,
       "grid_area": null,
       "grid_auto_columns": null,
       "grid_auto_flow": null,
       "grid_auto_rows": null,
       "grid_column": null,
       "grid_gap": null,
       "grid_row": null,
       "grid_template_areas": null,
       "grid_template_columns": null,
       "grid_template_rows": null,
       "height": null,
       "justify_content": null,
       "justify_items": null,
       "left": null,
       "margin": null,
       "max_height": null,
       "max_width": null,
       "min_height": null,
       "min_width": null,
       "object_fit": null,
       "object_position": null,
       "order": null,
       "overflow": null,
       "overflow_x": null,
       "overflow_y": null,
       "padding": null,
       "right": null,
       "top": null,
       "visibility": null,
       "width": null
      }
     },
     "24ab9461d36a42b8a64a084aa6a579a3": {
      "model_module": "@jupyter-widgets/base",
      "model_module_version": "1.2.0",
      "model_name": "LayoutModel",
      "state": {
       "_model_module": "@jupyter-widgets/base",
       "_model_module_version": "1.2.0",
       "_model_name": "LayoutModel",
       "_view_count": null,
       "_view_module": "@jupyter-widgets/base",
       "_view_module_version": "1.2.0",
       "_view_name": "LayoutView",
       "align_content": null,
       "align_items": null,
       "align_self": null,
       "border": null,
       "bottom": null,
       "display": null,
       "flex": null,
       "flex_flow": null,
       "grid_area": null,
       "grid_auto_columns": null,
       "grid_auto_flow": null,
       "grid_auto_rows": null,
       "grid_column": null,
       "grid_gap": null,
       "grid_row": null,
       "grid_template_areas": null,
       "grid_template_columns": null,
       "grid_template_rows": null,
       "height": null,
       "justify_content": null,
       "justify_items": null,
       "left": null,
       "margin": null,
       "max_height": null,
       "max_width": null,
       "min_height": null,
       "min_width": null,
       "object_fit": null,
       "object_position": null,
       "order": null,
       "overflow": null,
       "overflow_x": null,
       "overflow_y": null,
       "padding": null,
       "right": null,
       "top": null,
       "visibility": null,
       "width": null
      }
     },
     "29dc56fbfcfb4ad2bede6e304353bc29": {
      "model_module": "@jupyter-widgets/controls",
      "model_module_version": "1.5.0",
      "model_name": "HTMLModel",
      "state": {
       "_dom_classes": [],
       "_model_module": "@jupyter-widgets/controls",
       "_model_module_version": "1.5.0",
       "_model_name": "HTMLModel",
       "_view_count": null,
       "_view_module": "@jupyter-widgets/controls",
       "_view_module_version": "1.5.0",
       "_view_name": "HTMLView",
       "description": "",
       "description_tooltip": null,
       "layout": "IPY_MODEL_ea711361e34b424cb08015d7b8b9cc73",
       "placeholder": "​",
       "style": "IPY_MODEL_03dedb48ddda44289474a52333fcef38",
       "value": "Downloading shards: 100%"
      }
     },
     "2a9c5b9303d14625b41eceb64ce4900b": {
      "model_module": "@jupyter-widgets/controls",
      "model_module_version": "1.5.0",
      "model_name": "DescriptionStyleModel",
      "state": {
       "_model_module": "@jupyter-widgets/controls",
       "_model_module_version": "1.5.0",
       "_model_name": "DescriptionStyleModel",
       "_view_count": null,
       "_view_module": "@jupyter-widgets/base",
       "_view_module_version": "1.2.0",
       "_view_name": "StyleView",
       "description_width": ""
      }
     },
     "2b7ae85a1e2141b9b6a1c8055f396127": {
      "model_module": "@jupyter-widgets/base",
      "model_module_version": "1.2.0",
      "model_name": "LayoutModel",
      "state": {
       "_model_module": "@jupyter-widgets/base",
       "_model_module_version": "1.2.0",
       "_model_name": "LayoutModel",
       "_view_count": null,
       "_view_module": "@jupyter-widgets/base",
       "_view_module_version": "1.2.0",
       "_view_name": "LayoutView",
       "align_content": null,
       "align_items": null,
       "align_self": null,
       "border": null,
       "bottom": null,
       "display": null,
       "flex": null,
       "flex_flow": null,
       "grid_area": null,
       "grid_auto_columns": null,
       "grid_auto_flow": null,
       "grid_auto_rows": null,
       "grid_column": null,
       "grid_gap": null,
       "grid_row": null,
       "grid_template_areas": null,
       "grid_template_columns": null,
       "grid_template_rows": null,
       "height": null,
       "justify_content": null,
       "justify_items": null,
       "left": null,
       "margin": null,
       "max_height": null,
       "max_width": null,
       "min_height": null,
       "min_width": null,
       "object_fit": null,
       "object_position": null,
       "order": null,
       "overflow": null,
       "overflow_x": null,
       "overflow_y": null,
       "padding": null,
       "right": null,
       "top": null,
       "visibility": null,
       "width": null
      }
     },
     "2c3efbd107754161b8b9997fffe6751e": {
      "model_module": "@jupyter-widgets/controls",
      "model_module_version": "1.5.0",
      "model_name": "FloatProgressModel",
      "state": {
       "_dom_classes": [],
       "_model_module": "@jupyter-widgets/controls",
       "_model_module_version": "1.5.0",
       "_model_name": "FloatProgressModel",
       "_view_count": null,
       "_view_module": "@jupyter-widgets/controls",
       "_view_module_version": "1.5.0",
       "_view_name": "ProgressView",
       "bar_style": "success",
       "description": "",
       "description_tooltip": null,
       "layout": "IPY_MODEL_d421b46e3f0f4c48b11f6ce2aaa8c375",
       "max": 772.0,
       "min": 0.0,
       "orientation": "horizontal",
       "style": "IPY_MODEL_542eb656914f46a08a80edf7e52a0401",
       "value": 772.0
      }
     },
     "2d4bcb869e1342aab8f6d9e41d80dcd7": {
      "model_module": "@jupyter-widgets/controls",
      "model_module_version": "1.5.0",
      "model_name": "HBoxModel",
      "state": {
       "_dom_classes": [],
       "_model_module": "@jupyter-widgets/controls",
       "_model_module_version": "1.5.0",
       "_model_name": "HBoxModel",
       "_view_count": null,
       "_view_module": "@jupyter-widgets/controls",
       "_view_module_version": "1.5.0",
       "_view_name": "HBoxView",
       "box_style": "",
       "children": [
        "IPY_MODEL_4e6650a4d60845a0bda142484d73e435",
        "IPY_MODEL_571e800e905c42d6bf82dec9e4d8e618",
        "IPY_MODEL_5e77a96c312741f6956818fb07a2118a"
       ],
       "layout": "IPY_MODEL_3f8d9ba2a4184b1fbe1343bc16d12c45"
      }
     },
     "2de9196fc5b44012b529cbfdf47e7c77": {
      "model_module": "@jupyter-widgets/controls",
      "model_module_version": "1.5.0",
      "model_name": "ProgressStyleModel",
      "state": {
       "_model_module": "@jupyter-widgets/controls",
       "_model_module_version": "1.5.0",
       "_model_name": "ProgressStyleModel",
       "_view_count": null,
       "_view_module": "@jupyter-widgets/base",
       "_view_module_version": "1.2.0",
       "_view_name": "StyleView",
       "bar_color": null,
       "description_width": ""
      }
     },
     "2fb85381211449c6aaf869343d3e67d5": {
      "model_module": "@jupyter-widgets/base",
      "model_module_version": "1.2.0",
      "model_name": "LayoutModel",
      "state": {
       "_model_module": "@jupyter-widgets/base",
       "_model_module_version": "1.2.0",
       "_model_name": "LayoutModel",
       "_view_count": null,
       "_view_module": "@jupyter-widgets/base",
       "_view_module_version": "1.2.0",
       "_view_name": "LayoutView",
       "align_content": null,
       "align_items": null,
       "align_self": null,
       "border": null,
       "bottom": null,
       "display": null,
       "flex": null,
       "flex_flow": null,
       "grid_area": null,
       "grid_auto_columns": null,
       "grid_auto_flow": null,
       "grid_auto_rows": null,
       "grid_column": null,
       "grid_gap": null,
       "grid_row": null,
       "grid_template_areas": null,
       "grid_template_columns": null,
       "grid_template_rows": null,
       "height": null,
       "justify_content": null,
       "justify_items": null,
       "left": null,
       "margin": null,
       "max_height": null,
       "max_width": null,
       "min_height": null,
       "min_width": null,
       "object_fit": null,
       "object_position": null,
       "order": null,
       "overflow": null,
       "overflow_x": null,
       "overflow_y": null,
       "padding": null,
       "right": null,
       "top": null,
       "visibility": null,
       "width": null
      }
     },
     "3032f60c3a0944f99863bbf765413332": {
      "model_module": "@jupyter-widgets/base",
      "model_module_version": "1.2.0",
      "model_name": "LayoutModel",
      "state": {
       "_model_module": "@jupyter-widgets/base",
       "_model_module_version": "1.2.0",
       "_model_name": "LayoutModel",
       "_view_count": null,
       "_view_module": "@jupyter-widgets/base",
       "_view_module_version": "1.2.0",
       "_view_name": "LayoutView",
       "align_content": null,
       "align_items": null,
       "align_self": null,
       "border": null,
       "bottom": null,
       "display": null,
       "flex": null,
       "flex_flow": null,
       "grid_area": null,
       "grid_auto_columns": null,
       "grid_auto_flow": null,
       "grid_auto_rows": null,
       "grid_column": null,
       "grid_gap": null,
       "grid_row": null,
       "grid_template_areas": null,
       "grid_template_columns": null,
       "grid_template_rows": null,
       "height": null,
       "justify_content": null,
       "justify_items": null,
       "left": null,
       "margin": null,
       "max_height": null,
       "max_width": null,
       "min_height": null,
       "min_width": null,
       "object_fit": null,
       "object_position": null,
       "order": null,
       "overflow": null,
       "overflow_x": null,
       "overflow_y": null,
       "padding": null,
       "right": null,
       "top": null,
       "visibility": null,
       "width": null
      }
     },
     "3092666bd3634783970c869df929c4a0": {
      "model_module": "@jupyter-widgets/base",
      "model_module_version": "1.2.0",
      "model_name": "LayoutModel",
      "state": {
       "_model_module": "@jupyter-widgets/base",
       "_model_module_version": "1.2.0",
       "_model_name": "LayoutModel",
       "_view_count": null,
       "_view_module": "@jupyter-widgets/base",
       "_view_module_version": "1.2.0",
       "_view_name": "LayoutView",
       "align_content": null,
       "align_items": null,
       "align_self": null,
       "border": null,
       "bottom": null,
       "display": null,
       "flex": null,
       "flex_flow": null,
       "grid_area": null,
       "grid_auto_columns": null,
       "grid_auto_flow": null,
       "grid_auto_rows": null,
       "grid_column": null,
       "grid_gap": null,
       "grid_row": null,
       "grid_template_areas": null,
       "grid_template_columns": null,
       "grid_template_rows": null,
       "height": null,
       "justify_content": null,
       "justify_items": null,
       "left": null,
       "margin": null,
       "max_height": null,
       "max_width": null,
       "min_height": null,
       "min_width": null,
       "object_fit": null,
       "object_position": null,
       "order": null,
       "overflow": null,
       "overflow_x": null,
       "overflow_y": null,
       "padding": null,
       "right": null,
       "top": null,
       "visibility": null,
       "width": null
      }
     },
     "344ff34b08f94691b9a99b6b4af3f4b7": {
      "model_module": "@jupyter-widgets/base",
      "model_module_version": "1.2.0",
      "model_name": "LayoutModel",
      "state": {
       "_model_module": "@jupyter-widgets/base",
       "_model_module_version": "1.2.0",
       "_model_name": "LayoutModel",
       "_view_count": null,
       "_view_module": "@jupyter-widgets/base",
       "_view_module_version": "1.2.0",
       "_view_name": "LayoutView",
       "align_content": null,
       "align_items": null,
       "align_self": null,
       "border": null,
       "bottom": null,
       "display": null,
       "flex": null,
       "flex_flow": null,
       "grid_area": null,
       "grid_auto_columns": null,
       "grid_auto_flow": null,
       "grid_auto_rows": null,
       "grid_column": null,
       "grid_gap": null,
       "grid_row": null,
       "grid_template_areas": null,
       "grid_template_columns": null,
       "grid_template_rows": null,
       "height": null,
       "justify_content": null,
       "justify_items": null,
       "left": null,
       "margin": null,
       "max_height": null,
       "max_width": null,
       "min_height": null,
       "min_width": null,
       "object_fit": null,
       "object_position": null,
       "order": null,
       "overflow": null,
       "overflow_x": null,
       "overflow_y": null,
       "padding": null,
       "right": null,
       "top": null,
       "visibility": null,
       "width": null
      }
     },
     "34525c1a3bc44f108e37c2379b7bbb3c": {
      "model_module": "@jupyter-widgets/controls",
      "model_module_version": "1.5.0",
      "model_name": "HTMLModel",
      "state": {
       "_dom_classes": [],
       "_model_module": "@jupyter-widgets/controls",
       "_model_module_version": "1.5.0",
       "_model_name": "HTMLModel",
       "_view_count": null,
       "_view_module": "@jupyter-widgets/controls",
       "_view_module_version": "1.5.0",
       "_view_name": "HTMLView",
       "description": "",
       "description_tooltip": null,
       "layout": "IPY_MODEL_8fd67cf939d542f0baf074f448bc2875",
       "placeholder": "​",
       "style": "IPY_MODEL_39f1c4feb1694df38445abdce4fabea3",
       "value": "tokenizer_config.json: 100%"
      }
     },
     "3676682fac7840f889d7addea9050372": {
      "model_module": "@jupyter-widgets/controls",
      "model_module_version": "1.5.0",
      "model_name": "ProgressStyleModel",
      "state": {
       "_model_module": "@jupyter-widgets/controls",
       "_model_module_version": "1.5.0",
       "_model_name": "ProgressStyleModel",
       "_view_count": null,
       "_view_module": "@jupyter-widgets/base",
       "_view_module_version": "1.2.0",
       "_view_name": "StyleView",
       "bar_color": null,
       "description_width": ""
      }
     },
     "3749ec7322dc4ba9ab2ce607229cabb0": {
      "model_module": "@jupyter-widgets/base",
      "model_module_version": "1.2.0",
      "model_name": "LayoutModel",
      "state": {
       "_model_module": "@jupyter-widgets/base",
       "_model_module_version": "1.2.0",
       "_model_name": "LayoutModel",
       "_view_count": null,
       "_view_module": "@jupyter-widgets/base",
       "_view_module_version": "1.2.0",
       "_view_name": "LayoutView",
       "align_content": null,
       "align_items": null,
       "align_self": null,
       "border": null,
       "bottom": null,
       "display": null,
       "flex": null,
       "flex_flow": null,
       "grid_area": null,
       "grid_auto_columns": null,
       "grid_auto_flow": null,
       "grid_auto_rows": null,
       "grid_column": null,
       "grid_gap": null,
       "grid_row": null,
       "grid_template_areas": null,
       "grid_template_columns": null,
       "grid_template_rows": null,
       "height": null,
       "justify_content": null,
       "justify_items": null,
       "left": null,
       "margin": null,
       "max_height": null,
       "max_width": null,
       "min_height": null,
       "min_width": null,
       "object_fit": null,
       "object_position": null,
       "order": null,
       "overflow": null,
       "overflow_x": null,
       "overflow_y": null,
       "padding": null,
       "right": null,
       "top": null,
       "visibility": null,
       "width": null
      }
     },
     "37eacfbf2f0b40df9efeafe5ce6ff2c6": {
      "model_module": "@jupyter-widgets/base",
      "model_module_version": "1.2.0",
      "model_name": "LayoutModel",
      "state": {
       "_model_module": "@jupyter-widgets/base",
       "_model_module_version": "1.2.0",
       "_model_name": "LayoutModel",
       "_view_count": null,
       "_view_module": "@jupyter-widgets/base",
       "_view_module_version": "1.2.0",
       "_view_name": "LayoutView",
       "align_content": null,
       "align_items": null,
       "align_self": null,
       "border": null,
       "bottom": null,
       "display": null,
       "flex": null,
       "flex_flow": null,
       "grid_area": null,
       "grid_auto_columns": null,
       "grid_auto_flow": null,
       "grid_auto_rows": null,
       "grid_column": null,
       "grid_gap": null,
       "grid_row": null,
       "grid_template_areas": null,
       "grid_template_columns": null,
       "grid_template_rows": null,
       "height": null,
       "justify_content": null,
       "justify_items": null,
       "left": null,
       "margin": null,
       "max_height": null,
       "max_width": null,
       "min_height": null,
       "min_width": null,
       "object_fit": null,
       "object_position": null,
       "order": null,
       "overflow": null,
       "overflow_x": null,
       "overflow_y": null,
       "padding": null,
       "right": null,
       "top": null,
       "visibility": null,
       "width": null
      }
     },
     "3878c2e710854b79aedc07c1488d6db9": {
      "model_module": "@jupyter-widgets/controls",
      "model_module_version": "1.5.0",
      "model_name": "HTMLModel",
      "state": {
       "_dom_classes": [],
       "_model_module": "@jupyter-widgets/controls",
       "_model_module_version": "1.5.0",
       "_model_name": "HTMLModel",
       "_view_count": null,
       "_view_module": "@jupyter-widgets/controls",
       "_view_module_version": "1.5.0",
       "_view_name": "HTMLView",
       "description": "",
       "description_tooltip": null,
       "layout": "IPY_MODEL_79226a729134431c98eae0c82742adb2",
       "placeholder": "​",
       "style": "IPY_MODEL_990173a8c92641e38cc7f68c5f3803d8",
       "value": "Loading checkpoint shards: 100%"
      }
     },
     "39464dd477cd4b88a8db4f0369bc0b23": {
      "model_module": "@jupyter-widgets/controls",
      "model_module_version": "1.5.0",
      "model_name": "HTMLModel",
      "state": {
       "_dom_classes": [],
       "_model_module": "@jupyter-widgets/controls",
       "_model_module_version": "1.5.0",
       "_model_name": "HTMLModel",
       "_view_count": null,
       "_view_module": "@jupyter-widgets/controls",
       "_view_module_version": "1.5.0",
       "_view_name": "HTMLView",
       "description": "",
       "description_tooltip": null,
       "layout": "IPY_MODEL_b3a38bf002a54bcfb71927408e7c89f5",
       "placeholder": "​",
       "style": "IPY_MODEL_be25b54ac2444c789b55ba77dffdd0c2",
       "value": " 4.92G/4.92G [01:56&lt;00:00, 43.1MB/s]"
      }
     },
     "39f1c4feb1694df38445abdce4fabea3": {
      "model_module": "@jupyter-widgets/controls",
      "model_module_version": "1.5.0",
      "model_name": "DescriptionStyleModel",
      "state": {
       "_model_module": "@jupyter-widgets/controls",
       "_model_module_version": "1.5.0",
       "_model_name": "DescriptionStyleModel",
       "_view_count": null,
       "_view_module": "@jupyter-widgets/base",
       "_view_module_version": "1.2.0",
       "_view_name": "StyleView",
       "description_width": ""
      }
     },
     "3a2e2da906ca4095932a49c770cc0e6a": {
      "model_module": "@jupyter-widgets/controls",
      "model_module_version": "1.5.0",
      "model_name": "HTMLModel",
      "state": {
       "_dom_classes": [],
       "_model_module": "@jupyter-widgets/controls",
       "_model_module_version": "1.5.0",
       "_model_name": "HTMLModel",
       "_view_count": null,
       "_view_module": "@jupyter-widgets/controls",
       "_view_module_version": "1.5.0",
       "_view_name": "HTMLView",
       "description": "",
       "description_tooltip": null,
       "layout": "IPY_MODEL_700b58a46f9d402081f858194fa6424f",
       "placeholder": "​",
       "style": "IPY_MODEL_f17fa25ca36342189dc1749f2b612a07",
       "value": "model-00001-of-00004.safetensors: 100%"
      }
     },
     "3c9151c805a4448c996d0a1630d82afb": {
      "model_module": "@jupyter-widgets/base",
      "model_module_version": "1.2.0",
      "model_name": "LayoutModel",
      "state": {
       "_model_module": "@jupyter-widgets/base",
       "_model_module_version": "1.2.0",
       "_model_name": "LayoutModel",
       "_view_count": null,
       "_view_module": "@jupyter-widgets/base",
       "_view_module_version": "1.2.0",
       "_view_name": "LayoutView",
       "align_content": null,
       "align_items": null,
       "align_self": null,
       "border": null,
       "bottom": null,
       "display": null,
       "flex": null,
       "flex_flow": null,
       "grid_area": null,
       "grid_auto_columns": null,
       "grid_auto_flow": null,
       "grid_auto_rows": null,
       "grid_column": null,
       "grid_gap": null,
       "grid_row": null,
       "grid_template_areas": null,
       "grid_template_columns": null,
       "grid_template_rows": null,
       "height": null,
       "justify_content": null,
       "justify_items": null,
       "left": null,
       "margin": null,
       "max_height": null,
       "max_width": null,
       "min_height": null,
       "min_width": null,
       "object_fit": null,
       "object_position": null,
       "order": null,
       "overflow": null,
       "overflow_x": null,
       "overflow_y": null,
       "padding": null,
       "right": null,
       "top": null,
       "visibility": null,
       "width": null
      }
     },
     "3d4971bbf4c44cc6a94ff7ea93d712c5": {
      "model_module": "@jupyter-widgets/base",
      "model_module_version": "1.2.0",
      "model_name": "LayoutModel",
      "state": {
       "_model_module": "@jupyter-widgets/base",
       "_model_module_version": "1.2.0",
       "_model_name": "LayoutModel",
       "_view_count": null,
       "_view_module": "@jupyter-widgets/base",
       "_view_module_version": "1.2.0",
       "_view_name": "LayoutView",
       "align_content": null,
       "align_items": null,
       "align_self": null,
       "border": null,
       "bottom": null,
       "display": null,
       "flex": null,
       "flex_flow": null,
       "grid_area": null,
       "grid_auto_columns": null,
       "grid_auto_flow": null,
       "grid_auto_rows": null,
       "grid_column": null,
       "grid_gap": null,
       "grid_row": null,
       "grid_template_areas": null,
       "grid_template_columns": null,
       "grid_template_rows": null,
       "height": null,
       "justify_content": null,
       "justify_items": null,
       "left": null,
       "margin": null,
       "max_height": null,
       "max_width": null,
       "min_height": null,
       "min_width": null,
       "object_fit": null,
       "object_position": null,
       "order": null,
       "overflow": null,
       "overflow_x": null,
       "overflow_y": null,
       "padding": null,
       "right": null,
       "top": null,
       "visibility": null,
       "width": null
      }
     },
     "3f1682514ab54eac95178fbd7a57ff54": {
      "model_module": "@jupyter-widgets/base",
      "model_module_version": "1.2.0",
      "model_name": "LayoutModel",
      "state": {
       "_model_module": "@jupyter-widgets/base",
       "_model_module_version": "1.2.0",
       "_model_name": "LayoutModel",
       "_view_count": null,
       "_view_module": "@jupyter-widgets/base",
       "_view_module_version": "1.2.0",
       "_view_name": "LayoutView",
       "align_content": null,
       "align_items": null,
       "align_self": null,
       "border": null,
       "bottom": null,
       "display": null,
       "flex": null,
       "flex_flow": null,
       "grid_area": null,
       "grid_auto_columns": null,
       "grid_auto_flow": null,
       "grid_auto_rows": null,
       "grid_column": null,
       "grid_gap": null,
       "grid_row": null,
       "grid_template_areas": null,
       "grid_template_columns": null,
       "grid_template_rows": null,
       "height": null,
       "justify_content": null,
       "justify_items": null,
       "left": null,
       "margin": null,
       "max_height": null,
       "max_width": null,
       "min_height": null,
       "min_width": null,
       "object_fit": null,
       "object_position": null,
       "order": null,
       "overflow": null,
       "overflow_x": null,
       "overflow_y": null,
       "padding": null,
       "right": null,
       "top": null,
       "visibility": null,
       "width": null
      }
     },
     "3f8d9ba2a4184b1fbe1343bc16d12c45": {
      "model_module": "@jupyter-widgets/base",
      "model_module_version": "1.2.0",
      "model_name": "LayoutModel",
      "state": {
       "_model_module": "@jupyter-widgets/base",
       "_model_module_version": "1.2.0",
       "_model_name": "LayoutModel",
       "_view_count": null,
       "_view_module": "@jupyter-widgets/base",
       "_view_module_version": "1.2.0",
       "_view_name": "LayoutView",
       "align_content": null,
       "align_items": null,
       "align_self": null,
       "border": null,
       "bottom": null,
       "display": null,
       "flex": null,
       "flex_flow": null,
       "grid_area": null,
       "grid_auto_columns": null,
       "grid_auto_flow": null,
       "grid_auto_rows": null,
       "grid_column": null,
       "grid_gap": null,
       "grid_row": null,
       "grid_template_areas": null,
       "grid_template_columns": null,
       "grid_template_rows": null,
       "height": null,
       "justify_content": null,
       "justify_items": null,
       "left": null,
       "margin": null,
       "max_height": null,
       "max_width": null,
       "min_height": null,
       "min_width": null,
       "object_fit": null,
       "object_position": null,
       "order": null,
       "overflow": null,
       "overflow_x": null,
       "overflow_y": null,
       "padding": null,
       "right": null,
       "top": null,
       "visibility": null,
       "width": null
      }
     },
     "406b7572f0184027895d4de2641b208a": {
      "model_module": "@jupyter-widgets/controls",
      "model_module_version": "1.5.0",
      "model_name": "DescriptionStyleModel",
      "state": {
       "_model_module": "@jupyter-widgets/controls",
       "_model_module_version": "1.5.0",
       "_model_name": "DescriptionStyleModel",
       "_view_count": null,
       "_view_module": "@jupyter-widgets/base",
       "_view_module_version": "1.2.0",
       "_view_name": "StyleView",
       "description_width": ""
      }
     },
     "42d326c3183043b58da4784c01839f6d": {
      "model_module": "@jupyter-widgets/base",
      "model_module_version": "1.2.0",
      "model_name": "LayoutModel",
      "state": {
       "_model_module": "@jupyter-widgets/base",
       "_model_module_version": "1.2.0",
       "_model_name": "LayoutModel",
       "_view_count": null,
       "_view_module": "@jupyter-widgets/base",
       "_view_module_version": "1.2.0",
       "_view_name": "LayoutView",
       "align_content": null,
       "align_items": null,
       "align_self": null,
       "border": null,
       "bottom": null,
       "display": null,
       "flex": null,
       "flex_flow": null,
       "grid_area": null,
       "grid_auto_columns": null,
       "grid_auto_flow": null,
       "grid_auto_rows": null,
       "grid_column": null,
       "grid_gap": null,
       "grid_row": null,
       "grid_template_areas": null,
       "grid_template_columns": null,
       "grid_template_rows": null,
       "height": null,
       "justify_content": null,
       "justify_items": null,
       "left": null,
       "margin": null,
       "max_height": null,
       "max_width": null,
       "min_height": null,
       "min_width": null,
       "object_fit": null,
       "object_position": null,
       "order": null,
       "overflow": null,
       "overflow_x": null,
       "overflow_y": null,
       "padding": null,
       "right": null,
       "top": null,
       "visibility": null,
       "width": null
      }
     },
     "442ec138fa3744a58d6b117511f71258": {
      "model_module": "@jupyter-widgets/base",
      "model_module_version": "1.2.0",
      "model_name": "LayoutModel",
      "state": {
       "_model_module": "@jupyter-widgets/base",
       "_model_module_version": "1.2.0",
       "_model_name": "LayoutModel",
       "_view_count": null,
       "_view_module": "@jupyter-widgets/base",
       "_view_module_version": "1.2.0",
       "_view_name": "LayoutView",
       "align_content": null,
       "align_items": null,
       "align_self": null,
       "border": null,
       "bottom": null,
       "display": null,
       "flex": null,
       "flex_flow": null,
       "grid_area": null,
       "grid_auto_columns": null,
       "grid_auto_flow": null,
       "grid_auto_rows": null,
       "grid_column": null,
       "grid_gap": null,
       "grid_row": null,
       "grid_template_areas": null,
       "grid_template_columns": null,
       "grid_template_rows": null,
       "height": null,
       "justify_content": null,
       "justify_items": null,
       "left": null,
       "margin": null,
       "max_height": null,
       "max_width": null,
       "min_height": null,
       "min_width": null,
       "object_fit": null,
       "object_position": null,
       "order": null,
       "overflow": null,
       "overflow_x": null,
       "overflow_y": null,
       "padding": null,
       "right": null,
       "top": null,
       "visibility": null,
       "width": null
      }
     },
     "446c22e122fd438f9df613d68d1bcdca": {
      "model_module": "@jupyter-widgets/base",
      "model_module_version": "1.2.0",
      "model_name": "LayoutModel",
      "state": {
       "_model_module": "@jupyter-widgets/base",
       "_model_module_version": "1.2.0",
       "_model_name": "LayoutModel",
       "_view_count": null,
       "_view_module": "@jupyter-widgets/base",
       "_view_module_version": "1.2.0",
       "_view_name": "LayoutView",
       "align_content": null,
       "align_items": null,
       "align_self": null,
       "border": null,
       "bottom": null,
       "display": null,
       "flex": null,
       "flex_flow": null,
       "grid_area": null,
       "grid_auto_columns": null,
       "grid_auto_flow": null,
       "grid_auto_rows": null,
       "grid_column": null,
       "grid_gap": null,
       "grid_row": null,
       "grid_template_areas": null,
       "grid_template_columns": null,
       "grid_template_rows": null,
       "height": null,
       "justify_content": null,
       "justify_items": null,
       "left": null,
       "margin": null,
       "max_height": null,
       "max_width": null,
       "min_height": null,
       "min_width": null,
       "object_fit": null,
       "object_position": null,
       "order": null,
       "overflow": null,
       "overflow_x": null,
       "overflow_y": null,
       "padding": null,
       "right": null,
       "top": null,
       "visibility": null,
       "width": null
      }
     },
     "4496c4ab767a4cf298c8d26add593568": {
      "model_module": "@jupyter-widgets/base",
      "model_module_version": "1.2.0",
      "model_name": "LayoutModel",
      "state": {
       "_model_module": "@jupyter-widgets/base",
       "_model_module_version": "1.2.0",
       "_model_name": "LayoutModel",
       "_view_count": null,
       "_view_module": "@jupyter-widgets/base",
       "_view_module_version": "1.2.0",
       "_view_name": "LayoutView",
       "align_content": null,
       "align_items": null,
       "align_self": null,
       "border": null,
       "bottom": null,
       "display": null,
       "flex": null,
       "flex_flow": null,
       "grid_area": null,
       "grid_auto_columns": null,
       "grid_auto_flow": null,
       "grid_auto_rows": null,
       "grid_column": null,
       "grid_gap": null,
       "grid_row": null,
       "grid_template_areas": null,
       "grid_template_columns": null,
       "grid_template_rows": null,
       "height": null,
       "justify_content": null,
       "justify_items": null,
       "left": null,
       "margin": null,
       "max_height": null,
       "max_width": null,
       "min_height": null,
       "min_width": null,
       "object_fit": null,
       "object_position": null,
       "order": null,
       "overflow": null,
       "overflow_x": null,
       "overflow_y": null,
       "padding": null,
       "right": null,
       "top": null,
       "visibility": null,
       "width": null
      }
     },
     "481aedee0d904bf1a9c952e954d68c6a": {
      "model_module": "@jupyter-widgets/base",
      "model_module_version": "1.2.0",
      "model_name": "LayoutModel",
      "state": {
       "_model_module": "@jupyter-widgets/base",
       "_model_module_version": "1.2.0",
       "_model_name": "LayoutModel",
       "_view_count": null,
       "_view_module": "@jupyter-widgets/base",
       "_view_module_version": "1.2.0",
       "_view_name": "LayoutView",
       "align_content": null,
       "align_items": null,
       "align_self": null,
       "border": null,
       "bottom": null,
       "display": null,
       "flex": null,
       "flex_flow": null,
       "grid_area": null,
       "grid_auto_columns": null,
       "grid_auto_flow": null,
       "grid_auto_rows": null,
       "grid_column": null,
       "grid_gap": null,
       "grid_row": null,
       "grid_template_areas": null,
       "grid_template_columns": null,
       "grid_template_rows": null,
       "height": null,
       "justify_content": null,
       "justify_items": null,
       "left": null,
       "margin": null,
       "max_height": null,
       "max_width": null,
       "min_height": null,
       "min_width": null,
       "object_fit": null,
       "object_position": null,
       "order": null,
       "overflow": null,
       "overflow_x": null,
       "overflow_y": null,
       "padding": null,
       "right": null,
       "top": null,
       "visibility": null,
       "width": null
      }
     },
     "48eb901a322648ed946c01ab9eb72fb7": {
      "model_module": "@jupyter-widgets/base",
      "model_module_version": "1.2.0",
      "model_name": "LayoutModel",
      "state": {
       "_model_module": "@jupyter-widgets/base",
       "_model_module_version": "1.2.0",
       "_model_name": "LayoutModel",
       "_view_count": null,
       "_view_module": "@jupyter-widgets/base",
       "_view_module_version": "1.2.0",
       "_view_name": "LayoutView",
       "align_content": null,
       "align_items": null,
       "align_self": null,
       "border": null,
       "bottom": null,
       "display": null,
       "flex": null,
       "flex_flow": null,
       "grid_area": null,
       "grid_auto_columns": null,
       "grid_auto_flow": null,
       "grid_auto_rows": null,
       "grid_column": null,
       "grid_gap": null,
       "grid_row": null,
       "grid_template_areas": null,
       "grid_template_columns": null,
       "grid_template_rows": null,
       "height": null,
       "justify_content": null,
       "justify_items": null,
       "left": null,
       "margin": null,
       "max_height": null,
       "max_width": null,
       "min_height": null,
       "min_width": null,
       "object_fit": null,
       "object_position": null,
       "order": null,
       "overflow": null,
       "overflow_x": null,
       "overflow_y": null,
       "padding": null,
       "right": null,
       "top": null,
       "visibility": null,
       "width": null
      }
     },
     "495bf99d150f47d4bf26d58ddc70fb43": {
      "model_module": "@jupyter-widgets/base",
      "model_module_version": "1.2.0",
      "model_name": "LayoutModel",
      "state": {
       "_model_module": "@jupyter-widgets/base",
       "_model_module_version": "1.2.0",
       "_model_name": "LayoutModel",
       "_view_count": null,
       "_view_module": "@jupyter-widgets/base",
       "_view_module_version": "1.2.0",
       "_view_name": "LayoutView",
       "align_content": null,
       "align_items": null,
       "align_self": null,
       "border": null,
       "bottom": null,
       "display": null,
       "flex": null,
       "flex_flow": null,
       "grid_area": null,
       "grid_auto_columns": null,
       "grid_auto_flow": null,
       "grid_auto_rows": null,
       "grid_column": null,
       "grid_gap": null,
       "grid_row": null,
       "grid_template_areas": null,
       "grid_template_columns": null,
       "grid_template_rows": null,
       "height": null,
       "justify_content": null,
       "justify_items": null,
       "left": null,
       "margin": null,
       "max_height": null,
       "max_width": null,
       "min_height": null,
       "min_width": null,
       "object_fit": null,
       "object_position": null,
       "order": null,
       "overflow": null,
       "overflow_x": null,
       "overflow_y": null,
       "padding": null,
       "right": null,
       "top": null,
       "visibility": null,
       "width": null
      }
     },
     "4ab94fa9ac68447d8c6b5509618b68a4": {
      "model_module": "@jupyter-widgets/controls",
      "model_module_version": "1.5.0",
      "model_name": "HTMLModel",
      "state": {
       "_dom_classes": [],
       "_model_module": "@jupyter-widgets/controls",
       "_model_module_version": "1.5.0",
       "_model_name": "HTMLModel",
       "_view_count": null,
       "_view_module": "@jupyter-widgets/controls",
       "_view_module_version": "1.5.0",
       "_view_name": "HTMLView",
       "description": "",
       "description_tooltip": null,
       "layout": "IPY_MODEL_7c50146c3567413b85087b69d01db7dd",
       "placeholder": "​",
       "style": "IPY_MODEL_ac1d3843bd1f42068e5d26a4c0823c4b",
       "value": " 116/116 [00:00&lt;00:00, 9.87kB/s]"
      }
     },
     "4c09e068cd61457f8cb8b41dbca9d9a5": {
      "model_module": "@jupyter-widgets/controls",
      "model_module_version": "1.5.0",
      "model_name": "ProgressStyleModel",
      "state": {
       "_model_module": "@jupyter-widgets/controls",
       "_model_module_version": "1.5.0",
       "_model_name": "ProgressStyleModel",
       "_view_count": null,
       "_view_module": "@jupyter-widgets/base",
       "_view_module_version": "1.2.0",
       "_view_name": "StyleView",
       "bar_color": null,
       "description_width": ""
      }
     },
     "4e6650a4d60845a0bda142484d73e435": {
      "model_module": "@jupyter-widgets/controls",
      "model_module_version": "1.5.0",
      "model_name": "HTMLModel",
      "state": {
       "_dom_classes": [],
       "_model_module": "@jupyter-widgets/controls",
       "_model_module_version": "1.5.0",
       "_model_name": "HTMLModel",
       "_view_count": null,
       "_view_module": "@jupyter-widgets/controls",
       "_view_module_version": "1.5.0",
       "_view_name": "HTMLView",
       "description": "",
       "description_tooltip": null,
       "layout": "IPY_MODEL_6d0e98296a214377b204fa8054587296",
       "placeholder": "​",
       "style": "IPY_MODEL_71b2c43ac7a148b3a293582df3195b94",
       "value": "tokenizer.json: 100%"
      }
     },
     "4e74474780294759a741e90f4746319e": {
      "model_module": "@jupyter-widgets/base",
      "model_module_version": "1.2.0",
      "model_name": "LayoutModel",
      "state": {
       "_model_module": "@jupyter-widgets/base",
       "_model_module_version": "1.2.0",
       "_model_name": "LayoutModel",
       "_view_count": null,
       "_view_module": "@jupyter-widgets/base",
       "_view_module_version": "1.2.0",
       "_view_name": "LayoutView",
       "align_content": null,
       "align_items": null,
       "align_self": null,
       "border": null,
       "bottom": null,
       "display": null,
       "flex": null,
       "flex_flow": null,
       "grid_area": null,
       "grid_auto_columns": null,
       "grid_auto_flow": null,
       "grid_auto_rows": null,
       "grid_column": null,
       "grid_gap": null,
       "grid_row": null,
       "grid_template_areas": null,
       "grid_template_columns": null,
       "grid_template_rows": null,
       "height": null,
       "justify_content": null,
       "justify_items": null,
       "left": null,
       "margin": null,
       "max_height": null,
       "max_width": null,
       "min_height": null,
       "min_width": null,
       "object_fit": null,
       "object_position": null,
       "order": null,
       "overflow": null,
       "overflow_x": null,
       "overflow_y": null,
       "padding": null,
       "right": null,
       "top": null,
       "visibility": null,
       "width": null
      }
     },
     "512a4404b4ad4023891b4dcf17ce2611": {
      "model_module": "@jupyter-widgets/base",
      "model_module_version": "1.2.0",
      "model_name": "LayoutModel",
      "state": {
       "_model_module": "@jupyter-widgets/base",
       "_model_module_version": "1.2.0",
       "_model_name": "LayoutModel",
       "_view_count": null,
       "_view_module": "@jupyter-widgets/base",
       "_view_module_version": "1.2.0",
       "_view_name": "LayoutView",
       "align_content": null,
       "align_items": null,
       "align_self": null,
       "border": null,
       "bottom": null,
       "display": null,
       "flex": null,
       "flex_flow": null,
       "grid_area": null,
       "grid_auto_columns": null,
       "grid_auto_flow": null,
       "grid_auto_rows": null,
       "grid_column": null,
       "grid_gap": null,
       "grid_row": null,
       "grid_template_areas": null,
       "grid_template_columns": null,
       "grid_template_rows": null,
       "height": null,
       "justify_content": null,
       "justify_items": null,
       "left": null,
       "margin": null,
       "max_height": null,
       "max_width": null,
       "min_height": null,
       "min_width": null,
       "object_fit": null,
       "object_position": null,
       "order": null,
       "overflow": null,
       "overflow_x": null,
       "overflow_y": null,
       "padding": null,
       "right": null,
       "top": null,
       "visibility": null,
       "width": null
      }
     },
     "53500f57d03347fc811bb3c33ff2af26": {
      "model_module": "@jupyter-widgets/controls",
      "model_module_version": "1.5.0",
      "model_name": "DescriptionStyleModel",
      "state": {
       "_model_module": "@jupyter-widgets/controls",
       "_model_module_version": "1.5.0",
       "_model_name": "DescriptionStyleModel",
       "_view_count": null,
       "_view_module": "@jupyter-widgets/base",
       "_view_module_version": "1.2.0",
       "_view_name": "StyleView",
       "description_width": ""
      }
     },
     "5380ae94e2964ae181b663af51e9c686": {
      "model_module": "@jupyter-widgets/controls",
      "model_module_version": "1.5.0",
      "model_name": "HTMLModel",
      "state": {
       "_dom_classes": [],
       "_model_module": "@jupyter-widgets/controls",
       "_model_module_version": "1.5.0",
       "_model_name": "HTMLModel",
       "_view_count": null,
       "_view_module": "@jupyter-widgets/controls",
       "_view_module_version": "1.5.0",
       "_view_name": "HTMLView",
       "description": "",
       "description_tooltip": null,
       "layout": "IPY_MODEL_ea216d15b05442bea2d7e63d9cc90efc",
       "placeholder": "​",
       "style": "IPY_MODEL_59d6289cf9a44eb682c0af962a431602",
       "value": "added_tokens.json: 100%"
      }
     },
     "542eb656914f46a08a80edf7e52a0401": {
      "model_module": "@jupyter-widgets/controls",
      "model_module_version": "1.5.0",
      "model_name": "ProgressStyleModel",
      "state": {
       "_model_module": "@jupyter-widgets/controls",
       "_model_module_version": "1.5.0",
       "_model_name": "ProgressStyleModel",
       "_view_count": null,
       "_view_module": "@jupyter-widgets/base",
       "_view_module_version": "1.2.0",
       "_view_name": "StyleView",
       "bar_color": null,
       "description_width": ""
      }
     },
     "571e800e905c42d6bf82dec9e4d8e618": {
      "model_module": "@jupyter-widgets/controls",
      "model_module_version": "1.5.0",
      "model_name": "FloatProgressModel",
      "state": {
       "_dom_classes": [],
       "_model_module": "@jupyter-widgets/controls",
       "_model_module_version": "1.5.0",
       "_model_name": "FloatProgressModel",
       "_view_count": null,
       "_view_module": "@jupyter-widgets/controls",
       "_view_module_version": "1.5.0",
       "_view_name": "ProgressView",
       "bar_style": "success",
       "description": "",
       "description_tooltip": null,
       "layout": "IPY_MODEL_d15d66e1c11e47b7927a535e7e4c271a",
       "max": 1795853.0,
       "min": 0.0,
       "orientation": "horizontal",
       "style": "IPY_MODEL_79f12052492a4a7db121ecf9d024b323",
       "value": 1795853.0
      }
     },
     "571fefbcbb6a4703808d89f7f8884a4e": {
      "model_module": "@jupyter-widgets/base",
      "model_module_version": "1.2.0",
      "model_name": "LayoutModel",
      "state": {
       "_model_module": "@jupyter-widgets/base",
       "_model_module_version": "1.2.0",
       "_model_name": "LayoutModel",
       "_view_count": null,
       "_view_module": "@jupyter-widgets/base",
       "_view_module_version": "1.2.0",
       "_view_name": "LayoutView",
       "align_content": null,
       "align_items": null,
       "align_self": null,
       "border": null,
       "bottom": null,
       "display": null,
       "flex": null,
       "flex_flow": null,
       "grid_area": null,
       "grid_auto_columns": null,
       "grid_auto_flow": null,
       "grid_auto_rows": null,
       "grid_column": null,
       "grid_gap": null,
       "grid_row": null,
       "grid_template_areas": null,
       "grid_template_columns": null,
       "grid_template_rows": null,
       "height": null,
       "justify_content": null,
       "justify_items": null,
       "left": null,
       "margin": null,
       "max_height": null,
       "max_width": null,
       "min_height": null,
       "min_width": null,
       "object_fit": null,
       "object_position": null,
       "order": null,
       "overflow": null,
       "overflow_x": null,
       "overflow_y": null,
       "padding": null,
       "right": null,
       "top": null,
       "visibility": null,
       "width": null
      }
     },
     "593e619622c24a9dad1f09f17dd2f424": {
      "model_module": "@jupyter-widgets/controls",
      "model_module_version": "1.5.0",
      "model_name": "HBoxModel",
      "state": {
       "_dom_classes": [],
       "_model_module": "@jupyter-widgets/controls",
       "_model_module_version": "1.5.0",
       "_model_name": "HBoxModel",
       "_view_count": null,
       "_view_module": "@jupyter-widgets/controls",
       "_view_module_version": "1.5.0",
       "_view_name": "HBoxView",
       "box_style": "",
       "children": [
        "IPY_MODEL_671a9d7720b444a1a2c23115c47d4896",
        "IPY_MODEL_004b0f6b7c714e54a188e2339fe315ca",
        "IPY_MODEL_13034ed55ef54f5284c64a3614178aa0"
       ],
       "layout": "IPY_MODEL_48eb901a322648ed946c01ab9eb72fb7"
      }
     },
     "5990b53e6a5c45798628f0a8fc26b0a3": {
      "model_module": "@jupyter-widgets/base",
      "model_module_version": "1.2.0",
      "model_name": "LayoutModel",
      "state": {
       "_model_module": "@jupyter-widgets/base",
       "_model_module_version": "1.2.0",
       "_model_name": "LayoutModel",
       "_view_count": null,
       "_view_module": "@jupyter-widgets/base",
       "_view_module_version": "1.2.0",
       "_view_name": "LayoutView",
       "align_content": null,
       "align_items": null,
       "align_self": null,
       "border": null,
       "bottom": null,
       "display": null,
       "flex": null,
       "flex_flow": null,
       "grid_area": null,
       "grid_auto_columns": null,
       "grid_auto_flow": null,
       "grid_auto_rows": null,
       "grid_column": null,
       "grid_gap": null,
       "grid_row": null,
       "grid_template_areas": null,
       "grid_template_columns": null,
       "grid_template_rows": null,
       "height": null,
       "justify_content": null,
       "justify_items": null,
       "left": null,
       "margin": null,
       "max_height": null,
       "max_width": null,
       "min_height": null,
       "min_width": null,
       "object_fit": null,
       "object_position": null,
       "order": null,
       "overflow": null,
       "overflow_x": null,
       "overflow_y": null,
       "padding": null,
       "right": null,
       "top": null,
       "visibility": null,
       "width": null
      }
     },
     "59d6289cf9a44eb682c0af962a431602": {
      "model_module": "@jupyter-widgets/controls",
      "model_module_version": "1.5.0",
      "model_name": "DescriptionStyleModel",
      "state": {
       "_model_module": "@jupyter-widgets/controls",
       "_model_module_version": "1.5.0",
       "_model_name": "DescriptionStyleModel",
       "_view_count": null,
       "_view_module": "@jupyter-widgets/base",
       "_view_module_version": "1.2.0",
       "_view_name": "StyleView",
       "description_width": ""
      }
     },
     "59dcab0c1f25425db0b17bffcfdf25bc": {
      "model_module": "@jupyter-widgets/controls",
      "model_module_version": "1.5.0",
      "model_name": "HTMLModel",
      "state": {
       "_dom_classes": [],
       "_model_module": "@jupyter-widgets/controls",
       "_model_module_version": "1.5.0",
       "_model_name": "HTMLModel",
       "_view_count": null,
       "_view_module": "@jupyter-widgets/controls",
       "_view_module_version": "1.5.0",
       "_view_name": "HTMLView",
       "description": "",
       "description_tooltip": null,
       "layout": "IPY_MODEL_d02e94a820db4a2e9d10f7a4039b0764",
       "placeholder": "​",
       "style": "IPY_MODEL_af1cc87ddd4449e7834e178f5a39dbdf",
       "value": " 4/4 [00:01&lt;00:00,  2.86it/s]"
      }
     },
     "5b284b4ef3d54a44b3c1ba460136dd61": {
      "model_module": "@jupyter-widgets/controls",
      "model_module_version": "1.5.0",
      "model_name": "HTMLModel",
      "state": {
       "_dom_classes": [],
       "_model_module": "@jupyter-widgets/controls",
       "_model_module_version": "1.5.0",
       "_model_name": "HTMLModel",
       "_view_count": null,
       "_view_module": "@jupyter-widgets/controls",
       "_view_module_version": "1.5.0",
       "_view_name": "HTMLView",
       "description": "",
       "description_tooltip": null,
       "layout": "IPY_MODEL_66a389fb3a3d44189c6f25c5da9a3b3f",
       "placeholder": "​",
       "style": "IPY_MODEL_9083de8e5fde40359986bb721fcb9169",
       "value": "chat_template.json: 100%"
      }
     },
     "5b8c2ae78f6d46adbc33c67b94c5721d": {
      "model_module": "@jupyter-widgets/base",
      "model_module_version": "1.2.0",
      "model_name": "LayoutModel",
      "state": {
       "_model_module": "@jupyter-widgets/base",
       "_model_module_version": "1.2.0",
       "_model_name": "LayoutModel",
       "_view_count": null,
       "_view_module": "@jupyter-widgets/base",
       "_view_module_version": "1.2.0",
       "_view_name": "LayoutView",
       "align_content": null,
       "align_items": null,
       "align_self": null,
       "border": null,
       "bottom": null,
       "display": null,
       "flex": null,
       "flex_flow": null,
       "grid_area": null,
       "grid_auto_columns": null,
       "grid_auto_flow": null,
       "grid_auto_rows": null,
       "grid_column": null,
       "grid_gap": null,
       "grid_row": null,
       "grid_template_areas": null,
       "grid_template_columns": null,
       "grid_template_rows": null,
       "height": null,
       "justify_content": null,
       "justify_items": null,
       "left": null,
       "margin": null,
       "max_height": null,
       "max_width": null,
       "min_height": null,
       "min_width": null,
       "object_fit": null,
       "object_position": null,
       "order": null,
       "overflow": null,
       "overflow_x": null,
       "overflow_y": null,
       "padding": null,
       "right": null,
       "top": null,
       "visibility": null,
       "width": null
      }
     },
     "5e0f4eee65b14e5889b2b74be1a175c4": {
      "model_module": "@jupyter-widgets/controls",
      "model_module_version": "1.5.0",
      "model_name": "HBoxModel",
      "state": {
       "_dom_classes": [],
       "_model_module": "@jupyter-widgets/controls",
       "_model_module_version": "1.5.0",
       "_model_name": "HBoxModel",
       "_view_count": null,
       "_view_module": "@jupyter-widgets/controls",
       "_view_module_version": "1.5.0",
       "_view_name": "HBoxView",
       "box_style": "",
       "children": [
        "IPY_MODEL_7d4ba569d1ba426983cc17eac3060e88",
        "IPY_MODEL_f996d467ad9f4ddd93f492cbc2f597b9",
        "IPY_MODEL_e52cd63cddb344d6941d1395d5816b3f"
       ],
       "layout": "IPY_MODEL_37eacfbf2f0b40df9efeafe5ce6ff2c6"
      }
     },
     "5e77a96c312741f6956818fb07a2118a": {
      "model_module": "@jupyter-widgets/controls",
      "model_module_version": "1.5.0",
      "model_name": "HTMLModel",
      "state": {
       "_dom_classes": [],
       "_model_module": "@jupyter-widgets/controls",
       "_model_module_version": "1.5.0",
       "_model_name": "HTMLModel",
       "_view_count": null,
       "_view_module": "@jupyter-widgets/controls",
       "_view_module_version": "1.5.0",
       "_view_name": "HTMLView",
       "description": "",
       "description_tooltip": null,
       "layout": "IPY_MODEL_571fefbcbb6a4703808d89f7f8884a4e",
       "placeholder": "​",
       "style": "IPY_MODEL_98b037b3dbcc4da4a3e439ae0ffc8cb5",
       "value": " 1.80M/1.80M [00:00&lt;00:00, 2.05MB/s]"
      }
     },
     "5f3fd74db474422ea2f65f62911196f1": {
      "model_module": "@jupyter-widgets/controls",
      "model_module_version": "1.5.0",
      "model_name": "HBoxModel",
      "state": {
       "_dom_classes": [],
       "_model_module": "@jupyter-widgets/controls",
       "_model_module_version": "1.5.0",
       "_model_name": "HBoxModel",
       "_view_count": null,
       "_view_module": "@jupyter-widgets/controls",
       "_view_module_version": "1.5.0",
       "_view_name": "HBoxView",
       "box_style": "",
       "children": [
        "IPY_MODEL_29dc56fbfcfb4ad2bede6e304353bc29",
        "IPY_MODEL_ea5cda5f4faf4697beb85ea7f4f52db3",
        "IPY_MODEL_d62706583ed143289b2a4cec3427313a"
       ],
       "layout": "IPY_MODEL_69c6e747c3e941918ef4abff197ffdc7"
      }
     },
     "643deb7c44bc4535a37715ab8daaba0d": {
      "model_module": "@jupyter-widgets/controls",
      "model_module_version": "1.5.0",
      "model_name": "HBoxModel",
      "state": {
       "_dom_classes": [],
       "_model_module": "@jupyter-widgets/controls",
       "_model_module_version": "1.5.0",
       "_model_name": "HBoxModel",
       "_view_count": null,
       "_view_module": "@jupyter-widgets/controls",
       "_view_module_version": "1.5.0",
       "_view_name": "HBoxView",
       "box_style": "",
       "children": [
        "IPY_MODEL_01f9e72eec1a44099eb0a3501411f52a",
        "IPY_MODEL_fe4fc3f280064eefa0ae15d0e8978a0f",
        "IPY_MODEL_65a5001e7807404d84ac9c57a8affc59"
       ],
       "layout": "IPY_MODEL_eb469b898e58443498e27a2efecd7506"
      }
     },
     "65a5001e7807404d84ac9c57a8affc59": {
      "model_module": "@jupyter-widgets/controls",
      "model_module_version": "1.5.0",
      "model_name": "HTMLModel",
      "state": {
       "_dom_classes": [],
       "_model_module": "@jupyter-widgets/controls",
       "_model_module_version": "1.5.0",
       "_model_name": "HTMLModel",
       "_view_count": null,
       "_view_module": "@jupyter-widgets/controls",
       "_view_module_version": "1.5.0",
       "_view_name": "HTMLView",
       "description": "",
       "description_tooltip": null,
       "layout": "IPY_MODEL_987fbafbc1274f5e9053d62d93581a55",
       "placeholder": "​",
       "style": "IPY_MODEL_7d6b2c04c3de49f982482f4918327861",
       "value": " 1.28k/1.28k [00:00&lt;00:00, 103kB/s]"
      }
     },
     "66a389fb3a3d44189c6f25c5da9a3b3f": {
      "model_module": "@jupyter-widgets/base",
      "model_module_version": "1.2.0",
      "model_name": "LayoutModel",
      "state": {
       "_model_module": "@jupyter-widgets/base",
       "_model_module_version": "1.2.0",
       "_model_name": "LayoutModel",
       "_view_count": null,
       "_view_module": "@jupyter-widgets/base",
       "_view_module_version": "1.2.0",
       "_view_name": "LayoutView",
       "align_content": null,
       "align_items": null,
       "align_self": null,
       "border": null,
       "bottom": null,
       "display": null,
       "flex": null,
       "flex_flow": null,
       "grid_area": null,
       "grid_auto_columns": null,
       "grid_auto_flow": null,
       "grid_auto_rows": null,
       "grid_column": null,
       "grid_gap": null,
       "grid_row": null,
       "grid_template_areas": null,
       "grid_template_columns": null,
       "grid_template_rows": null,
       "height": null,
       "justify_content": null,
       "justify_items": null,
       "left": null,
       "margin": null,
       "max_height": null,
       "max_width": null,
       "min_height": null,
       "min_width": null,
       "object_fit": null,
       "object_position": null,
       "order": null,
       "overflow": null,
       "overflow_x": null,
       "overflow_y": null,
       "padding": null,
       "right": null,
       "top": null,
       "visibility": null,
       "width": null
      }
     },
     "671a9d7720b444a1a2c23115c47d4896": {
      "model_module": "@jupyter-widgets/controls",
      "model_module_version": "1.5.0",
      "model_name": "HTMLModel",
      "state": {
       "_dom_classes": [],
       "_model_module": "@jupyter-widgets/controls",
       "_model_module_version": "1.5.0",
       "_model_name": "HTMLModel",
       "_view_count": null,
       "_view_module": "@jupyter-widgets/controls",
       "_view_module_version": "1.5.0",
       "_view_name": "HTMLView",
       "description": "",
       "description_tooltip": null,
       "layout": "IPY_MODEL_8a0b073e5d494a7fb4e10c2358eb7237",
       "placeholder": "​",
       "style": "IPY_MODEL_dd04c77da8b44aa98ecb14b3b5808250",
       "value": "model-00002-of-00004.safetensors: 100%"
      }
     },
     "69c6e747c3e941918ef4abff197ffdc7": {
      "model_module": "@jupyter-widgets/base",
      "model_module_version": "1.2.0",
      "model_name": "LayoutModel",
      "state": {
       "_model_module": "@jupyter-widgets/base",
       "_model_module_version": "1.2.0",
       "_model_name": "LayoutModel",
       "_view_count": null,
       "_view_module": "@jupyter-widgets/base",
       "_view_module_version": "1.2.0",
       "_view_name": "LayoutView",
       "align_content": null,
       "align_items": null,
       "align_self": null,
       "border": null,
       "bottom": null,
       "display": null,
       "flex": null,
       "flex_flow": null,
       "grid_area": null,
       "grid_auto_columns": null,
       "grid_auto_flow": null,
       "grid_auto_rows": null,
       "grid_column": null,
       "grid_gap": null,
       "grid_row": null,
       "grid_template_areas": null,
       "grid_template_columns": null,
       "grid_template_rows": null,
       "height": null,
       "justify_content": null,
       "justify_items": null,
       "left": null,
       "margin": null,
       "max_height": null,
       "max_width": null,
       "min_height": null,
       "min_width": null,
       "object_fit": null,
       "object_position": null,
       "order": null,
       "overflow": null,
       "overflow_x": null,
       "overflow_y": null,
       "padding": null,
       "right": null,
       "top": null,
       "visibility": null,
       "width": null
      }
     },
     "6d0e98296a214377b204fa8054587296": {
      "model_module": "@jupyter-widgets/base",
      "model_module_version": "1.2.0",
      "model_name": "LayoutModel",
      "state": {
       "_model_module": "@jupyter-widgets/base",
       "_model_module_version": "1.2.0",
       "_model_name": "LayoutModel",
       "_view_count": null,
       "_view_module": "@jupyter-widgets/base",
       "_view_module_version": "1.2.0",
       "_view_name": "LayoutView",
       "align_content": null,
       "align_items": null,
       "align_self": null,
       "border": null,
       "bottom": null,
       "display": null,
       "flex": null,
       "flex_flow": null,
       "grid_area": null,
       "grid_auto_columns": null,
       "grid_auto_flow": null,
       "grid_auto_rows": null,
       "grid_column": null,
       "grid_gap": null,
       "grid_row": null,
       "grid_template_areas": null,
       "grid_template_columns": null,
       "grid_template_rows": null,
       "height": null,
       "justify_content": null,
       "justify_items": null,
       "left": null,
       "margin": null,
       "max_height": null,
       "max_width": null,
       "min_height": null,
       "min_width": null,
       "object_fit": null,
       "object_position": null,
       "order": null,
       "overflow": null,
       "overflow_x": null,
       "overflow_y": null,
       "padding": null,
       "right": null,
       "top": null,
       "visibility": null,
       "width": null
      }
     },
     "6e235395f1ac4923adde5d171dadf80f": {
      "model_module": "@jupyter-widgets/controls",
      "model_module_version": "1.5.0",
      "model_name": "HTMLModel",
      "state": {
       "_dom_classes": [],
       "_model_module": "@jupyter-widgets/controls",
       "_model_module_version": "1.5.0",
       "_model_name": "HTMLModel",
       "_view_count": null,
       "_view_module": "@jupyter-widgets/controls",
       "_view_module_version": "1.5.0",
       "_view_name": "HTMLView",
       "description": "",
       "description_tooltip": null,
       "layout": "IPY_MODEL_acf491fc161c4441a92da9943d91cab2",
       "placeholder": "​",
       "style": "IPY_MODEL_e0538fb4a8e0445ba458d707b8ac4531",
       "value": " 380M/380M [00:09&lt;00:00, 41.0MB/s]"
      }
     },
     "6f18e56ea2164b8190fc0f1f6cbcb5b7": {
      "model_module": "@jupyter-widgets/controls",
      "model_module_version": "1.5.0",
      "model_name": "HTMLModel",
      "state": {
       "_dom_classes": [],
       "_model_module": "@jupyter-widgets/controls",
       "_model_module_version": "1.5.0",
       "_model_name": "HTMLModel",
       "_view_count": null,
       "_view_module": "@jupyter-widgets/controls",
       "_view_module_version": "1.5.0",
       "_view_name": "HTMLView",
       "description": "",
       "description_tooltip": null,
       "layout": "IPY_MODEL_ea84acb3ae8047a28197c1b2dbe576d2",
       "placeholder": "​",
       "style": "IPY_MODEL_1d6b60e2f5a046939bc42712277f7437",
       "value": "generation_config.json: 100%"
      }
     },
     "700b58a46f9d402081f858194fa6424f": {
      "model_module": "@jupyter-widgets/base",
      "model_module_version": "1.2.0",
      "model_name": "LayoutModel",
      "state": {
       "_model_module": "@jupyter-widgets/base",
       "_model_module_version": "1.2.0",
       "_model_name": "LayoutModel",
       "_view_count": null,
       "_view_module": "@jupyter-widgets/base",
       "_view_module_version": "1.2.0",
       "_view_name": "LayoutView",
       "align_content": null,
       "align_items": null,
       "align_self": null,
       "border": null,
       "bottom": null,
       "display": null,
       "flex": null,
       "flex_flow": null,
       "grid_area": null,
       "grid_auto_columns": null,
       "grid_auto_flow": null,
       "grid_auto_rows": null,
       "grid_column": null,
       "grid_gap": null,
       "grid_row": null,
       "grid_template_areas": null,
       "grid_template_columns": null,
       "grid_template_rows": null,
       "height": null,
       "justify_content": null,
       "justify_items": null,
       "left": null,
       "margin": null,
       "max_height": null,
       "max_width": null,
       "min_height": null,
       "min_width": null,
       "object_fit": null,
       "object_position": null,
       "order": null,
       "overflow": null,
       "overflow_x": null,
       "overflow_y": null,
       "padding": null,
       "right": null,
       "top": null,
       "visibility": null,
       "width": null
      }
     },
     "71b2c43ac7a148b3a293582df3195b94": {
      "model_module": "@jupyter-widgets/controls",
      "model_module_version": "1.5.0",
      "model_name": "DescriptionStyleModel",
      "state": {
       "_model_module": "@jupyter-widgets/controls",
       "_model_module_version": "1.5.0",
       "_model_name": "DescriptionStyleModel",
       "_view_count": null,
       "_view_module": "@jupyter-widgets/base",
       "_view_module_version": "1.2.0",
       "_view_name": "StyleView",
       "description_width": ""
      }
     },
     "778778556f78408fa6c463ce43f1ab1b": {
      "model_module": "@jupyter-widgets/controls",
      "model_module_version": "1.5.0",
      "model_name": "ProgressStyleModel",
      "state": {
       "_model_module": "@jupyter-widgets/controls",
       "_model_module_version": "1.5.0",
       "_model_name": "ProgressStyleModel",
       "_view_count": null,
       "_view_module": "@jupyter-widgets/base",
       "_view_module_version": "1.2.0",
       "_view_name": "StyleView",
       "bar_color": null,
       "description_width": ""
      }
     },
     "77f795400e7748c38e602a75b2f19c74": {
      "model_module": "@jupyter-widgets/base",
      "model_module_version": "1.2.0",
      "model_name": "LayoutModel",
      "state": {
       "_model_module": "@jupyter-widgets/base",
       "_model_module_version": "1.2.0",
       "_model_name": "LayoutModel",
       "_view_count": null,
       "_view_module": "@jupyter-widgets/base",
       "_view_module_version": "1.2.0",
       "_view_name": "LayoutView",
       "align_content": null,
       "align_items": null,
       "align_self": null,
       "border": null,
       "bottom": null,
       "display": null,
       "flex": null,
       "flex_flow": null,
       "grid_area": null,
       "grid_auto_columns": null,
       "grid_auto_flow": null,
       "grid_auto_rows": null,
       "grid_column": null,
       "grid_gap": null,
       "grid_row": null,
       "grid_template_areas": null,
       "grid_template_columns": null,
       "grid_template_rows": null,
       "height": null,
       "justify_content": null,
       "justify_items": null,
       "left": null,
       "margin": null,
       "max_height": null,
       "max_width": null,
       "min_height": null,
       "min_width": null,
       "object_fit": null,
       "object_position": null,
       "order": null,
       "overflow": null,
       "overflow_x": null,
       "overflow_y": null,
       "padding": null,
       "right": null,
       "top": null,
       "visibility": null,
       "width": null
      }
     },
     "79226a729134431c98eae0c82742adb2": {
      "model_module": "@jupyter-widgets/base",
      "model_module_version": "1.2.0",
      "model_name": "LayoutModel",
      "state": {
       "_model_module": "@jupyter-widgets/base",
       "_model_module_version": "1.2.0",
       "_model_name": "LayoutModel",
       "_view_count": null,
       "_view_module": "@jupyter-widgets/base",
       "_view_module_version": "1.2.0",
       "_view_name": "LayoutView",
       "align_content": null,
       "align_items": null,
       "align_self": null,
       "border": null,
       "bottom": null,
       "display": null,
       "flex": null,
       "flex_flow": null,
       "grid_area": null,
       "grid_auto_columns": null,
       "grid_auto_flow": null,
       "grid_auto_rows": null,
       "grid_column": null,
       "grid_gap": null,
       "grid_row": null,
       "grid_template_areas": null,
       "grid_template_columns": null,
       "grid_template_rows": null,
       "height": null,
       "justify_content": null,
       "justify_items": null,
       "left": null,
       "margin": null,
       "max_height": null,
       "max_width": null,
       "min_height": null,
       "min_width": null,
       "object_fit": null,
       "object_position": null,
       "order": null,
       "overflow": null,
       "overflow_x": null,
       "overflow_y": null,
       "padding": null,
       "right": null,
       "top": null,
       "visibility": null,
       "width": null
      }
     },
     "79f12052492a4a7db121ecf9d024b323": {
      "model_module": "@jupyter-widgets/controls",
      "model_module_version": "1.5.0",
      "model_name": "ProgressStyleModel",
      "state": {
       "_model_module": "@jupyter-widgets/controls",
       "_model_module_version": "1.5.0",
       "_model_name": "ProgressStyleModel",
       "_view_count": null,
       "_view_module": "@jupyter-widgets/base",
       "_view_module_version": "1.2.0",
       "_view_name": "StyleView",
       "bar_color": null,
       "description_width": ""
      }
     },
     "7b08c72d7e264d23bd11bee992b1ac0a": {
      "model_module": "@jupyter-widgets/base",
      "model_module_version": "1.2.0",
      "model_name": "LayoutModel",
      "state": {
       "_model_module": "@jupyter-widgets/base",
       "_model_module_version": "1.2.0",
       "_model_name": "LayoutModel",
       "_view_count": null,
       "_view_module": "@jupyter-widgets/base",
       "_view_module_version": "1.2.0",
       "_view_name": "LayoutView",
       "align_content": null,
       "align_items": null,
       "align_self": null,
       "border": null,
       "bottom": null,
       "display": null,
       "flex": null,
       "flex_flow": null,
       "grid_area": null,
       "grid_auto_columns": null,
       "grid_auto_flow": null,
       "grid_auto_rows": null,
       "grid_column": null,
       "grid_gap": null,
       "grid_row": null,
       "grid_template_areas": null,
       "grid_template_columns": null,
       "grid_template_rows": null,
       "height": null,
       "justify_content": null,
       "justify_items": null,
       "left": null,
       "margin": null,
       "max_height": null,
       "max_width": null,
       "min_height": null,
       "min_width": null,
       "object_fit": null,
       "object_position": null,
       "order": null,
       "overflow": null,
       "overflow_x": null,
       "overflow_y": null,
       "padding": null,
       "right": null,
       "top": null,
       "visibility": null,
       "width": null
      }
     },
     "7c50146c3567413b85087b69d01db7dd": {
      "model_module": "@jupyter-widgets/base",
      "model_module_version": "1.2.0",
      "model_name": "LayoutModel",
      "state": {
       "_model_module": "@jupyter-widgets/base",
       "_model_module_version": "1.2.0",
       "_model_name": "LayoutModel",
       "_view_count": null,
       "_view_module": "@jupyter-widgets/base",
       "_view_module_version": "1.2.0",
       "_view_name": "LayoutView",
       "align_content": null,
       "align_items": null,
       "align_self": null,
       "border": null,
       "bottom": null,
       "display": null,
       "flex": null,
       "flex_flow": null,
       "grid_area": null,
       "grid_auto_columns": null,
       "grid_auto_flow": null,
       "grid_auto_rows": null,
       "grid_column": null,
       "grid_gap": null,
       "grid_row": null,
       "grid_template_areas": null,
       "grid_template_columns": null,
       "grid_template_rows": null,
       "height": null,
       "justify_content": null,
       "justify_items": null,
       "left": null,
       "margin": null,
       "max_height": null,
       "max_width": null,
       "min_height": null,
       "min_width": null,
       "object_fit": null,
       "object_position": null,
       "order": null,
       "overflow": null,
       "overflow_x": null,
       "overflow_y": null,
       "padding": null,
       "right": null,
       "top": null,
       "visibility": null,
       "width": null
      }
     },
     "7d4ba569d1ba426983cc17eac3060e88": {
      "model_module": "@jupyter-widgets/controls",
      "model_module_version": "1.5.0",
      "model_name": "HTMLModel",
      "state": {
       "_dom_classes": [],
       "_model_module": "@jupyter-widgets/controls",
       "_model_module_version": "1.5.0",
       "_model_name": "HTMLModel",
       "_view_count": null,
       "_view_module": "@jupyter-widgets/controls",
       "_view_module_version": "1.5.0",
       "_view_name": "HTMLView",
       "description": "",
       "description_tooltip": null,
       "layout": "IPY_MODEL_77f795400e7748c38e602a75b2f19c74",
       "placeholder": "​",
       "style": "IPY_MODEL_b8f061c9654e44a48160b8dcc818ffc0",
       "value": "tokenizer.model: 100%"
      }
     },
     "7d6b2c04c3de49f982482f4918327861": {
      "model_module": "@jupyter-widgets/controls",
      "model_module_version": "1.5.0",
      "model_name": "DescriptionStyleModel",
      "state": {
       "_model_module": "@jupyter-widgets/controls",
       "_model_module_version": "1.5.0",
       "_model_name": "DescriptionStyleModel",
       "_view_count": null,
       "_view_module": "@jupyter-widgets/base",
       "_view_module_version": "1.2.0",
       "_view_name": "StyleView",
       "description_width": ""
      }
     },
     "7e2c5aa3f4de45f3826b355961c7b0fc": {
      "model_module": "@jupyter-widgets/controls",
      "model_module_version": "1.5.0",
      "model_name": "HBoxModel",
      "state": {
       "_dom_classes": [],
       "_model_module": "@jupyter-widgets/controls",
       "_model_module_version": "1.5.0",
       "_model_name": "HBoxModel",
       "_view_count": null,
       "_view_module": "@jupyter-widgets/controls",
       "_view_module_version": "1.5.0",
       "_view_name": "HBoxView",
       "box_style": "",
       "children": [
        "IPY_MODEL_5b284b4ef3d54a44b3c1ba460136dd61",
        "IPY_MODEL_d9d08a6861e1420583f54341eb9f51ee",
        "IPY_MODEL_86b514d9276b46e89ade580186d63c38"
       ],
       "layout": "IPY_MODEL_512a4404b4ad4023891b4dcf17ce2611"
      }
     },
     "8005390aed62401f9c9836deba5a4a4e": {
      "model_module": "@jupyter-widgets/controls",
      "model_module_version": "1.5.0",
      "model_name": "DescriptionStyleModel",
      "state": {
       "_model_module": "@jupyter-widgets/controls",
       "_model_module_version": "1.5.0",
       "_model_name": "DescriptionStyleModel",
       "_view_count": null,
       "_view_module": "@jupyter-widgets/base",
       "_view_module_version": "1.2.0",
       "_view_name": "StyleView",
       "description_width": ""
      }
     },
     "81a9bec32c7a42aeb248986960392ebe": {
      "model_module": "@jupyter-widgets/controls",
      "model_module_version": "1.5.0",
      "model_name": "DescriptionStyleModel",
      "state": {
       "_model_module": "@jupyter-widgets/controls",
       "_model_module_version": "1.5.0",
       "_model_name": "DescriptionStyleModel",
       "_view_count": null,
       "_view_module": "@jupyter-widgets/base",
       "_view_module_version": "1.2.0",
       "_view_name": "StyleView",
       "description_width": ""
      }
     },
     "8378aacef22d48bfbbf7323984b79626": {
      "model_module": "@jupyter-widgets/controls",
      "model_module_version": "1.5.0",
      "model_name": "DescriptionStyleModel",
      "state": {
       "_model_module": "@jupyter-widgets/controls",
       "_model_module_version": "1.5.0",
       "_model_name": "DescriptionStyleModel",
       "_view_count": null,
       "_view_module": "@jupyter-widgets/base",
       "_view_module_version": "1.2.0",
       "_view_name": "StyleView",
       "description_width": ""
      }
     },
     "86b514d9276b46e89ade580186d63c38": {
      "model_module": "@jupyter-widgets/controls",
      "model_module_version": "1.5.0",
      "model_name": "HTMLModel",
      "state": {
       "_dom_classes": [],
       "_model_module": "@jupyter-widgets/controls",
       "_model_module_version": "1.5.0",
       "_model_name": "HTMLModel",
       "_view_count": null,
       "_view_module": "@jupyter-widgets/controls",
       "_view_module_version": "1.5.0",
       "_view_name": "HTMLView",
       "description": "",
       "description_tooltip": null,
       "layout": "IPY_MODEL_495bf99d150f47d4bf26d58ddc70fb43",
       "placeholder": "​",
       "style": "IPY_MODEL_f77386017bfe40e3a23cca1f8fab5151",
       "value": " 695/695 [00:00&lt;00:00, 57.7kB/s]"
      }
     },
     "873eee495e3f43f29d00b1252634f193": {
      "model_module": "@jupyter-widgets/controls",
      "model_module_version": "1.5.0",
      "model_name": "DescriptionStyleModel",
      "state": {
       "_model_module": "@jupyter-widgets/controls",
       "_model_module_version": "1.5.0",
       "_model_name": "DescriptionStyleModel",
       "_view_count": null,
       "_view_module": "@jupyter-widgets/base",
       "_view_module_version": "1.2.0",
       "_view_name": "StyleView",
       "description_width": ""
      }
     },
     "878389b39fa64b30ae9f00bf059825e0": {
      "model_module": "@jupyter-widgets/base",
      "model_module_version": "1.2.0",
      "model_name": "LayoutModel",
      "state": {
       "_model_module": "@jupyter-widgets/base",
       "_model_module_version": "1.2.0",
       "_model_name": "LayoutModel",
       "_view_count": null,
       "_view_module": "@jupyter-widgets/base",
       "_view_module_version": "1.2.0",
       "_view_name": "LayoutView",
       "align_content": null,
       "align_items": null,
       "align_self": null,
       "border": null,
       "bottom": null,
       "display": null,
       "flex": null,
       "flex_flow": null,
       "grid_area": null,
       "grid_auto_columns": null,
       "grid_auto_flow": null,
       "grid_auto_rows": null,
       "grid_column": null,
       "grid_gap": null,
       "grid_row": null,
       "grid_template_areas": null,
       "grid_template_columns": null,
       "grid_template_rows": null,
       "height": null,
       "justify_content": null,
       "justify_items": null,
       "left": null,
       "margin": null,
       "max_height": null,
       "max_width": null,
       "min_height": null,
       "min_width": null,
       "object_fit": null,
       "object_position": null,
       "order": null,
       "overflow": null,
       "overflow_x": null,
       "overflow_y": null,
       "padding": null,
       "right": null,
       "top": null,
       "visibility": null,
       "width": null
      }
     },
     "89b60ab0d3c843bdbde808c4308d2d9a": {
      "model_module": "@jupyter-widgets/base",
      "model_module_version": "1.2.0",
      "model_name": "LayoutModel",
      "state": {
       "_model_module": "@jupyter-widgets/base",
       "_model_module_version": "1.2.0",
       "_model_name": "LayoutModel",
       "_view_count": null,
       "_view_module": "@jupyter-widgets/base",
       "_view_module_version": "1.2.0",
       "_view_name": "LayoutView",
       "align_content": null,
       "align_items": null,
       "align_self": null,
       "border": null,
       "bottom": null,
       "display": null,
       "flex": null,
       "flex_flow": null,
       "grid_area": null,
       "grid_auto_columns": null,
       "grid_auto_flow": null,
       "grid_auto_rows": null,
       "grid_column": null,
       "grid_gap": null,
       "grid_row": null,
       "grid_template_areas": null,
       "grid_template_columns": null,
       "grid_template_rows": null,
       "height": null,
       "justify_content": null,
       "justify_items": null,
       "left": null,
       "margin": null,
       "max_height": null,
       "max_width": null,
       "min_height": null,
       "min_width": null,
       "object_fit": null,
       "object_position": null,
       "order": null,
       "overflow": null,
       "overflow_x": null,
       "overflow_y": null,
       "padding": null,
       "right": null,
       "top": null,
       "visibility": null,
       "width": null
      }
     },
     "8a0b073e5d494a7fb4e10c2358eb7237": {
      "model_module": "@jupyter-widgets/base",
      "model_module_version": "1.2.0",
      "model_name": "LayoutModel",
      "state": {
       "_model_module": "@jupyter-widgets/base",
       "_model_module_version": "1.2.0",
       "_model_name": "LayoutModel",
       "_view_count": null,
       "_view_module": "@jupyter-widgets/base",
       "_view_module_version": "1.2.0",
       "_view_name": "LayoutView",
       "align_content": null,
       "align_items": null,
       "align_self": null,
       "border": null,
       "bottom": null,
       "display": null,
       "flex": null,
       "flex_flow": null,
       "grid_area": null,
       "grid_auto_columns": null,
       "grid_auto_flow": null,
       "grid_auto_rows": null,
       "grid_column": null,
       "grid_gap": null,
       "grid_row": null,
       "grid_template_areas": null,
       "grid_template_columns": null,
       "grid_template_rows": null,
       "height": null,
       "justify_content": null,
       "justify_items": null,
       "left": null,
       "margin": null,
       "max_height": null,
       "max_width": null,
       "min_height": null,
       "min_width": null,
       "object_fit": null,
       "object_position": null,
       "order": null,
       "overflow": null,
       "overflow_x": null,
       "overflow_y": null,
       "padding": null,
       "right": null,
       "top": null,
       "visibility": null,
       "width": null
      }
     },
     "8b64190a800e4f05ae8e9dbc923489ec": {
      "model_module": "@jupyter-widgets/controls",
      "model_module_version": "1.5.0",
      "model_name": "HTMLModel",
      "state": {
       "_dom_classes": [],
       "_model_module": "@jupyter-widgets/controls",
       "_model_module_version": "1.5.0",
       "_model_name": "HTMLModel",
       "_view_count": null,
       "_view_module": "@jupyter-widgets/controls",
       "_view_module_version": "1.5.0",
       "_view_name": "HTMLView",
       "description": "",
       "description_tooltip": null,
       "layout": "IPY_MODEL_a5ee0c145f134bceba0d9e61423442dd",
       "placeholder": "​",
       "style": "IPY_MODEL_53500f57d03347fc811bb3c33ff2af26",
       "value": "model-00003-of-00004.safetensors: 100%"
      }
     },
     "8c055550e5ed43a9bb7fb0abc60a9adb": {
      "model_module": "@jupyter-widgets/controls",
      "model_module_version": "1.5.0",
      "model_name": "ProgressStyleModel",
      "state": {
       "_model_module": "@jupyter-widgets/controls",
       "_model_module_version": "1.5.0",
       "_model_name": "ProgressStyleModel",
       "_view_count": null,
       "_view_module": "@jupyter-widgets/base",
       "_view_module_version": "1.2.0",
       "_view_name": "StyleView",
       "bar_color": null,
       "description_width": ""
      }
     },
     "8ea798822a8f49ebb155ca4416d1931b": {
      "model_module": "@jupyter-widgets/controls",
      "model_module_version": "1.5.0",
      "model_name": "FloatProgressModel",
      "state": {
       "_dom_classes": [],
       "_model_module": "@jupyter-widgets/controls",
       "_model_module_version": "1.5.0",
       "_model_name": "FloatProgressModel",
       "_view_count": null,
       "_view_module": "@jupyter-widgets/controls",
       "_view_module_version": "1.5.0",
       "_view_name": "ProgressView",
       "bar_style": "success",
       "description": "",
       "description_tooltip": null,
       "layout": "IPY_MODEL_3f1682514ab54eac95178fbd7a57ff54",
       "max": 4921618144.0,
       "min": 0.0,
       "orientation": "horizontal",
       "style": "IPY_MODEL_fd9bb92d7f0040c2a967de6bb99d047b",
       "value": 4921618144.0
      }
     },
     "8fd67cf939d542f0baf074f448bc2875": {
      "model_module": "@jupyter-widgets/base",
      "model_module_version": "1.2.0",
      "model_name": "LayoutModel",
      "state": {
       "_model_module": "@jupyter-widgets/base",
       "_model_module_version": "1.2.0",
       "_model_name": "LayoutModel",
       "_view_count": null,
       "_view_module": "@jupyter-widgets/base",
       "_view_module_version": "1.2.0",
       "_view_name": "LayoutView",
       "align_content": null,
       "align_items": null,
       "align_self": null,
       "border": null,
       "bottom": null,
       "display": null,
       "flex": null,
       "flex_flow": null,
       "grid_area": null,
       "grid_auto_columns": null,
       "grid_auto_flow": null,
       "grid_auto_rows": null,
       "grid_column": null,
       "grid_gap": null,
       "grid_row": null,
       "grid_template_areas": null,
       "grid_template_columns": null,
       "grid_template_rows": null,
       "height": null,
       "justify_content": null,
       "justify_items": null,
       "left": null,
       "margin": null,
       "max_height": null,
       "max_width": null,
       "min_height": null,
       "min_width": null,
       "object_fit": null,
       "object_position": null,
       "order": null,
       "overflow": null,
       "overflow_x": null,
       "overflow_y": null,
       "padding": null,
       "right": null,
       "top": null,
       "visibility": null,
       "width": null
      }
     },
     "9083de8e5fde40359986bb721fcb9169": {
      "model_module": "@jupyter-widgets/controls",
      "model_module_version": "1.5.0",
      "model_name": "DescriptionStyleModel",
      "state": {
       "_model_module": "@jupyter-widgets/controls",
       "_model_module_version": "1.5.0",
       "_model_name": "DescriptionStyleModel",
       "_view_count": null,
       "_view_module": "@jupyter-widgets/base",
       "_view_module_version": "1.2.0",
       "_view_name": "StyleView",
       "description_width": ""
      }
     },
     "911e08e20ce4448188cd0330f46e5b66": {
      "model_module": "@jupyter-widgets/controls",
      "model_module_version": "1.5.0",
      "model_name": "HTMLModel",
      "state": {
       "_dom_classes": [],
       "_model_module": "@jupyter-widgets/controls",
       "_model_module_version": "1.5.0",
       "_model_name": "HTMLModel",
       "_view_count": null,
       "_view_module": "@jupyter-widgets/controls",
       "_view_module_version": "1.5.0",
       "_view_name": "HTMLView",
       "description": "",
       "description_tooltip": null,
       "layout": "IPY_MODEL_42d326c3183043b58da4784c01839f6d",
       "placeholder": "​",
       "style": "IPY_MODEL_0e0e66a3c96b44849bc623ab44dbb7cd",
       "value": " 41.0/41.0 [00:00&lt;00:00, 3.14kB/s]"
      }
     },
     "9286ba39fa8a47ae845abd826010ad46": {
      "model_module": "@jupyter-widgets/controls",
      "model_module_version": "1.5.0",
      "model_name": "HTMLModel",
      "state": {
       "_dom_classes": [],
       "_model_module": "@jupyter-widgets/controls",
       "_model_module_version": "1.5.0",
       "_model_name": "HTMLModel",
       "_view_count": null,
       "_view_module": "@jupyter-widgets/controls",
       "_view_module_version": "1.5.0",
       "_view_name": "HTMLView",
       "description": "",
       "description_tooltip": null,
       "layout": "IPY_MODEL_442ec138fa3744a58d6b117511f71258",
       "placeholder": "​",
       "style": "IPY_MODEL_8378aacef22d48bfbbf7323984b79626",
       "value": " 552/552 [00:00&lt;00:00, 46.9kB/s]"
      }
     },
     "93942592668844b9a7194548b648c84b": {
      "model_module": "@jupyter-widgets/controls",
      "model_module_version": "1.5.0",
      "model_name": "HTMLModel",
      "state": {
       "_dom_classes": [],
       "_model_module": "@jupyter-widgets/controls",
       "_model_module_version": "1.5.0",
       "_model_name": "HTMLModel",
       "_view_count": null,
       "_view_module": "@jupyter-widgets/controls",
       "_view_module_version": "1.5.0",
       "_view_name": "HTMLView",
       "description": "",
       "description_tooltip": null,
       "layout": "IPY_MODEL_23278bfb2d7d40f38ab3e6457c2238ff",
       "placeholder": "​",
       "style": "IPY_MODEL_81a9bec32c7a42aeb248986960392ebe",
       "value": " 70.2k/70.2k [00:00&lt;00:00, 414kB/s]"
      }
     },
     "966f4d1b12474572a82e94ad137ba44a": {
      "model_module": "@jupyter-widgets/base",
      "model_module_version": "1.2.0",
      "model_name": "LayoutModel",
      "state": {
       "_model_module": "@jupyter-widgets/base",
       "_model_module_version": "1.2.0",
       "_model_name": "LayoutModel",
       "_view_count": null,
       "_view_module": "@jupyter-widgets/base",
       "_view_module_version": "1.2.0",
       "_view_name": "LayoutView",
       "align_content": null,
       "align_items": null,
       "align_self": null,
       "border": null,
       "bottom": null,
       "display": null,
       "flex": null,
       "flex_flow": null,
       "grid_area": null,
       "grid_auto_columns": null,
       "grid_auto_flow": null,
       "grid_auto_rows": null,
       "grid_column": null,
       "grid_gap": null,
       "grid_row": null,
       "grid_template_areas": null,
       "grid_template_columns": null,
       "grid_template_rows": null,
       "height": null,
       "justify_content": null,
       "justify_items": null,
       "left": null,
       "margin": null,
       "max_height": null,
       "max_width": null,
       "min_height": null,
       "min_width": null,
       "object_fit": null,
       "object_position": null,
       "order": null,
       "overflow": null,
       "overflow_x": null,
       "overflow_y": null,
       "padding": null,
       "right": null,
       "top": null,
       "visibility": null,
       "width": null
      }
     },
     "97257395c3fe4f5bbce85fbc4c2cbfbc": {
      "model_module": "@jupyter-widgets/controls",
      "model_module_version": "1.5.0",
      "model_name": "HTMLModel",
      "state": {
       "_dom_classes": [],
       "_model_module": "@jupyter-widgets/controls",
       "_model_module_version": "1.5.0",
       "_model_name": "HTMLModel",
       "_view_count": null,
       "_view_module": "@jupyter-widgets/controls",
       "_view_module_version": "1.5.0",
       "_view_name": "HTMLView",
       "description": "",
       "description_tooltip": null,
       "layout": "IPY_MODEL_4e74474780294759a741e90f4746319e",
       "placeholder": "​",
       "style": "IPY_MODEL_0babd87696b34576a700fc52e1530179",
       "value": "model.safetensors.index.json: 100%"
      }
     },
     "987fbafbc1274f5e9053d62d93581a55": {
      "model_module": "@jupyter-widgets/base",
      "model_module_version": "1.2.0",
      "model_name": "LayoutModel",
      "state": {
       "_model_module": "@jupyter-widgets/base",
       "_model_module_version": "1.2.0",
       "_model_name": "LayoutModel",
       "_view_count": null,
       "_view_module": "@jupyter-widgets/base",
       "_view_module_version": "1.2.0",
       "_view_name": "LayoutView",
       "align_content": null,
       "align_items": null,
       "align_self": null,
       "border": null,
       "bottom": null,
       "display": null,
       "flex": null,
       "flex_flow": null,
       "grid_area": null,
       "grid_auto_columns": null,
       "grid_auto_flow": null,
       "grid_auto_rows": null,
       "grid_column": null,
       "grid_gap": null,
       "grid_row": null,
       "grid_template_areas": null,
       "grid_template_columns": null,
       "grid_template_rows": null,
       "height": null,
       "justify_content": null,
       "justify_items": null,
       "left": null,
       "margin": null,
       "max_height": null,
       "max_width": null,
       "min_height": null,
       "min_width": null,
       "object_fit": null,
       "object_position": null,
       "order": null,
       "overflow": null,
       "overflow_x": null,
       "overflow_y": null,
       "padding": null,
       "right": null,
       "top": null,
       "visibility": null,
       "width": null
      }
     },
     "98b037b3dbcc4da4a3e439ae0ffc8cb5": {
      "model_module": "@jupyter-widgets/controls",
      "model_module_version": "1.5.0",
      "model_name": "DescriptionStyleModel",
      "state": {
       "_model_module": "@jupyter-widgets/controls",
       "_model_module_version": "1.5.0",
       "_model_name": "DescriptionStyleModel",
       "_view_count": null,
       "_view_module": "@jupyter-widgets/base",
       "_view_module_version": "1.2.0",
       "_view_name": "StyleView",
       "description_width": ""
      }
     },
     "990173a8c92641e38cc7f68c5f3803d8": {
      "model_module": "@jupyter-widgets/controls",
      "model_module_version": "1.5.0",
      "model_name": "DescriptionStyleModel",
      "state": {
       "_model_module": "@jupyter-widgets/controls",
       "_model_module_version": "1.5.0",
       "_model_name": "DescriptionStyleModel",
       "_view_count": null,
       "_view_module": "@jupyter-widgets/base",
       "_view_module_version": "1.2.0",
       "_view_name": "StyleView",
       "description_width": ""
      }
     },
     "9c85342ebe844c98a21b03ed6ad8f889": {
      "model_module": "@jupyter-widgets/base",
      "model_module_version": "1.2.0",
      "model_name": "LayoutModel",
      "state": {
       "_model_module": "@jupyter-widgets/base",
       "_model_module_version": "1.2.0",
       "_model_name": "LayoutModel",
       "_view_count": null,
       "_view_module": "@jupyter-widgets/base",
       "_view_module_version": "1.2.0",
       "_view_name": "LayoutView",
       "align_content": null,
       "align_items": null,
       "align_self": null,
       "border": null,
       "bottom": null,
       "display": null,
       "flex": null,
       "flex_flow": null,
       "grid_area": null,
       "grid_auto_columns": null,
       "grid_auto_flow": null,
       "grid_auto_rows": null,
       "grid_column": null,
       "grid_gap": null,
       "grid_row": null,
       "grid_template_areas": null,
       "grid_template_columns": null,
       "grid_template_rows": null,
       "height": null,
       "justify_content": null,
       "justify_items": null,
       "left": null,
       "margin": null,
       "max_height": null,
       "max_width": null,
       "min_height": null,
       "min_width": null,
       "object_fit": null,
       "object_position": null,
       "order": null,
       "overflow": null,
       "overflow_x": null,
       "overflow_y": null,
       "padding": null,
       "right": null,
       "top": null,
       "visibility": null,
       "width": null
      }
     },
     "9de250ea2df74e6aa1455feeb18cfb2b": {
      "model_module": "@jupyter-widgets/base",
      "model_module_version": "1.2.0",
      "model_name": "LayoutModel",
      "state": {
       "_model_module": "@jupyter-widgets/base",
       "_model_module_version": "1.2.0",
       "_model_name": "LayoutModel",
       "_view_count": null,
       "_view_module": "@jupyter-widgets/base",
       "_view_module_version": "1.2.0",
       "_view_name": "LayoutView",
       "align_content": null,
       "align_items": null,
       "align_self": null,
       "border": null,
       "bottom": null,
       "display": null,
       "flex": null,
       "flex_flow": null,
       "grid_area": null,
       "grid_auto_columns": null,
       "grid_auto_flow": null,
       "grid_auto_rows": null,
       "grid_column": null,
       "grid_gap": null,
       "grid_row": null,
       "grid_template_areas": null,
       "grid_template_columns": null,
       "grid_template_rows": null,
       "height": null,
       "justify_content": null,
       "justify_items": null,
       "left": null,
       "margin": null,
       "max_height": null,
       "max_width": null,
       "min_height": null,
       "min_width": null,
       "object_fit": null,
       "object_position": null,
       "order": null,
       "overflow": null,
       "overflow_x": null,
       "overflow_y": null,
       "padding": null,
       "right": null,
       "top": null,
       "visibility": null,
       "width": null
      }
     },
     "9ede19686d2442e9bdd004e69e7f73f0": {
      "model_module": "@jupyter-widgets/controls",
      "model_module_version": "1.5.0",
      "model_name": "HBoxModel",
      "state": {
       "_dom_classes": [],
       "_model_module": "@jupyter-widgets/controls",
       "_model_module_version": "1.5.0",
       "_model_name": "HBoxModel",
       "_view_count": null,
       "_view_module": "@jupyter-widgets/controls",
       "_view_module_version": "1.5.0",
       "_view_name": "HBoxView",
       "box_style": "",
       "children": [
        "IPY_MODEL_6f18e56ea2164b8190fc0f1f6cbcb5b7",
        "IPY_MODEL_a1701cc1b4684261b5169263adac459d",
        "IPY_MODEL_4ab94fa9ac68447d8c6b5509618b68a4"
       ],
       "layout": "IPY_MODEL_03bf05aa6a74434e81372bc76a648a5f"
      }
     },
     "9f1d1217d0424e7794107f059f17c3c0": {
      "model_module": "@jupyter-widgets/controls",
      "model_module_version": "1.5.0",
      "model_name": "ProgressStyleModel",
      "state": {
       "_model_module": "@jupyter-widgets/controls",
       "_model_module_version": "1.5.0",
       "_model_name": "ProgressStyleModel",
       "_view_count": null,
       "_view_module": "@jupyter-widgets/base",
       "_view_module_version": "1.2.0",
       "_view_name": "StyleView",
       "bar_color": null,
       "description_width": ""
      }
     },
     "a10d3b4b5aea4b2ab63cad50e0f99831": {
      "model_module": "@jupyter-widgets/base",
      "model_module_version": "1.2.0",
      "model_name": "LayoutModel",
      "state": {
       "_model_module": "@jupyter-widgets/base",
       "_model_module_version": "1.2.0",
       "_model_name": "LayoutModel",
       "_view_count": null,
       "_view_module": "@jupyter-widgets/base",
       "_view_module_version": "1.2.0",
       "_view_name": "LayoutView",
       "align_content": null,
       "align_items": null,
       "align_self": null,
       "border": null,
       "bottom": null,
       "display": null,
       "flex": null,
       "flex_flow": null,
       "grid_area": null,
       "grid_auto_columns": null,
       "grid_auto_flow": null,
       "grid_auto_rows": null,
       "grid_column": null,
       "grid_gap": null,
       "grid_row": null,
       "grid_template_areas": null,
       "grid_template_columns": null,
       "grid_template_rows": null,
       "height": null,
       "justify_content": null,
       "justify_items": null,
       "left": null,
       "margin": null,
       "max_height": null,
       "max_width": null,
       "min_height": null,
       "min_width": null,
       "object_fit": null,
       "object_position": null,
       "order": null,
       "overflow": null,
       "overflow_x": null,
       "overflow_y": null,
       "padding": null,
       "right": null,
       "top": null,
       "visibility": null,
       "width": null
      }
     },
     "a1701cc1b4684261b5169263adac459d": {
      "model_module": "@jupyter-widgets/controls",
      "model_module_version": "1.5.0",
      "model_name": "FloatProgressModel",
      "state": {
       "_dom_classes": [],
       "_model_module": "@jupyter-widgets/controls",
       "_model_module_version": "1.5.0",
       "_model_name": "FloatProgressModel",
       "_view_count": null,
       "_view_module": "@jupyter-widgets/controls",
       "_view_module_version": "1.5.0",
       "_view_name": "ProgressView",
       "bar_style": "success",
       "description": "",
       "description_tooltip": null,
       "layout": "IPY_MODEL_5990b53e6a5c45798628f0a8fc26b0a3",
       "max": 116.0,
       "min": 0.0,
       "orientation": "horizontal",
       "style": "IPY_MODEL_dc167ce59c08499ba33b2ad82a14c1af",
       "value": 116.0
      }
     },
     "a32280fabd7f42e8bec15f497df74c93": {
      "model_module": "@jupyter-widgets/controls",
      "model_module_version": "1.5.0",
      "model_name": "DescriptionStyleModel",
      "state": {
       "_model_module": "@jupyter-widgets/controls",
       "_model_module_version": "1.5.0",
       "_model_name": "DescriptionStyleModel",
       "_view_count": null,
       "_view_module": "@jupyter-widgets/base",
       "_view_module_version": "1.2.0",
       "_view_name": "StyleView",
       "description_width": ""
      }
     },
     "a5ee0c145f134bceba0d9e61423442dd": {
      "model_module": "@jupyter-widgets/base",
      "model_module_version": "1.2.0",
      "model_name": "LayoutModel",
      "state": {
       "_model_module": "@jupyter-widgets/base",
       "_model_module_version": "1.2.0",
       "_model_name": "LayoutModel",
       "_view_count": null,
       "_view_module": "@jupyter-widgets/base",
       "_view_module_version": "1.2.0",
       "_view_name": "LayoutView",
       "align_content": null,
       "align_items": null,
       "align_self": null,
       "border": null,
       "bottom": null,
       "display": null,
       "flex": null,
       "flex_flow": null,
       "grid_area": null,
       "grid_auto_columns": null,
       "grid_auto_flow": null,
       "grid_auto_rows": null,
       "grid_column": null,
       "grid_gap": null,
       "grid_row": null,
       "grid_template_areas": null,
       "grid_template_columns": null,
       "grid_template_rows": null,
       "height": null,
       "justify_content": null,
       "justify_items": null,
       "left": null,
       "margin": null,
       "max_height": null,
       "max_width": null,
       "min_height": null,
       "min_width": null,
       "object_fit": null,
       "object_position": null,
       "order": null,
       "overflow": null,
       "overflow_x": null,
       "overflow_y": null,
       "padding": null,
       "right": null,
       "top": null,
       "visibility": null,
       "width": null
      }
     },
     "aa47634cac0e48d888d011e84b05da20": {
      "model_module": "@jupyter-widgets/base",
      "model_module_version": "1.2.0",
      "model_name": "LayoutModel",
      "state": {
       "_model_module": "@jupyter-widgets/base",
       "_model_module_version": "1.2.0",
       "_model_name": "LayoutModel",
       "_view_count": null,
       "_view_module": "@jupyter-widgets/base",
       "_view_module_version": "1.2.0",
       "_view_name": "LayoutView",
       "align_content": null,
       "align_items": null,
       "align_self": null,
       "border": null,
       "bottom": null,
       "display": null,
       "flex": null,
       "flex_flow": null,
       "grid_area": null,
       "grid_auto_columns": null,
       "grid_auto_flow": null,
       "grid_auto_rows": null,
       "grid_column": null,
       "grid_gap": null,
       "grid_row": null,
       "grid_template_areas": null,
       "grid_template_columns": null,
       "grid_template_rows": null,
       "height": null,
       "justify_content": null,
       "justify_items": null,
       "left": null,
       "margin": null,
       "max_height": null,
       "max_width": null,
       "min_height": null,
       "min_width": null,
       "object_fit": null,
       "object_position": null,
       "order": null,
       "overflow": null,
       "overflow_x": null,
       "overflow_y": null,
       "padding": null,
       "right": null,
       "top": null,
       "visibility": null,
       "width": null
      }
     },
     "abc5ccefdca2416ebcad669a876be63c": {
      "model_module": "@jupyter-widgets/controls",
      "model_module_version": "1.5.0",
      "model_name": "ProgressStyleModel",
      "state": {
       "_model_module": "@jupyter-widgets/controls",
       "_model_module_version": "1.5.0",
       "_model_name": "ProgressStyleModel",
       "_view_count": null,
       "_view_module": "@jupyter-widgets/base",
       "_view_module_version": "1.2.0",
       "_view_name": "StyleView",
       "bar_color": null,
       "description_width": ""
      }
     },
     "ac1d3843bd1f42068e5d26a4c0823c4b": {
      "model_module": "@jupyter-widgets/controls",
      "model_module_version": "1.5.0",
      "model_name": "DescriptionStyleModel",
      "state": {
       "_model_module": "@jupyter-widgets/controls",
       "_model_module_version": "1.5.0",
       "_model_name": "DescriptionStyleModel",
       "_view_count": null,
       "_view_module": "@jupyter-widgets/base",
       "_view_module_version": "1.2.0",
       "_view_name": "StyleView",
       "description_width": ""
      }
     },
     "acf491fc161c4441a92da9943d91cab2": {
      "model_module": "@jupyter-widgets/base",
      "model_module_version": "1.2.0",
      "model_name": "LayoutModel",
      "state": {
       "_model_module": "@jupyter-widgets/base",
       "_model_module_version": "1.2.0",
       "_model_name": "LayoutModel",
       "_view_count": null,
       "_view_module": "@jupyter-widgets/base",
       "_view_module_version": "1.2.0",
       "_view_name": "LayoutView",
       "align_content": null,
       "align_items": null,
       "align_self": null,
       "border": null,
       "bottom": null,
       "display": null,
       "flex": null,
       "flex_flow": null,
       "grid_area": null,
       "grid_auto_columns": null,
       "grid_auto_flow": null,
       "grid_auto_rows": null,
       "grid_column": null,
       "grid_gap": null,
       "grid_row": null,
       "grid_template_areas": null,
       "grid_template_columns": null,
       "grid_template_rows": null,
       "height": null,
       "justify_content": null,
       "justify_items": null,
       "left": null,
       "margin": null,
       "max_height": null,
       "max_width": null,
       "min_height": null,
       "min_width": null,
       "object_fit": null,
       "object_position": null,
       "order": null,
       "overflow": null,
       "overflow_x": null,
       "overflow_y": null,
       "padding": null,
       "right": null,
       "top": null,
       "visibility": null,
       "width": null
      }
     },
     "af1cc87ddd4449e7834e178f5a39dbdf": {
      "model_module": "@jupyter-widgets/controls",
      "model_module_version": "1.5.0",
      "model_name": "DescriptionStyleModel",
      "state": {
       "_model_module": "@jupyter-widgets/controls",
       "_model_module_version": "1.5.0",
       "_model_name": "DescriptionStyleModel",
       "_view_count": null,
       "_view_module": "@jupyter-widgets/base",
       "_view_module_version": "1.2.0",
       "_view_name": "StyleView",
       "description_width": ""
      }
     },
     "b0631de3844a4311803782a4ce04650b": {
      "model_module": "@jupyter-widgets/controls",
      "model_module_version": "1.5.0",
      "model_name": "FloatProgressModel",
      "state": {
       "_dom_classes": [],
       "_model_module": "@jupyter-widgets/controls",
       "_model_module_version": "1.5.0",
       "_model_name": "FloatProgressModel",
       "_view_count": null,
       "_view_module": "@jupyter-widgets/controls",
       "_view_module_version": "1.5.0",
       "_view_name": "ProgressView",
       "bar_style": "success",
       "description": "",
       "description_tooltip": null,
       "layout": "IPY_MODEL_f5230b7665a844a6bcfc6352ebfe26bc",
       "max": 70185.0,
       "min": 0.0,
       "orientation": "horizontal",
       "style": "IPY_MODEL_3676682fac7840f889d7addea9050372",
       "value": 70185.0
      }
     },
     "b3a38bf002a54bcfb71927408e7c89f5": {
      "model_module": "@jupyter-widgets/base",
      "model_module_version": "1.2.0",
      "model_name": "LayoutModel",
      "state": {
       "_model_module": "@jupyter-widgets/base",
       "_model_module_version": "1.2.0",
       "_model_name": "LayoutModel",
       "_view_count": null,
       "_view_module": "@jupyter-widgets/base",
       "_view_module_version": "1.2.0",
       "_view_name": "LayoutView",
       "align_content": null,
       "align_items": null,
       "align_self": null,
       "border": null,
       "bottom": null,
       "display": null,
       "flex": null,
       "flex_flow": null,
       "grid_area": null,
       "grid_auto_columns": null,
       "grid_auto_flow": null,
       "grid_auto_rows": null,
       "grid_column": null,
       "grid_gap": null,
       "grid_row": null,
       "grid_template_areas": null,
       "grid_template_columns": null,
       "grid_template_rows": null,
       "height": null,
       "justify_content": null,
       "justify_items": null,
       "left": null,
       "margin": null,
       "max_height": null,
       "max_width": null,
       "min_height": null,
       "min_width": null,
       "object_fit": null,
       "object_position": null,
       "order": null,
       "overflow": null,
       "overflow_x": null,
       "overflow_y": null,
       "padding": null,
       "right": null,
       "top": null,
       "visibility": null,
       "width": null
      }
     },
     "b8f061c9654e44a48160b8dcc818ffc0": {
      "model_module": "@jupyter-widgets/controls",
      "model_module_version": "1.5.0",
      "model_name": "DescriptionStyleModel",
      "state": {
       "_model_module": "@jupyter-widgets/controls",
       "_model_module_version": "1.5.0",
       "_model_name": "DescriptionStyleModel",
       "_view_count": null,
       "_view_module": "@jupyter-widgets/base",
       "_view_module_version": "1.2.0",
       "_view_name": "StyleView",
       "description_width": ""
      }
     },
     "be25b54ac2444c789b55ba77dffdd0c2": {
      "model_module": "@jupyter-widgets/controls",
      "model_module_version": "1.5.0",
      "model_name": "DescriptionStyleModel",
      "state": {
       "_model_module": "@jupyter-widgets/controls",
       "_model_module_version": "1.5.0",
       "_model_name": "DescriptionStyleModel",
       "_view_count": null,
       "_view_module": "@jupyter-widgets/base",
       "_view_module_version": "1.2.0",
       "_view_name": "StyleView",
       "description_width": ""
      }
     },
     "bea089127c2a4470a5c66d147c509a6a": {
      "model_module": "@jupyter-widgets/base",
      "model_module_version": "1.2.0",
      "model_name": "LayoutModel",
      "state": {
       "_model_module": "@jupyter-widgets/base",
       "_model_module_version": "1.2.0",
       "_model_name": "LayoutModel",
       "_view_count": null,
       "_view_module": "@jupyter-widgets/base",
       "_view_module_version": "1.2.0",
       "_view_name": "LayoutView",
       "align_content": null,
       "align_items": null,
       "align_self": null,
       "border": null,
       "bottom": null,
       "display": null,
       "flex": null,
       "flex_flow": null,
       "grid_area": null,
       "grid_auto_columns": null,
       "grid_auto_flow": null,
       "grid_auto_rows": null,
       "grid_column": null,
       "grid_gap": null,
       "grid_row": null,
       "grid_template_areas": null,
       "grid_template_columns": null,
       "grid_template_rows": null,
       "height": null,
       "justify_content": null,
       "justify_items": null,
       "left": null,
       "margin": null,
       "max_height": null,
       "max_width": null,
       "min_height": null,
       "min_width": null,
       "object_fit": null,
       "object_position": null,
       "order": null,
       "overflow": null,
       "overflow_x": null,
       "overflow_y": null,
       "padding": null,
       "right": null,
       "top": null,
       "visibility": null,
       "width": null
      }
     },
     "c027681489284d61b3cb91fdf5b49d75": {
      "model_module": "@jupyter-widgets/controls",
      "model_module_version": "1.5.0",
      "model_name": "HTMLModel",
      "state": {
       "_dom_classes": [],
       "_model_module": "@jupyter-widgets/controls",
       "_model_module_version": "1.5.0",
       "_model_name": "HTMLModel",
       "_view_count": null,
       "_view_module": "@jupyter-widgets/controls",
       "_view_module_version": "1.5.0",
       "_view_name": "HTMLView",
       "description": "",
       "description_tooltip": null,
       "layout": "IPY_MODEL_89b60ab0d3c843bdbde808c4308d2d9a",
       "placeholder": "​",
       "style": "IPY_MODEL_873eee495e3f43f29d00b1252634f193",
       "value": " 4.92G/4.92G [01:56&lt;00:00, 41.7MB/s]"
      }
     },
     "c08999f690594de2a1b98e1f3108fed2": {
      "model_module": "@jupyter-widgets/controls",
      "model_module_version": "1.5.0",
      "model_name": "HTMLModel",
      "state": {
       "_dom_classes": [],
       "_model_module": "@jupyter-widgets/controls",
       "_model_module_version": "1.5.0",
       "_model_name": "HTMLModel",
       "_view_count": null,
       "_view_module": "@jupyter-widgets/controls",
       "_view_module_version": "1.5.0",
       "_view_name": "HTMLView",
       "description": "",
       "description_tooltip": null,
       "layout": "IPY_MODEL_344ff34b08f94691b9a99b6b4af3f4b7",
       "placeholder": "​",
       "style": "IPY_MODEL_0f46c9ac4fbb413488ebc4947c9c8152",
       "value": "model-00004-of-00004.safetensors: 100%"
      }
     },
     "c3088a855651408dbb5a15404fb2d33e": {
      "model_module": "@jupyter-widgets/controls",
      "model_module_version": "1.5.0",
      "model_name": "ProgressStyleModel",
      "state": {
       "_model_module": "@jupyter-widgets/controls",
       "_model_module_version": "1.5.0",
       "_model_name": "ProgressStyleModel",
       "_view_count": null,
       "_view_module": "@jupyter-widgets/base",
       "_view_module_version": "1.2.0",
       "_view_name": "StyleView",
       "bar_color": null,
       "description_width": ""
      }
     },
     "c5e31530ff774a049a9cb49cf5790fb4": {
      "model_module": "@jupyter-widgets/controls",
      "model_module_version": "1.5.0",
      "model_name": "HBoxModel",
      "state": {
       "_dom_classes": [],
       "_model_module": "@jupyter-widgets/controls",
       "_model_module_version": "1.5.0",
       "_model_name": "HBoxModel",
       "_view_count": null,
       "_view_module": "@jupyter-widgets/controls",
       "_view_module_version": "1.5.0",
       "_view_name": "HBoxView",
       "box_style": "",
       "children": [
        "IPY_MODEL_c08999f690594de2a1b98e1f3108fed2",
        "IPY_MODEL_f48760636458402c89514faf819c2992",
        "IPY_MODEL_6e235395f1ac4923adde5d171dadf80f"
       ],
       "layout": "IPY_MODEL_aa47634cac0e48d888d011e84b05da20"
      }
     },
     "c62f14dfcb8e45cb9f583be3d959f9d8": {
      "model_module": "@jupyter-widgets/controls",
      "model_module_version": "1.5.0",
      "model_name": "HBoxModel",
      "state": {
       "_dom_classes": [],
       "_model_module": "@jupyter-widgets/controls",
       "_model_module_version": "1.5.0",
       "_model_name": "HBoxModel",
       "_view_count": null,
       "_view_module": "@jupyter-widgets/controls",
       "_view_module_version": "1.5.0",
       "_view_name": "HBoxView",
       "box_style": "",
       "children": [
        "IPY_MODEL_34525c1a3bc44f108e37c2379b7bbb3c",
        "IPY_MODEL_d01c9f8486874195bf44a7fea3c7c5a2",
        "IPY_MODEL_158260ef15d841f4a2238633561dce3d"
       ],
       "layout": "IPY_MODEL_3c9151c805a4448c996d0a1630d82afb"
      }
     },
     "c67ed47deecb49628d1eb271f6b20436": {
      "model_module": "@jupyter-widgets/controls",
      "model_module_version": "1.5.0",
      "model_name": "HBoxModel",
      "state": {
       "_dom_classes": [],
       "_model_module": "@jupyter-widgets/controls",
       "_model_module_version": "1.5.0",
       "_model_name": "HBoxModel",
       "_view_count": null,
       "_view_module": "@jupyter-widgets/controls",
       "_view_module_version": "1.5.0",
       "_view_name": "HBoxView",
       "box_style": "",
       "children": [
        "IPY_MODEL_3a2e2da906ca4095932a49c770cc0e6a",
        "IPY_MODEL_8ea798822a8f49ebb155ca4416d1931b",
        "IPY_MODEL_c027681489284d61b3cb91fdf5b49d75"
       ],
       "layout": "IPY_MODEL_9de250ea2df74e6aa1455feeb18cfb2b"
      }
     },
     "cd8046fb414d454d809cbde24a5da798": {
      "model_module": "@jupyter-widgets/controls",
      "model_module_version": "1.5.0",
      "model_name": "HTMLModel",
      "state": {
       "_dom_classes": [],
       "_model_module": "@jupyter-widgets/controls",
       "_model_module_version": "1.5.0",
       "_model_name": "HTMLModel",
       "_view_count": null,
       "_view_module": "@jupyter-widgets/controls",
       "_view_module_version": "1.5.0",
       "_view_name": "HTMLView",
       "description": "",
       "description_tooltip": null,
       "layout": "IPY_MODEL_3092666bd3634783970c869df929c4a0",
       "placeholder": "​",
       "style": "IPY_MODEL_8005390aed62401f9c9836deba5a4a4e",
       "value": "preprocessor_config.json: 100%"
      }
     },
     "d01c9f8486874195bf44a7fea3c7c5a2": {
      "model_module": "@jupyter-widgets/controls",
      "model_module_version": "1.5.0",
      "model_name": "FloatProgressModel",
      "state": {
       "_dom_classes": [],
       "_model_module": "@jupyter-widgets/controls",
       "_model_module_version": "1.5.0",
       "_model_name": "FloatProgressModel",
       "_view_count": null,
       "_view_module": "@jupyter-widgets/controls",
       "_view_module_version": "1.5.0",
       "_view_name": "ProgressView",
       "bar_style": "success",
       "description": "",
       "description_tooltip": null,
       "layout": "IPY_MODEL_ff5eed4ee0f54bf28aa124859bcabd82",
       "max": 1982.0,
       "min": 0.0,
       "orientation": "horizontal",
       "style": "IPY_MODEL_4c09e068cd61457f8cb8b41dbca9d9a5",
       "value": 1982.0
      }
     },
     "d02e94a820db4a2e9d10f7a4039b0764": {
      "model_module": "@jupyter-widgets/base",
      "model_module_version": "1.2.0",
      "model_name": "LayoutModel",
      "state": {
       "_model_module": "@jupyter-widgets/base",
       "_model_module_version": "1.2.0",
       "_model_name": "LayoutModel",
       "_view_count": null,
       "_view_module": "@jupyter-widgets/base",
       "_view_module_version": "1.2.0",
       "_view_name": "LayoutView",
       "align_content": null,
       "align_items": null,
       "align_self": null,
       "border": null,
       "bottom": null,
       "display": null,
       "flex": null,
       "flex_flow": null,
       "grid_area": null,
       "grid_auto_columns": null,
       "grid_auto_flow": null,
       "grid_auto_rows": null,
       "grid_column": null,
       "grid_gap": null,
       "grid_row": null,
       "grid_template_areas": null,
       "grid_template_columns": null,
       "grid_template_rows": null,
       "height": null,
       "justify_content": null,
       "justify_items": null,
       "left": null,
       "margin": null,
       "max_height": null,
       "max_width": null,
       "min_height": null,
       "min_width": null,
       "object_fit": null,
       "object_position": null,
       "order": null,
       "overflow": null,
       "overflow_x": null,
       "overflow_y": null,
       "padding": null,
       "right": null,
       "top": null,
       "visibility": null,
       "width": null
      }
     },
     "d0c4ea5d3d724d978efbd842cfdcbc59": {
      "model_module": "@jupyter-widgets/base",
      "model_module_version": "1.2.0",
      "model_name": "LayoutModel",
      "state": {
       "_model_module": "@jupyter-widgets/base",
       "_model_module_version": "1.2.0",
       "_model_name": "LayoutModel",
       "_view_count": null,
       "_view_module": "@jupyter-widgets/base",
       "_view_module_version": "1.2.0",
       "_view_name": "LayoutView",
       "align_content": null,
       "align_items": null,
       "align_self": null,
       "border": null,
       "bottom": null,
       "display": null,
       "flex": null,
       "flex_flow": null,
       "grid_area": null,
       "grid_auto_columns": null,
       "grid_auto_flow": null,
       "grid_auto_rows": null,
       "grid_column": null,
       "grid_gap": null,
       "grid_row": null,
       "grid_template_areas": null,
       "grid_template_columns": null,
       "grid_template_rows": null,
       "height": null,
       "justify_content": null,
       "justify_items": null,
       "left": null,
       "margin": null,
       "max_height": null,
       "max_width": null,
       "min_height": null,
       "min_width": null,
       "object_fit": null,
       "object_position": null,
       "order": null,
       "overflow": null,
       "overflow_x": null,
       "overflow_y": null,
       "padding": null,
       "right": null,
       "top": null,
       "visibility": null,
       "width": null
      }
     },
     "d115ab9da7c54115a7fde76977bca2f5": {
      "model_module": "@jupyter-widgets/controls",
      "model_module_version": "1.5.0",
      "model_name": "DescriptionStyleModel",
      "state": {
       "_model_module": "@jupyter-widgets/controls",
       "_model_module_version": "1.5.0",
       "_model_name": "DescriptionStyleModel",
       "_view_count": null,
       "_view_module": "@jupyter-widgets/base",
       "_view_module_version": "1.2.0",
       "_view_name": "StyleView",
       "description_width": ""
      }
     },
     "d15d66e1c11e47b7927a535e7e4c271a": {
      "model_module": "@jupyter-widgets/base",
      "model_module_version": "1.2.0",
      "model_name": "LayoutModel",
      "state": {
       "_model_module": "@jupyter-widgets/base",
       "_model_module_version": "1.2.0",
       "_model_name": "LayoutModel",
       "_view_count": null,
       "_view_module": "@jupyter-widgets/base",
       "_view_module_version": "1.2.0",
       "_view_name": "LayoutView",
       "align_content": null,
       "align_items": null,
       "align_self": null,
       "border": null,
       "bottom": null,
       "display": null,
       "flex": null,
       "flex_flow": null,
       "grid_area": null,
       "grid_auto_columns": null,
       "grid_auto_flow": null,
       "grid_auto_rows": null,
       "grid_column": null,
       "grid_gap": null,
       "grid_row": null,
       "grid_template_areas": null,
       "grid_template_columns": null,
       "grid_template_rows": null,
       "height": null,
       "justify_content": null,
       "justify_items": null,
       "left": null,
       "margin": null,
       "max_height": null,
       "max_width": null,
       "min_height": null,
       "min_width": null,
       "object_fit": null,
       "object_position": null,
       "order": null,
       "overflow": null,
       "overflow_x": null,
       "overflow_y": null,
       "padding": null,
       "right": null,
       "top": null,
       "visibility": null,
       "width": null
      }
     },
     "d282510e4e154027aa94454e002a65dd": {
      "model_module": "@jupyter-widgets/controls",
      "model_module_version": "1.5.0",
      "model_name": "FloatProgressModel",
      "state": {
       "_dom_classes": [],
       "_model_module": "@jupyter-widgets/controls",
       "_model_module_version": "1.5.0",
       "_model_name": "FloatProgressModel",
       "_view_count": null,
       "_view_module": "@jupyter-widgets/controls",
       "_view_module_version": "1.5.0",
       "_view_name": "ProgressView",
       "bar_style": "success",
       "description": "",
       "description_tooltip": null,
       "layout": "IPY_MODEL_ec35152c77024af2b704befe9e57ab38",
       "max": 4915917576.0,
       "min": 0.0,
       "orientation": "horizontal",
       "style": "IPY_MODEL_0039e07114124634aa82c685d0c1380b",
       "value": 4915917576.0
      }
     },
     "d421b46e3f0f4c48b11f6ce2aaa8c375": {
      "model_module": "@jupyter-widgets/base",
      "model_module_version": "1.2.0",
      "model_name": "LayoutModel",
      "state": {
       "_model_module": "@jupyter-widgets/base",
       "_model_module_version": "1.2.0",
       "_model_name": "LayoutModel",
       "_view_count": null,
       "_view_module": "@jupyter-widgets/base",
       "_view_module_version": "1.2.0",
       "_view_name": "LayoutView",
       "align_content": null,
       "align_items": null,
       "align_self": null,
       "border": null,
       "bottom": null,
       "display": null,
       "flex": null,
       "flex_flow": null,
       "grid_area": null,
       "grid_auto_columns": null,
       "grid_auto_flow": null,
       "grid_auto_rows": null,
       "grid_column": null,
       "grid_gap": null,
       "grid_row": null,
       "grid_template_areas": null,
       "grid_template_columns": null,
       "grid_template_rows": null,
       "height": null,
       "justify_content": null,
       "justify_items": null,
       "left": null,
       "margin": null,
       "max_height": null,
       "max_width": null,
       "min_height": null,
       "min_width": null,
       "object_fit": null,
       "object_position": null,
       "order": null,
       "overflow": null,
       "overflow_x": null,
       "overflow_y": null,
       "padding": null,
       "right": null,
       "top": null,
       "visibility": null,
       "width": null
      }
     },
     "d42301749da540189c9975cb213ca982": {
      "model_module": "@jupyter-widgets/controls",
      "model_module_version": "1.5.0",
      "model_name": "HBoxModel",
      "state": {
       "_dom_classes": [],
       "_model_module": "@jupyter-widgets/controls",
       "_model_module_version": "1.5.0",
       "_model_name": "HBoxModel",
       "_view_count": null,
       "_view_module": "@jupyter-widgets/controls",
       "_view_module_version": "1.5.0",
       "_view_name": "HBoxView",
       "box_style": "",
       "children": [
        "IPY_MODEL_8b64190a800e4f05ae8e9dbc923489ec",
        "IPY_MODEL_d282510e4e154027aa94454e002a65dd",
        "IPY_MODEL_39464dd477cd4b88a8db4f0369bc0b23"
       ],
       "layout": "IPY_MODEL_d0c4ea5d3d724d978efbd842cfdcbc59"
      }
     },
     "d62706583ed143289b2a4cec3427313a": {
      "model_module": "@jupyter-widgets/controls",
      "model_module_version": "1.5.0",
      "model_name": "HTMLModel",
      "state": {
       "_dom_classes": [],
       "_model_module": "@jupyter-widgets/controls",
       "_model_module_version": "1.5.0",
       "_model_name": "HTMLModel",
       "_view_count": null,
       "_view_module": "@jupyter-widgets/controls",
       "_view_module_version": "1.5.0",
       "_view_name": "HTMLView",
       "description": "",
       "description_tooltip": null,
       "layout": "IPY_MODEL_3d4971bbf4c44cc6a94ff7ea93d712c5",
       "placeholder": "​",
       "style": "IPY_MODEL_406b7572f0184027895d4de2641b208a",
       "value": " 4/4 [06:00&lt;00:00, 74.65s/it]"
      }
     },
     "d903a7d9cfa144b7a7feb6692cd202df": {
      "model_module": "@jupyter-widgets/controls",
      "model_module_version": "1.5.0",
      "model_name": "ProgressStyleModel",
      "state": {
       "_model_module": "@jupyter-widgets/controls",
       "_model_module_version": "1.5.0",
       "_model_name": "ProgressStyleModel",
       "_view_count": null,
       "_view_module": "@jupyter-widgets/base",
       "_view_module_version": "1.2.0",
       "_view_name": "StyleView",
       "bar_color": null,
       "description_width": ""
      }
     },
     "d9d08a6861e1420583f54341eb9f51ee": {
      "model_module": "@jupyter-widgets/controls",
      "model_module_version": "1.5.0",
      "model_name": "FloatProgressModel",
      "state": {
       "_dom_classes": [],
       "_model_module": "@jupyter-widgets/controls",
       "_model_module_version": "1.5.0",
       "_model_name": "FloatProgressModel",
       "_view_count": null,
       "_view_module": "@jupyter-widgets/controls",
       "_view_module_version": "1.5.0",
       "_view_name": "ProgressView",
       "bar_style": "success",
       "description": "",
       "description_tooltip": null,
       "layout": "IPY_MODEL_4496c4ab767a4cf298c8d26add593568",
       "max": 695.0,
       "min": 0.0,
       "orientation": "horizontal",
       "style": "IPY_MODEL_9f1d1217d0424e7794107f059f17c3c0",
       "value": 695.0
      }
     },
     "da7c8c294a534e2d9ed0260090ccbde3": {
      "model_module": "@jupyter-widgets/controls",
      "model_module_version": "1.5.0",
      "model_name": "FloatProgressModel",
      "state": {
       "_dom_classes": [],
       "_model_module": "@jupyter-widgets/controls",
       "_model_module_version": "1.5.0",
       "_model_name": "FloatProgressModel",
       "_view_count": null,
       "_view_module": "@jupyter-widgets/controls",
       "_view_module_version": "1.5.0",
       "_view_name": "ProgressView",
       "bar_style": "success",
       "description": "",
       "description_tooltip": null,
       "layout": "IPY_MODEL_5b8c2ae78f6d46adbc33c67b94c5721d",
       "max": 41.0,
       "min": 0.0,
       "orientation": "horizontal",
       "style": "IPY_MODEL_778778556f78408fa6c463ce43f1ab1b",
       "value": 41.0
      }
     },
     "dc167ce59c08499ba33b2ad82a14c1af": {
      "model_module": "@jupyter-widgets/controls",
      "model_module_version": "1.5.0",
      "model_name": "ProgressStyleModel",
      "state": {
       "_model_module": "@jupyter-widgets/controls",
       "_model_module_version": "1.5.0",
       "_model_name": "ProgressStyleModel",
       "_view_count": null,
       "_view_module": "@jupyter-widgets/base",
       "_view_module_version": "1.2.0",
       "_view_name": "StyleView",
       "bar_color": null,
       "description_width": ""
      }
     },
     "dd04c77da8b44aa98ecb14b3b5808250": {
      "model_module": "@jupyter-widgets/controls",
      "model_module_version": "1.5.0",
      "model_name": "DescriptionStyleModel",
      "state": {
       "_model_module": "@jupyter-widgets/controls",
       "_model_module_version": "1.5.0",
       "_model_name": "DescriptionStyleModel",
       "_view_count": null,
       "_view_module": "@jupyter-widgets/base",
       "_view_module_version": "1.2.0",
       "_view_name": "StyleView",
       "description_width": ""
      }
     },
     "de83d23d30824c9fbdf52a31fb7fe9aa": {
      "model_module": "@jupyter-widgets/controls",
      "model_module_version": "1.5.0",
      "model_name": "DescriptionStyleModel",
      "state": {
       "_model_module": "@jupyter-widgets/controls",
       "_model_module_version": "1.5.0",
       "_model_name": "DescriptionStyleModel",
       "_view_count": null,
       "_view_module": "@jupyter-widgets/base",
       "_view_module_version": "1.2.0",
       "_view_name": "StyleView",
       "description_width": ""
      }
     },
     "e0538fb4a8e0445ba458d707b8ac4531": {
      "model_module": "@jupyter-widgets/controls",
      "model_module_version": "1.5.0",
      "model_name": "DescriptionStyleModel",
      "state": {
       "_model_module": "@jupyter-widgets/controls",
       "_model_module_version": "1.5.0",
       "_model_name": "DescriptionStyleModel",
       "_view_count": null,
       "_view_module": "@jupyter-widgets/base",
       "_view_module_version": "1.2.0",
       "_view_name": "StyleView",
       "description_width": ""
      }
     },
     "e52cd63cddb344d6941d1395d5816b3f": {
      "model_module": "@jupyter-widgets/controls",
      "model_module_version": "1.5.0",
      "model_name": "HTMLModel",
      "state": {
       "_dom_classes": [],
       "_model_module": "@jupyter-widgets/controls",
       "_model_module_version": "1.5.0",
       "_model_name": "HTMLModel",
       "_view_count": null,
       "_view_module": "@jupyter-widgets/controls",
       "_view_module_version": "1.5.0",
       "_view_name": "HTMLView",
       "description": "",
       "description_tooltip": null,
       "layout": "IPY_MODEL_446c22e122fd438f9df613d68d1bcdca",
       "placeholder": "​",
       "style": "IPY_MODEL_d115ab9da7c54115a7fde76977bca2f5",
       "value": " 493k/493k [00:00&lt;00:00, 4.05MB/s]"
      }
     },
     "e898a9792d074abfa105f03d32b16aa0": {
      "model_module": "@jupyter-widgets/controls",
      "model_module_version": "1.5.0",
      "model_name": "DescriptionStyleModel",
      "state": {
       "_model_module": "@jupyter-widgets/controls",
       "_model_module_version": "1.5.0",
       "_model_name": "DescriptionStyleModel",
       "_view_count": null,
       "_view_module": "@jupyter-widgets/base",
       "_view_module_version": "1.2.0",
       "_view_name": "StyleView",
       "description_width": ""
      }
     },
     "ea216d15b05442bea2d7e63d9cc90efc": {
      "model_module": "@jupyter-widgets/base",
      "model_module_version": "1.2.0",
      "model_name": "LayoutModel",
      "state": {
       "_model_module": "@jupyter-widgets/base",
       "_model_module_version": "1.2.0",
       "_model_name": "LayoutModel",
       "_view_count": null,
       "_view_module": "@jupyter-widgets/base",
       "_view_module_version": "1.2.0",
       "_view_name": "LayoutView",
       "align_content": null,
       "align_items": null,
       "align_self": null,
       "border": null,
       "bottom": null,
       "display": null,
       "flex": null,
       "flex_flow": null,
       "grid_area": null,
       "grid_auto_columns": null,
       "grid_auto_flow": null,
       "grid_auto_rows": null,
       "grid_column": null,
       "grid_gap": null,
       "grid_row": null,
       "grid_template_areas": null,
       "grid_template_columns": null,
       "grid_template_rows": null,
       "height": null,
       "justify_content": null,
       "justify_items": null,
       "left": null,
       "margin": null,
       "max_height": null,
       "max_width": null,
       "min_height": null,
       "min_width": null,
       "object_fit": null,
       "object_position": null,
       "order": null,
       "overflow": null,
       "overflow_x": null,
       "overflow_y": null,
       "padding": null,
       "right": null,
       "top": null,
       "visibility": null,
       "width": null
      }
     },
     "ea5cda5f4faf4697beb85ea7f4f52db3": {
      "model_module": "@jupyter-widgets/controls",
      "model_module_version": "1.5.0",
      "model_name": "FloatProgressModel",
      "state": {
       "_dom_classes": [],
       "_model_module": "@jupyter-widgets/controls",
       "_model_module_version": "1.5.0",
       "_model_name": "FloatProgressModel",
       "_view_count": null,
       "_view_module": "@jupyter-widgets/controls",
       "_view_module_version": "1.5.0",
       "_view_name": "ProgressView",
       "bar_style": "success",
       "description": "",
       "description_tooltip": null,
       "layout": "IPY_MODEL_24ab9461d36a42b8a64a084aa6a579a3",
       "max": 4.0,
       "min": 0.0,
       "orientation": "horizontal",
       "style": "IPY_MODEL_abc5ccefdca2416ebcad669a876be63c",
       "value": 4.0
      }
     },
     "ea711361e34b424cb08015d7b8b9cc73": {
      "model_module": "@jupyter-widgets/base",
      "model_module_version": "1.2.0",
      "model_name": "LayoutModel",
      "state": {
       "_model_module": "@jupyter-widgets/base",
       "_model_module_version": "1.2.0",
       "_model_name": "LayoutModel",
       "_view_count": null,
       "_view_module": "@jupyter-widgets/base",
       "_view_module_version": "1.2.0",
       "_view_name": "LayoutView",
       "align_content": null,
       "align_items": null,
       "align_self": null,
       "border": null,
       "bottom": null,
       "display": null,
       "flex": null,
       "flex_flow": null,
       "grid_area": null,
       "grid_auto_columns": null,
       "grid_auto_flow": null,
       "grid_auto_rows": null,
       "grid_column": null,
       "grid_gap": null,
       "grid_row": null,
       "grid_template_areas": null,
       "grid_template_columns": null,
       "grid_template_rows": null,
       "height": null,
       "justify_content": null,
       "justify_items": null,
       "left": null,
       "margin": null,
       "max_height": null,
       "max_width": null,
       "min_height": null,
       "min_width": null,
       "object_fit": null,
       "object_position": null,
       "order": null,
       "overflow": null,
       "overflow_x": null,
       "overflow_y": null,
       "padding": null,
       "right": null,
       "top": null,
       "visibility": null,
       "width": null
      }
     },
     "ea84acb3ae8047a28197c1b2dbe576d2": {
      "model_module": "@jupyter-widgets/base",
      "model_module_version": "1.2.0",
      "model_name": "LayoutModel",
      "state": {
       "_model_module": "@jupyter-widgets/base",
       "_model_module_version": "1.2.0",
       "_model_name": "LayoutModel",
       "_view_count": null,
       "_view_module": "@jupyter-widgets/base",
       "_view_module_version": "1.2.0",
       "_view_name": "LayoutView",
       "align_content": null,
       "align_items": null,
       "align_self": null,
       "border": null,
       "bottom": null,
       "display": null,
       "flex": null,
       "flex_flow": null,
       "grid_area": null,
       "grid_auto_columns": null,
       "grid_auto_flow": null,
       "grid_auto_rows": null,
       "grid_column": null,
       "grid_gap": null,
       "grid_row": null,
       "grid_template_areas": null,
       "grid_template_columns": null,
       "grid_template_rows": null,
       "height": null,
       "justify_content": null,
       "justify_items": null,
       "left": null,
       "margin": null,
       "max_height": null,
       "max_width": null,
       "min_height": null,
       "min_width": null,
       "object_fit": null,
       "object_position": null,
       "order": null,
       "overflow": null,
       "overflow_x": null,
       "overflow_y": null,
       "padding": null,
       "right": null,
       "top": null,
       "visibility": null,
       "width": null
      }
     },
     "eb469b898e58443498e27a2efecd7506": {
      "model_module": "@jupyter-widgets/base",
      "model_module_version": "1.2.0",
      "model_name": "LayoutModel",
      "state": {
       "_model_module": "@jupyter-widgets/base",
       "_model_module_version": "1.2.0",
       "_model_name": "LayoutModel",
       "_view_count": null,
       "_view_module": "@jupyter-widgets/base",
       "_view_module_version": "1.2.0",
       "_view_name": "LayoutView",
       "align_content": null,
       "align_items": null,
       "align_self": null,
       "border": null,
       "bottom": null,
       "display": null,
       "flex": null,
       "flex_flow": null,
       "grid_area": null,
       "grid_auto_columns": null,
       "grid_auto_flow": null,
       "grid_auto_rows": null,
       "grid_column": null,
       "grid_gap": null,
       "grid_row": null,
       "grid_template_areas": null,
       "grid_template_columns": null,
       "grid_template_rows": null,
       "height": null,
       "justify_content": null,
       "justify_items": null,
       "left": null,
       "margin": null,
       "max_height": null,
       "max_width": null,
       "min_height": null,
       "min_width": null,
       "object_fit": null,
       "object_position": null,
       "order": null,
       "overflow": null,
       "overflow_x": null,
       "overflow_y": null,
       "padding": null,
       "right": null,
       "top": null,
       "visibility": null,
       "width": null
      }
     },
     "ec35152c77024af2b704befe9e57ab38": {
      "model_module": "@jupyter-widgets/base",
      "model_module_version": "1.2.0",
      "model_name": "LayoutModel",
      "state": {
       "_model_module": "@jupyter-widgets/base",
       "_model_module_version": "1.2.0",
       "_model_name": "LayoutModel",
       "_view_count": null,
       "_view_module": "@jupyter-widgets/base",
       "_view_module_version": "1.2.0",
       "_view_name": "LayoutView",
       "align_content": null,
       "align_items": null,
       "align_self": null,
       "border": null,
       "bottom": null,
       "display": null,
       "flex": null,
       "flex_flow": null,
       "grid_area": null,
       "grid_auto_columns": null,
       "grid_auto_flow": null,
       "grid_auto_rows": null,
       "grid_column": null,
       "grid_gap": null,
       "grid_row": null,
       "grid_template_areas": null,
       "grid_template_columns": null,
       "grid_template_rows": null,
       "height": null,
       "justify_content": null,
       "justify_items": null,
       "left": null,
       "margin": null,
       "max_height": null,
       "max_width": null,
       "min_height": null,
       "min_width": null,
       "object_fit": null,
       "object_position": null,
       "order": null,
       "overflow": null,
       "overflow_x": null,
       "overflow_y": null,
       "padding": null,
       "right": null,
       "top": null,
       "visibility": null,
       "width": null
      }
     },
     "f17fa25ca36342189dc1749f2b612a07": {
      "model_module": "@jupyter-widgets/controls",
      "model_module_version": "1.5.0",
      "model_name": "DescriptionStyleModel",
      "state": {
       "_model_module": "@jupyter-widgets/controls",
       "_model_module_version": "1.5.0",
       "_model_name": "DescriptionStyleModel",
       "_view_count": null,
       "_view_module": "@jupyter-widgets/base",
       "_view_module_version": "1.2.0",
       "_view_name": "StyleView",
       "description_width": ""
      }
     },
     "f1bfa7fff3f745fe853b719db627a8dd": {
      "model_module": "@jupyter-widgets/controls",
      "model_module_version": "1.5.0",
      "model_name": "HBoxModel",
      "state": {
       "_dom_classes": [],
       "_model_module": "@jupyter-widgets/controls",
       "_model_module_version": "1.5.0",
       "_model_name": "HBoxModel",
       "_view_count": null,
       "_view_module": "@jupyter-widgets/controls",
       "_view_module_version": "1.5.0",
       "_view_name": "HBoxView",
       "box_style": "",
       "children": [
        "IPY_MODEL_17378430eb6743129413ba742a58e6a2",
        "IPY_MODEL_0f4e19b851be4ccd9db2e5c330213cad",
        "IPY_MODEL_9286ba39fa8a47ae845abd826010ad46"
       ],
       "layout": "IPY_MODEL_3749ec7322dc4ba9ab2ce607229cabb0"
      }
     },
     "f48760636458402c89514faf819c2992": {
      "model_module": "@jupyter-widgets/controls",
      "model_module_version": "1.5.0",
      "model_name": "FloatProgressModel",
      "state": {
       "_dom_classes": [],
       "_model_module": "@jupyter-widgets/controls",
       "_model_module_version": "1.5.0",
       "_model_name": "FloatProgressModel",
       "_view_count": null,
       "_view_module": "@jupyter-widgets/controls",
       "_view_module_version": "1.5.0",
       "_view_name": "ProgressView",
       "bar_style": "success",
       "description": "",
       "description_tooltip": null,
       "layout": "IPY_MODEL_148fc523a996441187e5e20749714dcb",
       "max": 380134008.0,
       "min": 0.0,
       "orientation": "horizontal",
       "style": "IPY_MODEL_8c055550e5ed43a9bb7fb0abc60a9adb",
       "value": 380134008.0
      }
     },
     "f5230b7665a844a6bcfc6352ebfe26bc": {
      "model_module": "@jupyter-widgets/base",
      "model_module_version": "1.2.0",
      "model_name": "LayoutModel",
      "state": {
       "_model_module": "@jupyter-widgets/base",
       "_model_module_version": "1.2.0",
       "_model_name": "LayoutModel",
       "_view_count": null,
       "_view_module": "@jupyter-widgets/base",
       "_view_module_version": "1.2.0",
       "_view_name": "LayoutView",
       "align_content": null,
       "align_items": null,
       "align_self": null,
       "border": null,
       "bottom": null,
       "display": null,
       "flex": null,
       "flex_flow": null,
       "grid_area": null,
       "grid_auto_columns": null,
       "grid_auto_flow": null,
       "grid_auto_rows": null,
       "grid_column": null,
       "grid_gap": null,
       "grid_row": null,
       "grid_template_areas": null,
       "grid_template_columns": null,
       "grid_template_rows": null,
       "height": null,
       "justify_content": null,
       "justify_items": null,
       "left": null,
       "margin": null,
       "max_height": null,
       "max_width": null,
       "min_height": null,
       "min_width": null,
       "object_fit": null,
       "object_position": null,
       "order": null,
       "overflow": null,
       "overflow_x": null,
       "overflow_y": null,
       "padding": null,
       "right": null,
       "top": null,
       "visibility": null,
       "width": null
      }
     },
     "f77386017bfe40e3a23cca1f8fab5151": {
      "model_module": "@jupyter-widgets/controls",
      "model_module_version": "1.5.0",
      "model_name": "DescriptionStyleModel",
      "state": {
       "_model_module": "@jupyter-widgets/controls",
       "_model_module_version": "1.5.0",
       "_model_name": "DescriptionStyleModel",
       "_view_count": null,
       "_view_module": "@jupyter-widgets/base",
       "_view_module_version": "1.2.0",
       "_view_name": "StyleView",
       "description_width": ""
      }
     },
     "f996d467ad9f4ddd93f492cbc2f597b9": {
      "model_module": "@jupyter-widgets/controls",
      "model_module_version": "1.5.0",
      "model_name": "FloatProgressModel",
      "state": {
       "_dom_classes": [],
       "_model_module": "@jupyter-widgets/controls",
       "_model_module_version": "1.5.0",
       "_model_name": "FloatProgressModel",
       "_view_count": null,
       "_view_module": "@jupyter-widgets/controls",
       "_view_module_version": "1.5.0",
       "_view_name": "ProgressView",
       "bar_style": "success",
       "description": "",
       "description_tooltip": null,
       "layout": "IPY_MODEL_bea089127c2a4470a5c66d147c509a6a",
       "max": 493443.0,
       "min": 0.0,
       "orientation": "horizontal",
       "style": "IPY_MODEL_2de9196fc5b44012b529cbfdf47e7c77",
       "value": 493443.0
      }
     },
     "fd9bb92d7f0040c2a967de6bb99d047b": {
      "model_module": "@jupyter-widgets/controls",
      "model_module_version": "1.5.0",
      "model_name": "ProgressStyleModel",
      "state": {
       "_model_module": "@jupyter-widgets/controls",
       "_model_module_version": "1.5.0",
       "_model_name": "ProgressStyleModel",
       "_view_count": null,
       "_view_module": "@jupyter-widgets/base",
       "_view_module_version": "1.2.0",
       "_view_name": "StyleView",
       "bar_color": null,
       "description_width": ""
      }
     },
     "fdd68c7763fc4bbba3fddaee83855ee4": {
      "model_module": "@jupyter-widgets/controls",
      "model_module_version": "1.5.0",
      "model_name": "HBoxModel",
      "state": {
       "_dom_classes": [],
       "_model_module": "@jupyter-widgets/controls",
       "_model_module_version": "1.5.0",
       "_model_name": "HBoxModel",
       "_view_count": null,
       "_view_module": "@jupyter-widgets/controls",
       "_view_module_version": "1.5.0",
       "_view_name": "HBoxView",
       "box_style": "",
       "children": [
        "IPY_MODEL_cd8046fb414d454d809cbde24a5da798",
        "IPY_MODEL_2c3efbd107754161b8b9997fffe6751e",
        "IPY_MODEL_03ae795b45674a21ba1561166e3a36d4"
       ],
       "layout": "IPY_MODEL_1cdd7838a94e4edb9fbc5dd1a89689fe"
      }
     },
     "fe4fc3f280064eefa0ae15d0e8978a0f": {
      "model_module": "@jupyter-widgets/controls",
      "model_module_version": "1.5.0",
      "model_name": "FloatProgressModel",
      "state": {
       "_dom_classes": [],
       "_model_module": "@jupyter-widgets/controls",
       "_model_module_version": "1.5.0",
       "_model_name": "FloatProgressModel",
       "_view_count": null,
       "_view_module": "@jupyter-widgets/controls",
       "_view_module_version": "1.5.0",
       "_view_name": "ProgressView",
       "bar_style": "success",
       "description": "",
       "description_tooltip": null,
       "layout": "IPY_MODEL_966f4d1b12474572a82e94ad137ba44a",
       "max": 1284.0,
       "min": 0.0,
       "orientation": "horizontal",
       "style": "IPY_MODEL_d903a7d9cfa144b7a7feb6692cd202df",
       "value": 1284.0
      }
     },
     "fe700630a438487793254227d012ecf5": {
      "model_module": "@jupyter-widgets/controls",
      "model_module_version": "1.5.0",
      "model_name": "HBoxModel",
      "state": {
       "_dom_classes": [],
       "_model_module": "@jupyter-widgets/controls",
       "_model_module_version": "1.5.0",
       "_model_name": "HBoxModel",
       "_view_count": null,
       "_view_module": "@jupyter-widgets/controls",
       "_view_module_version": "1.5.0",
       "_view_name": "HBoxView",
       "box_style": "",
       "children": [
        "IPY_MODEL_97257395c3fe4f5bbce85fbc4c2cbfbc",
        "IPY_MODEL_b0631de3844a4311803782a4ce04650b",
        "IPY_MODEL_93942592668844b9a7194548b648c84b"
       ],
       "layout": "IPY_MODEL_9c85342ebe844c98a21b03ed6ad8f889"
      }
     },
     "ff5eed4ee0f54bf28aa124859bcabd82": {
      "model_module": "@jupyter-widgets/base",
      "model_module_version": "1.2.0",
      "model_name": "LayoutModel",
      "state": {
       "_model_module": "@jupyter-widgets/base",
       "_model_module_version": "1.2.0",
       "_model_name": "LayoutModel",
       "_view_count": null,
       "_view_module": "@jupyter-widgets/base",
       "_view_module_version": "1.2.0",
       "_view_name": "LayoutView",
       "align_content": null,
       "align_items": null,
       "align_self": null,
       "border": null,
       "bottom": null,
       "display": null,
       "flex": null,
       "flex_flow": null,
       "grid_area": null,
       "grid_auto_columns": null,
       "grid_auto_flow": null,
       "grid_auto_rows": null,
       "grid_column": null,
       "grid_gap": null,
       "grid_row": null,
       "grid_template_areas": null,
       "grid_template_columns": null,
       "grid_template_rows": null,
       "height": null,
       "justify_content": null,
       "justify_items": null,
       "left": null,
       "margin": null,
       "max_height": null,
       "max_width": null,
       "min_height": null,
       "min_width": null,
       "object_fit": null,
       "object_position": null,
       "order": null,
       "overflow": null,
       "overflow_x": null,
       "overflow_y": null,
       "padding": null,
       "right": null,
       "top": null,
       "visibility": null,
       "width": null
      }
     }
    },
    "version_major": 2,
    "version_minor": 0
   }
  }
 },
 "nbformat": 4,
 "nbformat_minor": 5
}
